{
 "cells": [
  {
   "cell_type": "markdown",
   "metadata": {},
   "source": [
    "# Library"
   ]
  },
  {
   "cell_type": "code",
   "execution_count": 1,
   "metadata": {},
   "outputs": [],
   "source": [
    "import pymysql\n",
    "import re, getpass\n",
    "from datetime import datetime, timedelta\n",
    "import pandas as pd"
   ]
  },
  {
   "cell_type": "markdown",
   "metadata": {},
   "source": [
    "# 함수"
   ]
  },
  {
   "cell_type": "code",
   "execution_count": 2,
   "metadata": {},
   "outputs": [],
   "source": [
    "def record_fuction(table, record_text, opteamname, start_time):\n",
    "    # 전역변수 선언부\n",
    "    conn = None\n",
    "    cur = None\n",
    "    # 메인 코드\n",
    "    password = getpass.getpass('비밀번호를 입력하세요: ')\n",
    "    conn = pymysql.connect(host = 'localhost', port=3306, user='root', password=password, db='futsaldata', charset='utf8')\n",
    "    cur = conn.cursor() # 커서생성\n",
    "    section_list = record_text.split('\\n\\n') # 한 줄 띄어쓰기 기준 분할(쿼터별 분할)\n",
    "    # 경기 날짜 추출\n",
    "    date_section = section_list[0]\n",
    "    date_p = re.compile('[0-9]{1,2}/[0-9]{1,2}')\n",
    "    date_m = date_p.search(date_section)\n",
    "    year = datetime.today().year\n",
    "    month = int(date_m.group().split('/')[0])\n",
    "    day = int(date_m.group().split('/')[1])\n",
    "    dttime = f'{year}-{month:0>2}-{day:0>2} {start_time}:00:00'\n",
    "    game_start_time = datetime.strptime(dttime, '%Y-%m-%d %H:%M:%S')\n",
    "    time_delta = timedelta(minutes=15) # 한 쿼터 시간(기본 15분)\n",
    "\n",
    "    record_section_list = section_list[1:-1] # 쿼터별 기록만 추출\n",
    "\n",
    "    id_list, datetime_list, quarter_list, goal_list, assist_list, opteamname_list = [], [], [], [], [], []\n",
    "    p = re.compile('[0-9]:[0-9]') # 쿼터 총 골 기록 추출\n",
    "    \n",
    "    # 총 기록 줄 수 확인(이 값과 df의 id의 최댓값(id_list의 길이)이 동일해야함.)\n",
    "    total_lines = 0\n",
    "    for one in record_section_list:\n",
    "        sections = one.splitlines() # 쿼터 기록 한줄씩 분리\n",
    "        temp_datetime_list, temp_quarter_list, temp_goal_list, temp_assist_list, temp_opteamname_list = [], [], [], [], []\n",
    "        quarter = sections[0].split('Q')[0] # 몇 쿼터인지 추출\n",
    "        quarter_start_time = str( game_start_time + time_delta * ( int(quarter) - 1 ) ) # 쿼터 시작 시간 계산\n",
    "        # 해당 쿼터 기록이 몇개인지 확인하기\n",
    "        temp_m = p.search(sections[0])\n",
    "        our_goal = int(temp_m.group().split(':')[0]) # 우리 골 기록\n",
    "        op_goal = int(temp_m.group().split(':')[1]) # 상대 골 기록\n",
    "        quarter_record_line_num = our_goal + op_goal\n",
    "        total_lines += quarter_record_line_num # 총 기록 줄  수 기록\n",
    "        # 쿼터 정보 기록\n",
    "        temp_quarter_list = [quarter] * quarter_record_line_num\n",
    "        # 쿼터 시작 시간 기록\n",
    "        temp_datetime_list = [quarter_start_time] * quarter_record_line_num\n",
    "        # 상대팀 이름 기록\n",
    "        temp_opteamname_list = [opteamname] * quarter_record_line_num\n",
    "        # print(sections)\n",
    "\n",
    "        records = sections[1:] # 해당 쿼터의 스코어 기록 제외(골, 어시만 남김)\n",
    "        if len(records) == 0: # 0:0인 경우\n",
    "            # print('0:0인 조건문 실행.')\n",
    "            temp_quarter_list = [quarter] # 쿼터 정보 기록\n",
    "            # 골, 어시 'NULL'로 채우기\n",
    "            temp_goal_list, temp_assist_list = ['NULL'], ['NULL']\n",
    "            # 쿼터 시작 시간 기록\n",
    "            temp_datetime_list = [quarter_start_time]\n",
    "            # 상대팀 이름 기록\n",
    "            temp_opteamname_list = [opteamname]\n",
    "            total_lines += 1 # 0:0인 경우 골, 어시 빈 값으로 1줄만 채움\n",
    "        else: # 0:0 이 아닌 경우\n",
    "            # print('0:0이 아닌 경우 조건문 실행.')\n",
    "            for record in records:\n",
    "                goal_assist = record.split(' ')\n",
    "                if len(goal_assist) == 2: # 골과 어시 존재\n",
    "                    temp_goal_list.append(goal_assist[0])\n",
    "                    temp_assist_list.append(goal_assist[1])\n",
    "                else: # 골만 존재\n",
    "                    temp_goal_list.append(goal_assist[0])\n",
    "                    temp_assist_list.append('NULL')\n",
    "        if op_goal != 0: # 상대 골이 존재\n",
    "            # print('상대 골 존재 조건문 실행')\n",
    "            temp_goal_list += ['상대'] * op_goal\n",
    "            temp_assist_list += ['NULL'] * op_goal\n",
    "        # 쿼터별로 제대로 기록됐는지 확인\n",
    "        # print((f'{quarter}Q'), len(temp_datetime_list), len(temp_quarter_list), len(temp_goal_list), len(temp_assist_list), len(temp_opteamname_list))\n",
    "        datetime_list += temp_datetime_list\n",
    "        quarter_list += temp_quarter_list\n",
    "        goal_list += temp_goal_list\n",
    "        assist_list += temp_assist_list\n",
    "        opteamname_list += temp_opteamname_list\n",
    "\n",
    "    id_list = [str(x) for x in range(1, len(datetime_list) + 1)] # 기록 줄 수\n",
    "    # print('total :', len(datetime_list), len(quarter_list), len(goal_list), len(assist_list), len(opteamname_list))\n",
    "\n",
    "    sql = ''\n",
    "    for id, game_datetime, opteamname, quarter, goal, assist in zip(id_list, datetime_list, opteamname_list, quarter_list, goal_list, assist_list):\n",
    "        if goal != 'NULL' and assist != 'NULL': # 골, 어시 둘 다 존재하는 경우\n",
    "            sql = f\"INSERT INTO {table} VALUES(\" + id + \",'\" + game_datetime + \"','\" + opteamname + \"',\" + quarter + \",'\" + goal + \"','\" + assist + \"')\"\n",
    "            # print(sql)\n",
    "        elif goal != 'NULL' and assist == 'NULL': # 골만 존재하는 경우\n",
    "            sql = f\"INSERT INTO {table} VALUES(\" + id + \",'\" + game_datetime + \"','\" + opteamname + \"',\" + quarter + \",'\" + goal + \"',\" + assist + \")\"\n",
    "            # print(sql)\n",
    "        else: # 골, 어시 둘다 존재하지 않는 경우\n",
    "            sql = f\"INSERT INTO {table} VALUES(\" + id + \",'\" + game_datetime + \"','\" + opteamname + \"',\" + quarter + \",\" + goal + \",\" + assist + \")\"\n",
    "            # print(sql)\n",
    "        cur.execute(sql) # sql문 실행\n",
    "        conn.commit() # 저장\n",
    "    conn.close() # 종료\n",
    "    \n",
    "    df = pd.DataFrame({'id':id_list, 'game_datetime':datetime_list, 'quarter':quarter_list, 'goal':goal_list, 'assist':assist_list, 'opteamname':opteamname_list})\n",
    "    return df, total_lines"
   ]
  },
  {
   "cell_type": "markdown",
   "metadata": {},
   "source": [
    "## 정보 입력"
   ]
  },
  {
   "cell_type": "code",
   "execution_count": 7,
   "metadata": {},
   "outputs": [],
   "source": [
    "# 데이터 입력할 테이블명\n",
    "# 테이블 명 : test_records, records\n",
    "table = 'records'\n",
    "\n",
    "# 상대팀 이름 입력(문자형)\n",
    "opteamname = '아일랜드fc'\n",
    "\n",
    "# 경기 시작 시간(24시간제, 숫자형)\n",
    "start_time =  21\n",
    "\n",
    "# 기록 텍스트\n",
    "record_text = '''9/6 금 용산 싼다 골도움\n",
    "참: 핵 트 잡 뭉 범 뀨 쫑 삐 후 _9명\n",
    "\n",
    "1Q) 2:1 승\n",
    "잡 트\n",
    "범 핵\n",
    "\n",
    "2Q) 3:0 승\n",
    "뭉 후\n",
    "후 뭉\n",
    "뭉\n",
    "\n",
    "3Q) 0:0 무\n",
    "\n",
    "4Q) 1:1 무\n",
    "뀨 잡\n",
    "\n",
    "5Q) 1:0 승\n",
    "후 뭉\n",
    "\n",
    "6Q) 1:1 무\n",
    "삐 트\n",
    "\n",
    "7Q) 0:0 무\n",
    "\n",
    "8Q) 3:1 승\n",
    "삐 범\n",
    "삐 뀨\n",
    "뀨 삐\n",
    "\n",
    "4승 4무'''"
   ]
  },
  {
   "cell_type": "markdown",
   "metadata": {},
   "source": [
    "## 결과 확인"
   ]
  },
  {
   "cell_type": "code",
   "execution_count": 8,
   "metadata": {},
   "outputs": [],
   "source": [
    "df, total_lines = record_fuction(table, record_text, opteamname, start_time)"
   ]
  },
  {
   "cell_type": "code",
   "execution_count": 9,
   "metadata": {},
   "outputs": [
    {
     "data": {
      "text/html": [
       "<div>\n",
       "<style scoped>\n",
       "    .dataframe tbody tr th:only-of-type {\n",
       "        vertical-align: middle;\n",
       "    }\n",
       "\n",
       "    .dataframe tbody tr th {\n",
       "        vertical-align: top;\n",
       "    }\n",
       "\n",
       "    .dataframe thead th {\n",
       "        text-align: right;\n",
       "    }\n",
       "</style>\n",
       "<table border=\"1\" class=\"dataframe\">\n",
       "  <thead>\n",
       "    <tr style=\"text-align: right;\">\n",
       "      <th></th>\n",
       "      <th>id</th>\n",
       "      <th>game_datetime</th>\n",
       "      <th>quarter</th>\n",
       "      <th>goal</th>\n",
       "      <th>assist</th>\n",
       "      <th>opteamname</th>\n",
       "    </tr>\n",
       "  </thead>\n",
       "  <tbody>\n",
       "    <tr>\n",
       "      <th>0</th>\n",
       "      <td>1</td>\n",
       "      <td>2024-09-06 21:00:00</td>\n",
       "      <td>1</td>\n",
       "      <td>잡</td>\n",
       "      <td>트</td>\n",
       "      <td>아일랜드fc</td>\n",
       "    </tr>\n",
       "    <tr>\n",
       "      <th>1</th>\n",
       "      <td>2</td>\n",
       "      <td>2024-09-06 21:00:00</td>\n",
       "      <td>1</td>\n",
       "      <td>범</td>\n",
       "      <td>핵</td>\n",
       "      <td>아일랜드fc</td>\n",
       "    </tr>\n",
       "    <tr>\n",
       "      <th>2</th>\n",
       "      <td>3</td>\n",
       "      <td>2024-09-06 21:00:00</td>\n",
       "      <td>1</td>\n",
       "      <td>상대</td>\n",
       "      <td>NULL</td>\n",
       "      <td>아일랜드fc</td>\n",
       "    </tr>\n",
       "    <tr>\n",
       "      <th>3</th>\n",
       "      <td>4</td>\n",
       "      <td>2024-09-06 21:15:00</td>\n",
       "      <td>2</td>\n",
       "      <td>뭉</td>\n",
       "      <td>후</td>\n",
       "      <td>아일랜드fc</td>\n",
       "    </tr>\n",
       "    <tr>\n",
       "      <th>4</th>\n",
       "      <td>5</td>\n",
       "      <td>2024-09-06 21:15:00</td>\n",
       "      <td>2</td>\n",
       "      <td>후</td>\n",
       "      <td>뭉</td>\n",
       "      <td>아일랜드fc</td>\n",
       "    </tr>\n",
       "    <tr>\n",
       "      <th>5</th>\n",
       "      <td>6</td>\n",
       "      <td>2024-09-06 21:15:00</td>\n",
       "      <td>2</td>\n",
       "      <td>뭉</td>\n",
       "      <td>NULL</td>\n",
       "      <td>아일랜드fc</td>\n",
       "    </tr>\n",
       "    <tr>\n",
       "      <th>6</th>\n",
       "      <td>7</td>\n",
       "      <td>2024-09-06 21:30:00</td>\n",
       "      <td>3</td>\n",
       "      <td>NULL</td>\n",
       "      <td>NULL</td>\n",
       "      <td>아일랜드fc</td>\n",
       "    </tr>\n",
       "    <tr>\n",
       "      <th>7</th>\n",
       "      <td>8</td>\n",
       "      <td>2024-09-06 21:45:00</td>\n",
       "      <td>4</td>\n",
       "      <td>뀨</td>\n",
       "      <td>잡</td>\n",
       "      <td>아일랜드fc</td>\n",
       "    </tr>\n",
       "    <tr>\n",
       "      <th>8</th>\n",
       "      <td>9</td>\n",
       "      <td>2024-09-06 21:45:00</td>\n",
       "      <td>4</td>\n",
       "      <td>상대</td>\n",
       "      <td>NULL</td>\n",
       "      <td>아일랜드fc</td>\n",
       "    </tr>\n",
       "    <tr>\n",
       "      <th>9</th>\n",
       "      <td>10</td>\n",
       "      <td>2024-09-06 22:00:00</td>\n",
       "      <td>5</td>\n",
       "      <td>후</td>\n",
       "      <td>뭉</td>\n",
       "      <td>아일랜드fc</td>\n",
       "    </tr>\n",
       "    <tr>\n",
       "      <th>10</th>\n",
       "      <td>11</td>\n",
       "      <td>2024-09-06 22:15:00</td>\n",
       "      <td>6</td>\n",
       "      <td>삐</td>\n",
       "      <td>트</td>\n",
       "      <td>아일랜드fc</td>\n",
       "    </tr>\n",
       "    <tr>\n",
       "      <th>11</th>\n",
       "      <td>12</td>\n",
       "      <td>2024-09-06 22:15:00</td>\n",
       "      <td>6</td>\n",
       "      <td>상대</td>\n",
       "      <td>NULL</td>\n",
       "      <td>아일랜드fc</td>\n",
       "    </tr>\n",
       "    <tr>\n",
       "      <th>12</th>\n",
       "      <td>13</td>\n",
       "      <td>2024-09-06 22:30:00</td>\n",
       "      <td>7</td>\n",
       "      <td>NULL</td>\n",
       "      <td>NULL</td>\n",
       "      <td>아일랜드fc</td>\n",
       "    </tr>\n",
       "    <tr>\n",
       "      <th>13</th>\n",
       "      <td>14</td>\n",
       "      <td>2024-09-06 22:45:00</td>\n",
       "      <td>8</td>\n",
       "      <td>삐</td>\n",
       "      <td>범</td>\n",
       "      <td>아일랜드fc</td>\n",
       "    </tr>\n",
       "    <tr>\n",
       "      <th>14</th>\n",
       "      <td>15</td>\n",
       "      <td>2024-09-06 22:45:00</td>\n",
       "      <td>8</td>\n",
       "      <td>삐</td>\n",
       "      <td>뀨</td>\n",
       "      <td>아일랜드fc</td>\n",
       "    </tr>\n",
       "    <tr>\n",
       "      <th>15</th>\n",
       "      <td>16</td>\n",
       "      <td>2024-09-06 22:45:00</td>\n",
       "      <td>8</td>\n",
       "      <td>뀨</td>\n",
       "      <td>삐</td>\n",
       "      <td>아일랜드fc</td>\n",
       "    </tr>\n",
       "    <tr>\n",
       "      <th>16</th>\n",
       "      <td>17</td>\n",
       "      <td>2024-09-06 22:45:00</td>\n",
       "      <td>8</td>\n",
       "      <td>상대</td>\n",
       "      <td>NULL</td>\n",
       "      <td>아일랜드fc</td>\n",
       "    </tr>\n",
       "  </tbody>\n",
       "</table>\n",
       "</div>"
      ],
      "text/plain": [
       "    id        game_datetime quarter  goal assist opteamname\n",
       "0    1  2024-09-06 21:00:00       1     잡      트     아일랜드fc\n",
       "1    2  2024-09-06 21:00:00       1     범      핵     아일랜드fc\n",
       "2    3  2024-09-06 21:00:00       1    상대   NULL     아일랜드fc\n",
       "3    4  2024-09-06 21:15:00       2     뭉      후     아일랜드fc\n",
       "4    5  2024-09-06 21:15:00       2     후      뭉     아일랜드fc\n",
       "5    6  2024-09-06 21:15:00       2     뭉   NULL     아일랜드fc\n",
       "6    7  2024-09-06 21:30:00       3  NULL   NULL     아일랜드fc\n",
       "7    8  2024-09-06 21:45:00       4     뀨      잡     아일랜드fc\n",
       "8    9  2024-09-06 21:45:00       4    상대   NULL     아일랜드fc\n",
       "9   10  2024-09-06 22:00:00       5     후      뭉     아일랜드fc\n",
       "10  11  2024-09-06 22:15:00       6     삐      트     아일랜드fc\n",
       "11  12  2024-09-06 22:15:00       6    상대   NULL     아일랜드fc\n",
       "12  13  2024-09-06 22:30:00       7  NULL   NULL     아일랜드fc\n",
       "13  14  2024-09-06 22:45:00       8     삐      범     아일랜드fc\n",
       "14  15  2024-09-06 22:45:00       8     삐      뀨     아일랜드fc\n",
       "15  16  2024-09-06 22:45:00       8     뀨      삐     아일랜드fc\n",
       "16  17  2024-09-06 22:45:00       8    상대   NULL     아일랜드fc"
      ]
     },
     "execution_count": 9,
     "metadata": {},
     "output_type": "execute_result"
    }
   ],
   "source": [
    "df"
   ]
  },
  {
   "cell_type": "code",
   "execution_count": 10,
   "metadata": {},
   "outputs": [
    {
     "data": {
      "text/plain": [
       "17"
      ]
     },
     "execution_count": 10,
     "metadata": {},
     "output_type": "execute_result"
    }
   ],
   "source": [
    "total_lines"
   ]
  },
  {
   "cell_type": "markdown",
   "metadata": {},
   "source": [
    "# 테스트"
   ]
  },
  {
   "cell_type": "markdown",
   "metadata": {},
   "source": [
    "## DB 접속"
   ]
  },
  {
   "cell_type": "code",
   "execution_count": 14,
   "metadata": {},
   "outputs": [],
   "source": [
    "# 전역변수 선언부\n",
    "conn = None\n",
    "cur = None\n",
    "\n",
    "# 메인 코드\n",
    "password = input('비밀번호를 입력하세요')\n",
    "conn = pymysql.connect(host = 'localhost', port=3306, user='root', password=password, db='futsaldata', charset='utf8')\n",
    "cur = conn.cursor() # 커서생성"
   ]
  },
  {
   "cell_type": "code",
   "execution_count": 5,
   "metadata": {},
   "outputs": [],
   "source": [
    "# sql = 'CREATE TABLE IF NOT EXISTS userTable (id char(4), userName char(10), email char(15), birthYear int)' # 테스트 테이블 생성\n",
    "# cur.execute(sql) # sql문 실행\n",
    "\n",
    "# conn.commit() # 저장\n",
    "\n",
    "# conn.close() # 종료"
   ]
  },
  {
   "cell_type": "markdown",
   "metadata": {},
   "source": [
    "## test_records 테이블 생성"
   ]
  },
  {
   "cell_type": "code",
   "execution_count": 10,
   "metadata": {},
   "outputs": [],
   "source": [
    "sql = \"CREATE TABLE test_records (ID int(11) DEFAULT NULL, DATE datetime DEFAULT NULL, OPTEAMNAME varchar(100) DEFAULT NULL, QUARTER tinyint(4) DEFAULT NULL, GOAL varchar(3) DEFAULT NULL, ASSIST varchar(3) DEFAULT NULL)\" # test_records 테이블 생성\n",
    "cur.execute(sql) # sql문 실행\n",
    "\n",
    "conn.commit() # 저장"
   ]
  },
  {
   "cell_type": "markdown",
   "metadata": {},
   "source": [
    "## records 테이블에 데이터 입력"
   ]
  },
  {
   "cell_type": "markdown",
   "metadata": {},
   "source": [
    "### 2024-08-23 경기\n",
    "    8/23 금 용산 싼다 골도움\n",
    "    참: 핵 삐 트 범 뀨 후 잡 뭉 _8명\n",
    "\n",
    "    1Q) 3:2 승\n",
    "    후 범\n",
    "    핵 삐\n",
    "    후 삐\n",
    "\n",
    "    2Q) 2:2 무\n",
    "    핵 뀨\n",
    "    후 잡\n",
    "\n",
    "    3Q) 1:0 승\n",
    "    뭉 후\n",
    "\n",
    "    4Q) 5:2 승\n",
    "    삐 뭉\n",
    "    삐 잡\n",
    "    삐 트\n",
    "    뭉 잡\n",
    "    잡 삐\n",
    "\n",
    "    5Q) 2:2 무\n",
    "    핵 삐\n",
    "    삐 핵\n",
    "\n",
    "    6Q) 1:0 승\n",
    "    뭉 후\n",
    "\n",
    "    7Q) 1:3 패\n",
    "    뭉 삐\n",
    "\n",
    "    8Q) 5:0 승\n",
    "    잡 핵\n",
    "    잡 트\n",
    "    잡 핵\n",
    "    잡\n",
    "    잡 뀨\n",
    "\n",
    "    5승 2무 1패"
   ]
  },
  {
   "cell_type": "markdown",
   "metadata": {},
   "source": [
    "#### 1쿼터\n",
    "    1Q) 3:2 승\n",
    "    후 범\n",
    "    핵 삐\n",
    "    후 삐"
   ]
  },
  {
   "cell_type": "code",
   "execution_count": 33,
   "metadata": {},
   "outputs": [
    {
     "data": {
      "text/plain": [
       "6"
      ]
     },
     "execution_count": 33,
     "metadata": {},
     "output_type": "execute_result"
    }
   ],
   "source": [
    "goal_list = ['후', '핵', '후', '상대', '상대']\n",
    "assist_list = ['범', '삐', '삐', 'NULL', 'NULL']\n",
    "datetime_list = ['2024-08-23 22:00:00'] * len(goal_list)\n",
    "opteamname_list = ['fc intentar'] * len(goal_list)\n",
    "quarter_list = ['1'] * len(goal_list)\n",
    "id_num = 1\n",
    "id_list = [str(x) for x in range(id_num, id_num + len(goal_list))]\n",
    "id_num += len(goal_list)\n",
    "id_num"
   ]
  },
  {
   "cell_type": "code",
   "execution_count": 30,
   "metadata": {},
   "outputs": [
    {
     "name": "stdout",
     "output_type": "stream",
     "text": [
      "INSERT INTO test_records VALUES(1,'2024-08-23 22:00:00','fc intentar',1,'후','범')\n",
      "INSERT INTO test_records VALUES(2,'2024-08-23 22:00:00','fc intentar',1,'핵','삐')\n",
      "INSERT INTO test_records VALUES(3,'2024-08-23 22:00:00','fc intentar',1,'후','삐')\n",
      "INSERT INTO test_records VALUES(4,'2024-08-23 22:00:00','fc intentar',1,'상대',NULL)\n",
      "INSERT INTO test_records VALUES(5,'2024-08-23 22:00:00','fc intentar',1,'상대',NULL)\n"
     ]
    }
   ],
   "source": [
    "sql = ''\n",
    "for id, datetime, opteamname, quarter, goal, assist in zip(id_list, datetime_list, opteamname_list, quarter_list, goal_list, assist_list):\n",
    "    if assist != 'NULL':\n",
    "        sql = \"INSERT INTO records VALUES(\" + id + \",'\" + datetime + \"','\" + opteamname + \"',\" + quarter + \",'\" + goal + \"','\" + assist + \"')\"\n",
    "        print(sql)\n",
    "    else:\n",
    "        sql = \"INSERT INTO records VALUES(\" + id + \",'\" + datetime + \"','\" + opteamname + \"',\" + quarter + \",'\" + goal + \"',\" + assist + \")\"\n",
    "        print(sql)\n",
    "    cur.execute(sql) # sql문 실행"
   ]
  },
  {
   "cell_type": "markdown",
   "metadata": {},
   "source": [
    "#### 2쿼터\n",
    "    2Q) 2:2 무\n",
    "    핵 뀨\n",
    "    후 잡"
   ]
  },
  {
   "cell_type": "code",
   "execution_count": 34,
   "metadata": {},
   "outputs": [
    {
     "data": {
      "text/plain": [
       "10"
      ]
     },
     "execution_count": 34,
     "metadata": {},
     "output_type": "execute_result"
    }
   ],
   "source": [
    "goal_list = ['핵', '후', '상대', '상대']\n",
    "assist_list = ['뀨', '잡', 'NULL', 'NULL']\n",
    "datetime_list = ['2024-08-23 22:15:00'] * len(goal_list)\n",
    "opteamname_list = ['fc intentar'] * len(goal_list)\n",
    "quarter_list = ['2'] * len(goal_list)\n",
    "id_list = [str(x) for x in range(id_num, id_num + len(goal_list))]\n",
    "id_num += len(goal_list)\n",
    "id_num"
   ]
  },
  {
   "cell_type": "code",
   "execution_count": 35,
   "metadata": {},
   "outputs": [
    {
     "name": "stdout",
     "output_type": "stream",
     "text": [
      "INSERT INTO test_records VALUES(6,'2024-08-23 22:15:00','fc intentar',2,'핵','뀨')\n",
      "INSERT INTO test_records VALUES(7,'2024-08-23 22:15:00','fc intentar',2,'후','잡')\n",
      "INSERT INTO test_records VALUES(8,'2024-08-23 22:15:00','fc intentar',2,'상대',NULL)\n",
      "INSERT INTO test_records VALUES(9,'2024-08-23 22:15:00','fc intentar',2,'상대',NULL)\n"
     ]
    }
   ],
   "source": [
    "sql = ''\n",
    "for id, datetime, opteamname, quarter, goal, assist in zip(id_list, datetime_list, opteamname_list, quarter_list, goal_list, assist_list):\n",
    "    if assist != 'NULL':\n",
    "        sql = \"INSERT INTO records VALUES(\" + id + \",'\" + datetime + \"','\" + opteamname + \"',\" + quarter + \",'\" + goal + \"','\" + assist + \"')\"\n",
    "        print(sql)\n",
    "    else:\n",
    "        sql = \"INSERT INTO records VALUES(\" + id + \",'\" + datetime + \"','\" + opteamname + \"',\" + quarter + \",'\" + goal + \"',\" + assist + \")\"\n",
    "        print(sql)\n",
    "    cur.execute(sql) # sql문 실행"
   ]
  },
  {
   "cell_type": "markdown",
   "metadata": {},
   "source": [
    "#### 3쿼터\n",
    "    3Q) 1:0 승\n",
    "    뭉 후"
   ]
  },
  {
   "cell_type": "code",
   "execution_count": 36,
   "metadata": {},
   "outputs": [
    {
     "data": {
      "text/plain": [
       "11"
      ]
     },
     "execution_count": 36,
     "metadata": {},
     "output_type": "execute_result"
    }
   ],
   "source": [
    "goal_list = ['뭉']\n",
    "assist_list = ['후']\n",
    "datetime_list = ['2024-08-23 22:30:00'] * len(goal_list)\n",
    "opteamname_list = ['fc intentar'] * len(goal_list)\n",
    "quarter_list = ['3'] * len(goal_list)\n",
    "id_list = [str(x) for x in range(id_num, id_num + len(goal_list))]\n",
    "id_num += len(goal_list)\n",
    "id_num"
   ]
  },
  {
   "cell_type": "code",
   "execution_count": 37,
   "metadata": {},
   "outputs": [
    {
     "name": "stdout",
     "output_type": "stream",
     "text": [
      "INSERT INTO test_records VALUES(10,'2024-08-23 22:30:00','fc intentar',3,'뭉','후')\n"
     ]
    }
   ],
   "source": [
    "sql = ''\n",
    "for id, datetime, opteamname, quarter, goal, assist in zip(id_list, datetime_list, opteamname_list, quarter_list, goal_list, assist_list):\n",
    "    if assist != 'NULL':\n",
    "        sql = \"INSERT INTO records VALUES(\" + id + \",'\" + datetime + \"','\" + opteamname + \"',\" + quarter + \",'\" + goal + \"','\" + assist + \"')\"\n",
    "        print(sql)\n",
    "    else:\n",
    "        sql = \"INSERT INTO records VALUES(\" + id + \",'\" + datetime + \"','\" + opteamname + \"',\" + quarter + \",'\" + goal + \"',\" + assist + \")\"\n",
    "        print(sql)\n",
    "    cur.execute(sql) # sql문 실행"
   ]
  },
  {
   "cell_type": "markdown",
   "metadata": {},
   "source": [
    "#### 4쿼터\n",
    "    4Q) 5:2 승\n",
    "    삐 뭉\n",
    "    삐 잡\n",
    "    삐 트\n",
    "    뭉 잡\n",
    "    잡 삐"
   ]
  },
  {
   "cell_type": "code",
   "execution_count": 38,
   "metadata": {},
   "outputs": [
    {
     "data": {
      "text/plain": [
       "18"
      ]
     },
     "execution_count": 38,
     "metadata": {},
     "output_type": "execute_result"
    }
   ],
   "source": [
    "goal_list = ['삐', '삐', '삐', '뭉', '잡', '상대', '상대']\n",
    "assist_list = ['뭉', '잡', '트', '잡', '삐', 'NULL', 'NULL']\n",
    "datetime_list = ['2024-08-23 22:45:00'] * len(goal_list)\n",
    "opteamname_list = ['fc intentar'] * len(goal_list)\n",
    "quarter_list = ['4'] * len(goal_list)\n",
    "id_list = [str(x) for x in range(id_num, id_num + len(goal_list))]\n",
    "id_num += len(goal_list)\n",
    "id_num"
   ]
  },
  {
   "cell_type": "code",
   "execution_count": 39,
   "metadata": {},
   "outputs": [
    {
     "name": "stdout",
     "output_type": "stream",
     "text": [
      "INSERT INTO test_records VALUES(11,'2024-08-23 22:45:00','fc intentar',4,'삐','뭉')\n",
      "INSERT INTO test_records VALUES(12,'2024-08-23 22:45:00','fc intentar',4,'삐','잡')\n",
      "INSERT INTO test_records VALUES(13,'2024-08-23 22:45:00','fc intentar',4,'삐','트')\n",
      "INSERT INTO test_records VALUES(14,'2024-08-23 22:45:00','fc intentar',4,'뭉','잡')\n",
      "INSERT INTO test_records VALUES(15,'2024-08-23 22:45:00','fc intentar',4,'잡','삐')\n",
      "INSERT INTO test_records VALUES(16,'2024-08-23 22:45:00','fc intentar',4,'상대',NULL)\n",
      "INSERT INTO test_records VALUES(17,'2024-08-23 22:45:00','fc intentar',4,'상대',NULL)\n"
     ]
    }
   ],
   "source": [
    "sql = ''\n",
    "for id, datetime, opteamname, quarter, goal, assist in zip(id_list, datetime_list, opteamname_list, quarter_list, goal_list, assist_list):\n",
    "    if assist != 'NULL':\n",
    "        sql = \"INSERT INTO records VALUES(\" + id + \",'\" + datetime + \"','\" + opteamname + \"',\" + quarter + \",'\" + goal + \"','\" + assist + \"')\"\n",
    "        print(sql)\n",
    "    else:\n",
    "        sql = \"INSERT INTO records VALUES(\" + id + \",'\" + datetime + \"','\" + opteamname + \"',\" + quarter + \",'\" + goal + \"',\" + assist + \")\"\n",
    "        print(sql)\n",
    "    cur.execute(sql) # sql문 실행"
   ]
  },
  {
   "cell_type": "markdown",
   "metadata": {},
   "source": [
    "#### 5쿼터\n",
    "    5Q) 2:2 무\n",
    "    핵 삐\n",
    "    삐 핵"
   ]
  },
  {
   "cell_type": "code",
   "execution_count": 40,
   "metadata": {},
   "outputs": [
    {
     "data": {
      "text/plain": [
       "22"
      ]
     },
     "execution_count": 40,
     "metadata": {},
     "output_type": "execute_result"
    }
   ],
   "source": [
    "goal_list = ['핵', '삐', '상대', '상대']\n",
    "assist_list = ['삐', '핵', 'NULL', 'NULL']\n",
    "datetime_list = ['2024-08-23 23:00:00'] * len(goal_list)\n",
    "opteamname_list = ['fc intentar'] * len(goal_list)\n",
    "quarter_list = ['5'] * len(goal_list)\n",
    "id_list = [str(x) for x in range(id_num, id_num + len(goal_list))]\n",
    "id_num += len(goal_list)\n",
    "id_num"
   ]
  },
  {
   "cell_type": "code",
   "execution_count": 41,
   "metadata": {},
   "outputs": [
    {
     "name": "stdout",
     "output_type": "stream",
     "text": [
      "INSERT INTO test_records VALUES(18,'2024-08-23 23:00:00','fc intentar',5,'핵','삐')\n",
      "INSERT INTO test_records VALUES(19,'2024-08-23 23:00:00','fc intentar',5,'삐','핵')\n",
      "INSERT INTO test_records VALUES(20,'2024-08-23 23:00:00','fc intentar',5,'상대',NULL)\n",
      "INSERT INTO test_records VALUES(21,'2024-08-23 23:00:00','fc intentar',5,'상대',NULL)\n"
     ]
    }
   ],
   "source": [
    "sql = ''\n",
    "for id, datetime, opteamname, quarter, goal, assist in zip(id_list, datetime_list, opteamname_list, quarter_list, goal_list, assist_list):\n",
    "    if assist != 'NULL':\n",
    "        sql = \"INSERT INTO records VALUES(\" + id + \",'\" + datetime + \"','\" + opteamname + \"',\" + quarter + \",'\" + goal + \"','\" + assist + \"')\"\n",
    "        print(sql)\n",
    "    else:\n",
    "        sql = \"INSERT INTO records VALUES(\" + id + \",'\" + datetime + \"','\" + opteamname + \"',\" + quarter + \",'\" + goal + \"',\" + assist + \")\"\n",
    "        print(sql)\n",
    "    cur.execute(sql) # sql문 실행"
   ]
  },
  {
   "cell_type": "markdown",
   "metadata": {},
   "source": [
    "#### 6쿼터\n",
    "    6Q) 1:0 승\n",
    "    뭉 후"
   ]
  },
  {
   "cell_type": "code",
   "execution_count": 42,
   "metadata": {},
   "outputs": [
    {
     "data": {
      "text/plain": [
       "23"
      ]
     },
     "execution_count": 42,
     "metadata": {},
     "output_type": "execute_result"
    }
   ],
   "source": [
    "goal_list = ['뭉']\n",
    "assist_list = ['후']\n",
    "datetime_list = ['2024-08-23 23:15:00'] * len(goal_list)\n",
    "opteamname_list = ['fc intentar'] * len(goal_list)\n",
    "quarter_list = ['6'] * len(goal_list)\n",
    "id_list = [str(x) for x in range(id_num, id_num + len(goal_list))]\n",
    "id_num += len(goal_list)\n",
    "id_num"
   ]
  },
  {
   "cell_type": "code",
   "execution_count": 43,
   "metadata": {},
   "outputs": [
    {
     "name": "stdout",
     "output_type": "stream",
     "text": [
      "INSERT INTO test_records VALUES(22,'2024-08-23 23:15:00','fc intentar',6,'뭉','후')\n"
     ]
    }
   ],
   "source": [
    "sql = ''\n",
    "for id, datetime, opteamname, quarter, goal, assist in zip(id_list, datetime_list, opteamname_list, quarter_list, goal_list, assist_list):\n",
    "    if assist != 'NULL':\n",
    "        sql = \"INSERT INTO records VALUES(\" + id + \",'\" + datetime + \"','\" + opteamname + \"',\" + quarter + \",'\" + goal + \"','\" + assist + \"')\"\n",
    "        print(sql)\n",
    "    else:\n",
    "        sql = \"INSERT INTO records VALUES(\" + id + \",'\" + datetime + \"','\" + opteamname + \"',\" + quarter + \",'\" + goal + \"',\" + assist + \")\"\n",
    "        print(sql)\n",
    "    cur.execute(sql) # sql문 실행"
   ]
  },
  {
   "cell_type": "markdown",
   "metadata": {},
   "source": [
    "#### 7쿼터\n",
    "    7Q) 1:3 패\n",
    "    뭉 삐"
   ]
  },
  {
   "cell_type": "code",
   "execution_count": 44,
   "metadata": {},
   "outputs": [
    {
     "data": {
      "text/plain": [
       "27"
      ]
     },
     "execution_count": 44,
     "metadata": {},
     "output_type": "execute_result"
    }
   ],
   "source": [
    "goal_list = ['뭉', '상대', '상대', '상대']\n",
    "assist_list = ['삐', 'NULL', 'NULL', 'NULL']\n",
    "datetime_list = ['2024-08-23 23:30:00'] * len(goal_list)\n",
    "opteamname_list = ['fc intentar'] * len(goal_list)\n",
    "quarter_list = ['7'] * len(goal_list)\n",
    "id_list = [str(x) for x in range(id_num, id_num + len(goal_list))]\n",
    "id_num += len(goal_list)\n",
    "id_num"
   ]
  },
  {
   "cell_type": "code",
   "execution_count": 45,
   "metadata": {},
   "outputs": [
    {
     "name": "stdout",
     "output_type": "stream",
     "text": [
      "INSERT INTO test_records VALUES(23,'2024-08-23 23:30:00','fc intentar',7,'뭉','삐')\n",
      "INSERT INTO test_records VALUES(24,'2024-08-23 23:30:00','fc intentar',7,'상대',NULL)\n",
      "INSERT INTO test_records VALUES(25,'2024-08-23 23:30:00','fc intentar',7,'상대',NULL)\n",
      "INSERT INTO test_records VALUES(26,'2024-08-23 23:30:00','fc intentar',7,'상대',NULL)\n"
     ]
    }
   ],
   "source": [
    "sql = ''\n",
    "for id, datetime, opteamname, quarter, goal, assist in zip(id_list, datetime_list, opteamname_list, quarter_list, goal_list, assist_list):\n",
    "    if assist != 'NULL':\n",
    "        sql = \"INSERT INTO records VALUES(\" + id + \",'\" + datetime + \"','\" + opteamname + \"',\" + quarter + \",'\" + goal + \"','\" + assist + \"')\"\n",
    "        print(sql)\n",
    "    else:\n",
    "        sql = \"INSERT INTO records VALUES(\" + id + \",'\" + datetime + \"','\" + opteamname + \"',\" + quarter + \",'\" + goal + \"',\" + assist + \")\"\n",
    "        print(sql)\n",
    "    cur.execute(sql) # sql문 실행"
   ]
  },
  {
   "cell_type": "markdown",
   "metadata": {},
   "source": [
    "#### 8쿼터\n",
    "    8Q) 5:0 승\n",
    "    잡 핵\n",
    "    잡 트\n",
    "    잡 핵\n",
    "    잡\n",
    "    잡 뀨"
   ]
  },
  {
   "cell_type": "code",
   "execution_count": 46,
   "metadata": {},
   "outputs": [
    {
     "data": {
      "text/plain": [
       "32"
      ]
     },
     "execution_count": 46,
     "metadata": {},
     "output_type": "execute_result"
    }
   ],
   "source": [
    "goal_list = ['후', '핵', '후', '상대', '상대']\n",
    "assist_list = ['범', '삐', '삐', 'NULL', 'NULL']\n",
    "datetime_list = ['2024-08-23 23:45:00'] * len(goal_list)\n",
    "opteamname_list = ['fc intentar'] * len(goal_list)\n",
    "quarter_list = ['8'] * len(goal_list)\n",
    "id_list = [str(x) for x in range(id_num, id_num + len(goal_list))]\n",
    "id_num += len(goal_list)\n",
    "id_num"
   ]
  },
  {
   "cell_type": "code",
   "execution_count": 47,
   "metadata": {},
   "outputs": [
    {
     "name": "stdout",
     "output_type": "stream",
     "text": [
      "INSERT INTO test_records VALUES(27,'2024-08-23 23:45:00','fc intentar',8,'후','범')\n",
      "INSERT INTO test_records VALUES(28,'2024-08-23 23:45:00','fc intentar',8,'핵','삐')\n",
      "INSERT INTO test_records VALUES(29,'2024-08-23 23:45:00','fc intentar',8,'후','삐')\n",
      "INSERT INTO test_records VALUES(30,'2024-08-23 23:45:00','fc intentar',8,'상대',NULL)\n",
      "INSERT INTO test_records VALUES(31,'2024-08-23 23:45:00','fc intentar',8,'상대',NULL)\n"
     ]
    }
   ],
   "source": [
    "sql = ''\n",
    "for id, datetime, opteamname, quarter, goal, assist in zip(id_list, datetime_list, opteamname_list, quarter_list, goal_list, assist_list):\n",
    "    if assist != 'NULL':\n",
    "        sql = \"INSERT INTO records VALUES(\" + id + \",'\" + datetime + \"','\" + opteamname + \"',\" + quarter + \",'\" + goal + \"','\" + assist + \"')\"\n",
    "        print(sql)\n",
    "    else:\n",
    "        sql = \"INSERT INTO records VALUES(\" + id + \",'\" + datetime + \"','\" + opteamname + \"',\" + quarter + \",'\" + goal + \"',\" + assist + \")\"\n",
    "        print(sql)\n",
    "    cur.execute(sql) # sql문 실행"
   ]
  },
  {
   "cell_type": "code",
   "execution_count": 48,
   "metadata": {},
   "outputs": [],
   "source": [
    "conn.commit() # 저장\n",
    "\n",
    "conn.close() # 종료"
   ]
  },
  {
   "cell_type": "markdown",
   "metadata": {},
   "source": [
    "### 2024-09-06 경기\n",
    "    9/6 금 용산 싼다 골도움\n",
    "    참: 핵 트 잡 뭉 범 뀨 쫑 삐 후 _9명\n",
    "\n",
    "    1Q) 2:1 승\n",
    "    잡 트\n",
    "    범 핵\n",
    "\n",
    "    2Q) 3:0 승\n",
    "    뭉 후\n",
    "    후 뭉\n",
    "    뭉\n",
    "\n",
    "    3Q) 0:0 무\n",
    "\n",
    "    4Q) 1:1 무\n",
    "    뀨 잡\n",
    "\n",
    "    5Q) 1:0 승\n",
    "    후 뭉\n",
    "\n",
    "    6Q) 1:1 무\n",
    "    삐 트\n",
    "\n",
    "    7Q) 0:0 무\n",
    "\n",
    "    8Q) 3:1 승\n",
    "    삐 범\n",
    "    삐 뀨\n",
    "    뀨 삐\n",
    "\n",
    "    4승 4무"
   ]
  },
  {
   "cell_type": "markdown",
   "metadata": {},
   "source": [
    "#### 1쿼터\n",
    "    1Q) 2:1 승\n",
    "    잡 트\n",
    "    범 핵"
   ]
  },
  {
   "cell_type": "code",
   "execution_count": 187,
   "metadata": {},
   "outputs": [],
   "source": [
    "id_num = 1"
   ]
  },
  {
   "cell_type": "code",
   "execution_count": 188,
   "metadata": {},
   "outputs": [
    {
     "name": "stdout",
     "output_type": "stream",
     "text": [
      "INSERT INTO records VALUES(1,'2024-09-06 21:00:00','아일랜드fc',1,'잡','트')\n",
      "INSERT INTO records VALUES(2,'2024-09-06 21:00:00','아일랜드fc',1,'범','핵')\n",
      "INSERT INTO records VALUES(3,'2024-09-06 21:00:00','아일랜드fc',1,'상대',NULL)\n"
     ]
    }
   ],
   "source": [
    "goal_list = ['잡', '범', '상대']\n",
    "assist_list = ['트', '핵', 'NULL']\n",
    "datetime_list = ['2024-09-06 21:00:00'] * len(goal_list)\n",
    "opteamname_list = ['아일랜드fc'] * len(goal_list)\n",
    "quarter_list = ['1'] * len(goal_list)\n",
    "id_list = [str(x) for x in range(id_num, id_num + len(goal_list))]\n",
    "id_num += len(goal_list)\n",
    "sql = ''\n",
    "for id, datetime, opteamname, quarter, goal, assist in zip(id_list, datetime_list, opteamname_list, quarter_list, goal_list, assist_list):\n",
    "    if goal != 'NULL' and assist != 'NULL': # 골, 어시 둘 다 존재하는 경우\n",
    "        sql = \"INSERT INTO records VALUES(\" + id + \",'\" + datetime + \"','\" + opteamname + \"',\" + quarter + \",'\" + goal + \"','\" + assist + \"')\"\n",
    "        print(sql)\n",
    "    elif goal != 'NULL' and assist == 'NULL': # 골만 존재하는 경우\n",
    "        sql = \"INSERT INTO records VALUES(\" + id + \",'\" + datetime + \"','\" + opteamname + \"',\" + quarter + \",'\" + goal + \"',\" + assist + \")\"\n",
    "        print(sql)\n",
    "    else: # 골, 어시 둘다 존재하지 않는 경우\n",
    "        sql = \"INSERT INTO records VALUES(\" + id + \",'\" + datetime + \"','\" + opteamname + \"',\" + quarter + \",\" + goal + \",\" + assist + \")\"\n",
    "        print(sql)\n",
    "    # cur.execute(sql) # sql문 실행"
   ]
  },
  {
   "cell_type": "markdown",
   "metadata": {},
   "source": [
    "#### 2쿼터\n",
    "    2Q) 3:0 승\n",
    "    뭉 후\n",
    "    후 뭉\n",
    "    뭉"
   ]
  },
  {
   "cell_type": "code",
   "execution_count": 17,
   "metadata": {},
   "outputs": [
    {
     "name": "stdout",
     "output_type": "stream",
     "text": [
      "INSERT INTO records VALUES(4,'2024-09-06 21:15:00','아일랜드fc',2,'뭉','후')\n",
      "INSERT INTO records VALUES(5,'2024-09-06 21:15:00','아일랜드fc',2,'후','뭉')\n",
      "INSERT INTO records VALUES(6,'2024-09-06 21:15:00','아일랜드fc',2,'뭉',NULL)\n"
     ]
    }
   ],
   "source": [
    "goal_list = ['뭉', '후', '뭉']\n",
    "assist_list = ['후', '뭉', 'NULL']\n",
    "datetime_list = ['2024-09-06 21:15:00'] * len(goal_list)\n",
    "opteamname_list = ['아일랜드fc'] * len(goal_list)\n",
    "quarter_list = ['2'] * len(goal_list)\n",
    "id_list = [str(x) for x in range(id_num, id_num + len(goal_list))]\n",
    "id_num += len(goal_list)\n",
    "sql = ''\n",
    "for id, datetime, opteamname, quarter, goal, assist in zip(id_list, datetime_list, opteamname_list, quarter_list, goal_list, assist_list):\n",
    "    if goal != 'NULL' and assist != 'NULL': # 골, 어시 둘 다 존재하는 경우\n",
    "        sql = \"INSERT INTO records VALUES(\" + id + \",'\" + datetime + \"','\" + opteamname + \"',\" + quarter + \",'\" + goal + \"','\" + assist + \"')\"\n",
    "        print(sql)\n",
    "    elif goal != 'NULL' and assist == 'NULL': # 골만 존재하는 경우\n",
    "        sql = \"INSERT INTO records VALUES(\" + id + \",'\" + datetime + \"','\" + opteamname + \"',\" + quarter + \",'\" + goal + \"',\" + assist + \")\"\n",
    "        print(sql)\n",
    "    else: # 골, 어시 둘다 존재하지 않는 경우\n",
    "        sql = \"INSERT INTO records VALUES(\" + id + \",'\" + datetime + \"','\" + opteamname + \"',\" + quarter + \",\" + goal + \",\" + assist + \")\"\n",
    "        print(sql)\n",
    "    # cur.execute(sql) # sql문 실행"
   ]
  },
  {
   "cell_type": "markdown",
   "metadata": {},
   "source": [
    "#### 3쿼터\n",
    "    3Q) 0:0 무"
   ]
  },
  {
   "cell_type": "code",
   "execution_count": 189,
   "metadata": {},
   "outputs": [
    {
     "name": "stdout",
     "output_type": "stream",
     "text": [
      "INSERT INTO records VALUES(4,'2024-09-06 21:30:00','아일랜드fc',3,NULL,NULL)\n"
     ]
    }
   ],
   "source": [
    "goal_list = ['NULL']\n",
    "assist_list = ['NULL']\n",
    "datetime_list = ['2024-09-06 21:30:00'] * len(goal_list)\n",
    "opteamname_list = ['아일랜드fc'] * len(goal_list)\n",
    "quarter_list = ['3'] * len(goal_list)\n",
    "id_list = [str(x) for x in range(id_num, id_num + len(goal_list))]\n",
    "id_num += len(goal_list)\n",
    "sql = ''\n",
    "for id, datetime, opteamname, quarter, goal, assist in zip(id_list, datetime_list, opteamname_list, quarter_list, goal_list, assist_list):\n",
    "    if goal != 'NULL' and assist != 'NULL': # 골, 어시 둘 다 존재하는 경우\n",
    "        sql = \"INSERT INTO records VALUES(\" + id + \",'\" + datetime + \"','\" + opteamname + \"',\" + quarter + \",'\" + goal + \"','\" + assist + \"')\"\n",
    "        print(sql)\n",
    "    elif goal != 'NULL' and assist == 'NULL': # 골만 존재하는 경우\n",
    "        sql = \"INSERT INTO records VALUES(\" + id + \",'\" + datetime + \"','\" + opteamname + \"',\" + quarter + \",'\" + goal + \"',\" + assist + \")\"\n",
    "        print(sql)\n",
    "    else: # 골, 어시 둘다 존재하지 않는 경우\n",
    "        sql = \"INSERT INTO records VALUES(\" + id + \",'\" + datetime + \"','\" + opteamname + \"',\" + quarter + \",\" + goal + \",\" + assist + \")\"\n",
    "        print(sql)\n",
    "    # cur.execute(sql) # sql문 실행"
   ]
  },
  {
   "cell_type": "markdown",
   "metadata": {},
   "source": [
    "#### 4쿼터\n",
    "    4Q) 1:1 무\n",
    "    뀨 잡"
   ]
  },
  {
   "cell_type": "code",
   "execution_count": 19,
   "metadata": {},
   "outputs": [
    {
     "name": "stdout",
     "output_type": "stream",
     "text": [
      "INSERT INTO records VALUES(8,'2024-09-06 21:45:00','아일랜드fc',4,'뀨','잡')\n",
      "INSERT INTO records VALUES(9,'2024-09-06 21:45:00','아일랜드fc',4,'상대',NULL)\n"
     ]
    }
   ],
   "source": [
    "goal_list = ['뀨', '상대']\n",
    "assist_list = ['잡', 'NULL']\n",
    "datetime_list = ['2024-09-06 21:45:00'] * len(goal_list)\n",
    "opteamname_list = ['아일랜드fc'] * len(goal_list)\n",
    "quarter_list = ['4'] * len(goal_list)\n",
    "id_list = [str(x) for x in range(id_num, id_num + len(goal_list))]\n",
    "id_num += len(goal_list)\n",
    "sql = ''\n",
    "for id, datetime, opteamname, quarter, goal, assist in zip(id_list, datetime_list, opteamname_list, quarter_list, goal_list, assist_list):\n",
    "    if goal != 'NULL' and assist != 'NULL': # 골, 어시 둘 다 존재하는 경우\n",
    "        sql = \"INSERT INTO records VALUES(\" + id + \",'\" + datetime + \"','\" + opteamname + \"',\" + quarter + \",'\" + goal + \"','\" + assist + \"')\"\n",
    "        print(sql)\n",
    "    elif goal != 'NULL' and assist == 'NULL': # 골만 존재하는 경우\n",
    "        sql = \"INSERT INTO records VALUES(\" + id + \",'\" + datetime + \"','\" + opteamname + \"',\" + quarter + \",'\" + goal + \"',\" + assist + \")\"\n",
    "        print(sql)\n",
    "    else: # 골, 어시 둘다 존재하지 않는 경우\n",
    "        sql = \"INSERT INTO records VALUES(\" + id + \",'\" + datetime + \"','\" + opteamname + \"',\" + quarter + \",\" + goal + \",\" + assist + \")\"\n",
    "        print(sql)\n",
    "    # cur.execute(sql) # sql문 실행"
   ]
  },
  {
   "cell_type": "markdown",
   "metadata": {},
   "source": [
    "#### 5쿼터\n",
    "    5Q) 1:0 승\n",
    "    후 뭉"
   ]
  },
  {
   "cell_type": "code",
   "execution_count": 20,
   "metadata": {},
   "outputs": [
    {
     "name": "stdout",
     "output_type": "stream",
     "text": [
      "INSERT INTO records VALUES(10,'2024-09-06 22:00:00','아일랜드fc',5,'후','뭉')\n"
     ]
    }
   ],
   "source": [
    "goal_list = ['후']\n",
    "assist_list = ['뭉']\n",
    "datetime_list = ['2024-09-06 22:00:00'] * len(goal_list)\n",
    "opteamname_list = ['아일랜드fc'] * len(goal_list)\n",
    "quarter_list = ['5'] * len(goal_list)\n",
    "id_list = [str(x) for x in range(id_num, id_num + len(goal_list))]\n",
    "id_num += len(goal_list)\n",
    "sql = ''\n",
    "for id, datetime, opteamname, quarter, goal, assist in zip(id_list, datetime_list, opteamname_list, quarter_list, goal_list, assist_list):\n",
    "    if goal != 'NULL' and assist != 'NULL': # 골, 어시 둘 다 존재하는 경우\n",
    "        sql = \"INSERT INTO records VALUES(\" + id + \",'\" + datetime + \"','\" + opteamname + \"',\" + quarter + \",'\" + goal + \"','\" + assist + \"')\"\n",
    "        print(sql)\n",
    "    elif goal != 'NULL' and assist == 'NULL': # 골만 존재하는 경우\n",
    "        sql = \"INSERT INTO records VALUES(\" + id + \",'\" + datetime + \"','\" + opteamname + \"',\" + quarter + \",'\" + goal + \"',\" + assist + \")\"\n",
    "        print(sql)\n",
    "    else: # 골, 어시 둘다 존재하지 않는 경우\n",
    "        sql = \"INSERT INTO records VALUES(\" + id + \",'\" + datetime + \"','\" + opteamname + \"',\" + quarter + \",\" + goal + \",\" + assist + \")\"\n",
    "        print(sql)\n",
    "    # cur.execute(sql) # sql문 실행"
   ]
  },
  {
   "cell_type": "markdown",
   "metadata": {},
   "source": [
    "#### 6쿼터\n",
    "    6Q) 1:1 무\n",
    "    삐 트"
   ]
  },
  {
   "cell_type": "code",
   "execution_count": 21,
   "metadata": {},
   "outputs": [
    {
     "name": "stdout",
     "output_type": "stream",
     "text": [
      "INSERT INTO records VALUES(11,'2024-09-06 22:15:00','아일랜드fc',6,'삐','트')\n",
      "INSERT INTO records VALUES(12,'2024-09-06 22:15:00','아일랜드fc',6,'상대',NULL)\n"
     ]
    }
   ],
   "source": [
    "goal_list = ['삐', '상대']\n",
    "assist_list = ['트', 'NULL']\n",
    "datetime_list = ['2024-09-06 22:15:00'] * len(goal_list)\n",
    "opteamname_list = ['아일랜드fc'] * len(goal_list)\n",
    "quarter_list = ['6'] * len(goal_list)\n",
    "id_list = [str(x) for x in range(id_num, id_num + len(goal_list))]\n",
    "id_num += len(goal_list)\n",
    "sql = ''\n",
    "for id, datetime, opteamname, quarter, goal, assist in zip(id_list, datetime_list, opteamname_list, quarter_list, goal_list, assist_list):\n",
    "    if goal != 'NULL' and assist != 'NULL': # 골, 어시 둘 다 존재하는 경우\n",
    "        sql = \"INSERT INTO records VALUES(\" + id + \",'\" + datetime + \"','\" + opteamname + \"',\" + quarter + \",'\" + goal + \"','\" + assist + \"')\"\n",
    "        print(sql)\n",
    "    elif goal != 'NULL' and assist == 'NULL': # 골만 존재하는 경우\n",
    "        sql = \"INSERT INTO records VALUES(\" + id + \",'\" + datetime + \"','\" + opteamname + \"',\" + quarter + \",'\" + goal + \"',\" + assist + \")\"\n",
    "        print(sql)\n",
    "    else: # 골, 어시 둘다 존재하지 않는 경우\n",
    "        sql = \"INSERT INTO records VALUES(\" + id + \",'\" + datetime + \"','\" + opteamname + \"',\" + quarter + \",\" + goal + \",\" + assist + \")\"\n",
    "        print(sql)\n",
    "    # cur.execute(sql) # sql문 실행"
   ]
  },
  {
   "cell_type": "markdown",
   "metadata": {},
   "source": [
    "#### 7쿼터\n",
    "    7Q) 0:0 무"
   ]
  },
  {
   "cell_type": "code",
   "execution_count": 22,
   "metadata": {},
   "outputs": [
    {
     "name": "stdout",
     "output_type": "stream",
     "text": [
      "INSERT INTO records VALUES(13,'2024-09-06 22:30:00','아일랜드fc',7,NULL,NULL)\n"
     ]
    }
   ],
   "source": [
    "goal_list = ['NULL']\n",
    "assist_list = ['NULL']\n",
    "datetime_list = ['2024-09-06 22:30:00'] * len(goal_list)\n",
    "opteamname_list = ['아일랜드fc'] * len(goal_list)\n",
    "quarter_list = ['7'] * len(goal_list)\n",
    "id_list = [str(x) for x in range(id_num, id_num + len(goal_list))]\n",
    "id_num += len(goal_list)\n",
    "sql = ''\n",
    "for id, datetime, opteamname, quarter, goal, assist in zip(id_list, datetime_list, opteamname_list, quarter_list, goal_list, assist_list):\n",
    "    if goal != 'NULL' and assist != 'NULL': # 골, 어시 둘 다 존재하는 경우\n",
    "        sql = \"INSERT INTO records VALUES(\" + id + \",'\" + datetime + \"','\" + opteamname + \"',\" + quarter + \",'\" + goal + \"','\" + assist + \"')\"\n",
    "        print(sql)\n",
    "    elif goal != 'NULL' and assist == 'NULL': # 골만 존재하는 경우\n",
    "        sql = \"INSERT INTO records VALUES(\" + id + \",'\" + datetime + \"','\" + opteamname + \"',\" + quarter + \",'\" + goal + \"',\" + assist + \")\"\n",
    "        print(sql)\n",
    "    else: # 골, 어시 둘다 존재하지 않는 경우\n",
    "        sql = \"INSERT INTO records VALUES(\" + id + \",'\" + datetime + \"','\" + opteamname + \"',\" + quarter + \",\" + goal + \",\" + assist + \")\"\n",
    "        print(sql)\n",
    "    # cur.execute(sql) # sql문 실행"
   ]
  },
  {
   "cell_type": "markdown",
   "metadata": {},
   "source": [
    "#### 8쿼터\n",
    "    8Q) 3:1 승\n",
    "    삐 범\n",
    "    삐 뀨\n",
    "    뀨 삐"
   ]
  },
  {
   "cell_type": "code",
   "execution_count": 186,
   "metadata": {},
   "outputs": [
    {
     "ename": "NameError",
     "evalue": "name 'id_num' is not defined",
     "output_type": "error",
     "traceback": [
      "\u001b[1;31m---------------------------------------------------------------------------\u001b[0m",
      "\u001b[1;31mNameError\u001b[0m                                 Traceback (most recent call last)",
      "Cell \u001b[1;32mIn[186], line 6\u001b[0m\n\u001b[0;32m      4\u001b[0m opteamname_list \u001b[38;5;241m=\u001b[39m [\u001b[38;5;124m'\u001b[39m\u001b[38;5;124m아일랜드fc\u001b[39m\u001b[38;5;124m'\u001b[39m] \u001b[38;5;241m*\u001b[39m \u001b[38;5;28mlen\u001b[39m(goal_list)\n\u001b[0;32m      5\u001b[0m quarter_list \u001b[38;5;241m=\u001b[39m [\u001b[38;5;124m'\u001b[39m\u001b[38;5;124m8\u001b[39m\u001b[38;5;124m'\u001b[39m] \u001b[38;5;241m*\u001b[39m \u001b[38;5;28mlen\u001b[39m(goal_list)\n\u001b[1;32m----> 6\u001b[0m id_list \u001b[38;5;241m=\u001b[39m [\u001b[38;5;28mstr\u001b[39m(x) \u001b[38;5;28;01mfor\u001b[39;00m x \u001b[38;5;129;01min\u001b[39;00m \u001b[38;5;28mrange\u001b[39m(\u001b[43mid_num\u001b[49m, id_num \u001b[38;5;241m+\u001b[39m \u001b[38;5;28mlen\u001b[39m(goal_list))]\n\u001b[0;32m      7\u001b[0m id_num \u001b[38;5;241m+\u001b[39m\u001b[38;5;241m=\u001b[39m \u001b[38;5;28mlen\u001b[39m(goal_list)\n\u001b[0;32m      8\u001b[0m sql \u001b[38;5;241m=\u001b[39m \u001b[38;5;124m'\u001b[39m\u001b[38;5;124m'\u001b[39m\n",
      "\u001b[1;31mNameError\u001b[0m: name 'id_num' is not defined"
     ]
    }
   ],
   "source": [
    "goal_list = ['삐', '삐', '뀨', '상대']\n",
    "assist_list = ['범', '뀨', '삐', 'NULL']\n",
    "datetime_list = ['2024-09-06 22:45:00'] * len(goal_list)\n",
    "opteamname_list = ['아일랜드fc'] * len(goal_list)\n",
    "quarter_list = ['8'] * len(goal_list)\n",
    "id_list = [str(x) for x in range(id_num, id_num + len(goal_list))]\n",
    "id_num += len(goal_list)\n",
    "sql = ''\n",
    "for id, datetime, opteamname, quarter, goal, assist in zip(id_list, datetime_list, opteamname_list, quarter_list, goal_list, assist_list):\n",
    "    if goal != 'NULL' and assist != 'NULL': # 골, 어시 둘 다 존재하는 경우\n",
    "        sql = \"INSERT INTO records VALUES(\" + id + \",'\" + datetime + \"','\" + opteamname + \"',\" + quarter + \",'\" + goal + \"','\" + assist + \"')\"\n",
    "        print(sql)\n",
    "    elif goal != 'NULL' and assist == 'NULL': # 골만 존재하는 경우\n",
    "        sql = \"INSERT INTO records VALUES(\" + id + \",'\" + datetime + \"','\" + opteamname + \"',\" + quarter + \",'\" + goal + \"',\" + assist + \")\"\n",
    "        print(sql)\n",
    "    else: # 골, 어시 둘다 존재하지 않는 경우\n",
    "        sql = \"INSERT INTO records VALUES(\" + id + \",'\" + datetime + \"','\" + opteamname + \"',\" + quarter + \",\" + goal + \",\" + assist + \")\"\n",
    "        print(sql)\n",
    "    # cur.execute(sql) # sql문 실행"
   ]
  },
  {
   "cell_type": "code",
   "execution_count": 24,
   "metadata": {},
   "outputs": [],
   "source": [
    "conn.commit() # 저장\n",
    "\n",
    "conn.close() # 종료"
   ]
  },
  {
   "cell_type": "markdown",
   "metadata": {},
   "source": [
    "## 텍스트를 데이터 기록으로 변환\n",
    "- 텍스트에서 필요한 정보\n",
    "    - 경기 날짜\n",
    "    - 쿼터\n",
    "    - 골 선수명\n",
    "    - 어시스트 선수명\n",
    "    - 상대 골 수\n",
    "- 그 외(텍스트 입력 활용)\n",
    "    - 상대 팀명"
   ]
  },
  {
   "cell_type": "code",
   "execution_count": 113,
   "metadata": {},
   "outputs": [],
   "source": [
    "# 샘플 텍스트\n",
    "record_text = '''8/23 금 용산 싼다 골도움\n",
    "참: 핵 삐 트 범 뀨 후 잡 뭉 _8명\n",
    "\n",
    "1Q) 3:2 승\n",
    "후 범\n",
    "핵 삐\n",
    "후 삐\n",
    "\n",
    "2Q) 2:2 무\n",
    "핵 뀨\n",
    "후 잡\n",
    "\n",
    "3Q) 1:0 승\n",
    "뭉 후\n",
    "\n",
    "4Q) 5:2 승\n",
    "삐 뭉\n",
    "삐 잡\n",
    "삐 트\n",
    "뭉 잡\n",
    "잡 삐\n",
    "\n",
    "5Q) 2:2 무\n",
    "핵 삐\n",
    "삐 핵\n",
    "\n",
    "6Q) 1:0 승\n",
    "뭉 후\n",
    "\n",
    "7Q) 1:3 패\n",
    "뭉 삐\n",
    "\n",
    "8Q) 5:0 승\n",
    "잡 핵\n",
    "잡 트\n",
    "잡 핵\n",
    "잡\n",
    "잡 뀨\n",
    "\n",
    "5승 2무 1패'''"
   ]
  },
  {
   "cell_type": "code",
   "execution_count": 114,
   "metadata": {},
   "outputs": [],
   "source": [
    "# 1. 전체 텍스트를 줄 바꿈 기준으로 분리\n",
    "# 2. 첫번째 원소는 날짜 정보 얻기\n",
    "# 3. 두번째 원소부터는 쿼터, 골, 어시스트, 상대 득점 정보 얻기"
   ]
  },
  {
   "cell_type": "code",
   "execution_count": 115,
   "metadata": {},
   "outputs": [
    {
     "data": {
      "text/plain": [
       "['8/23 금 용산 싼다 골도움\\n참: 핵 삐 트 범 뀨 후 잡 뭉 _8명',\n",
       " '1Q) 3:2 승\\n후 범\\n핵 삐\\n후 삐',\n",
       " '2Q) 2:2 무\\n핵 뀨\\n후 잡',\n",
       " '3Q) 1:0 승\\n뭉 후',\n",
       " '4Q) 5:2 승\\n삐 뭉\\n삐 잡\\n삐 트\\n뭉 잡\\n잡 삐',\n",
       " '5Q) 2:2 무\\n핵 삐\\n삐 핵',\n",
       " '6Q) 1:0 승\\n뭉 후',\n",
       " '7Q) 1:3 패\\n뭉 삐',\n",
       " '8Q) 5:0 승\\n잡 핵\\n잡 트\\n잡 핵\\n잡\\n잡 뀨',\n",
       " '5승 2무 1패']"
      ]
     },
     "execution_count": 115,
     "metadata": {},
     "output_type": "execute_result"
    }
   ],
   "source": [
    "section_list = record_text.split('\\n\\n')\n",
    "section_list"
   ]
  },
  {
   "cell_type": "code",
   "execution_count": 116,
   "metadata": {},
   "outputs": [
    {
     "data": {
      "text/plain": [
       "'8/23 금 용산 싼다 골도움\\n참: 핵 삐 트 범 뀨 후 잡 뭉 _8명'"
      ]
     },
     "execution_count": 116,
     "metadata": {},
     "output_type": "execute_result"
    }
   ],
   "source": [
    "date_section = section_list[0]\n",
    "date_section"
   ]
  },
  {
   "cell_type": "code",
   "execution_count": 117,
   "metadata": {},
   "outputs": [
    {
     "name": "stdout",
     "output_type": "stream",
     "text": [
      "8/23\n"
     ]
    }
   ],
   "source": [
    "date_p = re.compile('[0-9]{1,2}/[0-9]{1,2}')\n",
    "date_m = date_p.search(date_section)\n",
    "print(date_m.group())"
   ]
  },
  {
   "cell_type": "code",
   "execution_count": 118,
   "metadata": {},
   "outputs": [
    {
     "data": {
      "text/plain": [
       "(2024, 8, 23)"
      ]
     },
     "execution_count": 118,
     "metadata": {},
     "output_type": "execute_result"
    }
   ],
   "source": [
    "year = dt.today().year\n",
    "month = int(date_m.group().split('/')[0])\n",
    "day = int(date_m.group().split('/')[1])\n",
    "year, month, day"
   ]
  },
  {
   "cell_type": "code",
   "execution_count": 119,
   "metadata": {},
   "outputs": [
    {
     "data": {
      "text/plain": [
       "'2024-08-23 '"
      ]
     },
     "execution_count": 119,
     "metadata": {},
     "output_type": "execute_result"
    }
   ],
   "source": [
    "current_date = f'{year}-{month:0>2}-{day:0>2} '\n",
    "current_date"
   ]
  },
  {
   "cell_type": "code",
   "execution_count": 120,
   "metadata": {},
   "outputs": [
    {
     "data": {
      "text/plain": [
       "['1Q) 3:2 승\\n후 범\\n핵 삐\\n후 삐',\n",
       " '2Q) 2:2 무\\n핵 뀨\\n후 잡',\n",
       " '3Q) 1:0 승\\n뭉 후',\n",
       " '4Q) 5:2 승\\n삐 뭉\\n삐 잡\\n삐 트\\n뭉 잡\\n잡 삐',\n",
       " '5Q) 2:2 무\\n핵 삐\\n삐 핵',\n",
       " '6Q) 1:0 승\\n뭉 후',\n",
       " '7Q) 1:3 패\\n뭉 삐',\n",
       " '8Q) 5:0 승\\n잡 핵\\n잡 트\\n잡 핵\\n잡\\n잡 뀨']"
      ]
     },
     "execution_count": 120,
     "metadata": {},
     "output_type": "execute_result"
    }
   ],
   "source": [
    "record_section_list = section_list[1:-1]\n",
    "record_section_list"
   ]
  },
  {
   "cell_type": "code",
   "execution_count": 121,
   "metadata": {},
   "outputs": [
    {
     "data": {
      "text/plain": [
       "['1Q) 3:2 승', '후 범', '핵 삐', '후 삐']"
      ]
     },
     "execution_count": 121,
     "metadata": {},
     "output_type": "execute_result"
    }
   ],
   "source": [
    "sections = record_section_list[0].splitlines()\n",
    "sections"
   ]
  },
  {
   "cell_type": "code",
   "execution_count": 124,
   "metadata": {},
   "outputs": [
    {
     "data": {
      "text/plain": [
       "'1Q) 3:2 승'"
      ]
     },
     "execution_count": 124,
     "metadata": {},
     "output_type": "execute_result"
    }
   ],
   "source": [
    "sections[0]"
   ]
  },
  {
   "cell_type": "code",
   "execution_count": 125,
   "metadata": {},
   "outputs": [
    {
     "data": {
      "text/plain": [
       "'1'"
      ]
     },
     "execution_count": 125,
     "metadata": {},
     "output_type": "execute_result"
    }
   ],
   "source": [
    "sections[0].split('Q')[0]"
   ]
  },
  {
   "cell_type": "code",
   "execution_count": 126,
   "metadata": {},
   "outputs": [
    {
     "name": "stdout",
     "output_type": "stream",
     "text": [
      "3:2\n"
     ]
    },
    {
     "data": {
      "text/plain": [
       "5"
      ]
     },
     "execution_count": 126,
     "metadata": {},
     "output_type": "execute_result"
    }
   ],
   "source": [
    "p = re.compile('[0-9]:[0-9]')\n",
    "m = p.search(sections[0])\n",
    "print(m.group())\n",
    "our_goal = int(m.group().split(':')[0])\n",
    "op_goal = int(m.group().split(':')[1])\n",
    "quarter_record_line_num = our_goal + op_goal\n",
    "quarter_record_line_num"
   ]
  },
  {
   "cell_type": "code",
   "execution_count": 127,
   "metadata": {},
   "outputs": [
    {
     "data": {
      "text/plain": [
       "['1', '1', '1', '1', '1']"
      ]
     },
     "execution_count": 127,
     "metadata": {},
     "output_type": "execute_result"
    }
   ],
   "source": [
    "temp_quarter_list = []\n",
    "temp = sections[0].split('Q')[0]\n",
    "if quarter_record_line_num != 0:\n",
    "    temp_quarter_list = [temp]*quarter_record_line_num\n",
    "else:\n",
    "    temp_quarter_list = [temp]\n",
    "temp_quarter_list"
   ]
  },
  {
   "cell_type": "code",
   "execution_count": 128,
   "metadata": {},
   "outputs": [
    {
     "data": {
      "text/plain": [
       "['후 범', '핵 삐', '후 삐']"
      ]
     },
     "execution_count": 128,
     "metadata": {},
     "output_type": "execute_result"
    }
   ],
   "source": [
    "sections[1:]"
   ]
  },
  {
   "cell_type": "code",
   "execution_count": 129,
   "metadata": {},
   "outputs": [
    {
     "data": {
      "text/plain": [
       "'후 범'"
      ]
     },
     "execution_count": 129,
     "metadata": {},
     "output_type": "execute_result"
    }
   ],
   "source": [
    "sections[1]"
   ]
  },
  {
   "cell_type": "code",
   "execution_count": 130,
   "metadata": {},
   "outputs": [
    {
     "data": {
      "text/plain": [
       "['후', '범']"
      ]
     },
     "execution_count": 130,
     "metadata": {},
     "output_type": "execute_result"
    }
   ],
   "source": [
    "sections[1].split(' ')"
   ]
  },
  {
   "cell_type": "code",
   "execution_count": 131,
   "metadata": {},
   "outputs": [
    {
     "data": {
      "text/plain": [
       "['핵', '삐']"
      ]
     },
     "execution_count": 131,
     "metadata": {},
     "output_type": "execute_result"
    }
   ],
   "source": [
    "sections[2].split(' ')"
   ]
  },
  {
   "cell_type": "code",
   "execution_count": 133,
   "metadata": {},
   "outputs": [
    {
     "name": "stdout",
     "output_type": "stream",
     "text": [
      "[]\n",
      "[]\n"
     ]
    }
   ],
   "source": [
    "temp_goal_list, temp_assist_list = [], []\n",
    "print(temp_goal_list)\n",
    "print(temp_assist_list)"
   ]
  },
  {
   "cell_type": "code",
   "execution_count": 134,
   "metadata": {},
   "outputs": [
    {
     "name": "stdout",
     "output_type": "stream",
     "text": [
      "['후', '핵', '후', '상대', '상대']\n",
      "['범', '삐', '삐', 'NULL', 'NULL']\n"
     ]
    }
   ],
   "source": [
    "if len(sections) != 1:\n",
    "    for i, one in enumerate(sections[1:]):\n",
    "        goal_assist = one.split(' ')\n",
    "        if len(goal_assist) != 1:\n",
    "            temp_goal_list.append(goal_assist[0])\n",
    "            temp_assist_list.append(goal_assist[1])\n",
    "        else:\n",
    "            temp_goal_list.append(goal_assist[0])\n",
    "    if op_goal != 0:\n",
    "        temp_goal_list += ['상대'] * op_goal\n",
    "        temp_assist_list += ['NULL'] * op_goal\n",
    "else:\n",
    "    temp_goal_list, temp_assist_list = ['NULL'], ['NULL']\n",
    "print(temp_goal_list)\n",
    "print(temp_assist_list)"
   ]
  },
  {
   "cell_type": "code",
   "execution_count": 208,
   "metadata": {},
   "outputs": [
    {
     "name": "stdout",
     "output_type": "stream",
     "text": [
      "2024-09-09 22:00:00\n",
      "2024-09-09 22:00:00\n",
      "2024-09-09 22:15:00\n",
      "2024-09-09 22:30:00\n"
     ]
    }
   ],
   "source": [
    "temp = datetime.strptime('2024-09-09 22:00:00', \"%Y-%m-%d %H:%M:%S\")\n",
    "print(temp)\n",
    "time_delta = timedelta(minutes=15)\n",
    "for i in range(1, 4):\n",
    "    print(temp)\n",
    "    temp += time_delta"
   ]
  },
  {
   "cell_type": "code",
   "execution_count": 209,
   "metadata": {},
   "outputs": [
    {
     "data": {
      "text/plain": [
       "datetime.datetime"
      ]
     },
     "execution_count": 209,
     "metadata": {},
     "output_type": "execute_result"
    }
   ],
   "source": [
    "type(temp)"
   ]
  },
  {
   "cell_type": "code",
   "execution_count": 210,
   "metadata": {},
   "outputs": [
    {
     "data": {
      "text/plain": [
       "'2024-09-09 22:45:00'"
      ]
     },
     "execution_count": 210,
     "metadata": {},
     "output_type": "execute_result"
    }
   ],
   "source": [
    "str(temp)"
   ]
  },
  {
   "cell_type": "code",
   "execution_count": 211,
   "metadata": {},
   "outputs": [
    {
     "data": {
      "text/plain": [
       "str"
      ]
     },
     "execution_count": 211,
     "metadata": {},
     "output_type": "execute_result"
    }
   ],
   "source": [
    "type(str(temp))"
   ]
  },
  {
   "cell_type": "code",
   "execution_count": 143,
   "metadata": {},
   "outputs": [],
   "source": [
    "# 경기 기록 텍스트 입력\n",
    "# record_text = '''8/23 금 용산 싼다 골도움\n",
    "# 참: 핵 삐 트 범 뀨 후 잡 뭉 _8명\n",
    "\n",
    "# 1Q) 3:2 승\n",
    "# 후 범\n",
    "# 핵 삐\n",
    "# 후 삐\n",
    "\n",
    "# 2Q) 2:2 무\n",
    "# 핵 뀨\n",
    "# 후 잡\n",
    "\n",
    "# 3Q) 1:0 승\n",
    "# 뭉 후\n",
    "\n",
    "# 4Q) 5:2 승\n",
    "# 삐 뭉\n",
    "# 삐 잡\n",
    "# 삐 트\n",
    "# 뭉 잡\n",
    "# 잡 삐\n",
    "\n",
    "# 5Q) 2:2 무\n",
    "# 핵 삐\n",
    "# 삐 핵\n",
    "\n",
    "# 6Q) 1:0 승\n",
    "# 뭉 후\n",
    "\n",
    "# 7Q) 1:3 패\n",
    "# 뭉 삐\n",
    "\n",
    "# 8Q) 5:0 승\n",
    "# 잡 핵\n",
    "# 잡 트\n",
    "# 잡 핵\n",
    "# 잡\n",
    "# 잡 뀨\n",
    "\n",
    "# 5승 2무 1패'''"
   ]
  },
  {
   "cell_type": "code",
   "execution_count": null,
   "metadata": {},
   "outputs": [
    {
     "data": {
      "text/html": [
       "<div>\n",
       "<style scoped>\n",
       "    .dataframe tbody tr th:only-of-type {\n",
       "        vertical-align: middle;\n",
       "    }\n",
       "\n",
       "    .dataframe tbody tr th {\n",
       "        vertical-align: top;\n",
       "    }\n",
       "\n",
       "    .dataframe thead th {\n",
       "        text-align: right;\n",
       "    }\n",
       "</style>\n",
       "<table border=\"1\" class=\"dataframe\">\n",
       "  <thead>\n",
       "    <tr style=\"text-align: right;\">\n",
       "      <th></th>\n",
       "      <th>ID</th>\n",
       "      <th>datetime</th>\n",
       "      <th>quarter</th>\n",
       "      <th>goal</th>\n",
       "      <th>assist</th>\n",
       "      <th>opteamname</th>\n",
       "    </tr>\n",
       "  </thead>\n",
       "  <tbody>\n",
       "    <tr>\n",
       "      <th>0</th>\n",
       "      <td>1</td>\n",
       "      <td>2024-09-06 21:00:00</td>\n",
       "      <td>1</td>\n",
       "      <td>잡</td>\n",
       "      <td>트</td>\n",
       "      <td>아일랜드fc</td>\n",
       "    </tr>\n",
       "    <tr>\n",
       "      <th>1</th>\n",
       "      <td>2</td>\n",
       "      <td>2024-09-06 21:00:00</td>\n",
       "      <td>1</td>\n",
       "      <td>범</td>\n",
       "      <td>핵</td>\n",
       "      <td>아일랜드fc</td>\n",
       "    </tr>\n",
       "    <tr>\n",
       "      <th>2</th>\n",
       "      <td>3</td>\n",
       "      <td>2024-09-06 21:00:00</td>\n",
       "      <td>1</td>\n",
       "      <td>상대</td>\n",
       "      <td>NULL</td>\n",
       "      <td>아일랜드fc</td>\n",
       "    </tr>\n",
       "    <tr>\n",
       "      <th>3</th>\n",
       "      <td>4</td>\n",
       "      <td>2024-09-06 21:15:00</td>\n",
       "      <td>2</td>\n",
       "      <td>뭉</td>\n",
       "      <td>후</td>\n",
       "      <td>아일랜드fc</td>\n",
       "    </tr>\n",
       "    <tr>\n",
       "      <th>4</th>\n",
       "      <td>5</td>\n",
       "      <td>2024-09-06 21:15:00</td>\n",
       "      <td>2</td>\n",
       "      <td>후</td>\n",
       "      <td>뭉</td>\n",
       "      <td>아일랜드fc</td>\n",
       "    </tr>\n",
       "    <tr>\n",
       "      <th>5</th>\n",
       "      <td>6</td>\n",
       "      <td>2024-09-06 21:15:00</td>\n",
       "      <td>2</td>\n",
       "      <td>뭉</td>\n",
       "      <td>NULL</td>\n",
       "      <td>아일랜드fc</td>\n",
       "    </tr>\n",
       "    <tr>\n",
       "      <th>6</th>\n",
       "      <td>7</td>\n",
       "      <td>2024-09-06 21:30:00</td>\n",
       "      <td>3</td>\n",
       "      <td>NULL</td>\n",
       "      <td>NULL</td>\n",
       "      <td>아일랜드fc</td>\n",
       "    </tr>\n",
       "    <tr>\n",
       "      <th>7</th>\n",
       "      <td>8</td>\n",
       "      <td>2024-09-06 21:45:00</td>\n",
       "      <td>4</td>\n",
       "      <td>뀨</td>\n",
       "      <td>잡</td>\n",
       "      <td>아일랜드fc</td>\n",
       "    </tr>\n",
       "    <tr>\n",
       "      <th>8</th>\n",
       "      <td>9</td>\n",
       "      <td>2024-09-06 21:45:00</td>\n",
       "      <td>4</td>\n",
       "      <td>상대</td>\n",
       "      <td>NULL</td>\n",
       "      <td>아일랜드fc</td>\n",
       "    </tr>\n",
       "    <tr>\n",
       "      <th>9</th>\n",
       "      <td>10</td>\n",
       "      <td>2024-09-06 22:00:00</td>\n",
       "      <td>5</td>\n",
       "      <td>후</td>\n",
       "      <td>뭉</td>\n",
       "      <td>아일랜드fc</td>\n",
       "    </tr>\n",
       "    <tr>\n",
       "      <th>10</th>\n",
       "      <td>11</td>\n",
       "      <td>2024-09-06 22:15:00</td>\n",
       "      <td>6</td>\n",
       "      <td>삐</td>\n",
       "      <td>트</td>\n",
       "      <td>아일랜드fc</td>\n",
       "    </tr>\n",
       "    <tr>\n",
       "      <th>11</th>\n",
       "      <td>12</td>\n",
       "      <td>2024-09-06 22:15:00</td>\n",
       "      <td>6</td>\n",
       "      <td>상대</td>\n",
       "      <td>NULL</td>\n",
       "      <td>아일랜드fc</td>\n",
       "    </tr>\n",
       "    <tr>\n",
       "      <th>12</th>\n",
       "      <td>13</td>\n",
       "      <td>2024-09-06 22:30:00</td>\n",
       "      <td>7</td>\n",
       "      <td>NULL</td>\n",
       "      <td>NULL</td>\n",
       "      <td>아일랜드fc</td>\n",
       "    </tr>\n",
       "    <tr>\n",
       "      <th>13</th>\n",
       "      <td>14</td>\n",
       "      <td>2024-09-06 22:45:00</td>\n",
       "      <td>8</td>\n",
       "      <td>삐</td>\n",
       "      <td>범</td>\n",
       "      <td>아일랜드fc</td>\n",
       "    </tr>\n",
       "    <tr>\n",
       "      <th>14</th>\n",
       "      <td>15</td>\n",
       "      <td>2024-09-06 22:45:00</td>\n",
       "      <td>8</td>\n",
       "      <td>삐</td>\n",
       "      <td>뀨</td>\n",
       "      <td>아일랜드fc</td>\n",
       "    </tr>\n",
       "    <tr>\n",
       "      <th>15</th>\n",
       "      <td>16</td>\n",
       "      <td>2024-09-06 22:45:00</td>\n",
       "      <td>8</td>\n",
       "      <td>뀨</td>\n",
       "      <td>삐</td>\n",
       "      <td>아일랜드fc</td>\n",
       "    </tr>\n",
       "    <tr>\n",
       "      <th>16</th>\n",
       "      <td>17</td>\n",
       "      <td>2024-09-06 22:45:00</td>\n",
       "      <td>8</td>\n",
       "      <td>상대</td>\n",
       "      <td>NULL</td>\n",
       "      <td>아일랜드fc</td>\n",
       "    </tr>\n",
       "  </tbody>\n",
       "</table>\n",
       "</div>"
      ],
      "text/plain": [
       "    ID            datetime quarter  goal assist opteamname\n",
       "0    1 2024-09-06 21:00:00       1     잡      트     아일랜드fc\n",
       "1    2 2024-09-06 21:00:00       1     범      핵     아일랜드fc\n",
       "2    3 2024-09-06 21:00:00       1    상대   NULL     아일랜드fc\n",
       "3    4 2024-09-06 21:15:00       2     뭉      후     아일랜드fc\n",
       "4    5 2024-09-06 21:15:00       2     후      뭉     아일랜드fc\n",
       "5    6 2024-09-06 21:15:00       2     뭉   NULL     아일랜드fc\n",
       "6    7 2024-09-06 21:30:00       3  NULL   NULL     아일랜드fc\n",
       "7    8 2024-09-06 21:45:00       4     뀨      잡     아일랜드fc\n",
       "8    9 2024-09-06 21:45:00       4    상대   NULL     아일랜드fc\n",
       "9   10 2024-09-06 22:00:00       5     후      뭉     아일랜드fc\n",
       "10  11 2024-09-06 22:15:00       6     삐      트     아일랜드fc\n",
       "11  12 2024-09-06 22:15:00       6    상대   NULL     아일랜드fc\n",
       "12  13 2024-09-06 22:30:00       7  NULL   NULL     아일랜드fc\n",
       "13  14 2024-09-06 22:45:00       8     삐      범     아일랜드fc\n",
       "14  15 2024-09-06 22:45:00       8     삐      뀨     아일랜드fc\n",
       "15  16 2024-09-06 22:45:00       8     뀨      삐     아일랜드fc\n",
       "16  17 2024-09-06 22:45:00       8    상대   NULL     아일랜드fc"
      ]
     },
     "metadata": {},
     "output_type": "display_data"
    }
   ],
   "source": [
    "df = pd.DataFrame({'ID':id_list, 'datetime':datetime_list, 'quarter':quarter_list, 'goal':goal_list, 'assist':assist_list, 'opteamname':opteamname_list})\n",
    "df"
   ]
  },
  {
   "cell_type": "markdown",
   "metadata": {},
   "source": [
    "# 경기 기록"
   ]
  },
  {
   "cell_type": "markdown",
   "metadata": {},
   "source": [
    "## 2024-08-23 경기"
   ]
  },
  {
   "cell_type": "code",
   "execution_count": null,
   "metadata": {},
   "outputs": [],
   "source": [
    "# fc intentar\n",
    "# 22시\n",
    "\n",
    "# 8/23 금 용산 싼다 골도움\n",
    "# 참: 핵 삐 트 범 뀨 후 잡 뭉 _8명\n",
    "\n",
    "# 1Q) 3:2 승\n",
    "# 후 범\n",
    "# 핵 삐\n",
    "# 후 삐\n",
    "\n",
    "# 2Q) 2:2 무\n",
    "# 핵 뀨\n",
    "# 후 잡\n",
    "\n",
    "# 3Q) 1:0 승\n",
    "# 뭉 후\n",
    "\n",
    "# 4Q) 5:2 승\n",
    "# 삐 뭉\n",
    "# 삐 잡\n",
    "# 삐 트\n",
    "# 뭉 잡\n",
    "# 잡 삐\n",
    "\n",
    "# 5Q) 2:2 무\n",
    "# 핵 삐\n",
    "# 삐 핵\n",
    "\n",
    "# 6Q) 1:0 승\n",
    "# 뭉 후\n",
    "\n",
    "# 7Q) 1:3 패\n",
    "# 뭉 삐\n",
    "\n",
    "# 8Q) 5:0 승\n",
    "# 잡 핵\n",
    "# 잡 트\n",
    "# 잡 핵\n",
    "# 잡\n",
    "# 잡 뀨\n",
    "\n",
    "# 5승 2무 1패"
   ]
  },
  {
   "cell_type": "markdown",
   "metadata": {},
   "source": [
    "## 2024-09-06 경기"
   ]
  },
  {
   "cell_type": "code",
   "execution_count": null,
   "metadata": {},
   "outputs": [],
   "source": [
    "# 아일랜드fc\n",
    "# 21시\n",
    "\n",
    "# 9/6 금 용산 싼다 골도움\n",
    "# 참: 핵 트 잡 뭉 범 뀨 쫑 삐 후 _9명\n",
    "\n",
    "# 1Q) 2:1 승\n",
    "# 잡 트\n",
    "# 범 핵\n",
    "\n",
    "# 2Q) 3:0 승\n",
    "# 뭉 후\n",
    "# 후 뭉\n",
    "# 뭉\n",
    "\n",
    "# 3Q) 0:0 무\n",
    "\n",
    "# 4Q) 1:1 무\n",
    "# 뀨 잡\n",
    "\n",
    "# 5Q) 1:0 승\n",
    "# 후 뭉\n",
    "\n",
    "# 6Q) 1:1 무\n",
    "# 삐 트\n",
    "\n",
    "# 7Q) 0:0 무\n",
    "\n",
    "# 8Q) 3:1 승\n",
    "# 삐 범\n",
    "# 삐 뀨\n",
    "# 뀨 삐\n",
    "\n",
    "# 4승 4무"
   ]
  },
  {
   "cell_type": "markdown",
   "metadata": {},
   "source": [
    "# End"
   ]
  }
 ],
 "metadata": {
  "interpreter": {
   "hash": "63149060225dd077b7e45e81f7e1a1f78e793523f7c6bdaf87120e7b4d917c8d"
  },
  "kernelspec": {
   "display_name": "Python 3.12.5 ('futsaldb')",
   "language": "python",
   "name": "python3"
  },
  "language_info": {
   "codemirror_mode": {
    "name": "ipython",
    "version": 3
   },
   "file_extension": ".py",
   "mimetype": "text/x-python",
   "name": "python",
   "nbconvert_exporter": "python",
   "pygments_lexer": "ipython3",
   "version": "3.12.5"
  },
  "orig_nbformat": 4
 },
 "nbformat": 4,
 "nbformat_minor": 2
}
