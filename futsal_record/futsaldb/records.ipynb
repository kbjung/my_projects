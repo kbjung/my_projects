{
 "cells": [
  {
   "cell_type": "markdown",
   "metadata": {},
   "source": [
    "# Library"
   ]
  },
  {
   "cell_type": "code",
   "execution_count": 2,
   "metadata": {},
   "outputs": [],
   "source": [
    "import pymysql"
   ]
  },
  {
   "cell_type": "markdown",
   "metadata": {},
   "source": [
    "## DB 접속"
   ]
  },
  {
   "cell_type": "code",
   "execution_count": 31,
   "metadata": {},
   "outputs": [],
   "source": [
    "# 전역변수 선언부\n",
    "conn = None\n",
    "cur = None\n",
    "\n",
    "# 메인 코드\n",
    "password = input('비밀번호를 입력하세요')\n",
    "conn = pymysql.connect(host = 'localhost', port=3306, user='root', password=password, db='futsaldata', charset='utf8')\n",
    "cur = conn.cursor() # 커서생성"
   ]
  },
  {
   "cell_type": "code",
   "execution_count": 5,
   "metadata": {},
   "outputs": [],
   "source": [
    "# sql = 'CREATE TABLE IF NOT EXISTS userTable (id char(4), userName char(10), email char(15), birthYear int)' # 테스트 테이블 생성\n",
    "# cur.execute(sql) # sql문 실행\n",
    "\n",
    "# conn.commit() # 저장\n",
    "\n",
    "# conn.close() # 종료"
   ]
  },
  {
   "cell_type": "markdown",
   "metadata": {},
   "source": []
  },
  {
   "cell_type": "markdown",
   "metadata": {},
   "source": [
    "## test_records 테이블 생성"
   ]
  },
  {
   "cell_type": "code",
   "execution_count": 10,
   "metadata": {},
   "outputs": [],
   "source": [
    "# sql = \"CREATE TABLE test_records (ID int(11) DEFAULT NULL, DATE datetime DEFAULT NULL, OPTEAMNAME varchar(100) DEFAULT NULL, QUARTER tinyint(4) DEFAULT NULL, GOAL varchar(3) DEFAULT NULL, ASSIST varchar(3) DEFAULT NULL)\" # test_records 테이블 생성\n",
    "# cur.execute(sql) # sql문 실행\n",
    "\n",
    "# conn.commit() # 저장\n",
    "\n",
    "# conn.close() # 종료"
   ]
  },
  {
   "cell_type": "markdown",
   "metadata": {},
   "source": [
    "## test_records 테이블에 데이터 입력"
   ]
  },
  {
   "cell_type": "markdown",
   "metadata": {},
   "source": [
    "### 2024-08-23 경기\n",
    "    8/23 금 용산 싼다 골도움\n",
    "    참: 핵 삐 트 범 뀨 후 잡 뭉 _8명\n",
    "\n",
    "    1Q) 3:2 승\n",
    "    후 범\n",
    "    핵 삐\n",
    "    후 삐\n",
    "\n",
    "    2Q) 2:2 무\n",
    "    핵 뀨\n",
    "    후 잡\n",
    "\n",
    "    3Q) 1:0 승\n",
    "    뭉 후\n",
    "\n",
    "    4Q) 5:2 승\n",
    "    삐 뭉\n",
    "    삐 잡\n",
    "    삐 트\n",
    "    뭉 잡\n",
    "    잡 삐\n",
    "\n",
    "    5Q) 2:2 무\n",
    "    핵 삐\n",
    "    삐 핵\n",
    "\n",
    "    6Q) 1:0 승\n",
    "    뭉 후\n",
    "\n",
    "    7Q) 1:3 패\n",
    "    뭉 삐\n",
    "\n",
    "    8Q) 5:0 승\n",
    "    잡 핵\n",
    "    잡 트\n",
    "    잡 핵\n",
    "    잡\n",
    "    잡 뀨\n",
    "\n",
    "    5승 2무 1패"
   ]
  },
  {
   "cell_type": "markdown",
   "metadata": {},
   "source": [
    "#### 1쿼터\n",
    "    1Q) 3:2 승\n",
    "    후 범\n",
    "    핵 삐\n",
    "    후 삐"
   ]
  },
  {
   "cell_type": "code",
   "execution_count": 33,
   "metadata": {},
   "outputs": [
    {
     "data": {
      "text/plain": [
       "6"
      ]
     },
     "execution_count": 33,
     "metadata": {},
     "output_type": "execute_result"
    }
   ],
   "source": [
    "goal_list = ['후', '핵', '후', '상대', '상대']\n",
    "assist_list = ['범', '삐', '삐', 'NULL', 'NULL']\n",
    "datetime_list = ['2024-08-23 22:00:00'] * len(goal_list)\n",
    "opteamname_list = ['fc intentar'] * len(goal_list)\n",
    "quarter_list = ['1'] * len(goal_list)\n",
    "id_num = 1\n",
    "id_list = [str(x) for x in range(id_num, id_num + len(goal_list))]\n",
    "id_num += len(goal_list)\n",
    "id_num"
   ]
  },
  {
   "cell_type": "code",
   "execution_count": 30,
   "metadata": {},
   "outputs": [
    {
     "name": "stdout",
     "output_type": "stream",
     "text": [
      "INSERT INTO test_records VALUES(1,'2024-08-23 22:00:00','fc intentar',1,'후','범')\n",
      "INSERT INTO test_records VALUES(2,'2024-08-23 22:00:00','fc intentar',1,'핵','삐')\n",
      "INSERT INTO test_records VALUES(3,'2024-08-23 22:00:00','fc intentar',1,'후','삐')\n",
      "INSERT INTO test_records VALUES(4,'2024-08-23 22:00:00','fc intentar',1,'상대',NULL)\n",
      "INSERT INTO test_records VALUES(5,'2024-08-23 22:00:00','fc intentar',1,'상대',NULL)\n"
     ]
    }
   ],
   "source": [
    "sql = ''\n",
    "for id, datetime, opteamname, quarter, goal, assist in zip(id_list, datetime_list, opteamname_list, quarter_list, goal_list, assist_list):\n",
    "    if assist != 'NULL':\n",
    "        sql = \"INSERT INTO test_records VALUES(\" + id + \",'\" + datetime + \"','\" + opteamname + \"',\" + quarter + \",'\" + goal + \"','\" + assist + \"')\"\n",
    "        print(sql)\n",
    "    else:\n",
    "        sql = \"INSERT INTO test_records VALUES(\" + id + \",'\" + datetime + \"','\" + opteamname + \"',\" + quarter + \",'\" + goal + \"',\" + assist + \")\"\n",
    "        print(sql)\n",
    "    cur.execute(sql) # sql문 실행"
   ]
  },
  {
   "cell_type": "markdown",
   "metadata": {},
   "source": [
    "#### 2쿼터\n",
    "    2Q) 2:2 무\n",
    "    핵 뀨\n",
    "    후 잡"
   ]
  },
  {
   "cell_type": "code",
   "execution_count": 34,
   "metadata": {},
   "outputs": [
    {
     "data": {
      "text/plain": [
       "10"
      ]
     },
     "execution_count": 34,
     "metadata": {},
     "output_type": "execute_result"
    }
   ],
   "source": [
    "goal_list = ['핵', '후', '상대', '상대']\n",
    "assist_list = ['뀨', '잡', 'NULL', 'NULL']\n",
    "datetime_list = ['2024-08-23 22:15:00'] * len(goal_list)\n",
    "opteamname_list = ['fc intentar'] * len(goal_list)\n",
    "quarter_list = ['2'] * len(goal_list)\n",
    "id_list = [str(x) for x in range(id_num, id_num + len(goal_list))]\n",
    "id_num += len(goal_list)\n",
    "id_num"
   ]
  },
  {
   "cell_type": "code",
   "execution_count": 35,
   "metadata": {},
   "outputs": [
    {
     "name": "stdout",
     "output_type": "stream",
     "text": [
      "INSERT INTO test_records VALUES(6,'2024-08-23 22:15:00','fc intentar',2,'핵','뀨')\n",
      "INSERT INTO test_records VALUES(7,'2024-08-23 22:15:00','fc intentar',2,'후','잡')\n",
      "INSERT INTO test_records VALUES(8,'2024-08-23 22:15:00','fc intentar',2,'상대',NULL)\n",
      "INSERT INTO test_records VALUES(9,'2024-08-23 22:15:00','fc intentar',2,'상대',NULL)\n"
     ]
    }
   ],
   "source": [
    "sql = ''\n",
    "for id, datetime, opteamname, quarter, goal, assist in zip(id_list, datetime_list, opteamname_list, quarter_list, goal_list, assist_list):\n",
    "    if assist != 'NULL':\n",
    "        sql = \"INSERT INTO test_records VALUES(\" + id + \",'\" + datetime + \"','\" + opteamname + \"',\" + quarter + \",'\" + goal + \"','\" + assist + \"')\"\n",
    "        print(sql)\n",
    "    else:\n",
    "        sql = \"INSERT INTO test_records VALUES(\" + id + \",'\" + datetime + \"','\" + opteamname + \"',\" + quarter + \",'\" + goal + \"',\" + assist + \")\"\n",
    "        print(sql)\n",
    "    cur.execute(sql) # sql문 실행"
   ]
  },
  {
   "cell_type": "markdown",
   "metadata": {},
   "source": [
    "#### 3쿼터\n",
    "    3Q) 1:0 승\n",
    "    뭉 후"
   ]
  },
  {
   "cell_type": "code",
   "execution_count": 36,
   "metadata": {},
   "outputs": [
    {
     "data": {
      "text/plain": [
       "11"
      ]
     },
     "execution_count": 36,
     "metadata": {},
     "output_type": "execute_result"
    }
   ],
   "source": [
    "goal_list = ['뭉']\n",
    "assist_list = ['후']\n",
    "datetime_list = ['2024-08-23 22:30:00'] * len(goal_list)\n",
    "opteamname_list = ['fc intentar'] * len(goal_list)\n",
    "quarter_list = ['3'] * len(goal_list)\n",
    "id_list = [str(x) for x in range(id_num, id_num + len(goal_list))]\n",
    "id_num += len(goal_list)\n",
    "id_num"
   ]
  },
  {
   "cell_type": "code",
   "execution_count": 37,
   "metadata": {},
   "outputs": [
    {
     "name": "stdout",
     "output_type": "stream",
     "text": [
      "INSERT INTO test_records VALUES(10,'2024-08-23 22:30:00','fc intentar',3,'뭉','후')\n"
     ]
    }
   ],
   "source": [
    "sql = ''\n",
    "for id, datetime, opteamname, quarter, goal, assist in zip(id_list, datetime_list, opteamname_list, quarter_list, goal_list, assist_list):\n",
    "    if assist != 'NULL':\n",
    "        sql = \"INSERT INTO test_records VALUES(\" + id + \",'\" + datetime + \"','\" + opteamname + \"',\" + quarter + \",'\" + goal + \"','\" + assist + \"')\"\n",
    "        print(sql)\n",
    "    else:\n",
    "        sql = \"INSERT INTO test_records VALUES(\" + id + \",'\" + datetime + \"','\" + opteamname + \"',\" + quarter + \",'\" + goal + \"',\" + assist + \")\"\n",
    "        print(sql)\n",
    "    cur.execute(sql) # sql문 실행"
   ]
  },
  {
   "cell_type": "markdown",
   "metadata": {},
   "source": [
    "#### 4쿼터\n",
    "    4Q) 5:2 승\n",
    "    삐 뭉\n",
    "    삐 잡\n",
    "    삐 트\n",
    "    뭉 잡\n",
    "    잡 삐"
   ]
  },
  {
   "cell_type": "code",
   "execution_count": 38,
   "metadata": {},
   "outputs": [
    {
     "data": {
      "text/plain": [
       "18"
      ]
     },
     "execution_count": 38,
     "metadata": {},
     "output_type": "execute_result"
    }
   ],
   "source": [
    "goal_list = ['삐', '삐', '삐', '뭉', '잡', '상대', '상대']\n",
    "assist_list = ['뭉', '잡', '트', '잡', '삐', 'NULL', 'NULL']\n",
    "datetime_list = ['2024-08-23 22:45:00'] * len(goal_list)\n",
    "opteamname_list = ['fc intentar'] * len(goal_list)\n",
    "quarter_list = ['4'] * len(goal_list)\n",
    "id_list = [str(x) for x in range(id_num, id_num + len(goal_list))]\n",
    "id_num += len(goal_list)\n",
    "id_num"
   ]
  },
  {
   "cell_type": "code",
   "execution_count": 39,
   "metadata": {},
   "outputs": [
    {
     "name": "stdout",
     "output_type": "stream",
     "text": [
      "INSERT INTO test_records VALUES(11,'2024-08-23 22:45:00','fc intentar',4,'삐','뭉')\n",
      "INSERT INTO test_records VALUES(12,'2024-08-23 22:45:00','fc intentar',4,'삐','잡')\n",
      "INSERT INTO test_records VALUES(13,'2024-08-23 22:45:00','fc intentar',4,'삐','트')\n",
      "INSERT INTO test_records VALUES(14,'2024-08-23 22:45:00','fc intentar',4,'뭉','잡')\n",
      "INSERT INTO test_records VALUES(15,'2024-08-23 22:45:00','fc intentar',4,'잡','삐')\n",
      "INSERT INTO test_records VALUES(16,'2024-08-23 22:45:00','fc intentar',4,'상대',NULL)\n",
      "INSERT INTO test_records VALUES(17,'2024-08-23 22:45:00','fc intentar',4,'상대',NULL)\n"
     ]
    }
   ],
   "source": [
    "sql = ''\n",
    "for id, datetime, opteamname, quarter, goal, assist in zip(id_list, datetime_list, opteamname_list, quarter_list, goal_list, assist_list):\n",
    "    if assist != 'NULL':\n",
    "        sql = \"INSERT INTO test_records VALUES(\" + id + \",'\" + datetime + \"','\" + opteamname + \"',\" + quarter + \",'\" + goal + \"','\" + assist + \"')\"\n",
    "        print(sql)\n",
    "    else:\n",
    "        sql = \"INSERT INTO test_records VALUES(\" + id + \",'\" + datetime + \"','\" + opteamname + \"',\" + quarter + \",'\" + goal + \"',\" + assist + \")\"\n",
    "        print(sql)\n",
    "    cur.execute(sql) # sql문 실행"
   ]
  },
  {
   "cell_type": "markdown",
   "metadata": {},
   "source": [
    "#### 5쿼터\n",
    "    5Q) 2:2 무\n",
    "    핵 삐\n",
    "    삐 핵"
   ]
  },
  {
   "cell_type": "code",
   "execution_count": 40,
   "metadata": {},
   "outputs": [
    {
     "data": {
      "text/plain": [
       "22"
      ]
     },
     "execution_count": 40,
     "metadata": {},
     "output_type": "execute_result"
    }
   ],
   "source": [
    "goal_list = ['핵', '삐', '상대', '상대']\n",
    "assist_list = ['삐', '핵', 'NULL', 'NULL']\n",
    "datetime_list = ['2024-08-23 23:00:00'] * len(goal_list)\n",
    "opteamname_list = ['fc intentar'] * len(goal_list)\n",
    "quarter_list = ['5'] * len(goal_list)\n",
    "id_list = [str(x) for x in range(id_num, id_num + len(goal_list))]\n",
    "id_num += len(goal_list)\n",
    "id_num"
   ]
  },
  {
   "cell_type": "code",
   "execution_count": 41,
   "metadata": {},
   "outputs": [
    {
     "name": "stdout",
     "output_type": "stream",
     "text": [
      "INSERT INTO test_records VALUES(18,'2024-08-23 23:00:00','fc intentar',5,'핵','삐')\n",
      "INSERT INTO test_records VALUES(19,'2024-08-23 23:00:00','fc intentar',5,'삐','핵')\n",
      "INSERT INTO test_records VALUES(20,'2024-08-23 23:00:00','fc intentar',5,'상대',NULL)\n",
      "INSERT INTO test_records VALUES(21,'2024-08-23 23:00:00','fc intentar',5,'상대',NULL)\n"
     ]
    }
   ],
   "source": [
    "sql = ''\n",
    "for id, datetime, opteamname, quarter, goal, assist in zip(id_list, datetime_list, opteamname_list, quarter_list, goal_list, assist_list):\n",
    "    if assist != 'NULL':\n",
    "        sql = \"INSERT INTO test_records VALUES(\" + id + \",'\" + datetime + \"','\" + opteamname + \"',\" + quarter + \",'\" + goal + \"','\" + assist + \"')\"\n",
    "        print(sql)\n",
    "    else:\n",
    "        sql = \"INSERT INTO test_records VALUES(\" + id + \",'\" + datetime + \"','\" + opteamname + \"',\" + quarter + \",'\" + goal + \"',\" + assist + \")\"\n",
    "        print(sql)\n",
    "    cur.execute(sql) # sql문 실행"
   ]
  },
  {
   "cell_type": "markdown",
   "metadata": {},
   "source": [
    "#### 6쿼터\n",
    "    6Q) 1:0 승\n",
    "    뭉 후"
   ]
  },
  {
   "cell_type": "code",
   "execution_count": 42,
   "metadata": {},
   "outputs": [
    {
     "data": {
      "text/plain": [
       "23"
      ]
     },
     "execution_count": 42,
     "metadata": {},
     "output_type": "execute_result"
    }
   ],
   "source": [
    "goal_list = ['뭉']\n",
    "assist_list = ['후']\n",
    "datetime_list = ['2024-08-23 23:15:00'] * len(goal_list)\n",
    "opteamname_list = ['fc intentar'] * len(goal_list)\n",
    "quarter_list = ['6'] * len(goal_list)\n",
    "id_list = [str(x) for x in range(id_num, id_num + len(goal_list))]\n",
    "id_num += len(goal_list)\n",
    "id_num"
   ]
  },
  {
   "cell_type": "code",
   "execution_count": 43,
   "metadata": {},
   "outputs": [
    {
     "name": "stdout",
     "output_type": "stream",
     "text": [
      "INSERT INTO test_records VALUES(22,'2024-08-23 23:15:00','fc intentar',6,'뭉','후')\n"
     ]
    }
   ],
   "source": [
    "sql = ''\n",
    "for id, datetime, opteamname, quarter, goal, assist in zip(id_list, datetime_list, opteamname_list, quarter_list, goal_list, assist_list):\n",
    "    if assist != 'NULL':\n",
    "        sql = \"INSERT INTO test_records VALUES(\" + id + \",'\" + datetime + \"','\" + opteamname + \"',\" + quarter + \",'\" + goal + \"','\" + assist + \"')\"\n",
    "        print(sql)\n",
    "    else:\n",
    "        sql = \"INSERT INTO test_records VALUES(\" + id + \",'\" + datetime + \"','\" + opteamname + \"',\" + quarter + \",'\" + goal + \"',\" + assist + \")\"\n",
    "        print(sql)\n",
    "    cur.execute(sql) # sql문 실행"
   ]
  },
  {
   "cell_type": "markdown",
   "metadata": {},
   "source": [
    "#### 7쿼터\n",
    "    7Q) 1:3 패\n",
    "    뭉 삐"
   ]
  },
  {
   "cell_type": "code",
   "execution_count": 44,
   "metadata": {},
   "outputs": [
    {
     "data": {
      "text/plain": [
       "27"
      ]
     },
     "execution_count": 44,
     "metadata": {},
     "output_type": "execute_result"
    }
   ],
   "source": [
    "goal_list = ['뭉', '상대', '상대', '상대']\n",
    "assist_list = ['삐', 'NULL', 'NULL', 'NULL']\n",
    "datetime_list = ['2024-08-23 23:30:00'] * len(goal_list)\n",
    "opteamname_list = ['fc intentar'] * len(goal_list)\n",
    "quarter_list = ['7'] * len(goal_list)\n",
    "id_list = [str(x) for x in range(id_num, id_num + len(goal_list))]\n",
    "id_num += len(goal_list)\n",
    "id_num"
   ]
  },
  {
   "cell_type": "code",
   "execution_count": 45,
   "metadata": {},
   "outputs": [
    {
     "name": "stdout",
     "output_type": "stream",
     "text": [
      "INSERT INTO test_records VALUES(23,'2024-08-23 23:30:00','fc intentar',7,'뭉','삐')\n",
      "INSERT INTO test_records VALUES(24,'2024-08-23 23:30:00','fc intentar',7,'상대',NULL)\n",
      "INSERT INTO test_records VALUES(25,'2024-08-23 23:30:00','fc intentar',7,'상대',NULL)\n",
      "INSERT INTO test_records VALUES(26,'2024-08-23 23:30:00','fc intentar',7,'상대',NULL)\n"
     ]
    }
   ],
   "source": [
    "sql = ''\n",
    "for id, datetime, opteamname, quarter, goal, assist in zip(id_list, datetime_list, opteamname_list, quarter_list, goal_list, assist_list):\n",
    "    if assist != 'NULL':\n",
    "        sql = \"INSERT INTO test_records VALUES(\" + id + \",'\" + datetime + \"','\" + opteamname + \"',\" + quarter + \",'\" + goal + \"','\" + assist + \"')\"\n",
    "        print(sql)\n",
    "    else:\n",
    "        sql = \"INSERT INTO test_records VALUES(\" + id + \",'\" + datetime + \"','\" + opteamname + \"',\" + quarter + \",'\" + goal + \"',\" + assist + \")\"\n",
    "        print(sql)\n",
    "    cur.execute(sql) # sql문 실행"
   ]
  },
  {
   "cell_type": "markdown",
   "metadata": {},
   "source": [
    "#### 8쿼터\n",
    "    8Q) 5:0 승\n",
    "    잡 핵\n",
    "    잡 트\n",
    "    잡 핵\n",
    "    잡\n",
    "    잡 뀨"
   ]
  },
  {
   "cell_type": "code",
   "execution_count": 46,
   "metadata": {},
   "outputs": [
    {
     "data": {
      "text/plain": [
       "32"
      ]
     },
     "execution_count": 46,
     "metadata": {},
     "output_type": "execute_result"
    }
   ],
   "source": [
    "goal_list = ['후', '핵', '후', '상대', '상대']\n",
    "assist_list = ['범', '삐', '삐', 'NULL', 'NULL']\n",
    "datetime_list = ['2024-08-23 23:45:00'] * len(goal_list)\n",
    "opteamname_list = ['fc intentar'] * len(goal_list)\n",
    "quarter_list = ['8'] * len(goal_list)\n",
    "id_list = [str(x) for x in range(id_num, id_num + len(goal_list))]\n",
    "id_num += len(goal_list)\n",
    "id_num"
   ]
  },
  {
   "cell_type": "code",
   "execution_count": 47,
   "metadata": {},
   "outputs": [
    {
     "name": "stdout",
     "output_type": "stream",
     "text": [
      "INSERT INTO test_records VALUES(27,'2024-08-23 23:45:00','fc intentar',8,'후','범')\n",
      "INSERT INTO test_records VALUES(28,'2024-08-23 23:45:00','fc intentar',8,'핵','삐')\n",
      "INSERT INTO test_records VALUES(29,'2024-08-23 23:45:00','fc intentar',8,'후','삐')\n",
      "INSERT INTO test_records VALUES(30,'2024-08-23 23:45:00','fc intentar',8,'상대',NULL)\n",
      "INSERT INTO test_records VALUES(31,'2024-08-23 23:45:00','fc intentar',8,'상대',NULL)\n"
     ]
    }
   ],
   "source": [
    "sql = ''\n",
    "for id, datetime, opteamname, quarter, goal, assist in zip(id_list, datetime_list, opteamname_list, quarter_list, goal_list, assist_list):\n",
    "    if assist != 'NULL':\n",
    "        sql = \"INSERT INTO test_records VALUES(\" + id + \",'\" + datetime + \"','\" + opteamname + \"',\" + quarter + \",'\" + goal + \"','\" + assist + \"')\"\n",
    "        print(sql)\n",
    "    else:\n",
    "        sql = \"INSERT INTO test_records VALUES(\" + id + \",'\" + datetime + \"','\" + opteamname + \"',\" + quarter + \",'\" + goal + \"',\" + assist + \")\"\n",
    "        print(sql)\n",
    "    cur.execute(sql) # sql문 실행"
   ]
  },
  {
   "cell_type": "code",
   "execution_count": 48,
   "metadata": {},
   "outputs": [],
   "source": [
    "conn.commit() # 저장\n",
    "\n",
    "conn.close() # 종료"
   ]
  },
  {
   "cell_type": "markdown",
   "metadata": {},
   "source": [
    "# End"
   ]
  }
 ],
 "metadata": {
  "interpreter": {
   "hash": "25a19fbe0a9132dfb9279d48d161753c6352f8f9478c2e74383d340069b907c3"
  },
  "kernelspec": {
   "display_name": "Python ('futsaldb')",
   "language": "python",
   "name": "python3"
  },
  "language_info": {
   "codemirror_mode": {
    "name": "ipython",
    "version": 3
   },
   "file_extension": ".py",
   "mimetype": "text/x-python",
   "name": "python",
   "nbconvert_exporter": "python",
   "pygments_lexer": "ipython3",
   "version": ""
  },
  "orig_nbformat": 4
 },
 "nbformat": 4,
 "nbformat_minor": 2
}
