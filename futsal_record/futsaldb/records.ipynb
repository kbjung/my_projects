{
 "cells": [
  {
   "cell_type": "code",
   "execution_count": 2,
   "metadata": {},
   "outputs": [],
   "source": [
    "import pymysql"
   ]
  },
  {
   "cell_type": "code",
   "execution_count": 28,
   "metadata": {},
   "outputs": [],
   "source": [
    "# 전역변수 선언부\n",
    "conn = None\n",
    "cur = None\n",
    "\n",
    "sql = ''\n",
    "\n",
    "# 메인 코드\n",
    "password = input('비밀번호를 입력하세요')\n",
    "conn = pymysql.connect(host = 'localhost', port=3306, user='root', password=password, db='futsaldata', charset='utf8')\n",
    "cur = conn.cursor() # 커서생성"
   ]
  },
  {
   "cell_type": "code",
   "execution_count": 5,
   "metadata": {},
   "outputs": [],
   "source": [
    "sql = 'CREATE TABLE IF NOT EXISTS userTable (id char(4), userName char(10), email char(15), birthYear int)' # 테스트 테이블 생성\n",
    "cur.execute(sql) # sql문 실행\n",
    "\n",
    "conn.commit() # 저장\n",
    "\n",
    "conn.close() # 종료"
   ]
  },
  {
   "cell_type": "code",
   "execution_count": 10,
   "metadata": {},
   "outputs": [],
   "source": [
    "sql = \"CREATE TABLE test_records (ID int(11) DEFAULT NULL, DATE datetime DEFAULT NULL, OPTEAMNAME varchar(100) DEFAULT NULL, QUARTER tinyint(4) DEFAULT NULL, GOAL varchar(3) DEFAULT NULL, ASSIST varchar(3) DEFAULT NULL)\" # 테스트 테이블 생성\n",
    "cur.execute(sql) # sql문 실행\n",
    "\n",
    "conn.commit() # 저장\n",
    "\n",
    "conn.close() # 종료"
   ]
  },
  {
   "cell_type": "code",
   "execution_count": 29,
   "metadata": {},
   "outputs": [],
   "source": [
    "id_list = [str(x) for x in range(1, 6)]\n",
    "datetime_list = ['2024-08-23 22:00:00'] * len(id_list)\n",
    "opteamname_list = ['fc intentar'] * len(id_list)\n",
    "quarter_list = ['1'] * len(id_list)\n",
    "goal_list = ['후', '핵', '후', '상대', '상대']\n",
    "assist_list = ['범', '삐', '삐', 'NULL', 'NULL']"
   ]
  },
  {
   "cell_type": "code",
   "execution_count": 30,
   "metadata": {},
   "outputs": [
    {
     "name": "stdout",
     "output_type": "stream",
     "text": [
      "INSERT INTO test_records VALUES(1,'2024-08-23 22:00:00','fc intentar',1,'후','범')\n",
      "INSERT INTO test_records VALUES(2,'2024-08-23 22:00:00','fc intentar',1,'핵','삐')\n",
      "INSERT INTO test_records VALUES(3,'2024-08-23 22:00:00','fc intentar',1,'후','삐')\n",
      "INSERT INTO test_records VALUES(4,'2024-08-23 22:00:00','fc intentar',1,'상대',NULL)\n",
      "INSERT INTO test_records VALUES(5,'2024-08-23 22:00:00','fc intentar',1,'상대',NULL)\n"
     ]
    }
   ],
   "source": [
    "for id, datetime, opteamname, quarter, goal, assist in zip(id_list, datetime_list, opteamname_list, quarter_list, goal_list, assist_list):\n",
    "    if assist != 'NULL':\n",
    "        sql = \"INSERT INTO test_records VALUES(\" + id + \",'\" + datetime + \"','\" + opteamname + \"',\" + quarter + \",'\" + goal + \"','\" + assist + \"')\"\n",
    "        print(sql)\n",
    "    else:\n",
    "        sql = \"INSERT INTO test_records VALUES(\" + id + \",'\" + datetime + \"','\" + opteamname + \"',\" + quarter + \",'\" + goal + \"',\" + assist + \")\"\n",
    "        print(sql)\n",
    "    cur.execute(sql) # sql문 실행"
   ]
  },
  {
   "cell_type": "code",
   "execution_count": null,
   "metadata": {},
   "outputs": [],
   "source": [
    "conn.commit() # 저장\n",
    "\n",
    "conn.close() # 종료"
   ]
  },
  {
   "cell_type": "code",
   "execution_count": null,
   "metadata": {},
   "outputs": [],
   "source": []
  }
 ],
 "metadata": {
  "interpreter": {
   "hash": "25a19fbe0a9132dfb9279d48d161753c6352f8f9478c2e74383d340069b907c3"
  },
  "kernelspec": {
   "display_name": "Python ('futsaldb')",
   "language": "python",
   "name": "python3"
  },
  "language_info": {
   "codemirror_mode": {
    "name": "ipython",
    "version": 3
   },
   "file_extension": ".py",
   "mimetype": "text/x-python",
   "name": "python",
   "nbconvert_exporter": "python",
   "pygments_lexer": "ipython3",
   "version": "3.12.5"
  },
  "orig_nbformat": 4
 },
 "nbformat": 4,
 "nbformat_minor": 2
}
