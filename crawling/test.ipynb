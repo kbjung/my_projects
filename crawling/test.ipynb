{
 "cells": [
  {
   "cell_type": "markdown",
   "metadata": {},
   "source": [
    "# Library"
   ]
  },
  {
   "cell_type": "code",
   "execution_count": 115,
   "metadata": {},
   "outputs": [
    {
     "name": "stdout",
     "output_type": "stream",
     "text": [
      "Collecting pandas\n",
      "  Using cached pandas-2.2.3-cp313-cp313-win_amd64.whl.metadata (19 kB)\n",
      "Collecting numpy>=1.26.0 (from pandas)\n",
      "  Using cached numpy-2.1.3-cp313-cp313-win_amd64.whl.metadata (60 kB)\n",
      "Requirement already satisfied: python-dateutil>=2.8.2 in c:\\users\\kbjoo\\anaconda3\\envs\\crawling\\lib\\site-packages (from pandas) (2.9.0.post0)\n",
      "Collecting pytz>=2020.1 (from pandas)\n",
      "  Using cached pytz-2024.2-py2.py3-none-any.whl.metadata (22 kB)\n",
      "Collecting tzdata>=2022.7 (from pandas)\n",
      "  Using cached tzdata-2024.2-py2.py3-none-any.whl.metadata (1.4 kB)\n",
      "Requirement already satisfied: six>=1.5 in c:\\users\\kbjoo\\anaconda3\\envs\\crawling\\lib\\site-packages (from python-dateutil>=2.8.2->pandas) (1.16.0)\n",
      "Using cached pandas-2.2.3-cp313-cp313-win_amd64.whl (11.5 MB)\n",
      "Using cached numpy-2.1.3-cp313-cp313-win_amd64.whl (12.6 MB)\n",
      "Using cached pytz-2024.2-py2.py3-none-any.whl (508 kB)\n",
      "Using cached tzdata-2024.2-py2.py3-none-any.whl (346 kB)\n",
      "Installing collected packages: pytz, tzdata, numpy, pandas\n",
      "Successfully installed numpy-2.1.3 pandas-2.2.3 pytz-2024.2 tzdata-2024.2\n"
     ]
    }
   ],
   "source": [
    "# # 라이브러리 설치 코드(필요한 라이브러리 생길 때만 실행)\n",
    "# !pip install pandas"
   ]
  },
  {
   "cell_type": "code",
   "execution_count": 128,
   "metadata": {},
   "outputs": [],
   "source": [
    "import requests\n",
    "from bs4 import BeautifulSoup as bs\n",
    "\n",
    "import time, os, random\n",
    "import pandas as pd\n",
    "import re\n",
    "import numpy as np\n",
    "\n",
    "from selenium import webdriver\n",
    "import chromedriver_autoinstaller as ca\n",
    "\n",
    "from selenium.webdriver.common.by import By\n",
    "from selenium.webdriver import ActionChains\n",
    "from selenium.webdriver.common.keys import Keys"
   ]
  },
  {
   "cell_type": "markdown",
   "metadata": {},
   "source": [
    "## chrome driver 설치"
   ]
  },
  {
   "cell_type": "code",
   "execution_count": 23,
   "metadata": {},
   "outputs": [],
   "source": [
    "# USB error 메세지 발생 해결을 위한 코드\n",
    "options = webdriver.ChromeOptions()\n",
    "options.add_experimental_option(\"excludeSwitches\", [\"enable-logging\"])"
   ]
  },
  {
   "cell_type": "code",
   "execution_count": 24,
   "metadata": {},
   "outputs": [
    {
     "data": {
      "text/plain": [
       "'131'"
      ]
     },
     "execution_count": 24,
     "metadata": {},
     "output_type": "execute_result"
    }
   ],
   "source": [
    "# 현재 크롬 버전 확인\n",
    "chrome_ver = ca.get_chrome_version().split('.')[0]\n",
    "chrome_ver"
   ]
  },
  {
   "cell_type": "code",
   "execution_count": 25,
   "metadata": {},
   "outputs": [],
   "source": [
    "# # 크롬 드라이버 확인 및 설치(처음 한번만 실행)\n",
    "# ca.install(True)"
   ]
  },
  {
   "cell_type": "markdown",
   "metadata": {},
   "source": [
    "### chrome driver 실행"
   ]
  },
  {
   "cell_type": "code",
   "execution_count": 26,
   "metadata": {},
   "outputs": [],
   "source": [
    "# 웹드라이버 실행\n",
    "driver = webdriver.Chrome(options=options)"
   ]
  },
  {
   "cell_type": "markdown",
   "metadata": {},
   "source": [
    "## 페이지 접속"
   ]
  },
  {
   "cell_type": "code",
   "execution_count": null,
   "metadata": {},
   "outputs": [],
   "source": [
    "# 페이지 주소\n",
    "url = 'https://shopping.naver.com/ns/home'\n",
    "# url = 'https://shopping.naver.com/logistics/category?menu=10011321&promotion=BRAND_DAY_10182030&first=9418674556'"
   ]
  },
  {
   "cell_type": "markdown",
   "metadata": {},
   "source": [
    "### requests 테스트\n",
    "- 페이지 접속 가능 여부확인\n",
    "    - 가능할 경우 출력 : <Response [200]>"
   ]
  },
  {
   "cell_type": "code",
   "execution_count": 28,
   "metadata": {},
   "outputs": [],
   "source": [
    "# req = requests.get(url)\n",
    "# print(req)\n",
    "# html = req.content.decode('utf-8') # 한글 깨짐 해결 코드\n",
    "# soup = bs(html, 'html.parser')\n",
    "# soup.title.text"
   ]
  },
  {
   "cell_type": "markdown",
   "metadata": {},
   "source": [
    "### selenium 작동"
   ]
  },
  {
   "cell_type": "code",
   "execution_count": null,
   "metadata": {},
   "outputs": [],
   "source": [
    "driver.get(url)\n",
    "driver.implicitly_wait(random.randrange(2, 5))\n",
    "# driver.maximize_window() # 브라우져 창 최대화"
   ]
  },
  {
   "cell_type": "code",
   "execution_count": 30,
   "metadata": {},
   "outputs": [
    {
     "data": {
      "text/plain": [
       "'네이버+ 스토어'"
      ]
     },
     "execution_count": 30,
     "metadata": {},
     "output_type": "execute_result"
    }
   ],
   "source": [
    "# 수프에 담기\n",
    "soup = bs(driver.page_source, 'html.parser')\n",
    "soup.title.text"
   ]
  },
  {
   "cell_type": "markdown",
   "metadata": {},
   "source": [
    "### 검색 창에 검색어 입력"
   ]
  },
  {
   "cell_type": "code",
   "execution_count": null,
   "metadata": {},
   "outputs": [],
   "source": [
    "search_keyword = '가습기'\n",
    "\n",
    "before_search_window_xpath = '//*[@id=\"gnb-gnb\"]/div/div/div[2]/div[2]/button' # 전단계 검색 입력창\n",
    "\n",
    "# before_search_window = driver.find_element_by_xpath(before_search_window_xpath)\n",
    "before_search_window = driver.find_element(By.XPATH, before_search_window_xpath)\n",
    "before_search_window.click()\n",
    "time.sleep(random.randrange(1, 3))\n",
    "\n",
    "search_window_xpath = '//*[@id=\"input_text\"]' # 검색 입력창\n",
    "\n",
    "search_window = driver.find_element(By.XPATH, search_window_xpath)\n",
    "search_window.send_keys(search_keyword)\n",
    "time.sleep(random.randrange(1, 3))\n",
    "\n",
    "search_active_button_xpath = '//*[@id=\"__next\"]/div/div/div/div[1]/div/div[2]/div/button[2]' # 검색 버튼\n",
    "\n",
    "search_active_button = driver.find_element(By.XPATH, search_active_button_xpath)\n",
    "\n",
    "search_active_button.click()"
   ]
  },
  {
   "cell_type": "code",
   "execution_count": null,
   "metadata": {},
   "outputs": [],
   "source": [
    "# 스크롤해야 정보가 로드되는 페이지\n",
    "\n",
    "# 페이지 스크롤 다운\n",
    "driver.execute_script(\"window.scrollTo(0, document.body.scrollHeight);\")\n",
    "time.sleep(random.uniform(1, 3))"
   ]
  },
  {
   "cell_type": "markdown",
   "metadata": {},
   "source": [
    "## 입력 키워드 정보 수집 "
   ]
  },
  {
   "cell_type": "code",
   "execution_count": 132,
   "metadata": {},
   "outputs": [
    {
     "data": {
      "text/plain": [
       "'가습기 : 네이버+ 스토어 검색'"
      ]
     },
     "execution_count": 132,
     "metadata": {},
     "output_type": "execute_result"
    }
   ],
   "source": [
    "page = driver.page_source\n",
    "soup = bs(page, 'html.parser')\n",
    "soup.title.text"
   ]
  },
  {
   "cell_type": "code",
   "execution_count": 133,
   "metadata": {},
   "outputs": [
    {
     "data": {
      "text/plain": [
       "2"
      ]
     },
     "execution_count": 133,
     "metadata": {},
     "output_type": "execute_result"
    }
   ],
   "source": [
    "# 상품 섹션\n",
    "products_section = soup.select_one('div#composite-card-list')\n",
    "len(products_section)"
   ]
  },
  {
   "cell_type": "code",
   "execution_count": 144,
   "metadata": {},
   "outputs": [
    {
     "data": {
      "text/plain": [
       "49"
      ]
     },
     "execution_count": 144,
     "metadata": {},
     "output_type": "execute_result"
    }
   ],
   "source": [
    "# 상품 리스트\n",
    "product_list = products_section.select('li.compositeCardContainer_composite_card_container__jr8cb div.basicProductCard_basic_product_card__TdrHT')\n",
    "len(product_list)"
   ]
  },
  {
   "cell_type": "code",
   "execution_count": 145,
   "metadata": {},
   "outputs": [
    {
     "data": {
      "text/plain": [
       "[<img alt=\"\" class=\"autoFitImg_auto_fit_img__fIpj4 autoFitImg_full_height__QCTGq productCardThumbnail_image__Li6iz scale\" data-src=\"https://shopping-phinf.pstatic.net/main_8838834/88388342556.11.jpg?type=f300\" src=\"https://shopping-phinf.pstatic.net/main_8838834/88388342556.11.jpg?type=f300\" style=\"opacity: 1;\"/>]"
      ]
     },
     "execution_count": 145,
     "metadata": {},
     "output_type": "execute_result"
    }
   ],
   "source": [
    "# 상품 썸네일 이미지 링크\n",
    "order_number = 0\n",
    "product_list[order_number].select('div.productCardThumbnail_thumbnail__KzO1N img')"
   ]
  },
  {
   "cell_type": "code",
   "execution_count": 146,
   "metadata": {},
   "outputs": [
    {
     "data": {
      "text/plain": [
       "'https://shopping-phinf.pstatic.net/main_8838834/88388342556.11.jpg?type=f300'"
      ]
     },
     "execution_count": 146,
     "metadata": {},
     "output_type": "execute_result"
    }
   ],
   "source": [
    "product_thumnail_img_src = product_list[order_number].select_one('div.productCardThumbnail_thumbnail__KzO1N img.autoFitImg_auto_fit_img__fIpj4')['src']\n",
    "# product_thumnail_img_src = product_list[order_number].find('img', class_='autoFitImg_auto_fit_img__fIpj4 autoFitImg_full_height__QCTGq productCardThumbnail_image__Li6iz scale').attrs['src']\n",
    "product_thumnail_img_src"
   ]
  },
  {
   "cell_type": "code",
   "execution_count": 147,
   "metadata": {},
   "outputs": [
    {
     "name": "stdout",
     "output_type": "stream",
     "text": [
      "웰포트 올스텐 신생아 가열식가습기 ST-2000 티타늄\n",
      "할인 전 판매가489,000원\n",
      "12%할인\n",
      "429,000원\n"
     ]
    }
   ],
   "source": [
    "# 상품 정보 섹션\n",
    "order_number = 0\n",
    "# 상품 제목\n",
    "print(product_list[order_number].select_one('div.basicProductCardInformation_basic_product_card_information__7v_uc strong.basicProductCardInformation_title__Bc_Ng').text)\n",
    "\n",
    "# 상품 가격\n",
    "\n",
    "print(product_list[order_number].select_one('div.basicProductCardInformation_basic_product_card_information__7v_uc span.priceTag_original_price__jyZRY').text)\n",
    "print(product_list[order_number].select_one('div.basicProductCardInformation_basic_product_card_information__7v_uc span.priceTag_discount__F_ZXz').text)\n",
    "print(product_list[order_number].select_one('div.basicProductCardInformation_basic_product_card_information__7v_uc span.priceTag_inner_price__TctbK').text)"
   ]
  },
  {
   "cell_type": "code",
   "execution_count": 148,
   "metadata": {},
   "outputs": [
    {
     "name": "stdout",
     "output_type": "stream",
     "text": [
      "케리프 타워제로 트리플케어 UV 가열 복합식 대용량 가습기 KLH-9000UV\n",
      "할인 전 판매가240,000원\n",
      "42%할인\n",
      "139,000원\n"
     ]
    }
   ],
   "source": [
    "# 상품 정보 섹션\n",
    "order_number = 1\n",
    "# 상품 제목\n",
    "print(product_list[order_number].select_one('div.basicProductCardInformation_basic_product_card_information__7v_uc strong.basicProductCardInformation_title__Bc_Ng').text)\n",
    "\n",
    "# 상품 가격\n",
    "\n",
    "print(product_list[order_number].select_one('div.basicProductCardInformation_basic_product_card_information__7v_uc span.priceTag_original_price__jyZRY').text)\n",
    "print(product_list[order_number].select_one('div.basicProductCardInformation_basic_product_card_information__7v_uc span.priceTag_discount__F_ZXz').text)\n",
    "print(product_list[order_number].select_one('div.basicProductCardInformation_basic_product_card_information__7v_uc span.priceTag_inner_price__TctbK').text)"
   ]
  },
  {
   "cell_type": "code",
   "execution_count": 149,
   "metadata": {},
   "outputs": [
    {
     "name": "stdout",
     "output_type": "stream",
     "text": [
      "블루필 둥둥 미니가습기 휴대용 무선 탁상용 사무실 차량 플로틀2 캠프파이어\n",
      "할인 전 판매가39,900원\n",
      "30%할인\n",
      "27,800원\n"
     ]
    }
   ],
   "source": [
    "# 상품 정보 섹션\n",
    "    # 할인 하지 않는 상품 존재 : 7, 12, 24 등등\n",
    "order_number = 23\n",
    "# 상품 제목\n",
    "print(product_list[order_number].select_one('div.basicProductCardInformation_basic_product_card_information__7v_uc strong.basicProductCardInformation_title__Bc_Ng').text)\n",
    "\n",
    "# 상품 가격\n",
    "try:\n",
    "    print(product_list[order_number].select_one('div.basicProductCardInformation_basic_product_card_information__7v_uc span.priceTag_original_price__jyZRY').text)\n",
    "except:\n",
    "    print('할인없음')\n",
    "try:\n",
    "    print(product_list[order_number].select_one('div.basicProductCardInformation_basic_product_card_information__7v_uc span.priceTag_discount__F_ZXz').text)\n",
    "except:\n",
    "    print('할인없음')\n",
    "print(product_list[order_number].select_one('div.basicProductCardInformation_basic_product_card_information__7v_uc span.priceTag_inner_price__TctbK').text)"
   ]
  },
  {
   "cell_type": "code",
   "execution_count": 150,
   "metadata": {},
   "outputs": [
    {
     "data": {
      "text/plain": [
       "<div class=\"basicProductCard_basic_product_card__TdrHT\" tabindex=\"-1\"><div class=\"productCardThumbnail_product_card_thumbnail__TlGeQ product_card_thumbnail\"><div class=\"productCardThumbnail_thumbnail__KzO1N\"><img alt=\"\" class=\"autoFitImg_auto_fit_img__fIpj4 autoFitImg_full_height__QCTGq productCardThumbnail_image__Li6iz scale\" data-src=\"https://shopping-phinf.pstatic.net/main_8703569/87035696828.9.jpg?type=f300\" src=\"data:image/png;base64,iVBORw0KGgoAAAANSUhEUgAAAAEAAAABCAQAAAC1HAwCAAAAC0lEQVR42mP8/x8AAwMCAO+ip1sAAAAASUVORK5CYII=\" style=\"opacity: 1;\"/></div><div class=\"productCardThumbnail_wrap_product_keep_button__XFwo_\"><button class=\"productKeepButton_product_keep_button__Tvcf_ _nlog_click _nlog_impression_element\" data-shp-area=\"prod.mylist\" data-shp-area-id=\"mylist\" data-shp-area-type=\"slot\" data-shp-contents-dtl='[{\"key\":\"nv_mid\",\"value\":\"87035696828\"}]' data-shp-contents-grp=\"event\" data-shp-contents-id=\"9491196505\" data-shp-contents-provider-id=\"100190642\" data-shp-contents-provider-type=\"chnl_no\" data-shp-contents-type=\"mylist\" data-shp-inventory=\"prod\" data-shp-nsc=\"svc.shopping.plusall\" data-shp-order_con='[{\"key\":\"sort\",\"value\":\"추천순\"},{\"key\":\"resort\",\"value\":\"ON\"}]' data-shp-page-key=\"100407255\" data-shp-sti=\"shopping\" type=\"button\"><span class=\"productKeepButton_icon_area__iknoe\"><svg class=\"productKeepButton_icon__1zm6d\" fill=\"none\" height=\"16\" viewbox=\"0 0 16 16\" width=\"16\" xmlns=\"http://www.w3.org/2000/svg\"><path d=\"M10.81 6.142 8.785 8.088a1.423 1.423 0 0 1-1.93 0 1.25 1.25 0 0 1-.398-.91c0-.342.141-.665.398-.908l2.077-2.005a2.7 2.7 0 0 1 1.892-.765c.713 0 1.385.27 1.89.765 1 .976 1.049 2.551.131 3.567L7.99 12.5 3.286 7.975a2.58 2.58 0 0 1 0-3.71 2.68 2.68 0 0 1 1.89-.765c.617 0 1.204.203 1.68.579\" stroke=\"currentColor\" stroke-linecap=\"round\" stroke-linejoin=\"round\"></path></svg></span><span class=\"blind\">찜하기</span></button></div></div><div class=\"basicProductCardInformation_basic_product_card_information__7v_uc\" id=\"basic_product_card_information_9491196505\"><div class=\"basicProductCardInformation_mall_area__xcGLH\"><a class=\"basicProductCardInformation_mall_link__9TeDD _nlog_click _nlog_impression_element\" data-shp-area=\"prod.directstore\" data-shp-area-id=\"directstore\" data-shp-area-type=\"slot\" data-shp-contents-grp=\"store\" data-shp-contents-provider-id=\"100190642\" data-shp-contents-provider-type=\"chnl_no\" data-shp-inventory=\"prod\" data-shp-nsc=\"svc.shopping.plusall\" data-shp-order_con='[{\"key\":\"sort\",\"value\":\"추천순\"},{\"key\":\"resort\",\"value\":\"ON\"}]' data-shp-page-key=\"100407255\" data-shp-sti=\"shopping\" href=\"https://smartstore.naver.com/inflow/outlink/url?url=https%3A%2F%2Fsmartstore.naver.com%2Fbluefeelcorp&amp;tr=nslsl\" target=\"_blank\"><span class=\"basicProductCardInformation_mall_name__8IS3Q\">블루필 공식스토어</span><span class=\"basicProductCardInformation_mall_description__oxXx_\">공식</span><svg class=\"basicProductCardInformation_arrow_icon__oRuTx\" fill=\"none\" height=\"12\" viewbox=\"0 0 12 12\" width=\"12\" xmlns=\"http://www.w3.org/2000/svg\"><path d=\"M4.25 9.75 8 6 4.25 2.25\" stroke=\"currentColor\" stroke-linecap=\"round\" stroke-linejoin=\"round\"></path></svg></a></div><strong class=\"basicProductCardInformation_title__Bc_Ng\">블루필 둥둥 미니가습기 휴대용 무선 탁상용 사무실 차량 플로틀2 캠프파이어</strong><div class=\"basicProductCardInformation_wrap_price__largu\"><div class=\"productCardPrice_product_card_price__4QIH0 productCardPrice_view_type_grid1__bFIsw\"><div class=\"productCardPrice_wrap_price_tag__URLP7\"><div class=\"priceTag_price_tag__T_z8R priceTag_view_type_grid1__kLw3Q\"><span class=\"priceTag_discount_area__rabeJ\"><span class=\"priceTag_original_price__jyZRY\"><span class=\"blind\">할인 전 판매가</span>39,900원</span></span><span class=\"priceTag_price_area__iHlni\"><span class=\"priceTag_discount__F_ZXz\">30%<span class=\"blind\">할인</span></span><span class=\"priceTag_inner_price__TctbK\">27,800<span class=\"priceTag_unit__IXyyy\">원</span></span></span></div></div><div class=\"productCardPrice_delivery_price__AiyD2\">배송비 3,000원</div></div></div><div class=\"basicProductCardInformation_arrival_guarantee_area__VKq5B\"><div class=\"departTodayIcon_depart_today_icon__zclFI\"><span class=\"departTodayIcon_badge__FlNLI\">오늘출발</span><span class=\"departTodayIcon_text__DhO50\">오늘 14:00까지 주문 시</span></div></div><div class=\"productCardReview_product_card_review__Oiv_T productCardReview_with_review_text__KreLb productCardReview_view_type_grid1__G1zSH\"><span class=\"productCardReview_text__A9N9N productCardReview_star__7iHNO\"><svg class=\"productCardReview_star_icon__5qmKd\" fill=\"none\" height=\"16\" viewbox=\"0 0 16 16\" width=\"16\" xmlns=\"http://www.w3.org/2000/svg\"><path clip-rule=\"evenodd\" d=\"m6.3 5.854-.39.005-3.487.047c-.405.005-.578.487-.26.723l3.086 2.289-.109.34-.99 3.131c-.116.365.318.664.653.451l3.196-2.03.311.197 2.885 1.833c.335.213.769-.087.653-.451L10.75 8.918l.297-.22 2.788-2.069c.318-.236.145-.718-.26-.723l-3.877-.052L8.406 2.36c-.135-.362-.68-.362-.813 0L6.3 5.855z\" fill=\"currentColor\" fill-rule=\"evenodd\"></path></svg><span class=\"blind\">별점</span>4.81</span><span class=\"productCardReview_text__A9N9N\">리뷰 610</span></div></div><a aria-labelledby=\"basic_product_card_information_9491196505\" class=\"basicProductCard_link__urzND _nlog_click _nlog_impression_element\" data-shp-area=\"prod.pd\" data-shp-area-dtl='[{\"key\":\"view_type\",\"value\":\"1\"}]' data-shp-area-id=\"pd\" data-shp-area-type=\"slot\" data-shp-contents-dtl='[{\"key\":\"prod_nm\",\"value\":\"블루필 둥둥 미니가습기 휴대용 무선 탁상용 사무실 차량 플로틀2 캠프파이어\"},{\"key\":\"price\",\"value\":\"27800\"},{\"key\":\"chnl_prod_no\",\"value\":\"9491196505\"},{\"key\":\"cat_id\",\"value\":\"50002540\"},{\"key\":\"promotion_yn\",\"value\":\"n\"},{\"key\":\"nfa_type\",\"value\":\"오늘출발\"}]' data-shp-contents-grp=\"prod\" data-shp-contents-id=\"87035696828\" data-shp-contents-provider-dtl='[{\"key\":\"chnl_no\",\"value\":100190642},{\"key\":\"adsr_type\",\"value\":\"smartstore\"},{\"key\":\"brandstore_type\",\"value\":\"y\"}]' data-shp-contents-provider-id=\"711719\" data-shp-contents-provider-type=\"mall_seq\" data-shp-contents-rank=\"25\" data-shp-contents-type=\"nv_mid\" data-shp-inventory=\"prod\" data-shp-nsc=\"svc.shopping.plusall\" data-shp-order_con='[{\"key\":\"sort\",\"value\":\"추천순\"},{\"key\":\"resort\",\"value\":\"ON\"}]' data-shp-page-key=\"100407255\" data-shp-sti=\"shopping\" data-shp-temp='[{\"key\":\"sas_logcode\",\"value\":\"25\"},{\"key\":\"isps_yn\",\"value\":\"n\"}]' href=\"https://smartstore.naver.com/main/products/9491196505?nl-query=%EA%B0%80%EC%8A%B5%EA%B8%B0&amp;tr=nslsl\" target=\"_blank\"></a></div>"
      ]
     },
     "execution_count": 150,
     "metadata": {},
     "output_type": "execute_result"
    }
   ],
   "source": [
    "product_list[23]"
   ]
  },
  {
   "cell_type": "markdown",
   "metadata": {},
   "source": [
    "# 🔧 수집한 데이터 전처리\n",
    "- 원래가격, 할인률, 현재가격 숫자만 표기하도록 정제"
   ]
  },
  {
   "cell_type": "code",
   "execution_count": 151,
   "metadata": {},
   "outputs": [],
   "source": [
    "num_list, img_src_list, title_list, original_price_list, discount_rate_list, price_list = [], [], [], [], [], []\n",
    "\n",
    "for i in range(len(product_list)):\n",
    "    try:\n",
    "        num = i + 1\n",
    "        img_src = product_list[i].select_one('div.productCardThumbnail_thumbnail__KzO1N img.autoFitImg_auto_fit_img__fIpj4')['src']\n",
    "        \n",
    "        title = product_list[i].select_one('div.basicProductCardInformation_basic_product_card_information__7v_uc strong.basicProductCardInformation_title__Bc_Ng').text\n",
    "        \n",
    "        try:\n",
    "            original_price = product_list[i].select_one('div.basicProductCardInformation_basic_product_card_information__7v_uc span.priceTag_original_price__jyZRY').text\n",
    "        except:\n",
    "            original_price = np.nan\n",
    "        try:\n",
    "            discount_rate = product_list[i].select_one('div.basicProductCardInformation_basic_product_card_information__7v_uc span.priceTag_discount__F_ZXz').text\n",
    "        except:\n",
    "            discount_rate = np.nan\n",
    "        price = product_list[i].select_one('div.basicProductCardInformation_basic_product_card_information__7v_uc span.priceTag_inner_price__TctbK').text\n",
    "\n",
    "        num_list.append(num)\n",
    "        img_src_list.append(img_src)\n",
    "        title_list.append(title)\n",
    "        original_price_list.append(original_price)\n",
    "        discount_rate_list.append(discount_rate)\n",
    "        price_list.append(price)\n",
    "    except:\n",
    "        print(i)"
   ]
  },
  {
   "cell_type": "code",
   "execution_count": 152,
   "metadata": {},
   "outputs": [
    {
     "data": {
      "text/plain": [
       "(49, 49, 49, 49, 49, 49)"
      ]
     },
     "execution_count": 152,
     "metadata": {},
     "output_type": "execute_result"
    }
   ],
   "source": [
    "len(num_list), len(img_src_list), len(title_list), len(original_price_list), len(discount_rate_list), len(price_list)"
   ]
  },
  {
   "cell_type": "code",
   "execution_count": 153,
   "metadata": {},
   "outputs": [
    {
     "data": {
      "text/html": [
       "<div>\n",
       "<style scoped>\n",
       "    .dataframe tbody tr th:only-of-type {\n",
       "        vertical-align: middle;\n",
       "    }\n",
       "\n",
       "    .dataframe tbody tr th {\n",
       "        vertical-align: top;\n",
       "    }\n",
       "\n",
       "    .dataframe thead th {\n",
       "        text-align: right;\n",
       "    }\n",
       "</style>\n",
       "<table border=\"1\" class=\"dataframe\">\n",
       "  <thead>\n",
       "    <tr style=\"text-align: right;\">\n",
       "      <th></th>\n",
       "      <th>번호</th>\n",
       "      <th>이미지링크</th>\n",
       "      <th>제품제목</th>\n",
       "      <th>원래가격</th>\n",
       "      <th>할인률</th>\n",
       "      <th>현재가격</th>\n",
       "    </tr>\n",
       "  </thead>\n",
       "  <tbody>\n",
       "    <tr>\n",
       "      <th>0</th>\n",
       "      <td>1</td>\n",
       "      <td>https://shopping-phinf.pstatic.net/main_883883...</td>\n",
       "      <td>웰포트 올스텐 신생아 가열식가습기 ST-2000 티타늄</td>\n",
       "      <td>할인 전 판매가489,000원</td>\n",
       "      <td>12%할인</td>\n",
       "      <td>429,000원</td>\n",
       "    </tr>\n",
       "    <tr>\n",
       "      <th>1</th>\n",
       "      <td>2</td>\n",
       "      <td>https://shopping-phinf.pstatic.net/main_885023...</td>\n",
       "      <td>케리프 타워제로 트리플케어 UV 가열 복합식 대용량 가습기 KLH-9000UV</td>\n",
       "      <td>할인 전 판매가240,000원</td>\n",
       "      <td>42%할인</td>\n",
       "      <td>139,000원</td>\n",
       "    </tr>\n",
       "    <tr>\n",
       "      <th>2</th>\n",
       "      <td>3</td>\n",
       "      <td>https://searchad-phinf.pstatic.net/MjAyNDExMTh...</td>\n",
       "      <td>에어메이드 신제품 가열 살균 열풍자동건조 9L 가습기 아쿠아마린 AMH-9002</td>\n",
       "      <td>할인 전 판매가279,000원</td>\n",
       "      <td>39%할인</td>\n",
       "      <td>169,000원</td>\n",
       "    </tr>\n",
       "    <tr>\n",
       "      <th>3</th>\n",
       "      <td>4</td>\n",
       "      <td>https://searchad-phinf.pstatic.net/MjAyMzA5MDd...</td>\n",
       "      <td>디디오랩 아기 신생아 올스텐 가열식 가습기</td>\n",
       "      <td>할인 전 판매가274,000원</td>\n",
       "      <td>41%할인</td>\n",
       "      <td>159,000원</td>\n",
       "    </tr>\n",
       "    <tr>\n",
       "      <th>4</th>\n",
       "      <td>5</td>\n",
       "      <td>https://shopping-phinf.pstatic.net/main_867046...</td>\n",
       "      <td>루메나 듀얼 무선 미니가습기 H3 X</td>\n",
       "      <td>할인 전 판매가45,900원</td>\n",
       "      <td>21%할인</td>\n",
       "      <td>35,900원</td>\n",
       "    </tr>\n",
       "  </tbody>\n",
       "</table>\n",
       "</div>"
      ],
      "text/plain": [
       "   번호                                              이미지링크  \\\n",
       "0   1  https://shopping-phinf.pstatic.net/main_883883...   \n",
       "1   2  https://shopping-phinf.pstatic.net/main_885023...   \n",
       "2   3  https://searchad-phinf.pstatic.net/MjAyNDExMTh...   \n",
       "3   4  https://searchad-phinf.pstatic.net/MjAyMzA5MDd...   \n",
       "4   5  https://shopping-phinf.pstatic.net/main_867046...   \n",
       "\n",
       "                                           제품제목              원래가격    할인률  \\\n",
       "0                웰포트 올스텐 신생아 가열식가습기 ST-2000 티타늄  할인 전 판매가489,000원  12%할인   \n",
       "1   케리프 타워제로 트리플케어 UV 가열 복합식 대용량 가습기 KLH-9000UV  할인 전 판매가240,000원  42%할인   \n",
       "2  에어메이드 신제품 가열 살균 열풍자동건조 9L 가습기 아쿠아마린 AMH-9002  할인 전 판매가279,000원  39%할인   \n",
       "3                       디디오랩 아기 신생아 올스텐 가열식 가습기  할인 전 판매가274,000원  41%할인   \n",
       "4                          루메나 듀얼 무선 미니가습기 H3 X   할인 전 판매가45,900원  21%할인   \n",
       "\n",
       "       현재가격  \n",
       "0  429,000원  \n",
       "1  139,000원  \n",
       "2  169,000원  \n",
       "3  159,000원  \n",
       "4   35,900원  "
      ]
     },
     "execution_count": 153,
     "metadata": {},
     "output_type": "execute_result"
    }
   ],
   "source": [
    "data_dict = {\n",
    "    '번호':num_list, \n",
    "    '이미지링크':img_src_list,\n",
    "    '제품제목':title_list,\n",
    "    '원래가격':original_price_list,\n",
    "    '할인률':discount_rate_list,\n",
    "    '현재가격':price_list\n",
    "    }\n",
    "df = pd.DataFrame(data_dict)\n",
    "df.head()"
   ]
  },
  {
   "cell_type": "code",
   "execution_count": null,
   "metadata": {},
   "outputs": [],
   "source": []
  },
  {
   "cell_type": "markdown",
   "metadata": {},
   "source": [
    "# 데이터 출력"
   ]
  },
  {
   "cell_type": "code",
   "execution_count": null,
   "metadata": {},
   "outputs": [],
   "source": []
  },
  {
   "cell_type": "markdown",
   "metadata": {},
   "source": [
    "# END"
   ]
  }
 ],
 "metadata": {
  "kernelspec": {
   "display_name": "crawling",
   "language": "python",
   "name": "python3"
  },
  "language_info": {
   "codemirror_mode": {
    "name": "ipython",
    "version": 3
   },
   "file_extension": ".py",
   "mimetype": "text/x-python",
   "name": "python",
   "nbconvert_exporter": "python",
   "pygments_lexer": "ipython3",
   "version": "3.13.0"
  },
  "orig_nbformat": 4
 },
 "nbformat": 4,
 "nbformat_minor": 2
}
