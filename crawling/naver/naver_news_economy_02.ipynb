{
 "cells": [
  {
   "cell_type": "markdown",
   "metadata": {},
   "source": [
    "# Library"
   ]
  },
  {
   "cell_type": "code",
   "execution_count": 20,
   "metadata": {},
   "outputs": [],
   "source": [
    "import requests\n",
    "from bs4 import BeautifulSoup as bs\n",
    "\n",
    "import time, os\n",
    "import pandas as pd\n",
    "import numpy as np\n",
    "\n",
    "from selenium import webdriver\n",
    "import chromedriver_autoinstaller as ca\n",
    "\n",
    "from selenium.webdriver.common.by import By\n",
    "from selenium.webdriver.support.ui import WebDriverWait\n",
    "from selenium.webdriver.support import expected_conditions as EC"
   ]
  },
  {
   "cell_type": "markdown",
   "metadata": {},
   "source": [
    "## chrome driver 설치"
   ]
  },
  {
   "cell_type": "code",
   "execution_count": 21,
   "metadata": {},
   "outputs": [],
   "source": [
    "# USB error 메세지 발생 해결을 위한 코드\n",
    "options = webdriver.ChromeOptions()\n",
    "options.add_experimental_option(\"excludeSwitches\", [\"enable-logging\"])"
   ]
  },
  {
   "cell_type": "code",
   "execution_count": 22,
   "metadata": {},
   "outputs": [
    {
     "data": {
      "text/plain": [
       "'131'"
      ]
     },
     "execution_count": 22,
     "metadata": {},
     "output_type": "execute_result"
    }
   ],
   "source": [
    "# 현재 크롬 버전 확인\n",
    "chrome_ver = ca.get_chrome_version().split('.')[0]\n",
    "chrome_ver"
   ]
  },
  {
   "cell_type": "code",
   "execution_count": 23,
   "metadata": {},
   "outputs": [],
   "source": [
    "# # 크롬 드라이버 확인 및 설치(처음 한번만 실행)\n",
    "# ca.install(True)"
   ]
  },
  {
   "cell_type": "markdown",
   "metadata": {},
   "source": [
    "## chrome driver 실행"
   ]
  },
  {
   "cell_type": "code",
   "execution_count": 24,
   "metadata": {},
   "outputs": [],
   "source": [
    "# 웹드라이버 실행\n",
    "driver = webdriver.Chrome(options=options)"
   ]
  },
  {
   "cell_type": "markdown",
   "metadata": {},
   "source": [
    "# 페이지 접속"
   ]
  },
  {
   "cell_type": "code",
   "execution_count": 25,
   "metadata": {},
   "outputs": [],
   "source": [
    "# 페이지 주소\n",
    "url = 'https://news.naver.com/section/101' # 네이버 뉴스 > 경제"
   ]
  },
  {
   "cell_type": "markdown",
   "metadata": {},
   "source": [
    "## requests 테스트\n",
    "- 페이지 접속 가능 여부확인\n",
    "    - 가능할 경우 출력 : <Response [200]>"
   ]
  },
  {
   "cell_type": "code",
   "execution_count": 26,
   "metadata": {},
   "outputs": [],
   "source": [
    "# req = requests.get(url)\n",
    "# print(req)\n",
    "# html = req.content.decode('utf-8') # 한글 깨짐 해결 코드\n",
    "# soup = bs(html, 'html.parser')\n",
    "# soup.title.text"
   ]
  },
  {
   "cell_type": "markdown",
   "metadata": {},
   "source": [
    "## selenium 작동"
   ]
  },
  {
   "cell_type": "code",
   "execution_count": 27,
   "metadata": {},
   "outputs": [],
   "source": [
    "driver.get(url)\n",
    "driver.implicitly_wait(10) # 페이지 로드 될 때까지 기다리지만 로드 되는 순간 종료\n",
    "# driver.maximize_window() # 브라우져 창 최대화"
   ]
  },
  {
   "cell_type": "markdown",
   "metadata": {},
   "source": [
    "## 헤드라인 뉴스 섹션 로드"
   ]
  },
  {
   "cell_type": "code",
   "execution_count": 28,
   "metadata": {},
   "outputs": [],
   "source": [
    "# 헤드라인 뉴스\n",
    "headline_news_more_view_button_xpath = '//*[@id=\"newsct\"]/div[1]/div[2]/a' # 헤드라인 더 보기 버튼\n",
    "\n",
    "# 헤드라인 더 보기 버튼 로딩 대기\n",
    "headline_news_more_view_button = WebDriverWait(driver, 10).until(\n",
    "    EC.presence_of_element_located((By.XPATH, headline_news_more_view_button_xpath))\n",
    ")\n",
    "\n",
    "# 헤드라인 더보기 버튼 클릭\n",
    "headline_news_more_view_button.click()\n",
    "driver.implicitly_wait(10)"
   ]
  },
  {
   "cell_type": "markdown",
   "metadata": {},
   "source": [
    "# 헤드라인 뉴스 수집"
   ]
  },
  {
   "cell_type": "code",
   "execution_count": 29,
   "metadata": {},
   "outputs": [
    {
     "data": {
      "text/plain": [
       "'경제 : 네이버 뉴스'"
      ]
     },
     "execution_count": 29,
     "metadata": {},
     "output_type": "execute_result"
    }
   ],
   "source": [
    "page = driver.page_source\n",
    "soup = bs(page, 'html.parser')\n",
    "soup.title.text"
   ]
  },
  {
   "cell_type": "code",
   "execution_count": 30,
   "metadata": {},
   "outputs": [
    {
     "data": {
      "text/plain": [
       "21"
      ]
     },
     "execution_count": 30,
     "metadata": {},
     "output_type": "execute_result"
    }
   ],
   "source": [
    "# 헤드라인 뉴스 섹션\n",
    "headline_news_section = soup.select_one('ul.sa_list')\n",
    "len(headline_news_section)"
   ]
  },
  {
   "cell_type": "code",
   "execution_count": 31,
   "metadata": {},
   "outputs": [
    {
     "data": {
      "text/plain": [
       "10"
      ]
     },
     "execution_count": 31,
     "metadata": {},
     "output_type": "execute_result"
    }
   ],
   "source": [
    "# 뉴스 타이들 리스트\n",
    "headline_news_list = headline_news_section.select('li.sa_item._SECTION_HEADLINE')\n",
    "len(headline_news_list)"
   ]
  },
  {
   "cell_type": "markdown",
   "metadata": {},
   "source": [
    "# 수집한 데이터 전처리"
   ]
  },
  {
   "cell_type": "code",
   "execution_count": 38,
   "metadata": {},
   "outputs": [],
   "source": [
    "link_list = []\n",
    "title_list = []\n",
    "content_list = []\n",
    "press_list = []\n",
    "related_news_count_list = []\n",
    "\n",
    "for i in range(len(headline_news_list)):\n",
    "    # 기사 내용 섹션\n",
    "    news_content_section = headline_news_list[i].select_one('div.sa_text')\n",
    "\n",
    "    # 기사 링크\n",
    "    try:\n",
    "        link = news_content_section.select_one('a.sa_text_title._NLOG_IMPRESSION')['href']\n",
    "    except:\n",
    "        link = np.nan\n",
    "        print(i)\n",
    "        # print('기사 링크 없음')\n",
    "    \n",
    "    # 타이틀\n",
    "    try:\n",
    "        title = news_content_section.select_one('strong.sa_text_strong').text\n",
    "    except:\n",
    "        title = np.nan\n",
    "        print(i)\n",
    "        # print('타이틀 없음')\n",
    "    \n",
    "    # 기사 내용\n",
    "    try:\n",
    "        content = news_content_section.select_one('div.sa_text_lede').text\n",
    "    except:\n",
    "        content = np.nan\n",
    "        print(i)\n",
    "        # print('기사 내용 없음')\n",
    "    \n",
    "    ## 언론사\n",
    "    try:\n",
    "        press = news_content_section.select_one('div.sa_text_press').text\n",
    "    except:\n",
    "        press = np.nan\n",
    "        print(i)\n",
    "        # print('언론사 없음')\n",
    "    \n",
    "    ## 관련 뉴스 개수\n",
    "    try:\n",
    "        related_news_count = int(news_content_section.select_one('span.sa_text_cluster_num').text)\n",
    "    except:\n",
    "        related_news_count = np.nan\n",
    "        print(i)\n",
    "        # print('관련 뉴스 개수 없음')\n",
    "    \n",
    "    # 정보 리스트에 담기\n",
    "    link_list.append(link)\n",
    "    title_list.append(title)\n",
    "    content_list.append(content)\n",
    "    press_list.append(press)\n",
    "    related_news_count_list.append(related_news_count)"
   ]
  },
  {
   "cell_type": "code",
   "execution_count": 39,
   "metadata": {},
   "outputs": [
    {
     "data": {
      "text/plain": [
       "(10, 10, 10, 10, 10)"
      ]
     },
     "execution_count": 39,
     "metadata": {},
     "output_type": "execute_result"
    }
   ],
   "source": [
    "len(link_list), len(title_list), len(content_list), len(press_list), len(related_news_count_list)"
   ]
  },
  {
   "cell_type": "code",
   "execution_count": 40,
   "metadata": {},
   "outputs": [
    {
     "data": {
      "text/html": [
       "<div>\n",
       "<style scoped>\n",
       "    .dataframe tbody tr th:only-of-type {\n",
       "        vertical-align: middle;\n",
       "    }\n",
       "\n",
       "    .dataframe tbody tr th {\n",
       "        vertical-align: top;\n",
       "    }\n",
       "\n",
       "    .dataframe thead th {\n",
       "        text-align: right;\n",
       "    }\n",
       "</style>\n",
       "<table border=\"1\" class=\"dataframe\">\n",
       "  <thead>\n",
       "    <tr style=\"text-align: right;\">\n",
       "      <th></th>\n",
       "      <th>번호</th>\n",
       "      <th>기사 링크</th>\n",
       "      <th>기사 제목</th>\n",
       "      <th>기사 내용</th>\n",
       "      <th>언론사</th>\n",
       "      <th>관련 뉴스 개수</th>\n",
       "    </tr>\n",
       "  </thead>\n",
       "  <tbody>\n",
       "    <tr>\n",
       "      <th>0</th>\n",
       "      <td>1</td>\n",
       "      <td>https://n.news.naver.com/mnews/article/025/000...</td>\n",
       "      <td>트럼프 만난 정용진 “韓 저력 믿고 기다려 달라 했다\"…머스크와도 인사</td>\n",
       "      <td>“(트럼프 측근들과 만나) 대한민국은 저력이 있는 나라니 믿고 기다려달라고 했다.”...</td>\n",
       "      <td>중앙일보</td>\n",
       "      <td>110</td>\n",
       "    </tr>\n",
       "    <tr>\n",
       "      <th>1</th>\n",
       "      <td>2</td>\n",
       "      <td>https://n.news.naver.com/mnews/article/056/001...</td>\n",
       "      <td>“편법 증여·환치기”…외국인 부동산 불법 거래 무더기 적발</td>\n",
       "      <td>외국인이 부동산을 부정한 방법으로 거래한 것으로 의심되는 사례가 무더기로 적발됐습니...</td>\n",
       "      <td>KBS</td>\n",
       "      <td>42</td>\n",
       "    </tr>\n",
       "    <tr>\n",
       "      <th>2</th>\n",
       "      <td>3</td>\n",
       "      <td>https://n.news.naver.com/mnews/article/008/000...</td>\n",
       "      <td>HD현대오일뱅크, 세계 최대 액침냉각 기업서 냉각유 인증 획득</td>\n",
       "      <td>HD현대오일뱅크가 데이터센터 열을 식혀주는 액침냉각유 시장 공략에 나선다고 22일 ...</td>\n",
       "      <td>머니투데이</td>\n",
       "      <td>36</td>\n",
       "    </tr>\n",
       "    <tr>\n",
       "      <th>3</th>\n",
       "      <td>4</td>\n",
       "      <td>https://n.news.naver.com/mnews/article/119/000...</td>\n",
       "      <td>금융사 개인사업자 대출 비교 공시 시작된다</td>\n",
       "      <td>금융위원회는 각 6개 금융협회·중앙회와 함께 오는 23일부터 개인사업자 대출상품 비...</td>\n",
       "      <td>데일리안</td>\n",
       "      <td>17</td>\n",
       "    </tr>\n",
       "    <tr>\n",
       "      <th>4</th>\n",
       "      <td>5</td>\n",
       "      <td>https://n.news.naver.com/mnews/article/366/000...</td>\n",
       "      <td>한경협 “내년 수출 1.4% 증가 그친다…자동차·철강은 감소 전망”</td>\n",
       "      <td>한국경제인협회(한경협)는 22일 내년 12대 수출 주력 업종의 수출 증가율이 1.4...</td>\n",
       "      <td>조선비즈</td>\n",
       "      <td>48</td>\n",
       "    </tr>\n",
       "  </tbody>\n",
       "</table>\n",
       "</div>"
      ],
      "text/plain": [
       "   번호                                              기사 링크  \\\n",
       "0   1  https://n.news.naver.com/mnews/article/025/000...   \n",
       "1   2  https://n.news.naver.com/mnews/article/056/001...   \n",
       "2   3  https://n.news.naver.com/mnews/article/008/000...   \n",
       "3   4  https://n.news.naver.com/mnews/article/119/000...   \n",
       "4   5  https://n.news.naver.com/mnews/article/366/000...   \n",
       "\n",
       "                                     기사 제목  \\\n",
       "0  트럼프 만난 정용진 “韓 저력 믿고 기다려 달라 했다\"…머스크와도 인사   \n",
       "1         “편법 증여·환치기”…외국인 부동산 불법 거래 무더기 적발   \n",
       "2       HD현대오일뱅크, 세계 최대 액침냉각 기업서 냉각유 인증 획득   \n",
       "3                  금융사 개인사업자 대출 비교 공시 시작된다   \n",
       "4    한경협 “내년 수출 1.4% 증가 그친다…자동차·철강은 감소 전망”   \n",
       "\n",
       "                                               기사 내용    언론사  관련 뉴스 개수  \n",
       "0  “(트럼프 측근들과 만나) 대한민국은 저력이 있는 나라니 믿고 기다려달라고 했다.”...   중앙일보       110  \n",
       "1  외국인이 부동산을 부정한 방법으로 거래한 것으로 의심되는 사례가 무더기로 적발됐습니...    KBS        42  \n",
       "2  HD현대오일뱅크가 데이터센터 열을 식혀주는 액침냉각유 시장 공략에 나선다고 22일 ...  머니투데이        36  \n",
       "3  금융위원회는 각 6개 금융협회·중앙회와 함께 오는 23일부터 개인사업자 대출상품 비...   데일리안        17  \n",
       "4  한국경제인협회(한경협)는 22일 내년 12대 수출 주력 업종의 수출 증가율이 1.4...   조선비즈        48  "
      ]
     },
     "execution_count": 40,
     "metadata": {},
     "output_type": "execute_result"
    }
   ],
   "source": [
    "data_dict = {\n",
    "    '번호': range(1, len(link_list)+1),\n",
    "    '기사 링크': link_list,\n",
    "    '기사 제목': title_list,\n",
    "    '기사 내용': content_list,\n",
    "    '언론사': press_list,\n",
    "    '관련 뉴스 개수': related_news_count_list\n",
    "    }\n",
    "df = pd.DataFrame(data_dict)\n",
    "df.head()"
   ]
  },
  {
   "cell_type": "markdown",
   "metadata": {},
   "source": [
    "# 데이터 출력"
   ]
  },
  {
   "cell_type": "code",
   "execution_count": 41,
   "metadata": {},
   "outputs": [
    {
     "data": {
      "text/plain": [
       "'20241222'"
      ]
     },
     "execution_count": 41,
     "metadata": {},
     "output_type": "execute_result"
    }
   ],
   "source": [
    "current_date = time.strftime('%Y%m%d')\n",
    "current_date"
   ]
  },
  {
   "cell_type": "code",
   "execution_count": 42,
   "metadata": {},
   "outputs": [
    {
     "data": {
      "text/plain": [
       "'20241222_PM_114037'"
      ]
     },
     "execution_count": 42,
     "metadata": {},
     "output_type": "execute_result"
    }
   ],
   "source": [
    "current_datetime = time.strftime('%Y%m%d_%p_%I%M%S')\n",
    "current_datetime"
   ]
  },
  {
   "cell_type": "code",
   "execution_count": 43,
   "metadata": {},
   "outputs": [
    {
     "data": {
      "text/plain": [
       "'c:/Users/kbjoo/Documents/Google_Drive/GitHub/my_projects/crawling/naver'"
      ]
     },
     "execution_count": 43,
     "metadata": {},
     "output_type": "execute_result"
    }
   ],
   "source": [
    "# 현재 경로 확인\n",
    "code_path = os.getcwd().replace('\\\\', '/')\n",
    "code_path"
   ]
  },
  {
   "cell_type": "code",
   "execution_count": null,
   "metadata": {},
   "outputs": [
    {
     "data": {
      "text/plain": [
       "'c:/Users/kbjoo/Documents/Google_Drive/GitHub/my_projects/crawling/naver\\\\crawled_data\\\\naver_news\\\\20241222'"
      ]
     },
     "execution_count": 44,
     "metadata": {},
     "output_type": "execute_result"
    }
   ],
   "source": [
    "# 수집한 파일 저장할 폴더 생성\n",
    "crawled_folder_path = os.path.join(code_path, 'crawled_data', 'naver_news', 'economy', current_date)\n",
    "crawled_folder_path"
   ]
  },
  {
   "cell_type": "code",
   "execution_count": 45,
   "metadata": {},
   "outputs": [],
   "source": [
    "os.makedirs(crawled_folder_path, exist_ok=True)"
   ]
  },
  {
   "cell_type": "code",
   "execution_count": 46,
   "metadata": {},
   "outputs": [],
   "source": [
    "# 엑셀 파일로 출력\n",
    "df.to_excel(os.path.join(crawled_folder_path, f'naver_news_economy_{current_datetime}.xlsx'), index=False)"
   ]
  },
  {
   "cell_type": "code",
   "execution_count": null,
   "metadata": {},
   "outputs": [],
   "source": [
    "driver.quit()\n",
    "print('수집 완료')"
   ]
  },
  {
   "cell_type": "markdown",
   "metadata": {},
   "source": [
    "# END"
   ]
  }
 ],
 "metadata": {
  "kernelspec": {
   "display_name": "crawling",
   "language": "python",
   "name": "python3"
  },
  "language_info": {
   "codemirror_mode": {
    "name": "ipython",
    "version": 3
   },
   "file_extension": ".py",
   "mimetype": "text/x-python",
   "name": "python",
   "nbconvert_exporter": "python",
   "pygments_lexer": "ipython3",
   "version": "3.13.0"
  },
  "orig_nbformat": 4
 },
 "nbformat": 4,
 "nbformat_minor": 2
}
