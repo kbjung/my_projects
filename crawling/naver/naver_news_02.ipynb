{
 "cells": [
  {
   "cell_type": "markdown",
   "metadata": {},
   "source": [
    "# Library"
   ]
  },
  {
   "cell_type": "code",
   "execution_count": 31,
   "metadata": {},
   "outputs": [],
   "source": [
    "import requests\n",
    "from bs4 import BeautifulSoup as bs\n",
    "\n",
    "import time, os, random\n",
    "import pandas as pd\n",
    "import numpy as np\n",
    "\n",
    "from selenium import webdriver\n",
    "import chromedriver_autoinstaller as ca\n",
    "\n",
    "from selenium.webdriver.common.by import By\n",
    "\n",
    "from selenium.webdriver.support.ui import WebDriverWait\n",
    "from selenium.webdriver.support import expected_conditions as EC"
   ]
  },
  {
   "cell_type": "markdown",
   "metadata": {},
   "source": [
    "## chrome driver 설치"
   ]
  },
  {
   "cell_type": "code",
   "execution_count": 32,
   "metadata": {},
   "outputs": [],
   "source": [
    "# USB error 메세지 발생 해결을 위한 코드\n",
    "options = webdriver.ChromeOptions()\n",
    "options.add_experimental_option(\"excludeSwitches\", [\"enable-logging\"])"
   ]
  },
  {
   "cell_type": "code",
   "execution_count": 33,
   "metadata": {},
   "outputs": [
    {
     "data": {
      "text/plain": [
       "'131'"
      ]
     },
     "execution_count": 33,
     "metadata": {},
     "output_type": "execute_result"
    }
   ],
   "source": [
    "# 현재 크롬 버전 확인\n",
    "chrome_ver = ca.get_chrome_version().split('.')[0]\n",
    "chrome_ver"
   ]
  },
  {
   "cell_type": "code",
   "execution_count": 34,
   "metadata": {},
   "outputs": [],
   "source": [
    "# # 크롬 드라이버 확인 및 설치(처음 한번만 실행)\n",
    "# ca.install(True)"
   ]
  },
  {
   "cell_type": "markdown",
   "metadata": {},
   "source": [
    "# 페이지 접속"
   ]
  },
  {
   "cell_type": "code",
   "execution_count": 35,
   "metadata": {},
   "outputs": [
    {
     "name": "stdout",
     "output_type": "stream",
     "text": [
      "세계 섹션의 뉴스를 크롤링합니다.\n"
     ]
    }
   ],
   "source": [
    "# 페이지 주소\n",
    "while True:\n",
    "    try:\n",
    "        section_number = int(input('뉴스의 섹션 번호를 입력하세요(1:정치, 2:경제, 3:사회, 4:생활/문화, 5:IT/과학, 6:세계): '))\n",
    "    except:\n",
    "        continue\n",
    "    if section_number == 1:\n",
    "        url = 'https://news.naver.com/section/100' # 네이버 뉴스 > 정치\n",
    "        print('정치 섹션의 뉴스를 크롤링합니다.')\n",
    "        break\n",
    "    elif section_number == 2:\n",
    "        url = 'https://news.naver.com/section/101' # 네이버 뉴스 > 경제\n",
    "        print('경제 섹션의 뉴스를 크롤링합니다.')\n",
    "        break\n",
    "    elif section_number == 3:\n",
    "        url = 'https://news.naver.com/section/102' # 네이버 뉴스 > 사회\n",
    "        print('사회 섹션의 뉴스를 크롤링합니다.')\n",
    "        break\n",
    "    elif section_number == 4:\n",
    "        url = 'https://news.naver.com/section/103' # 네이버 뉴스 > 생활/문화\n",
    "        print('생활/문화 섹션의 뉴스를 크롤링합니다.')\n",
    "        break\n",
    "    elif section_number == 5:\n",
    "        url = 'https://news.naver.com/section/105' # 네이버 뉴스 > IT/과학\n",
    "        print('IT/과학 섹션의 뉴스를 크롤링합니다.')\n",
    "        break\n",
    "    elif section_number == 6:\n",
    "        url = 'https://news.naver.com/section/104' # 네이버 뉴스 > 세계\n",
    "        print('세계 섹션의 뉴스를 크롤링합니다.')\n",
    "        break"
   ]
  },
  {
   "cell_type": "markdown",
   "metadata": {},
   "source": [
    "## requests 테스트\n",
    "- 페이지 접속 가능 여부확인\n",
    "    - 가능할 경우 출력 : <Response [200]>"
   ]
  },
  {
   "cell_type": "code",
   "execution_count": 36,
   "metadata": {},
   "outputs": [],
   "source": [
    "# req = requests.get(url)\n",
    "# print(req)\n",
    "# html = req.content.decode('utf-8') # 한글 깨짐 해결 코드\n",
    "# soup = bs(html, 'html.parser')\n",
    "# soup.title.text"
   ]
  },
  {
   "cell_type": "markdown",
   "metadata": {},
   "source": [
    "## selenium 작동"
   ]
  },
  {
   "cell_type": "code",
   "execution_count": 37,
   "metadata": {},
   "outputs": [],
   "source": [
    "# 웹드라이버 실행\n",
    "driver = webdriver.Chrome(options=options)"
   ]
  },
  {
   "cell_type": "code",
   "execution_count": 49,
   "metadata": {},
   "outputs": [],
   "source": [
    "driver.get(url)\n",
    "driver.implicitly_wait(10) # 페이지 로드 될 때까지 기다리지만 로드 되는 순간 종료\n",
    "# driver.maximize_window() # 브라우져 창 최대화"
   ]
  },
  {
   "cell_type": "markdown",
   "metadata": {},
   "source": [
    "## 헤드라인 뉴스 섹션 로드"
   ]
  },
  {
   "cell_type": "code",
   "execution_count": 50,
   "metadata": {},
   "outputs": [],
   "source": [
    "# 헤드라인 뉴스\n",
    "headline_news_more_view_button_xpath = '//*[@id=\"newsct\"]/div[1]/div[2]/a' # 헤드라인 더 보기 버튼\n",
    "\n",
    "# 헤드라인 더 보기 버튼 로딩 대기\n",
    "headline_news_more_view_button = WebDriverWait(driver, 10).until(\n",
    "    EC.presence_of_element_located((By.XPATH, headline_news_more_view_button_xpath))\n",
    ")\n",
    "\n",
    "# 헤드라인 더보기 버튼 클릭\n",
    "headline_news_more_view_button.click()\n",
    "driver.implicitly_wait(10)"
   ]
  },
  {
   "cell_type": "markdown",
   "metadata": {},
   "source": [
    "# 헤드라인 뉴스 수집"
   ]
  },
  {
   "cell_type": "code",
   "execution_count": 51,
   "metadata": {},
   "outputs": [
    {
     "data": {
      "text/plain": [
       "'세계 : 네이버 뉴스'"
      ]
     },
     "execution_count": 51,
     "metadata": {},
     "output_type": "execute_result"
    }
   ],
   "source": [
    "page = driver.page_source\n",
    "soup = bs(page, 'html.parser')\n",
    "soup.title.text"
   ]
  },
  {
   "cell_type": "code",
   "execution_count": 52,
   "metadata": {},
   "outputs": [
    {
     "data": {
      "text/plain": [
       "21"
      ]
     },
     "execution_count": 52,
     "metadata": {},
     "output_type": "execute_result"
    }
   ],
   "source": [
    "# 헤드라인 뉴스 섹션\n",
    "headline_news_section = soup.select_one('ul.sa_list')\n",
    "len(headline_news_section)"
   ]
  },
  {
   "cell_type": "code",
   "execution_count": 53,
   "metadata": {},
   "outputs": [
    {
     "name": "stdout",
     "output_type": "stream",
     "text": [
      "헤드라인 뉴스 개수 : 10\n"
     ]
    }
   ],
   "source": [
    "# 뉴스 타이들 리스트\n",
    "headline_news_list = headline_news_section.select('li.sa_item._SECTION_HEADLINE')\n",
    "print('헤드라인 뉴스 개수 :', len(headline_news_list))"
   ]
  },
  {
   "cell_type": "markdown",
   "metadata": {},
   "source": [
    "# 수집한 데이터 전처리"
   ]
  },
  {
   "cell_type": "code",
   "execution_count": null,
   "metadata": {},
   "outputs": [],
   "source": [
    "link_list = []\n",
    "title_list = []\n",
    "content_list = []\n",
    "press_list = []\n",
    "related_news_count_list = []\n",
    "\n",
    "for i in range(len(headline_news_list)):\n",
    "    # 기사 내용 섹션\n",
    "    news_content_section = headline_news_list[i].select_one('div.sa_text')\n",
    "\n",
    "    # 기사 링크\n",
    "    try:\n",
    "        link = news_content_section.select_one('a.sa_text_title._NLOG_IMPRESSION')['href']\n",
    "    except:\n",
    "        link = np.nan\n",
    "        print(i, '기사 링크 없음')\n",
    "    \n",
    "    # 타이틀\n",
    "    try:\n",
    "        title = news_content_section.select_one('strong.sa_text_strong').text.strip()\n",
    "    except:\n",
    "        title = np.nan\n",
    "        print(i, '타이틀 없음')\n",
    "    \n",
    "    # 기사 내용\n",
    "    try:\n",
    "        content = news_content_section.select_one('div.sa_text_lede').text.strip()\n",
    "    except:\n",
    "        content = np.nan\n",
    "        print(i, '기사 내용 없음')\n",
    "    \n",
    "    ## 언론사\n",
    "    try:\n",
    "        press = news_content_section.select_one('div.sa_text_press').text\n",
    "    except:\n",
    "        press = np.nan\n",
    "        print(i, '언론사 없음')\n",
    "    \n",
    "    ## 관련 뉴스 개수\n",
    "    try:\n",
    "        related_news_count = int(news_content_section.select_one('span.sa_text_cluster_num').text)\n",
    "    except:\n",
    "        related_news_count = np.nan\n",
    "        print(i, '관련 뉴스 개수 없음')\n",
    "    \n",
    "    # 정보 리스트에 담기\n",
    "    link_list.append(link)\n",
    "    title_list.append(title)\n",
    "    content_list.append(content)\n",
    "    press_list.append(press)\n",
    "    related_news_count_list.append(related_news_count)"
   ]
  },
  {
   "cell_type": "code",
   "execution_count": 55,
   "metadata": {},
   "outputs": [
    {
     "data": {
      "text/plain": [
       "(10, 10, 10, 10, 10)"
      ]
     },
     "execution_count": 55,
     "metadata": {},
     "output_type": "execute_result"
    }
   ],
   "source": [
    "len(link_list), len(title_list), len(content_list), len(press_list), len(related_news_count_list)"
   ]
  },
  {
   "cell_type": "code",
   "execution_count": 56,
   "metadata": {},
   "outputs": [
    {
     "data": {
      "text/html": [
       "<div>\n",
       "<style scoped>\n",
       "    .dataframe tbody tr th:only-of-type {\n",
       "        vertical-align: middle;\n",
       "    }\n",
       "\n",
       "    .dataframe tbody tr th {\n",
       "        vertical-align: top;\n",
       "    }\n",
       "\n",
       "    .dataframe thead th {\n",
       "        text-align: right;\n",
       "    }\n",
       "</style>\n",
       "<table border=\"1\" class=\"dataframe\">\n",
       "  <thead>\n",
       "    <tr style=\"text-align: right;\">\n",
       "      <th></th>\n",
       "      <th>번호</th>\n",
       "      <th>기사 링크</th>\n",
       "      <th>기사 제목</th>\n",
       "      <th>기사 내용</th>\n",
       "      <th>언론사</th>\n",
       "      <th>관련 뉴스 개수</th>\n",
       "    </tr>\n",
       "  </thead>\n",
       "  <tbody>\n",
       "    <tr>\n",
       "      <th>0</th>\n",
       "      <td>1</td>\n",
       "      <td>https://n.news.naver.com/mnews/article/056/001...</td>\n",
       "      <td>한미 “계엄사태로 연기됐던 주요 외교·안보 일정 완전 재개”</td>\n",
       "      <td>한미 양국이 한국의 계엄사태로 연기됐던 양국간 주요 외교, 안보 일정을 완전히 재개...</td>\n",
       "      <td>KBS</td>\n",
       "      <td>59</td>\n",
       "    </tr>\n",
       "    <tr>\n",
       "      <th>1</th>\n",
       "      <td>2</td>\n",
       "      <td>https://n.news.naver.com/mnews/article/055/000...</td>\n",
       "      <td>일본제철의 US스틸 인수 '불허' 바이든 결정만 남아</td>\n",
       "      <td>일본제철의 US스틸 인수를 심사해온 미국 재무부 산하 외국인투자심의위원회(CFIUS...</td>\n",
       "      <td>SBS</td>\n",
       "      <td>6</td>\n",
       "    </tr>\n",
       "    <tr>\n",
       "      <th>2</th>\n",
       "      <td>3</td>\n",
       "      <td>https://n.news.naver.com/mnews/article/056/001...</td>\n",
       "      <td>젤렌스키 “러시아 쿠르스크에서 북한군 사상자 3천명 넘어”</td>\n",
       "      <td>볼로디미르 젤렌스키 우크라이나 대통령은 북한군이 러시아 서부 쿠르스크 지역에서 우크...</td>\n",
       "      <td>KBS</td>\n",
       "      <td>33</td>\n",
       "    </tr>\n",
       "    <tr>\n",
       "      <th>3</th>\n",
       "      <td>4</td>\n",
       "      <td>https://n.news.naver.com/mnews/article/214/000...</td>\n",
       "      <td>러 \"내년 전승절 붉은광장 열병식에 북한군 참가할 수도\"</td>\n",
       "      <td>내년 러시아의 제2차 세계대전 승리 기념일, 전승절 행사에 북한군이 참여할 수 있다...</td>\n",
       "      <td>MBC</td>\n",
       "      <td>32</td>\n",
       "    </tr>\n",
       "    <tr>\n",
       "      <th>4</th>\n",
       "      <td>5</td>\n",
       "      <td>https://n.news.naver.com/mnews/article/003/001...</td>\n",
       "      <td>日증시, '닛산 합병' 혼다 10%대 급등…닛케이지수 0.12%↑</td>\n",
       "      <td>24일 도쿄 주식시장에서 닛케이225지수(닛케이평균주가)는 상승세로 출발했다. 이날...</td>\n",
       "      <td>뉴시스</td>\n",
       "      <td>65</td>\n",
       "    </tr>\n",
       "    <tr>\n",
       "      <th>5</th>\n",
       "      <td>6</td>\n",
       "      <td>https://n.news.naver.com/mnews/article/001/001...</td>\n",
       "      <td>\"우크라 국민 73% 핵무장 복원 지지\"</td>\n",
       "      <td>신창용 특파원 = 우크라이나 국민 4명 중 3명은 핵무장 복원에 찬성하는 것으로 나...</td>\n",
       "      <td>연합뉴스</td>\n",
       "      <td>6</td>\n",
       "    </tr>\n",
       "    <tr>\n",
       "      <th>6</th>\n",
       "      <td>7</td>\n",
       "      <td>https://n.news.naver.com/mnews/article/277/000...</td>\n",
       "      <td>美의회조사국 \"韓 탄핵 정국에 尹 외교정책 지속성 의문\"</td>\n",
       "      <td>미 의회조사국(CRS)이 한국의 계엄과 탄핵 사태로 한·미·일 3자 협력 등 윤석열...</td>\n",
       "      <td>아시아경제</td>\n",
       "      <td>20</td>\n",
       "    </tr>\n",
       "    <tr>\n",
       "      <th>7</th>\n",
       "      <td>8</td>\n",
       "      <td>https://n.news.naver.com/mnews/article/215/000...</td>\n",
       "      <td>\"빠지면 더 산다\"…비트코인 7주 연속 매입한 '이곳'</td>\n",
       "      <td>비트코인 가격 하락세가 지속되고 있는 가운데 세계 최대 암호화폐 기업 마이크로스트래...</td>\n",
       "      <td>한국경제TV</td>\n",
       "      <td>60</td>\n",
       "    </tr>\n",
       "    <tr>\n",
       "      <th>8</th>\n",
       "      <td>9</td>\n",
       "      <td>https://n.news.naver.com/mnews/article/052/000...</td>\n",
       "      <td>트럼프, 덴마크 대사 지명...또 '그린란드 편입' 주장</td>\n",
       "      <td>도널드 트럼프 미국 대통령 당선인이 덴마크 주재 미국 대사 지명을 발표하면서 덴마크...</td>\n",
       "      <td>YTN</td>\n",
       "      <td>22</td>\n",
       "    </tr>\n",
       "    <tr>\n",
       "      <th>9</th>\n",
       "      <td>10</td>\n",
       "      <td>https://n.news.naver.com/mnews/article/052/000...</td>\n",
       "      <td>\"이시바, 트럼프 취임 전 회동 검토...고용 공헌 강조할 듯\"</td>\n",
       "      <td>이시바 시게루 일본 총리가 다음 달 중순 미국을 방문해 트럼프 대통령 당선인과 취임...</td>\n",
       "      <td>YTN</td>\n",
       "      <td>5</td>\n",
       "    </tr>\n",
       "  </tbody>\n",
       "</table>\n",
       "</div>"
      ],
      "text/plain": [
       "   번호                                              기사 링크  \\\n",
       "0   1  https://n.news.naver.com/mnews/article/056/001...   \n",
       "1   2  https://n.news.naver.com/mnews/article/055/000...   \n",
       "2   3  https://n.news.naver.com/mnews/article/056/001...   \n",
       "3   4  https://n.news.naver.com/mnews/article/214/000...   \n",
       "4   5  https://n.news.naver.com/mnews/article/003/001...   \n",
       "5   6  https://n.news.naver.com/mnews/article/001/001...   \n",
       "6   7  https://n.news.naver.com/mnews/article/277/000...   \n",
       "7   8  https://n.news.naver.com/mnews/article/215/000...   \n",
       "8   9  https://n.news.naver.com/mnews/article/052/000...   \n",
       "9  10  https://n.news.naver.com/mnews/article/052/000...   \n",
       "\n",
       "                                  기사 제목  \\\n",
       "0     한미 “계엄사태로 연기됐던 주요 외교·안보 일정 완전 재개”   \n",
       "1         일본제철의 US스틸 인수 '불허' 바이든 결정만 남아   \n",
       "2      젤렌스키 “러시아 쿠르스크에서 북한군 사상자 3천명 넘어”   \n",
       "3       러 \"내년 전승절 붉은광장 열병식에 북한군 참가할 수도\"   \n",
       "4  日증시, '닛산 합병' 혼다 10%대 급등…닛케이지수 0.12%↑   \n",
       "5                \"우크라 국민 73% 핵무장 복원 지지\"   \n",
       "6       美의회조사국 \"韓 탄핵 정국에 尹 외교정책 지속성 의문\"   \n",
       "7        \"빠지면 더 산다\"…비트코인 7주 연속 매입한 '이곳'   \n",
       "8       트럼프, 덴마크 대사 지명...또 '그린란드 편입' 주장   \n",
       "9   \"이시바, 트럼프 취임 전 회동 검토...고용 공헌 강조할 듯\"   \n",
       "\n",
       "                                               기사 내용     언론사  관련 뉴스 개수  \n",
       "0  한미 양국이 한국의 계엄사태로 연기됐던 양국간 주요 외교, 안보 일정을 완전히 재개...     KBS        59  \n",
       "1  일본제철의 US스틸 인수를 심사해온 미국 재무부 산하 외국인투자심의위원회(CFIUS...     SBS         6  \n",
       "2  볼로디미르 젤렌스키 우크라이나 대통령은 북한군이 러시아 서부 쿠르스크 지역에서 우크...     KBS        33  \n",
       "3  내년 러시아의 제2차 세계대전 승리 기념일, 전승절 행사에 북한군이 참여할 수 있다...     MBC        32  \n",
       "4  24일 도쿄 주식시장에서 닛케이225지수(닛케이평균주가)는 상승세로 출발했다. 이날...     뉴시스        65  \n",
       "5  신창용 특파원 = 우크라이나 국민 4명 중 3명은 핵무장 복원에 찬성하는 것으로 나...    연합뉴스         6  \n",
       "6  미 의회조사국(CRS)이 한국의 계엄과 탄핵 사태로 한·미·일 3자 협력 등 윤석열...   아시아경제        20  \n",
       "7  비트코인 가격 하락세가 지속되고 있는 가운데 세계 최대 암호화폐 기업 마이크로스트래...  한국경제TV        60  \n",
       "8  도널드 트럼프 미국 대통령 당선인이 덴마크 주재 미국 대사 지명을 발표하면서 덴마크...     YTN        22  \n",
       "9  이시바 시게루 일본 총리가 다음 달 중순 미국을 방문해 트럼프 대통령 당선인과 취임...     YTN         5  "
      ]
     },
     "execution_count": 56,
     "metadata": {},
     "output_type": "execute_result"
    }
   ],
   "source": [
    "data_dict = {\n",
    "    '번호': range(1, len(link_list)+1),\n",
    "    '기사 링크': link_list,\n",
    "    '기사 제목': title_list,\n",
    "    '기사 내용': content_list,\n",
    "    '언론사': press_list,\n",
    "    '관련 뉴스 개수': related_news_count_list\n",
    "    }\n",
    "df = pd.DataFrame(data_dict)\n",
    "df"
   ]
  },
  {
   "cell_type": "markdown",
   "metadata": {},
   "source": [
    "# 데이터 출력"
   ]
  },
  {
   "cell_type": "code",
   "execution_count": 25,
   "metadata": {},
   "outputs": [
    {
     "data": {
      "text/plain": [
       "'20241224'"
      ]
     },
     "execution_count": 25,
     "metadata": {},
     "output_type": "execute_result"
    }
   ],
   "source": [
    "current_date = time.strftime('%Y%m%d')\n",
    "current_date"
   ]
  },
  {
   "cell_type": "code",
   "execution_count": 26,
   "metadata": {},
   "outputs": [
    {
     "data": {
      "text/plain": [
       "'20241224_PM_013629'"
      ]
     },
     "execution_count": 26,
     "metadata": {},
     "output_type": "execute_result"
    }
   ],
   "source": [
    "current_datetime = time.strftime('%Y%m%d_%p_%I%M%S')\n",
    "current_datetime"
   ]
  },
  {
   "cell_type": "code",
   "execution_count": 27,
   "metadata": {},
   "outputs": [
    {
     "data": {
      "text/plain": [
       "'c:/Users/kbjoo/Documents/Google_Drive/GitHub/my_projects/crawling/naver'"
      ]
     },
     "execution_count": 27,
     "metadata": {},
     "output_type": "execute_result"
    }
   ],
   "source": [
    "# 현재 경로 확인\n",
    "code_path = os.getcwd().replace('\\\\', '/')\n",
    "code_path"
   ]
  },
  {
   "cell_type": "code",
   "execution_count": null,
   "metadata": {},
   "outputs": [
    {
     "name": "stdout",
     "output_type": "stream",
     "text": [
      "c:/Users/kbjoo/Documents/Google_Drive/GitHub/my_projects/crawling/naver\\crawled_data\\naver_news\\economy\\20241224\n"
     ]
    }
   ],
   "source": [
    "# 수집한 파일 저장할 폴더 생성\n",
    "    # 1:정치, 2:경제, 3:사회, 4:생활/문화, 5:IT/과학, 6:세계\n",
    "if section_number == 1:\n",
    "    section = 'politics'\n",
    "    print('정치 섹션의 뉴스를 출력합니다.')\n",
    "elif section_number == 2:\n",
    "    section = 'economy'\n",
    "    print('경제 섹션의 뉴스를 출력합니다.')\n",
    "elif section_number == 3:\n",
    "    section = 'society'\n",
    "    print('사회 섹션의 뉴스를 출력합니다.')\n",
    "elif section_number == 4:\n",
    "    section = 'life_culture'\n",
    "    print('생활/문화 섹션의 뉴스를 출력합니다.')\n",
    "elif section_number == 5:\n",
    "    section = 'it_science'\n",
    "    print('IT/과학 섹션의 뉴스를 출력합니다.')\n",
    "elif section_number == 6:\n",
    "    section = 'world'\n",
    "    print('세계 섹션의 뉴스를 출력합니다.')\n",
    "    \n",
    "crawled_folder_path = os.path.join(code_path, 'crawled_data', 'naver_news', section, current_date)\n",
    "os.makedirs(crawled_folder_path, exist_ok=True)\n",
    "print('파일 저장 위치 :', crawled_folder_path)"
   ]
  },
  {
   "cell_type": "code",
   "execution_count": 29,
   "metadata": {},
   "outputs": [],
   "source": [
    "# 엑셀 파일로 출력\n",
    "df.to_excel(os.path.join(crawled_folder_path, f'naver_news_{section}_{current_datetime}.xlsx'), index=False)"
   ]
  },
  {
   "cell_type": "code",
   "execution_count": 57,
   "metadata": {},
   "outputs": [
    {
     "name": "stdout",
     "output_type": "stream",
     "text": [
      "크롤링을 종료합니다.\n"
     ]
    }
   ],
   "source": [
    "driver.quit()\n",
    "print('크롤링을 종료합니다.')"
   ]
  },
  {
   "cell_type": "markdown",
   "metadata": {},
   "source": [
    "# END"
   ]
  }
 ],
 "metadata": {
  "kernelspec": {
   "display_name": "crawling",
   "language": "python",
   "name": "python3"
  },
  "language_info": {
   "codemirror_mode": {
    "name": "ipython",
    "version": 3
   },
   "file_extension": ".py",
   "mimetype": "text/x-python",
   "name": "python",
   "nbconvert_exporter": "python",
   "pygments_lexer": "ipython3",
   "version": "3.13.0"
  },
  "orig_nbformat": 4
 },
 "nbformat": 4,
 "nbformat_minor": 2
}
