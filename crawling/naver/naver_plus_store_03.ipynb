{
 "cells": [
  {
   "cell_type": "markdown",
   "metadata": {},
   "source": [
    "# Library"
   ]
  },
  {
   "cell_type": "code",
   "execution_count": 1,
   "metadata": {},
   "outputs": [],
   "source": [
    "import requests\n",
    "from bs4 import BeautifulSoup as bs\n",
    "\n",
    "import time, os, random\n",
    "import pandas as pd\n",
    "import re\n",
    "import numpy as np\n",
    "\n",
    "from selenium import webdriver\n",
    "import chromedriver_autoinstaller as ca\n",
    "\n",
    "from selenium.webdriver.common.by import By\n",
    "from selenium.webdriver import ActionChains\n",
    "from selenium.webdriver.common.keys import Keys\n",
    "\n",
    "from selenium.webdriver.support.ui import WebDriverWait\n",
    "from selenium.webdriver.support import expected_conditions as EC"
   ]
  },
  {
   "cell_type": "markdown",
   "metadata": {},
   "source": [
    "## chrome driver 설치"
   ]
  },
  {
   "cell_type": "code",
   "execution_count": 2,
   "metadata": {},
   "outputs": [],
   "source": [
    "# USB error 메세지 발생 해결을 위한 코드\n",
    "options = webdriver.ChromeOptions()\n",
    "options.add_experimental_option(\"excludeSwitches\", [\"enable-logging\"])"
   ]
  },
  {
   "cell_type": "code",
   "execution_count": 3,
   "metadata": {},
   "outputs": [
    {
     "data": {
      "text/plain": [
       "'131'"
      ]
     },
     "execution_count": 3,
     "metadata": {},
     "output_type": "execute_result"
    }
   ],
   "source": [
    "# 현재 크롬 버전 확인\n",
    "chrome_ver = ca.get_chrome_version().split('.')[0]\n",
    "chrome_ver"
   ]
  },
  {
   "cell_type": "code",
   "execution_count": 4,
   "metadata": {},
   "outputs": [],
   "source": [
    "# # 크롬 드라이버 확인 및 설치(처음 한번만 실행)\n",
    "# ca.install(True)"
   ]
  },
  {
   "cell_type": "markdown",
   "metadata": {},
   "source": [
    "## chrome driver 실행"
   ]
  },
  {
   "cell_type": "code",
   "execution_count": 5,
   "metadata": {},
   "outputs": [],
   "source": [
    "# 웹드라이버 실행\n",
    "driver = webdriver.Chrome(options=options)"
   ]
  },
  {
   "cell_type": "markdown",
   "metadata": {},
   "source": [
    "## 페이지 접속"
   ]
  },
  {
   "cell_type": "code",
   "execution_count": 6,
   "metadata": {},
   "outputs": [],
   "source": [
    "# 페이지 주소\n",
    "url = 'https://shopping.naver.com/ns/home'"
   ]
  },
  {
   "cell_type": "markdown",
   "metadata": {},
   "source": [
    "### requests 테스트\n",
    "- 페이지 접속 가능 여부확인\n",
    "    - 가능할 경우 출력 : <Response [200]>"
   ]
  },
  {
   "cell_type": "code",
   "execution_count": 7,
   "metadata": {},
   "outputs": [],
   "source": [
    "# req = requests.get(url)\n",
    "# print(req)\n",
    "# html = req.content.decode('utf-8') # 한글 깨짐 해결 코드\n",
    "# soup = bs(html, 'html.parser')\n",
    "# soup.title.text"
   ]
  },
  {
   "cell_type": "markdown",
   "metadata": {},
   "source": [
    "### selenium 작동"
   ]
  },
  {
   "cell_type": "code",
   "execution_count": 8,
   "metadata": {},
   "outputs": [],
   "source": [
    "driver.get(url)\n",
    "driver.implicitly_wait(10) # 페이지 로드 될 때까지 기다리지만 로드 되는 순간 종료\n",
    "# driver.maximize_window() # 브라우져 창 최대화"
   ]
  },
  {
   "cell_type": "markdown",
   "metadata": {},
   "source": [
    "### 검색 창에 검색어 입력"
   ]
  },
  {
   "cell_type": "code",
   "execution_count": 9,
   "metadata": {},
   "outputs": [],
   "source": [
    "# 검색창 정보\n",
    "search_window_xpath = '//*[@id=\"gnb-gnb\"]/div[2]/div/div[2]/div[1]/form/div/div/div/div/input' # 검색 입력창\n",
    "search_window = driver.find_element(By.XPATH, search_window_xpath)\n",
    "\n",
    "# 검색어\n",
    "search_keyword = '아이라인'\n",
    "\n",
    "# 검색창에 검색어 입력\n",
    "search_window.send_keys(search_keyword)\n",
    "\n",
    "# 검색 창 요소가 존재할 때까지 기다림\n",
    "search_window = WebDriverWait(driver, 10).until(\n",
    "    EC.presence_of_element_located((By.XPATH, search_window_xpath))\n",
    ")\n",
    "\n",
    "# 검색 창에 엔터 입력\n",
    "search_window.send_keys(Keys.ENTER)\n",
    "driver.implicitly_wait(10)"
   ]
  },
  {
   "cell_type": "code",
   "execution_count": 10,
   "metadata": {},
   "outputs": [
    {
     "name": "stdout",
     "output_type": "stream",
     "text": [
      "상품 리스트 개수 : 47\n",
      "6\n",
      "28\n",
      "상품 리스트 개수 : 97\n",
      "28\n",
      "83\n",
      "91\n",
      "상품 리스트 개수 : 100\n",
      "75\n",
      "89\n",
      "94\n",
      "99\n",
      "상품 리스트 개수 : 100\n",
      "25\n",
      "상품 리스트 개수 : 100\n",
      "상품 리스트 개수 : 100\n",
      "상품 리스트 개수 : 100\n",
      "상품 리스트 개수 : 100\n",
      "상품 리스트 개수 : 100\n",
      "상품 리스트 개수 : 100\n",
      "88\n",
      "89\n",
      "데이터 수집 완료\n"
     ]
    }
   ],
   "source": [
    "# 스크롤해야 정보가 로드되는 페이지\n",
    "# 페이지 스크롤 다운\n",
    "scroll_num = 10\n",
    "\n",
    "# 데이터 담을 데이터프레임 생성\n",
    "raw_df = pd.DataFrame()\n",
    "\n",
    "for scnum in range(scroll_num):\n",
    "\n",
    "    # 페이지 수프에 담기\n",
    "    page = driver.page_source\n",
    "    soup = bs(page, 'html.parser')\n",
    "\n",
    "    # 상품 섹션 추출\n",
    "    products_section = soup.select_one('div#composite-card-list')\n",
    "\n",
    "    # 상품 리스트\n",
    "    product_list = products_section.select('li.compositeCardContainer_composite_card_container__jr8cb.composite_card_container div.basicProductCard_basic_product_card__TdrHT.basicProductCard_view_type_grid2__vKr1n')\n",
    "    print('상품 리스트 개수 :', len(product_list))\n",
    "\n",
    "    detail_link_list = []\n",
    "    img_src_list = []\n",
    "    title_list = []\n",
    "    original_price_list = []\n",
    "    discount_rate_list = []\n",
    "    price_list = []\n",
    "    delivery_price_list = []\n",
    "\n",
    "    for i in range(len(product_list)):\n",
    "        # 상세 페이지 링크\n",
    "        try:\n",
    "            detail_link = product_list[i].select_one('a.basicProductCard_link__urzND._nlog_click._nlog_impression_element')['href']\n",
    "        except:\n",
    "            print(i)\n",
    "            # print('상세페이지링크없음')\n",
    "        # 이미지 링크\n",
    "        try:\n",
    "            img_src = product_list[i].select_one('div.productCardThumbnail_thumbnail__KzO1N img.autoFitImg_auto_fit_img__fIpj4.autoFitImg_full_height__QCTGq.productCardThumbnail_image__Li6iz.scale')['src']\n",
    "        except:\n",
    "            print(i)\n",
    "            # print('이미지링크없음')\n",
    "        \n",
    "        # 상품 정보 섹션\n",
    "        product_info_section = product_list[i].select_one('div.basicProductCardInformation_basic_product_card_information__7v_uc')\n",
    "        \n",
    "        ## 상품 제목\n",
    "        try:\n",
    "            title = product_info_section.select_one('strong.basicProductCardInformation_title__Bc_Ng').text\n",
    "        except:\n",
    "            print(i)\n",
    "            # print('상품제목없음')\n",
    "        \n",
    "        ## 원래가격\n",
    "        try:\n",
    "            raw_original_price = product_info_section.select_one('span.priceTag_original_price__jyZRY').text\n",
    "            original_price = int(re.sub('[^0-9]', '', raw_original_price))\n",
    "        except:\n",
    "            original_price = np.nan\n",
    "            # print('원래가격없음')\n",
    "\n",
    "        ## 할인률\n",
    "        try:\n",
    "            raw_discount_rate = product_info_section.select_one('span.priceTag_discount__F_ZXz').text\n",
    "            discount_rate = int(re.sub('[^0-9]', '', raw_discount_rate)) / 100\n",
    "        except:\n",
    "            discount_rate = np.nan\n",
    "            # print('할인률없음')\n",
    "\n",
    "        ## 현재가격\n",
    "        try:\n",
    "            raw_price = product_info_section.select_one('span.priceTag_inner_price__TctbK').text\n",
    "            price = int(re.sub('[^0-9]', '', raw_price))\n",
    "        except:\n",
    "            print(i)\n",
    "            # print('현재가격없음')\n",
    "            \n",
    "        ## 배송비\n",
    "        try:\n",
    "            raw_delivery_price = product_info_section.select_one('div.productCardPrice_delivery_price__AiyD2').text\n",
    "            delivery_price = int(re.sub('[^0-9]', '', raw_delivery_price))\n",
    "        except:\n",
    "            delivery_price = np.nan\n",
    "            # print('배송비없음')\n",
    "\n",
    "        # 정보 리스트에 담기\n",
    "        detail_link_list.append(detail_link)\n",
    "        img_src_list.append(img_src)\n",
    "        title_list.append(title)\n",
    "        original_price_list.append(original_price)\n",
    "        discount_rate_list.append(discount_rate)\n",
    "        delivery_price_list.append(delivery_price)\n",
    "        price_list.append(price)\n",
    "\n",
    "    # # 정보 리스트 개수 확인\n",
    "    # print('스크롤 횟수 :', scnum)\n",
    "    # print('detail_link_list 원소 개수 :', len(detail_link_list))\n",
    "    # print('img_src_list 원소 개수 :', len(img_src_list))\n",
    "    # print('title_list 원소 개수 :', len(title_list))\n",
    "    # print('original_price_list 원소 개수 :', len(original_price_list))\n",
    "    # print('discount_rate_list 원소 개수 :', len(discount_rate_list))\n",
    "    # print('price_list 원소 개수 :', len(price_list))\n",
    "    # print('delivery_price_list 원소 개수 :', len(delivery_price_list))\n",
    "\n",
    "    # 데이터프레임 생성\n",
    "    data_dict = {\n",
    "    '상세페이지링크':detail_link_list,\n",
    "    '이미지링크':img_src_list,\n",
    "    '제품제목':title_list,\n",
    "    '원래가격':original_price_list,\n",
    "    '할인률':discount_rate_list,\n",
    "    '현재가격':price_list,\n",
    "    '배송비':delivery_price_list\n",
    "    }\n",
    "    some_df = pd.DataFrame(data_dict)\n",
    "    raw_df = pd.concat([raw_df, some_df], axis=0)\n",
    "\n",
    "    # 페이지 스크롤 다운\n",
    "    driver.execute_script(\"window.scrollTo(0, document.body.scrollHeight);\") # 문서 높이 만큼 스크롤\n",
    "    time.sleep(random.uniform(1, 3)) # 랜덤 시간 대기\n",
    "    driver.implicitly_wait(10)\n",
    "\n",
    "print('데이터 수집 완료')"
   ]
  },
  {
   "cell_type": "code",
   "execution_count": 11,
   "metadata": {},
   "outputs": [
    {
     "name": "stdout",
     "output_type": "stream",
     "text": [
      "(944, 7)\n",
      "(716, 8)\n"
     ]
    }
   ],
   "source": [
    "# 중복 데이터 정리\n",
    "print(raw_df.shape)\n",
    "df = raw_df.drop_duplicates().reset_index(drop=True)\n",
    "df['번호'] = df.index + 1\n",
    "df = df[['번호', '상세페이지링크', '이미지링크', '제품제목', '원래가격', '할인률', '현재가격', '배송비']]\n",
    "print(df.shape)"
   ]
  },
  {
   "cell_type": "code",
   "execution_count": 12,
   "metadata": {},
   "outputs": [
    {
     "data": {
      "text/html": [
       "<div>\n",
       "<style scoped>\n",
       "    .dataframe tbody tr th:only-of-type {\n",
       "        vertical-align: middle;\n",
       "    }\n",
       "\n",
       "    .dataframe tbody tr th {\n",
       "        vertical-align: top;\n",
       "    }\n",
       "\n",
       "    .dataframe thead th {\n",
       "        text-align: right;\n",
       "    }\n",
       "</style>\n",
       "<table border=\"1\" class=\"dataframe\">\n",
       "  <thead>\n",
       "    <tr style=\"text-align: right;\">\n",
       "      <th></th>\n",
       "      <th>번호</th>\n",
       "      <th>상세페이지링크</th>\n",
       "      <th>이미지링크</th>\n",
       "      <th>제품제목</th>\n",
       "      <th>원래가격</th>\n",
       "      <th>할인률</th>\n",
       "      <th>현재가격</th>\n",
       "      <th>배송비</th>\n",
       "    </tr>\n",
       "  </thead>\n",
       "  <tbody>\n",
       "    <tr>\n",
       "      <th>711</th>\n",
       "      <td>712</td>\n",
       "      <td>https://smartstore.naver.com/main/products/107...</td>\n",
       "      <td>data:image/png;base64,iVBORw0KGgoAAAANSUhEUgAA...</td>\n",
       "      <td>[신속상품] 아이라이너 리퀴드 연출해주는 눈매라인 선명한 19D14-2691</td>\n",
       "      <td>14960.0</td>\n",
       "      <td>0.01</td>\n",
       "      <td>14810</td>\n",
       "      <td>3000.0</td>\n",
       "    </tr>\n",
       "    <tr>\n",
       "      <th>712</th>\n",
       "      <td>713</td>\n",
       "      <td>https://smartstore.naver.com/main/products/105...</td>\n",
       "      <td>data:image/png;base64,iVBORw0KGgoAAAANSUhEUgAA...</td>\n",
       "      <td>아이라이너 워터프루프 방수 애교살라이너 눈꺼풀 라인 스틱 얇은 없음 패션 뷰티 코스프레</td>\n",
       "      <td>NaN</td>\n",
       "      <td>NaN</td>\n",
       "      <td>15800</td>\n",
       "      <td>NaN</td>\n",
       "    </tr>\n",
       "    <tr>\n",
       "      <th>713</th>\n",
       "      <td>714</td>\n",
       "      <td>https://smartstore.naver.com/main/products/758...</td>\n",
       "      <td>data:image/png;base64,iVBORw0KGgoAAAANSUhEUgAA...</td>\n",
       "      <td>해외Melt Cosmetics Slick Waterline Eye Pencil 멜트...</td>\n",
       "      <td>NaN</td>\n",
       "      <td>NaN</td>\n",
       "      <td>49800</td>\n",
       "      <td>NaN</td>\n",
       "    </tr>\n",
       "    <tr>\n",
       "      <th>714</th>\n",
       "      <td>715</td>\n",
       "      <td>https://smartstore.naver.com/main/products/852...</td>\n",
       "      <td>data:image/png;base64,iVBORw0KGgoAAAANSUhEUgAA...</td>\n",
       "      <td>해외Melt Cosmetics Slick Waterline Eye Pencil 멜트...</td>\n",
       "      <td>NaN</td>\n",
       "      <td>NaN</td>\n",
       "      <td>51300</td>\n",
       "      <td>NaN</td>\n",
       "    </tr>\n",
       "    <tr>\n",
       "      <th>715</th>\n",
       "      <td>716</td>\n",
       "      <td>https://smartstore.naver.com/main/products/758...</td>\n",
       "      <td>data:image/png;base64,iVBORw0KGgoAAAANSUhEUgAA...</td>\n",
       "      <td>해외Melt Cosmetics Slick Waterline Eye Pencil 멜트...</td>\n",
       "      <td>NaN</td>\n",
       "      <td>NaN</td>\n",
       "      <td>49800</td>\n",
       "      <td>NaN</td>\n",
       "    </tr>\n",
       "  </tbody>\n",
       "</table>\n",
       "</div>"
      ],
      "text/plain": [
       "      번호                                            상세페이지링크  \\\n",
       "711  712  https://smartstore.naver.com/main/products/107...   \n",
       "712  713  https://smartstore.naver.com/main/products/105...   \n",
       "713  714  https://smartstore.naver.com/main/products/758...   \n",
       "714  715  https://smartstore.naver.com/main/products/852...   \n",
       "715  716  https://smartstore.naver.com/main/products/758...   \n",
       "\n",
       "                                                 이미지링크  \\\n",
       "711  data:image/png;base64,iVBORw0KGgoAAAANSUhEUgAA...   \n",
       "712  data:image/png;base64,iVBORw0KGgoAAAANSUhEUgAA...   \n",
       "713  data:image/png;base64,iVBORw0KGgoAAAANSUhEUgAA...   \n",
       "714  data:image/png;base64,iVBORw0KGgoAAAANSUhEUgAA...   \n",
       "715  data:image/png;base64,iVBORw0KGgoAAAANSUhEUgAA...   \n",
       "\n",
       "                                                  제품제목     원래가격   할인률   현재가격  \\\n",
       "711         [신속상품] 아이라이너 리퀴드 연출해주는 눈매라인 선명한 19D14-2691  14960.0  0.01  14810   \n",
       "712   아이라이너 워터프루프 방수 애교살라이너 눈꺼풀 라인 스틱 얇은 없음 패션 뷰티 코스프레      NaN   NaN  15800   \n",
       "713  해외Melt Cosmetics Slick Waterline Eye Pencil 멜트...      NaN   NaN  49800   \n",
       "714  해외Melt Cosmetics Slick Waterline Eye Pencil 멜트...      NaN   NaN  51300   \n",
       "715  해외Melt Cosmetics Slick Waterline Eye Pencil 멜트...      NaN   NaN  49800   \n",
       "\n",
       "        배송비  \n",
       "711  3000.0  \n",
       "712     NaN  \n",
       "713     NaN  \n",
       "714     NaN  \n",
       "715     NaN  "
      ]
     },
     "execution_count": 12,
     "metadata": {},
     "output_type": "execute_result"
    }
   ],
   "source": [
    "df.tail()"
   ]
  },
  {
   "cell_type": "code",
   "execution_count": 13,
   "metadata": {},
   "outputs": [],
   "source": [
    "# # 무한 페이지 스크롤다운\n",
    "# last_page_height = driver.execute_script(\"return document.documentElement.scrollHeight\")\n",
    "\n",
    "# while True:\n",
    "#     driver.execute_script(\"window.scrollTo(0, document.body.scrollHeight);\") # 문서 높이 만큼 스크롤\n",
    "#     # driver.execute_script(\"window.scrollTo(0, document.documentElement.scrollHeight);\") # # 문서 높이 만큼 스크롤(위 코드와 동일한 기능)\n",
    "#     time.sleep(random.uniform(1, 3))\n",
    "#     driver.implicitly_wait(10) # 페이지 로드 될 때까지 기다리지만 로드 되는 순간 종료\n",
    "\n",
    "#     new_page_height = driver.execute_script(\"return document.documentElement.scrollHeight\")\n",
    "#     if new_page_height == last_page_height:\n",
    "#         break\n",
    "#     else:\n",
    "#         last_page_height = new_page_height"
   ]
  },
  {
   "cell_type": "markdown",
   "metadata": {},
   "source": [
    "# 데이터 출력"
   ]
  },
  {
   "cell_type": "code",
   "execution_count": 14,
   "metadata": {},
   "outputs": [
    {
     "data": {
      "text/plain": [
       "'20241220'"
      ]
     },
     "execution_count": 14,
     "metadata": {},
     "output_type": "execute_result"
    }
   ],
   "source": [
    "current_date = time.strftime('%Y%m%d')\n",
    "current_date"
   ]
  },
  {
   "cell_type": "code",
   "execution_count": 15,
   "metadata": {},
   "outputs": [
    {
     "data": {
      "text/plain": [
       "'20241220_PM_045715'"
      ]
     },
     "execution_count": 15,
     "metadata": {},
     "output_type": "execute_result"
    }
   ],
   "source": [
    "current_datetime = time.strftime('%Y%m%d_%p_%I%M%S')\n",
    "current_datetime"
   ]
  },
  {
   "cell_type": "code",
   "execution_count": 16,
   "metadata": {},
   "outputs": [
    {
     "data": {
      "text/plain": [
       "'c:/Users/kbjoo/Documents/Google_Drive/GitHub/my_projects/crawling/naver'"
      ]
     },
     "execution_count": 16,
     "metadata": {},
     "output_type": "execute_result"
    }
   ],
   "source": [
    "# 현재 경로 확인\n",
    "code_path = os.getcwd().replace('\\\\', '/')\n",
    "code_path"
   ]
  },
  {
   "cell_type": "code",
   "execution_count": 17,
   "metadata": {},
   "outputs": [
    {
     "data": {
      "text/plain": [
       "'c:/Users/kbjoo/Documents/Google_Drive/GitHub/my_projects/crawling/naver\\\\crawled_data\\\\naver_plus_store\\\\20241220'"
      ]
     },
     "execution_count": 17,
     "metadata": {},
     "output_type": "execute_result"
    }
   ],
   "source": [
    "# 수집한 파일 저장할 폴더 생성\n",
    "crawled_folder_path = os.path.join(code_path, 'crawled_data', 'naver_plus_store', current_date)\n",
    "crawled_folder_path"
   ]
  },
  {
   "cell_type": "code",
   "execution_count": 18,
   "metadata": {},
   "outputs": [],
   "source": [
    "os.makedirs(crawled_folder_path, exist_ok=True)"
   ]
  },
  {
   "cell_type": "code",
   "execution_count": 19,
   "metadata": {},
   "outputs": [],
   "source": [
    "# 엑셀 파일로 출력\n",
    "df.to_excel(os.path.join(crawled_folder_path, f'naver_{search_keyword}_{current_datetime}.xlsx'), index=False)"
   ]
  },
  {
   "cell_type": "code",
   "execution_count": 20,
   "metadata": {},
   "outputs": [],
   "source": [
    "driver.quit()"
   ]
  },
  {
   "cell_type": "markdown",
   "metadata": {},
   "source": [
    "# END"
   ]
  }
 ],
 "metadata": {
  "kernelspec": {
   "display_name": "crawling",
   "language": "python",
   "name": "python3"
  },
  "language_info": {
   "codemirror_mode": {
    "name": "ipython",
    "version": 3
   },
   "file_extension": ".py",
   "mimetype": "text/x-python",
   "name": "python",
   "nbconvert_exporter": "python",
   "pygments_lexer": "ipython3",
   "version": "3.13.0"
  },
  "orig_nbformat": 4
 },
 "nbformat": 4,
 "nbformat_minor": 2
}
