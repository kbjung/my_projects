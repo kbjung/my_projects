{
 "cells": [
  {
   "cell_type": "code",
   "execution_count": 7,
   "metadata": {},
   "outputs": [],
   "source": [
    "import requests\n",
    "from urllib.parse import urljoin\n",
    "from urllib.robotparser import RobotFileParser"
   ]
  },
  {
   "cell_type": "code",
   "execution_count": 10,
   "metadata": {},
   "outputs": [
    {
     "name": "stdout",
     "output_type": "stream",
     "text": [
      "https://www.coupang.com/robots.txt\n"
     ]
    }
   ],
   "source": [
    "# url = 'https://finance.naver.com/'\n",
    "url = 'https://www.coupang.com/'\n",
    "robot_url = urljoin(url, '/robots.txt')\n",
    "print(robot_url)"
   ]
  },
  {
   "cell_type": "code",
   "execution_count": null,
   "metadata": {},
   "outputs": [
    {
     "name": "stdout",
     "output_type": "stream",
     "text": [
      "200\n",
      "False\n"
     ]
    }
   ],
   "source": [
    "robot_parser = RobotFileParser()\n",
    "robot_parser.set_url(robot_url)\n",
    "# robot_parser.read()\n",
    "\n",
    "headers = {\n",
    "    'User-Agent':'Mozilla/5.0 (Windows NT 10.0; Win64; x64) AppleWebKit/537.36 (KHTML, like Gecko) Chrome/131.0.0.0 Safari/537.36',\n",
    "    'Accept-Language':'ko-KR,ko;q=0.9,en-US;q=0.8,en;q=0.7'\n",
    "}\n",
    "r = requests.get(robot_url, headers=headers) # User-Agent, Accept-Language 등 설정을 해야 정상적으로 접속 가능한 경우도 있음. 여러가지 경우에 대비해서 설정해야함.\n",
    "print(r.status_code) # 가능하면 200\n",
    "\n",
    "print(robot_parser.can_fetch('NaverBot', url)) # robots.txt 규칙 상 가능하면 True, 아니면 False"
   ]
  }
 ],
 "metadata": {
  "kernelspec": {
   "display_name": "crawling",
   "language": "python",
   "name": "python3"
  },
  "language_info": {
   "codemirror_mode": {
    "name": "ipython",
    "version": 3
   },
   "file_extension": ".py",
   "mimetype": "text/x-python",
   "name": "python",
   "nbconvert_exporter": "python",
   "pygments_lexer": "ipython3",
   "version": "3.13.0"
  }
 },
 "nbformat": 4,
 "nbformat_minor": 2
}
