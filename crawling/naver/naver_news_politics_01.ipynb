{
 "cells": [
  {
   "cell_type": "markdown",
   "metadata": {},
   "source": [
    "# Library"
   ]
  },
  {
   "cell_type": "code",
   "execution_count": 1,
   "metadata": {},
   "outputs": [],
   "source": [
    "import requests\n",
    "from bs4 import BeautifulSoup as bs\n",
    "\n",
    "import time, os, random\n",
    "import pandas as pd\n",
    "import numpy as np\n",
    "\n",
    "from selenium import webdriver\n",
    "import chromedriver_autoinstaller as ca\n",
    "\n",
    "from selenium.webdriver.common.by import By\n",
    "\n",
    "from selenium.webdriver.support.ui import WebDriverWait\n",
    "from selenium.webdriver.support import expected_conditions as EC"
   ]
  },
  {
   "cell_type": "markdown",
   "metadata": {},
   "source": [
    "## chrome driver 설치"
   ]
  },
  {
   "cell_type": "code",
   "execution_count": 2,
   "metadata": {},
   "outputs": [],
   "source": [
    "# USB error 메세지 발생 해결을 위한 코드\n",
    "options = webdriver.ChromeOptions()\n",
    "options.add_experimental_option(\"excludeSwitches\", [\"enable-logging\"])"
   ]
  },
  {
   "cell_type": "code",
   "execution_count": 3,
   "metadata": {},
   "outputs": [
    {
     "data": {
      "text/plain": [
       "'131'"
      ]
     },
     "execution_count": 3,
     "metadata": {},
     "output_type": "execute_result"
    }
   ],
   "source": [
    "# 현재 크롬 버전 확인\n",
    "chrome_ver = ca.get_chrome_version().split('.')[0]\n",
    "chrome_ver"
   ]
  },
  {
   "cell_type": "code",
   "execution_count": 4,
   "metadata": {},
   "outputs": [],
   "source": [
    "# # 크롬 드라이버 확인 및 설치(처음 한번만 실행)\n",
    "# ca.install(True)"
   ]
  },
  {
   "cell_type": "markdown",
   "metadata": {},
   "source": [
    "## chrome driver 실행"
   ]
  },
  {
   "cell_type": "code",
   "execution_count": 5,
   "metadata": {},
   "outputs": [],
   "source": [
    "# 웹드라이버 실행\n",
    "driver = webdriver.Chrome(options=options)"
   ]
  },
  {
   "cell_type": "markdown",
   "metadata": {},
   "source": [
    "# 페이지 접속"
   ]
  },
  {
   "cell_type": "code",
   "execution_count": 6,
   "metadata": {},
   "outputs": [],
   "source": [
    "# 페이지 주소\n",
    "url = 'https://news.naver.com/section/100' # 네이버 뉴스 > 정치"
   ]
  },
  {
   "cell_type": "markdown",
   "metadata": {},
   "source": [
    "## requests 테스트\n",
    "- 페이지 접속 가능 여부확인\n",
    "    - 가능할 경우 출력 : <Response [200]>"
   ]
  },
  {
   "cell_type": "code",
   "execution_count": null,
   "metadata": {},
   "outputs": [
    {
     "name": "stdout",
     "output_type": "stream",
     "text": [
      "<Response [200]>\n"
     ]
    },
    {
     "data": {
      "text/plain": [
       "'정치 : 네이버 뉴스'"
      ]
     },
     "execution_count": 7,
     "metadata": {},
     "output_type": "execute_result"
    }
   ],
   "source": [
    "# req = requests.get(url)\n",
    "# print(req)\n",
    "# html = req.content.decode('utf-8') # 한글 깨짐 해결 코드\n",
    "# soup = bs(html, 'html.parser')\n",
    "# soup.title.text"
   ]
  },
  {
   "cell_type": "markdown",
   "metadata": {},
   "source": [
    "## selenium 작동"
   ]
  },
  {
   "cell_type": "code",
   "execution_count": 8,
   "metadata": {},
   "outputs": [],
   "source": [
    "driver.get(url)\n",
    "driver.implicitly_wait(10) # 페이지 로드 될 때까지 기다리지만 로드 되는 순간 종료\n",
    "# driver.maximize_window() # 브라우져 창 최대화"
   ]
  },
  {
   "cell_type": "markdown",
   "metadata": {},
   "source": [
    "## 헤드라인 뉴스 섹션 로드"
   ]
  },
  {
   "cell_type": "code",
   "execution_count": 9,
   "metadata": {},
   "outputs": [],
   "source": [
    "# 헤드라인 뉴스\n",
    "headline_news_more_view_button_xpath = '//*[@id=\"newsct\"]/div[1]/div[2]/a' # 헤드라인 더 보기 버튼\n",
    "\n",
    "# 헤드라인 더 보기 버튼 로딩 대기\n",
    "headline_news_more_view_button = WebDriverWait(driver, 10).until(\n",
    "    EC.presence_of_element_located((By.XPATH, headline_news_more_view_button_xpath))\n",
    ")\n",
    "\n",
    "# 헤드라인 더보기 버튼 클릭\n",
    "headline_news_more_view_button.click()\n",
    "driver.implicitly_wait(10)"
   ]
  },
  {
   "cell_type": "markdown",
   "metadata": {},
   "source": [
    "# 헤드라인 뉴스 수집"
   ]
  },
  {
   "cell_type": "code",
   "execution_count": 10,
   "metadata": {},
   "outputs": [
    {
     "data": {
      "text/plain": [
       "'정치 : 네이버 뉴스'"
      ]
     },
     "execution_count": 10,
     "metadata": {},
     "output_type": "execute_result"
    }
   ],
   "source": [
    "page = driver.page_source\n",
    "soup = bs(page, 'html.parser')\n",
    "soup.title.text"
   ]
  },
  {
   "cell_type": "code",
   "execution_count": 11,
   "metadata": {},
   "outputs": [
    {
     "data": {
      "text/plain": [
       "21"
      ]
     },
     "execution_count": 11,
     "metadata": {},
     "output_type": "execute_result"
    }
   ],
   "source": [
    "# 헤드라인 뉴스 섹션\n",
    "headline_news_section = soup.select_one('ul.sa_list')\n",
    "len(headline_news_section)"
   ]
  },
  {
   "cell_type": "code",
   "execution_count": 12,
   "metadata": {},
   "outputs": [
    {
     "data": {
      "text/plain": [
       "10"
      ]
     },
     "execution_count": 12,
     "metadata": {},
     "output_type": "execute_result"
    }
   ],
   "source": [
    "# 뉴스 타이들 리스트\n",
    "headline_news_list = headline_news_section.select('li.sa_item._SECTION_HEADLINE')\n",
    "len(headline_news_list)"
   ]
  },
  {
   "cell_type": "markdown",
   "metadata": {},
   "source": [
    "## 기사 내용 섹션"
   ]
  },
  {
   "cell_type": "code",
   "execution_count": 13,
   "metadata": {},
   "outputs": [
    {
     "data": {
      "text/plain": [
       "<div class=\"sa_text\">\n",
       "<a class=\"sa_text_title _NLOG_IMPRESSION\" data-clk=\"pol.clart\" data-imp-gdid=\"88000114_000000000000000011861987\" data-imp-index=\"1\" data-imp-url=\"https://n.news.naver.com/mnews/article/056/0011861987\" href=\"https://n.news.naver.com/mnews/article/056/0011861987\">\n",
       "<strong class=\"sa_text_strong\">민주 “경찰차벽 철수, 농민 투쟁 결과…‘입틀막’은 불행한 역사”</strong>\n",
       "</a>\n",
       "<div class=\"sa_text_lede\">대통령 한남동 관저를 향하는 전국농민회총연맹(전농) 트랙터를 막아서던 경찰 차벽이 철수한 것에 대해 더불어민주당이 “윤석열식 ‘입틀막 공권력 행사’가 더는 반복돼서는 안 된다”고 밝혔습니다. 민주당 김성회 대변인은 </div>\n",
       "<div class=\"sa_text_info\">\n",
       "<div class=\"sa_text_info_left\">\n",
       "<div class=\"sa_text_press\">KBS</div>\n",
       "<a class=\"sa_text_cmt _COMMENT_COUNT_LIST\" data-object-id=\"news056,0011861987\" data-processed=\"true\" data-ticket=\"news\" data-zero-allow=\"false\" href=\"https://n.news.naver.com/mnews/article/comment/056/0011861987\" style=\"\">10<span class=\"sa_text_symbol\"><span class=\"blind\">이상</span>+</span></a>\n",
       "</div>\n",
       "<div class=\"sa_text_info_right\">\n",
       "<a class=\"sa_text_cluster\" data-clk=\"clcou\" href=\"/cluster/c_202412221750_00000004/section/100?oid=056&amp;aid=0011861987\">\n",
       "<span class=\"sa_text_cluster_num\">10</span>\n",
       "<span class=\"blind\">개의 관련뉴스 더보기</span>\n",
       "</a>\n",
       "</div>\n",
       "</div>\n",
       "</div>"
      ]
     },
     "execution_count": 13,
     "metadata": {},
     "output_type": "execute_result"
    }
   ],
   "source": [
    "# 기사 내용 섹션\n",
    "order_number = 0\n",
    "news_content_section = headline_news_list[order_number].select_one('div.sa_text')\n",
    "news_content_section"
   ]
  },
  {
   "cell_type": "markdown",
   "metadata": {},
   "source": [
    "### 기사 링크"
   ]
  },
  {
   "cell_type": "code",
   "execution_count": 14,
   "metadata": {},
   "outputs": [
    {
     "data": {
      "text/plain": [
       "'https://n.news.naver.com/mnews/article/056/0011861987'"
      ]
     },
     "execution_count": 14,
     "metadata": {},
     "output_type": "execute_result"
    }
   ],
   "source": [
    "# 기사 링크\n",
    "link = news_content_section.select_one('a.sa_text_title._NLOG_IMPRESSION')['href']\n",
    "link"
   ]
  },
  {
   "cell_type": "markdown",
   "metadata": {},
   "source": [
    "### 타이틀"
   ]
  },
  {
   "cell_type": "code",
   "execution_count": 15,
   "metadata": {},
   "outputs": [
    {
     "data": {
      "text/plain": [
       "'민주 “경찰차벽 철수, 농민 투쟁 결과…‘입틀막’은 불행한 역사”'"
      ]
     },
     "execution_count": 15,
     "metadata": {},
     "output_type": "execute_result"
    }
   ],
   "source": [
    "# 타이틀\n",
    "title = news_content_section.select_one('strong.sa_text_strong').text\n",
    "title"
   ]
  },
  {
   "cell_type": "markdown",
   "metadata": {},
   "source": [
    "### 기사 내용"
   ]
  },
  {
   "cell_type": "code",
   "execution_count": 16,
   "metadata": {},
   "outputs": [
    {
     "data": {
      "text/plain": [
       "'대통령 한남동 관저를 향하는 전국농민회총연맹(전농) 트랙터를 막아서던 경찰 차벽이 철수한 것에 대해 더불어민주당이 “윤석열식 ‘입틀막 공권력 행사’가 더는 반복돼서는 안 된다”고 밝혔습니다. 민주당 김성회 대변인은 '"
      ]
     },
     "execution_count": 16,
     "metadata": {},
     "output_type": "execute_result"
    }
   ],
   "source": [
    "# 기사 내용\n",
    "content = news_content_section.select_one('div.sa_text_lede').text\n",
    "content"
   ]
  },
  {
   "cell_type": "markdown",
   "metadata": {},
   "source": [
    "### 언론사"
   ]
  },
  {
   "cell_type": "code",
   "execution_count": 17,
   "metadata": {},
   "outputs": [
    {
     "data": {
      "text/plain": [
       "'KBS'"
      ]
     },
     "execution_count": 17,
     "metadata": {},
     "output_type": "execute_result"
    }
   ],
   "source": [
    "# 언론사\n",
    "press = news_content_section.select_one('div.sa_text_press').text\n",
    "press"
   ]
  },
  {
   "cell_type": "markdown",
   "metadata": {},
   "source": [
    "### 관련 뉴스 개수"
   ]
  },
  {
   "cell_type": "code",
   "execution_count": 18,
   "metadata": {},
   "outputs": [
    {
     "data": {
      "text/plain": [
       "10"
      ]
     },
     "execution_count": 18,
     "metadata": {},
     "output_type": "execute_result"
    }
   ],
   "source": [
    "# 관련 뉴스 개수\n",
    "related_news_count = int(news_content_section.select_one('span.sa_text_cluster_num').text)\n",
    "related_news_count"
   ]
  },
  {
   "cell_type": "markdown",
   "metadata": {},
   "source": [
    "# 수집한 데이터 전처리"
   ]
  },
  {
   "cell_type": "code",
   "execution_count": 19,
   "metadata": {},
   "outputs": [],
   "source": [
    "link_list = []\n",
    "title_list = []\n",
    "content_list = []\n",
    "press_list = []\n",
    "related_news_count_list = []\n",
    "\n",
    "for i in range(len(headline_news_list)):\n",
    "    # 기사 내용 섹션\n",
    "    news_content_section = headline_news_list[i].select_one('div.sa_text')\n",
    "\n",
    "    # 기사 링크\n",
    "    try:\n",
    "        link = news_content_section.select_one('a.sa_text_title._NLOG_IMPRESSION')['href']\n",
    "    except:\n",
    "        link = np.nan\n",
    "        print(i)\n",
    "        # print('기사 링크 없음')\n",
    "    \n",
    "    # 타이틀\n",
    "    try:\n",
    "        title = news_content_section.select_one('strong.sa_text_strong').text\n",
    "    except:\n",
    "        title = np.nan\n",
    "        print(i)\n",
    "        # print('타이틀 없음')\n",
    "    \n",
    "    # 기사 내용\n",
    "    try:\n",
    "        content = news_content_section.select_one('div.sa_text_lede').text\n",
    "    except:\n",
    "        content = np.nan\n",
    "        print(i)\n",
    "        # print('기사 내용 없음')\n",
    "    \n",
    "    ## 언론사\n",
    "    try:\n",
    "        press = news_content_section.select_one('div.sa_text_press').text\n",
    "    except:\n",
    "        press = np.nan\n",
    "        print(i)\n",
    "        # print('언론사 없음')\n",
    "    \n",
    "    ## 관련 뉴스 개수\n",
    "    try:\n",
    "        related_news_count = int(news_content_section.select_one('span.sa_text_cluster_num').text)\n",
    "    except:\n",
    "        related_news_count = np.nan\n",
    "        print(i)\n",
    "        # print('관련 뉴스 개수 없음')\n",
    "    \n",
    "    # 정보 리스트에 담기\n",
    "    link_list.append(link)\n",
    "    title_list.append(title)\n",
    "    content_list.append(content)\n",
    "    press_list.append(press)\n",
    "    related_news_count_list.append(related_news_count)"
   ]
  },
  {
   "cell_type": "code",
   "execution_count": 20,
   "metadata": {},
   "outputs": [
    {
     "data": {
      "text/plain": [
       "(10, 10, 10, 10, 10)"
      ]
     },
     "execution_count": 20,
     "metadata": {},
     "output_type": "execute_result"
    }
   ],
   "source": [
    "len(link_list), len(title_list), len(content_list), len(press_list), len(related_news_count_list)"
   ]
  },
  {
   "cell_type": "code",
   "execution_count": 21,
   "metadata": {},
   "outputs": [
    {
     "data": {
      "text/html": [
       "<div>\n",
       "<style scoped>\n",
       "    .dataframe tbody tr th:only-of-type {\n",
       "        vertical-align: middle;\n",
       "    }\n",
       "\n",
       "    .dataframe tbody tr th {\n",
       "        vertical-align: top;\n",
       "    }\n",
       "\n",
       "    .dataframe thead th {\n",
       "        text-align: right;\n",
       "    }\n",
       "</style>\n",
       "<table border=\"1\" class=\"dataframe\">\n",
       "  <thead>\n",
       "    <tr style=\"text-align: right;\">\n",
       "      <th></th>\n",
       "      <th>번호</th>\n",
       "      <th>기사 링크</th>\n",
       "      <th>기사 제목</th>\n",
       "      <th>기사 내용</th>\n",
       "      <th>언론사</th>\n",
       "      <th>관련 뉴스 개수</th>\n",
       "    </tr>\n",
       "  </thead>\n",
       "  <tbody>\n",
       "    <tr>\n",
       "      <th>0</th>\n",
       "      <td>1</td>\n",
       "      <td>https://n.news.naver.com/mnews/article/056/001...</td>\n",
       "      <td>민주 “경찰차벽 철수, 농민 투쟁 결과…‘입틀막’은 불행한 역사”</td>\n",
       "      <td>대통령 한남동 관저를 향하는 전국농민회총연맹(전농) 트랙터를 막아서던 경찰 차벽이 ...</td>\n",
       "      <td>KBS</td>\n",
       "      <td>10</td>\n",
       "    </tr>\n",
       "    <tr>\n",
       "      <th>1</th>\n",
       "      <td>2</td>\n",
       "      <td>https://n.news.naver.com/mnews/article/052/000...</td>\n",
       "      <td>박찬대 \"한 대행, 24일까지 특검법 공포 않으면 책임 물을 것\"</td>\n",
       "      <td>더불어민주당 박찬대 원내대표가 한덕수 대통령 권한대행을 향해 오는 24일까지 '내란...</td>\n",
       "      <td>YTN</td>\n",
       "      <td>134</td>\n",
       "    </tr>\n",
       "    <tr>\n",
       "      <th>2</th>\n",
       "      <td>3</td>\n",
       "      <td>https://n.news.naver.com/mnews/article/658/000...</td>\n",
       "      <td>與 비대위원장 중진 현역 가닥…‘도로 친윤당’ 딜레마</td>\n",
       "      <td>- 유승민·윤희숙 파격인선 주장도 국민의힘이 이번 주 비상대책위원장 인선을 놓고 ‘...</td>\n",
       "      <td>국제신문</td>\n",
       "      <td>25</td>\n",
       "    </tr>\n",
       "    <tr>\n",
       "      <th>3</th>\n",
       "      <td>4</td>\n",
       "      <td>https://n.news.naver.com/mnews/article/214/000...</td>\n",
       "      <td>국민의힘 \"'이재명 안 됩니다' 불허 선관위‥편파적 유권 해석\"</td>\n",
       "      <td>중앙선거관리위원회가 국민의힘 의원들을 '내란공범'으로 지칭한 현수막은 허용하고, '...</td>\n",
       "      <td>MBC</td>\n",
       "      <td>106</td>\n",
       "    </tr>\n",
       "    <tr>\n",
       "      <th>4</th>\n",
       "      <td>5</td>\n",
       "      <td>https://n.news.naver.com/mnews/article/082/000...</td>\n",
       "      <td>야당 압박에 또 고민 깊어진 한덕수</td>\n",
       "      <td>한덕수 대통령 권한대행의 고민이 또다시 깊어졌다. 야권이 ‘내란·김건희 여사 특검법...</td>\n",
       "      <td>부산일보</td>\n",
       "      <td>36</td>\n",
       "    </tr>\n",
       "  </tbody>\n",
       "</table>\n",
       "</div>"
      ],
      "text/plain": [
       "   번호                                              기사 링크  \\\n",
       "0   1  https://n.news.naver.com/mnews/article/056/001...   \n",
       "1   2  https://n.news.naver.com/mnews/article/052/000...   \n",
       "2   3  https://n.news.naver.com/mnews/article/658/000...   \n",
       "3   4  https://n.news.naver.com/mnews/article/214/000...   \n",
       "4   5  https://n.news.naver.com/mnews/article/082/000...   \n",
       "\n",
       "                                  기사 제목  \\\n",
       "0  민주 “경찰차벽 철수, 농민 투쟁 결과…‘입틀막’은 불행한 역사”   \n",
       "1  박찬대 \"한 대행, 24일까지 특검법 공포 않으면 책임 물을 것\"   \n",
       "2         與 비대위원장 중진 현역 가닥…‘도로 친윤당’ 딜레마   \n",
       "3   국민의힘 \"'이재명 안 됩니다' 불허 선관위‥편파적 유권 해석\"   \n",
       "4                   야당 압박에 또 고민 깊어진 한덕수   \n",
       "\n",
       "                                               기사 내용   언론사  관련 뉴스 개수  \n",
       "0  대통령 한남동 관저를 향하는 전국농민회총연맹(전농) 트랙터를 막아서던 경찰 차벽이 ...   KBS        10  \n",
       "1  더불어민주당 박찬대 원내대표가 한덕수 대통령 권한대행을 향해 오는 24일까지 '내란...   YTN       134  \n",
       "2  - 유승민·윤희숙 파격인선 주장도 국민의힘이 이번 주 비상대책위원장 인선을 놓고 ‘...  국제신문        25  \n",
       "3  중앙선거관리위원회가 국민의힘 의원들을 '내란공범'으로 지칭한 현수막은 허용하고, '...   MBC       106  \n",
       "4  한덕수 대통령 권한대행의 고민이 또다시 깊어졌다. 야권이 ‘내란·김건희 여사 특검법...  부산일보        36  "
      ]
     },
     "execution_count": 21,
     "metadata": {},
     "output_type": "execute_result"
    }
   ],
   "source": [
    "data_dict = {\n",
    "    '번호': range(1, len(link_list)+1),\n",
    "    '기사 링크': link_list,\n",
    "    '기사 제목': title_list,\n",
    "    '기사 내용': content_list,\n",
    "    '언론사': press_list,\n",
    "    '관련 뉴스 개수': related_news_count_list\n",
    "    }\n",
    "df = pd.DataFrame(data_dict)\n",
    "df.head()"
   ]
  },
  {
   "cell_type": "markdown",
   "metadata": {},
   "source": [
    "# 데이터 출력"
   ]
  },
  {
   "cell_type": "code",
   "execution_count": 22,
   "metadata": {},
   "outputs": [
    {
     "data": {
      "text/plain": [
       "'20241223'"
      ]
     },
     "execution_count": 22,
     "metadata": {},
     "output_type": "execute_result"
    }
   ],
   "source": [
    "current_date = time.strftime('%Y%m%d')\n",
    "current_date"
   ]
  },
  {
   "cell_type": "code",
   "execution_count": 23,
   "metadata": {},
   "outputs": [
    {
     "data": {
      "text/plain": [
       "'20241223_AM_120544'"
      ]
     },
     "execution_count": 23,
     "metadata": {},
     "output_type": "execute_result"
    }
   ],
   "source": [
    "current_datetime = time.strftime('%Y%m%d_%p_%I%M%S')\n",
    "current_datetime"
   ]
  },
  {
   "cell_type": "code",
   "execution_count": 24,
   "metadata": {},
   "outputs": [
    {
     "data": {
      "text/plain": [
       "'c:/Users/kbjoo/Documents/Google_Drive/GitHub/my_projects/crawling/naver'"
      ]
     },
     "execution_count": 24,
     "metadata": {},
     "output_type": "execute_result"
    }
   ],
   "source": [
    "# 현재 경로 확인\n",
    "code_path = os.getcwd().replace('\\\\', '/')\n",
    "code_path"
   ]
  },
  {
   "cell_type": "code",
   "execution_count": 29,
   "metadata": {},
   "outputs": [
    {
     "data": {
      "text/plain": [
       "'c:/Users/kbjoo/Documents/Google_Drive/GitHub/my_projects/crawling/naver\\\\crawled_data\\\\naver_news\\\\politics\\\\20241223'"
      ]
     },
     "execution_count": 29,
     "metadata": {},
     "output_type": "execute_result"
    }
   ],
   "source": [
    "# 수집한 파일 저장할 폴더 생성\n",
    "crawled_folder_path = os.path.join(code_path, 'crawled_data', 'naver_news', 'politics', current_date)\n",
    "crawled_folder_path"
   ]
  },
  {
   "cell_type": "code",
   "execution_count": 30,
   "metadata": {},
   "outputs": [],
   "source": [
    "os.makedirs(crawled_folder_path, exist_ok=True)"
   ]
  },
  {
   "cell_type": "code",
   "execution_count": 31,
   "metadata": {},
   "outputs": [],
   "source": [
    "# 엑셀 파일로 출력\n",
    "df.to_excel(os.path.join(crawled_folder_path, f'naver_news_politics_{current_datetime}.xlsx'), index=False)"
   ]
  },
  {
   "cell_type": "code",
   "execution_count": 28,
   "metadata": {},
   "outputs": [],
   "source": [
    "driver.quit()"
   ]
  },
  {
   "cell_type": "markdown",
   "metadata": {},
   "source": [
    "# END"
   ]
  }
 ],
 "metadata": {
  "kernelspec": {
   "display_name": "crawling",
   "language": "python",
   "name": "python3"
  },
  "language_info": {
   "codemirror_mode": {
    "name": "ipython",
    "version": 3
   },
   "file_extension": ".py",
   "mimetype": "text/x-python",
   "name": "python",
   "nbconvert_exporter": "python",
   "pygments_lexer": "ipython3",
   "version": "3.13.0"
  },
  "orig_nbformat": 4
 },
 "nbformat": 4,
 "nbformat_minor": 2
}
