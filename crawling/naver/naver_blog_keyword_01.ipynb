{
 "cells": [
  {
   "cell_type": "markdown",
   "metadata": {},
   "source": [
    "# Library"
   ]
  },
  {
   "cell_type": "code",
   "execution_count": 75,
   "metadata": {},
   "outputs": [],
   "source": [
    "import requests\n",
    "from bs4 import BeautifulSoup as bs\n",
    "\n",
    "import time, os, random, re\n",
    "import pandas as pd\n",
    "import numpy as np\n",
    "from datetime import datetime\n",
    "\n",
    "from selenium import webdriver\n",
    "import chromedriver_autoinstaller as ca\n",
    "\n",
    "from selenium.webdriver.common.by import By\n",
    "from selenium.webdriver.common.keys import Keys\n",
    "\n",
    "from selenium.webdriver.support.ui import WebDriverWait\n",
    "from selenium.webdriver.support import expected_conditions as EC"
   ]
  },
  {
   "cell_type": "markdown",
   "metadata": {},
   "source": [
    "## chrome driver 설치"
   ]
  },
  {
   "cell_type": "code",
   "execution_count": 76,
   "metadata": {},
   "outputs": [],
   "source": [
    "# USB error 메세지 발생 해결을 위한 코드\n",
    "options = webdriver.ChromeOptions()\n",
    "options.add_experimental_option(\"excludeSwitches\", [\"enable-logging\"])"
   ]
  },
  {
   "cell_type": "code",
   "execution_count": 77,
   "metadata": {},
   "outputs": [
    {
     "data": {
      "text/plain": [
       "'131'"
      ]
     },
     "execution_count": 77,
     "metadata": {},
     "output_type": "execute_result"
    }
   ],
   "source": [
    "# 현재 크롬 버전 확인\n",
    "chrome_ver = ca.get_chrome_version().split('.')[0]\n",
    "chrome_ver"
   ]
  },
  {
   "cell_type": "code",
   "execution_count": 4,
   "metadata": {},
   "outputs": [],
   "source": [
    "# # 크롬 드라이버 확인 및 설치(처음 한번만 실행)\n",
    "# ca.install(True)"
   ]
  },
  {
   "cell_type": "markdown",
   "metadata": {},
   "source": [
    "# 페이지 접속"
   ]
  },
  {
   "cell_type": "code",
   "execution_count": null,
   "metadata": {},
   "outputs": [],
   "source": [
    "# url = 'https://section.blog.naver.com/BlogHome.naver?directoryNo=0&currentPage=1&groupId=0' # 네이버 블로그 홈"
   ]
  },
  {
   "cell_type": "markdown",
   "metadata": {},
   "source": [
    "## requests 테스트\n",
    "- 페이지 접속 가능 여부확인\n",
    "    - 가능할 경우 출력 : <Response [200]>"
   ]
  },
  {
   "cell_type": "code",
   "execution_count": 7,
   "metadata": {},
   "outputs": [
    {
     "name": "stdout",
     "output_type": "stream",
     "text": [
      "<Response [200]>\n"
     ]
    },
    {
     "data": {
      "text/plain": [
       "'네이버 블로그'"
      ]
     },
     "execution_count": 7,
     "metadata": {},
     "output_type": "execute_result"
    }
   ],
   "source": [
    "# req = requests.get(url)\n",
    "# print(req)\n",
    "\n",
    "# 한글 깨짐 해결 코드\n",
    "# # html = req.content.decode('utf-8') # 한글 깨짐 해결\n",
    "# # soup = bs(html, 'html.parser')\n",
    "\n",
    "# soup = bs(req.text, 'html.parser')\n",
    "# soup.title.text"
   ]
  },
  {
   "cell_type": "code",
   "execution_count": 78,
   "metadata": {},
   "outputs": [
    {
     "name": "stdout",
     "output_type": "stream",
     "text": [
      "<Response [200]>\n"
     ]
    },
    {
     "data": {
      "text/plain": [
       "'네이버 블로그'"
      ]
     },
     "execution_count": 78,
     "metadata": {},
     "output_type": "execute_result"
    }
   ],
   "source": [
    "# request로 수집 에러\n",
    "keyword = '아이폰 16' # 검색어\n",
    "page_num = 1 # 페이지 번호\n",
    "rangetype = 'ALL' # 검색 범위\n",
    "orderby = 'sim' # 정렬 순서\n",
    "\n",
    "keyword_url = f'https://section.blog.naver.com/Search/Post.naver?pageNo={page_num}&rangeType={rangetype}&orderBy={orderby}&keyword={keyword}'\n",
    "req = requests.get(keyword_url, headers={'User-Agent': 'Mozilla/5.0 (Windows NT 10.0; Win64; x64) AppleWebKit/537.36 (KHTML, like Gecko) Chrome/131.0.0.0 Safari/537.36'})\n",
    "print(req)\n",
    "soup = bs(req.text, 'html.parser')\n",
    "soup.title.text"
   ]
  },
  {
   "cell_type": "code",
   "execution_count": 56,
   "metadata": {},
   "outputs": [],
   "source": [
    "# area_list_search = soup.select_one('div.area_list_search')\n",
    "# list_search_post = area_list_search.select('div.list_search_post')\n",
    "# list_search_post[0]"
   ]
  },
  {
   "cell_type": "markdown",
   "metadata": {},
   "source": [
    "## keyword 입력"
   ]
  },
  {
   "cell_type": "code",
   "execution_count": 79,
   "metadata": {},
   "outputs": [],
   "source": [
    "keyword = '아이폰 16' # 검색어"
   ]
  },
  {
   "cell_type": "markdown",
   "metadata": {},
   "source": [
    "## 탭 선택(글, 블로그)"
   ]
  },
  {
   "cell_type": "code",
   "execution_count": 80,
   "metadata": {},
   "outputs": [],
   "source": [
    "tab_option = '글'\n",
    "rangetype = 'PERIOD' # 검색 범위(기간 전체 : ALL, 최근 1주 : WEEK, 최근 1개월 : MONTH, 기간 입력 : PERIOD)\n",
    "orderby = 'sim' # 정렬 순서(관련도순 : sim, 최신순 : recentdate)\n",
    "\n",
    "# rangetype이 PERIOD인 경우 시작일과 종료일 설정 \n",
    "startdate = '2025-01-01' # 형식: YYYY-mm-dd(예. 2025-01-01)\n",
    "enddate = '2025-01-02' # 형식: YYYY-mm-dd(예. 2025-01-01)\n",
    "current_date = datetime.today().strftime('%Y-%m-%d')\n",
    "if startdate > enddate:\n",
    "    startdate, enddate = enddate, startdate # 시작일이 종료일보다 크면 종료일로 변경\n",
    "if startdate > current_date:\n",
    "    startdate, enddate = current_date, current_date # 시작일이 현재 날짜보다 크면 현재 날짜로 변경\n",
    "if enddate > current_date:\n",
    "    enddate = current_date # 종료일이 현재 날짜보다 크면 현재 날짜로 변경"
   ]
  },
  {
   "cell_type": "code",
   "execution_count": 81,
   "metadata": {},
   "outputs": [],
   "source": [
    "# 웹드라이버 실행\n",
    "driver = webdriver.Chrome(options=options)"
   ]
  },
  {
   "cell_type": "code",
   "execution_count": 82,
   "metadata": {},
   "outputs": [
    {
     "name": "stdout",
     "output_type": "stream",
     "text": [
      "==================================================\n",
      "검색어 : 아이폰 16\n",
      "글/블로그 선택 : 글\n",
      "검색 범위 : 기간 입력\n",
      "검색 시작일 : 2025-01-01\n",
      "검색 종료일 : 2025-01-02\n",
      "정렬 순서 : 관련도순\n",
      "검색 결과 개수 : 1065\n",
      "검색 결과 페이지 수 : 153\n"
     ]
    }
   ],
   "source": [
    "# 검색 결과 개수 확인\n",
    "page_num = 1\n",
    "if rangetype == 'PERIOD':\n",
    "    keyword_url = f'https://section.blog.naver.com/Search/Post.naver?pageNo={page_num}&rangeType={rangetype}&orderBy={orderby}&&startDate={startdate}&endDate={enddate}&keyword={keyword}'\n",
    "else:\n",
    "    keyword_url = f'https://section.blog.naver.com/Search/Post.naver?pageNo={page_num}&rangeType={rangetype}&orderBy={orderby}&keyword={keyword}'\n",
    "\n",
    "driver.get(keyword_url)\n",
    "driver.implicitly_wait(10) # 페이지 로드 될 때까지 기다리지만 로드 되는 순간 종료\n",
    "time.sleep(random.uniform(1, 3))\n",
    "\n",
    "page = driver.page_source\n",
    "soup = bs(page, 'html.parser')\n",
    "\n",
    "area_list_search = soup.select_one('div.area_list_search')\n",
    "list_search_post = area_list_search.select('div.list_search_post')\n",
    "\n",
    "# 검색 결과 개수\n",
    "raw_post_search_number = soup.select_one('div.search_information em.search_number').text\n",
    "post_search_number = int(re.sub('[^0-9]', '', raw_post_search_number))\n",
    "\n",
    "# 검색 결과 페이지 수\n",
    "max_post_search_page_num = int(np.ceil(post_search_number / len(list_search_post)))\n",
    "\n",
    "if rangetype == 'PERIOD':\n",
    "    print('='*50)\n",
    "    print('검색어 :', keyword)\n",
    "    print('글/블로그 선택 :', tab_option)\n",
    "    print('검색 범위 :', rangetype.replace('PERIOD', '기간 입력'))\n",
    "    print('검색 시작일 :', startdate)\n",
    "    print('검색 종료일 :', enddate)\n",
    "    print('정렬 순서 :', orderby.replace('sim', '관련도순').replace('recentdate', '최신순'))\n",
    "    print('검색 결과 개수 :', post_search_number)\n",
    "    print('검색 결과 페이지 수 :', max_post_search_page_num)\n",
    "else:\n",
    "    print('검색어 :', keyword)\n",
    "    print('글/블로그 선택 :', tab_option)\n",
    "    print('검색 범위 :', rangetype.replace('ALL', '기간 전체').replace('WEEK', '최근 1주').replace('MONTH', '최근 1개월'))\n",
    "    print('정렬 순서 :', orderby.replace('sim', '관련도순').replace('recentdate', '최신순'))\n",
    "    print('검색 결과 개수 :', post_search_number)\n",
    "    print('검색 결과 페이지 수 :', max_post_search_page_num)"
   ]
  },
  {
   "cell_type": "markdown",
   "metadata": {},
   "source": [
    "# 정보 수집"
   ]
  },
  {
   "cell_type": "markdown",
   "metadata": {},
   "source": [
    "### 글 선택\n",
    "- 참고 링크 : https://section.blog.naver.com/Search/Post.naver?pageNo={page_num}&rangeType=ALL&orderBy=sim&keyword={keyword}\n",
    "- 참고 링크 : https://section.blog.naver.com/Search/Post.naver?pageNo=1&rangeType=WEEK&orderBy=sim&startDate=2025-01-03&endDate=2025-01-10&keyword=아이폰 16\n",
    "- 참고 링크 : https://section.blog.naver.com/Search/Post.naver?pageNo=1&rangeType=PERIOD&orderBy=sim&startDate=2025-01-01&endDate=2025-01-13&keyword=아이폰 16\n",
    "- [⭕] rangeType 옵션(기간)\n",
    "    - 기간전체 : &rangeType=ALL\n",
    "    - 최근 1주 : &rangeType=WEEK\n",
    "    - 최근 1개월 : &rangeType=MONTH\n",
    "    - 기간 입력 : &rangeType=PERIOD&startDate=YYYY-mm-dd&endDate=YYYY-mm-dd\n",
    "\n",
    "- [⭕] orderBy 옵션(관련도순, 최신순)\n",
    "    - 관련도순 : &orderBy=sim\n",
    "    - 최신순 : &orderBy=recentdate\n",
    "\n",
    "- [⭕] 수집할 페이지 옵션 추가\n",
    "- [⭕] 수집할 페이지가 실제 페이지 수보다 많을 경우 예외 처리"
   ]
  },
  {
   "cell_type": "code",
   "execution_count": 83,
   "metadata": {},
   "outputs": [
    {
     "name": "stdout",
     "output_type": "stream",
     "text": [
      "네이버 블로그\n"
     ]
    }
   ],
   "source": [
    "page = driver.page_source\n",
    "soup = bs(page, 'html.parser')\n",
    "print(soup.title.text)"
   ]
  },
  {
   "cell_type": "code",
   "execution_count": 84,
   "metadata": {},
   "outputs": [
    {
     "data": {
      "text/plain": [
       "<div anchor-text=\"content\" bg-move-scroll-on-pop-state=\"\" class=\"list_search_post\" ng-repeat=\"post in postSearchCtrl.resultList\">\n",
       "<div bg-article-multi-img-style=\"\" class=\"item multi_pic\">\n",
       "<div class=\"info_post\" ng-class=\"{only_post: post.thumbnails.length == 0}\">\n",
       "<div class=\"desc\">\n",
       "<a bg-nclick=\"srs*l.text\" class=\"desc_inner\" href=\"https://blog.naver.com/sexyleep/223712553697\" ng-href=\"https://blog.naver.com/sexyleep/223712553697\" target=\"_blank\">\n",
       "<strong class=\"title_post\">\n",
       "<!-- ngIf: post.titleHeadColor == '#27C400' -->\n",
       "<!-- ngIf: post.titleHeadColor == '#FF6565' -->\n",
       "<span class=\"title\" ng-bind-html=\"post.title\"><strong class=\"search_keyword\">아이폰16</strong>프로 성지 가격 할인 팁</span>\n",
       "</strong>\n",
       "</a><!-- ngIf: post.contents --><a bg-nclick=\"srs*l.text\" class=\"text\" href=\"https://blog.naver.com/sexyleep/223712553697\" ng-bind-html=\"post.contents\" ng-href=\"https://blog.naver.com/sexyleep/223712553697\" ng-if=\"post.contents\" target=\"_blank\">특히 최신작인 <strong class=\"search_keyword\">아이폰16</strong>프로는 강력한 성능과 혁신적인 디자인으로 더욱 화제를 모으고 있습니다. 하지만 높은 가격이 걸림돌이 될 수 있는데요. 이번 글에서는 <strong class=\"search_keyword\">아이폰16</strong>프로를 경제적으로 구매할 수 있는 방법과 할인 혜택을 친근하게 알려드리겠습니다. <strong class=\"search_keyword\">아이폰16</strong>프로 가격 목차 <strong class=\"search_keyword\">아이폰16</strong>프로... </a><!-- end ngIf: post.contents -->\n",
       "</div>\n",
       "<div class=\"writer_info\">\n",
       "<a bg-nclick=\"srs*l.blogger\" class=\"author\" href=\"https://blog.naver.com/sexyleep\" ng-href=\"https://blog.naver.com/sexyleep\" target=\"_blank\">\n",
       "<div class=\"thumbnail_author\">\n",
       "<img alt=\"블로거 썸네일\" bg-image=\"https://blogpfthumb-phinf.pstatic.net/MjAyNDA0MTFfNTIg/MDAxNzEyODQ0NjgxNjUz.Ms6zwj8JSJEfBjXIXoQ9n3DnDEboX_Z2AozdRKXWkesg.8bUDXWQE49IEEBCXuflh7NDu6ZKvWD6WjDgj2Tf3Wwgg.PNG/%25ED%2585%258C%25ED%2581%25AC%25EC%258B%25AC%25EB%25B3%25BC.png/%25ED%2585%258C%25ED%2581%25AC%25EC%258B%25AC%25EB%25B3%25BC.png?type=s1\" class=\"img_author\" height=\"25\" src=\"https://blogpfthumb-phinf.pstatic.net/MjAyNDA0MTFfNTIg/MDAxNzEyODQ0NjgxNjUz.Ms6zwj8JSJEfBjXIXoQ9n3DnDEboX_Z2AozdRKXWkesg.8bUDXWQE49IEEBCXuflh7NDu6ZKvWD6WjDgj2Tf3Wwgg.PNG/%25ED%2585%258C%25ED%2581%25AC%25EC%258B%25AC%25EB%25B3%25BC.png/%25ED%2585%258C%25ED%2581%25AC%25EC%258B%25AC%25EB%25B3%25BC.png?type=s1\" width=\"25\"/>\n",
       "</div>\n",
       "<em class=\"name_author\">테크매니아</em>\n",
       "</a>\n",
       "<span class=\"name_blog\">테크톡톡</span>\n",
       "<span class=\"date\">2025. 1. 2.</span>\n",
       "<!-- ngIf: post.marketPost && post.product.productStatus == 'ON_SALE' -->\n",
       "<!-- ngIf: post.marketPost && post.product.productStatus == 'BE_SCHEDULED' -->\n",
       "<!-- ngIf: post.marketPost && post.product.productStatus == 'SALE_END' -->\n",
       "</div>\n",
       "</div>\n",
       "<div area-code=\"srs*l\" aria-selected=\"false\" class=\"thumbnail_post\" ng-hide=\"hide\" post-url=\"https://blog.naver.com/sexyleep/223712553697\" product=\"post.product\" thumbnail-key-name=\"url\" thumbnail-list=\"post.thumbnails\" thumbnail-video-name=\"videoThumbnail\" thumbnail-vr-name=\"vrthumbnail\">\n",
       "<div bg-sliding-leave=\"\" class=\"thumbnail_area\">\n",
       "<!-- ngRepeat: thumbnail in thumbnailList | limitTo : 1 --><a bg-nclickf='{\"code\":\"srs*l.image\"}' class=\"thumbnail_inner\" href=\"https://blog.naver.com/sexyleep/223712553697\" ng-click=\"afterProcess()\" ng-href=\"https://blog.naver.com/sexyleep/223712553697\" ng-repeat=\"thumbnail in thumbnailList | limitTo : 1\" target=\"_blank\">\n",
       "<img alt=\"포스트 썸네일\" bg-image=\"https://blogthumb.pstatic.net/MjAyNTAxMDJfOCAg/MDAxNzM1Nzk3MTk1MDE0.-VTZqOk8AGMnc2pAZYjni_hEdr1pNFRQkYQaYmsOJbcg.S_flD8cD_NHfnUKR7ChyhENN-3dnc6iWhZcDdn7dMoIg.PNG/%BE%C6%C0%CC%C6%F916%C7%C1%B7%CE%B0%A1%B0%DDi16pro14.png?type=s2\" class=\"img_post\" height=\"167\" ng-class=\"{background_color:thumbnail['noThisDayThumbnail']}\" ng-hide=\"thumbnail['noThisDayThumbnail']\" src=\"https://blogthumb.pstatic.net/MjAyNTAxMDJfOCAg/MDAxNzM1Nzk3MTk1MDE0.-VTZqOk8AGMnc2pAZYjni_hEdr1pNFRQkYQaYmsOJbcg.S_flD8cD_NHfnUKR7ChyhENN-3dnc6iWhZcDdn7dMoIg.PNG/%BE%C6%C0%CC%C6%F916%C7%C1%B7%CE%B0%A1%B0%DDi16pro14.png?type=s2\" width=\"167\"/>\n",
       "<!-- [D] 360vr이미지 일 경우 <i class=\"sp_common icon_vr\">360도 VR</i><span class=\"dimmed\"></span> 추가 / 동영상일 경우 <i class=\"sp_common icon_video_play\">동영상</i><span class=\"dimmed\"></span> 추가 -->\n",
       "<!-- ngIf: !product && thumbnail[thumbnailVrName] -->\n",
       "<!-- ngIf: !product && thumbnail[thumbnailVideoName] -->\n",
       "<!-- ngIf: product -->\n",
       "<!-- ngIf: thumbnail[thumbnailVrName] || thumbnail[thumbnailVideoName] -->\n",
       "<!-- N년전 오늘에 사용되는 마크업 -->\n",
       "<!-- ngIf: thisDayPost -->\n",
       "<!-- ngIf: thisDayPost && !thumbnail['noThisDayThumbnail'] -->\n",
       "<!-- ngIf: thisDayPost && thumbnail['noThisDayThumbnail'] -->\n",
       "</a><!-- end ngRepeat: thumbnail in thumbnailList | limitTo : 1 -->\n",
       "<a aria-selected=\"false\" bg-sliding-btn=\"\" class=\"button_more_img\" href=\"#\" ng-show=\"thumbnailList.length &gt; 1\" role=\"button\">\n",
       "<i class=\"sp_common icon_more\"><span class=\"blind\">글 섬네일 펼치기</span></i>\n",
       "</a>\n",
       "<!-- ngIf: thumbnailList.length > 1 --><div bg-sliding-area=\"\" class=\"plus_thumbnail_list\" ng-if=\"thumbnailList.length &gt; 1\" ng-style=\"{display : isViewPlusThumbnail? 'block':'none'}\" style=\"left: 0px; display: none;\">\n",
       "<a bg-nclickf='{\"code\":\"srs*l.image\"}' class=\"list_inner\" href=\"https://blog.naver.com/sexyleep/223712553697\" ng-click=\"afterProcess()\" ng-href=\"https://blog.naver.com/sexyleep/223712553697\" target=\"_blank\" title=\"포스트로 이동\">\n",
       "<!-- ngRepeat: thumbnail in thumbnailList | limitTo : 3 : 1 --><div class=\"plus_item\" ng-repeat=\"thumbnail in thumbnailList | limitTo : 3 : 1\">\n",
       "<img alt=\"글 섬네일\" bg-image=\"https://blogthumb.pstatic.net/MjAyNTAxMDJfMjEy/MDAxNzM1Nzk2NzYzOTk4.BHjSommQZFDYf8YMScEp5n15BPUUyglqJJSsvQQsdTkg.sGnoATMCVz8c6M_bsRgqkG8r2hzHDf-8r888B1Voom8g.PNG/%3F%95%84%3F%9D%B4%3F%8F%B016%3F%94%84%EB%A1%9C%EA%3F%EA%B2%3Fi16pro2.png?type=s2\" class=\"plus_img\" height=\"167\" src=\"https://blogthumb.pstatic.net/MjAyNTAxMDJfMjEy/MDAxNzM1Nzk2NzYzOTk4.BHjSommQZFDYf8YMScEp5n15BPUUyglqJJSsvQQsdTkg.sGnoATMCVz8c6M_bsRgqkG8r2hzHDf-8r888B1Voom8g.PNG/%3F%95%84%3F%9D%B4%3F%8F%B016%3F%94%84%EB%A1%9C%EA%3F%EA%B2%3Fi16pro2.png?type=s2\" width=\"167\"/>\n",
       "<!-- [D] 360vr이미지 일 경우 <i class=\"sp_common icon_vr\">360도 VR</i><span class=\"dimmed\"></span> 추가 / 동영상일 경우 <i class=\"sp_common icon_video_play\">동영상</i><span class=\"dimmed\"></span> 추가 -->\n",
       "<!-- ngIf: thumbnail[thumbnailVrName] -->\n",
       "<!-- ngIf: thumbnail[thumbnailVideoName] -->\n",
       "<!-- ngIf: thumbnail[thumbnailVrName] || thumbnail[thumbnailVideoName] -->\n",
       "</div><!-- end ngRepeat: thumbnail in thumbnailList | limitTo : 3 : 1 --><div class=\"plus_item\" ng-repeat=\"thumbnail in thumbnailList | limitTo : 3 : 1\">\n",
       "<img alt=\"글 섬네일\" bg-image=\"https://blogthumb.pstatic.net/MjAyNTAxMDJfMTQg/MDAxNzM1Nzk3MTkyMDk5.fsnPKokSxk51I9IDmTuimhlbg5kVaSSTXQYxdYc9zHcg.nzksbJudXKcK2qWcYWVjqtJan2zKCYiESOCxwsDUmAAg.PNG/%BE%C6%C0%CC%C6%F916%C7%C1%B7%CE%B0%A1%B0%DDi16pro6.png?type=s2\" class=\"plus_img\" height=\"167\" src=\"https://blogthumb.pstatic.net/MjAyNTAxMDJfMTQg/MDAxNzM1Nzk3MTkyMDk5.fsnPKokSxk51I9IDmTuimhlbg5kVaSSTXQYxdYc9zHcg.nzksbJudXKcK2qWcYWVjqtJan2zKCYiESOCxwsDUmAAg.PNG/%BE%C6%C0%CC%C6%F916%C7%C1%B7%CE%B0%A1%B0%DDi16pro6.png?type=s2\" width=\"167\"/>\n",
       "<!-- [D] 360vr이미지 일 경우 <i class=\"sp_common icon_vr\">360도 VR</i><span class=\"dimmed\"></span> 추가 / 동영상일 경우 <i class=\"sp_common icon_video_play\">동영상</i><span class=\"dimmed\"></span> 추가 -->\n",
       "<!-- ngIf: thumbnail[thumbnailVrName] -->\n",
       "<!-- ngIf: thumbnail[thumbnailVideoName] -->\n",
       "<!-- ngIf: thumbnail[thumbnailVrName] || thumbnail[thumbnailVideoName] -->\n",
       "</div><!-- end ngRepeat: thumbnail in thumbnailList | limitTo : 3 : 1 --><div class=\"plus_item\" ng-repeat=\"thumbnail in thumbnailList | limitTo : 3 : 1\">\n",
       "<img alt=\"글 섬네일\" bg-image=\"https://blogthumb.pstatic.net/MjAyNTAxMDJfMjEy/MDAxNzM1Nzk3MTkzODAz.gHXbqGDN9IRjfl-rcj9pMgrmSF3fk38cbw0dr68qfWsg.gBfJ2GhwaMQnBSkr9Eg-g09JzSDbaYvp6FHoBC2vvBYg.PNG/%BE%C6%C0%CC%C6%F916%C7%C1%B7%CE%B0%A1%B0%DDi16pro13.png?type=s2\" class=\"plus_img\" height=\"167\" src=\"https://blogthumb.pstatic.net/MjAyNTAxMDJfMjEy/MDAxNzM1Nzk3MTkzODAz.gHXbqGDN9IRjfl-rcj9pMgrmSF3fk38cbw0dr68qfWsg.gBfJ2GhwaMQnBSkr9Eg-g09JzSDbaYvp6FHoBC2vvBYg.PNG/%BE%C6%C0%CC%C6%F916%C7%C1%B7%CE%B0%A1%B0%DDi16pro13.png?type=s2\" width=\"167\"/>\n",
       "<!-- [D] 360vr이미지 일 경우 <i class=\"sp_common icon_vr\">360도 VR</i><span class=\"dimmed\"></span> 추가 / 동영상일 경우 <i class=\"sp_common icon_video_play\">동영상</i><span class=\"dimmed\"></span> 추가 -->\n",
       "<!-- ngIf: thumbnail[thumbnailVrName] -->\n",
       "<!-- ngIf: thumbnail[thumbnailVideoName] -->\n",
       "<!-- ngIf: thumbnail[thumbnailVrName] || thumbnail[thumbnailVideoName] -->\n",
       "</div><!-- end ngRepeat: thumbnail in thumbnailList | limitTo : 3 : 1 -->\n",
       "</a>\n",
       "</div><!-- end ngIf: thumbnailList.length > 1 -->\n",
       "</div>\n",
       "</div>\n",
       "</div>\n",
       "</div>"
      ]
     },
     "execution_count": 84,
     "metadata": {},
     "output_type": "execute_result"
    }
   ],
   "source": [
    "area_list_search = soup.select_one('div.area_list_search')\n",
    "list_search_post = area_list_search.select('div.list_search_post')\n",
    "list_search_post[0]"
   ]
  },
  {
   "cell_type": "code",
   "execution_count": 85,
   "metadata": {},
   "outputs": [
    {
     "data": {
      "text/plain": [
       "7"
      ]
     },
     "execution_count": 85,
     "metadata": {},
     "output_type": "execute_result"
    }
   ],
   "source": [
    "len(list_search_post)"
   ]
  },
  {
   "cell_type": "code",
   "execution_count": 86,
   "metadata": {},
   "outputs": [
    {
     "data": {
      "text/plain": [
       "1065"
      ]
     },
     "execution_count": 86,
     "metadata": {},
     "output_type": "execute_result"
    }
   ],
   "source": [
    "# 검색 결과 개수\n",
    "raw_search_number = soup.select_one('div.search_information em.search_number').text\n",
    "search_number = int(re.sub('[^0-9]', '', raw_search_number))\n",
    "search_number"
   ]
  },
  {
   "cell_type": "code",
   "execution_count": 87,
   "metadata": {},
   "outputs": [
    {
     "data": {
      "text/plain": [
       "153"
      ]
     },
     "execution_count": 87,
     "metadata": {},
     "output_type": "execute_result"
    }
   ],
   "source": [
    "# 검색 결과 페이지 수\n",
    "max_search_page_num = int(np.ceil(search_number / len(list_search_post)))\n",
    "max_search_page_num"
   ]
  },
  {
   "cell_type": "code",
   "execution_count": 88,
   "metadata": {},
   "outputs": [
    {
     "data": {
      "text/plain": [
       "'아이폰16프로 성지 가격 할인 팁'"
      ]
     },
     "execution_count": 88,
     "metadata": {},
     "output_type": "execute_result"
    }
   ],
   "source": [
    "# 글 제목\n",
    "post_num = 0\n",
    "title = list_search_post[post_num].select_one('span.title').text\n",
    "title"
   ]
  },
  {
   "cell_type": "code",
   "execution_count": 89,
   "metadata": {},
   "outputs": [
    {
     "data": {
      "text/plain": [
       "'특히 최신작인 아이폰16프로는 강력한 성능과 혁신적인 디자인으로 더욱 화제를 모으고 있습니다. 하지만 높은 가격이 걸림돌이 될 수 있는데요. 이번 글에서는 아이폰16프로를 경제적으로 구매할 수 있는 방법과 할인 혜택을 친근하게 알려드리겠습니다. 아이폰16프로 가격 목차 아이폰16프로... '"
      ]
     },
     "execution_count": 89,
     "metadata": {},
     "output_type": "execute_result"
    }
   ],
   "source": [
    "# 블로그 내용\n",
    "text = list_search_post[post_num].select_one('a.text').text\n",
    "text"
   ]
  },
  {
   "cell_type": "code",
   "execution_count": 90,
   "metadata": {},
   "outputs": [
    {
     "data": {
      "text/plain": [
       "'테크매니아'"
      ]
     },
     "execution_count": 90,
     "metadata": {},
     "output_type": "execute_result"
    }
   ],
   "source": [
    "# 글 작성자\n",
    "name_author = list_search_post[post_num].select_one('em.name_author').text\n",
    "name_author"
   ]
  },
  {
   "cell_type": "code",
   "execution_count": 91,
   "metadata": {},
   "outputs": [
    {
     "data": {
      "text/plain": [
       "'테크톡톡'"
      ]
     },
     "execution_count": 91,
     "metadata": {},
     "output_type": "execute_result"
    }
   ],
   "source": [
    "# 블로그 이름\n",
    "name_blog = list_search_post[post_num].select_one('span.name_blog').text\n",
    "name_blog"
   ]
  },
  {
   "cell_type": "code",
   "execution_count": 92,
   "metadata": {},
   "outputs": [
    {
     "data": {
      "text/plain": [
       "'2025. 1. 2.'"
      ]
     },
     "execution_count": 92,
     "metadata": {},
     "output_type": "execute_result"
    }
   ],
   "source": [
    "# 글 작성 날짜\n",
    "date = list_search_post[post_num].select_one('span.date').text\n",
    "date"
   ]
  },
  {
   "cell_type": "code",
   "execution_count": 93,
   "metadata": {},
   "outputs": [
    {
     "data": {
      "text/plain": [
       "'https://blog.naver.com/sexyleep/223712553697'"
      ]
     },
     "execution_count": 93,
     "metadata": {},
     "output_type": "execute_result"
    }
   ],
   "source": [
    "# 글 링크\n",
    "desc_inner = list_search_post[post_num].select_one('a.desc_inner')['href']\n",
    "desc_inner"
   ]
  },
  {
   "cell_type": "code",
   "execution_count": 94,
   "metadata": {},
   "outputs": [
    {
     "data": {
      "text/plain": [
       "'https://blog.naver.com/sexyleep'"
      ]
     },
     "execution_count": 94,
     "metadata": {},
     "output_type": "execute_result"
    }
   ],
   "source": [
    "# 블로그 링크\n",
    "author_blog_link = list_search_post[post_num].select_one('a.author')['href']\n",
    "author_blog_link"
   ]
  },
  {
   "cell_type": "code",
   "execution_count": null,
   "metadata": {},
   "outputs": [],
   "source": []
  },
  {
   "cell_type": "code",
   "execution_count": 95,
   "metadata": {},
   "outputs": [
    {
     "data": {
      "text/plain": [
       "<div anchor-text=\"content\" bg-move-scroll-on-pop-state=\"\" class=\"list_search_post\" ng-repeat=\"post in postSearchCtrl.resultList\">\n",
       "<div bg-article-multi-img-style=\"\" class=\"item multi_pic\">\n",
       "<div class=\"info_post\" ng-class=\"{only_post: post.thumbnails.length == 0}\">\n",
       "<div class=\"desc\">\n",
       "<a bg-nclick=\"srs*l.text\" class=\"desc_inner\" href=\"https://blog.naver.com/pangyolee/223713001880\" ng-href=\"https://blog.naver.com/pangyolee/223713001880\" target=\"_blank\">\n",
       "<strong class=\"title_post\">\n",
       "<!-- ngIf: post.titleHeadColor == '#27C400' -->\n",
       "<!-- ngIf: post.titleHeadColor == '#FF6565' -->\n",
       "<span class=\"title\" ng-bind-html=\"post.title\"><strong class=\"search_keyword\">아이폰16</strong> 프로 차이와 성지 활용법으로 최적의 혜택 받기</span>\n",
       "</strong>\n",
       "</a><!-- ngIf: post.contents --><a bg-nclick=\"srs*l.text\" class=\"text\" href=\"https://blog.naver.com/pangyolee/223713001880\" ng-bind-html=\"post.contents\" ng-href=\"https://blog.naver.com/pangyolee/223713001880\" ng-if=\"post.contents\" target=\"_blank\"><strong class=\"search_keyword\">아이폰16</strong> 시리즈는 강력한 성능과 고급스러운 디자인으로 많은 이들의 관심을 끌고 있습니다. 하지만 고가의 플래그십 모델인 만큼, 가격 부담이 크기 때문에 할인 혜택을 최대한 활용하는 것이 중요합니다. 이번 글에서는 <strong class=\"search_keyword\">아이폰16</strong> 프로 차이, 통신사 할인 비교, 성지 매장 활용법, 그리고... </a><!-- end ngIf: post.contents -->\n",
       "</div>\n",
       "<div class=\"writer_info\">\n",
       "<a bg-nclick=\"srs*l.blogger\" class=\"author\" href=\"https://blog.naver.com/pangyolee\" ng-href=\"https://blog.naver.com/pangyolee\" target=\"_blank\">\n",
       "<div class=\"thumbnail_author\">\n",
       "<img alt=\"블로거 썸네일\" bg-image=\"https://blogpfthumb-phinf.pstatic.net/20150615_234/pangyolee_1434337907694RQWyM_JPEG/%BE%E08.jpg?type=s1\" class=\"img_author\" height=\"25\" src=\"https://blogpfthumb-phinf.pstatic.net/20150615_234/pangyolee_1434337907694RQWyM_JPEG/%BE%E08.jpg?type=s1\" width=\"25\"/>\n",
       "</div>\n",
       "<em class=\"name_author\">DevelopPharmacy</em>\n",
       "</a>\n",
       "<span class=\"name_blog\">DevelopPharmacy</span>\n",
       "<span class=\"date\">2025. 1. 2.</span>\n",
       "<!-- ngIf: post.marketPost && post.product.productStatus == 'ON_SALE' -->\n",
       "<!-- ngIf: post.marketPost && post.product.productStatus == 'BE_SCHEDULED' -->\n",
       "<!-- ngIf: post.marketPost && post.product.productStatus == 'SALE_END' -->\n",
       "</div>\n",
       "</div>\n",
       "<div area-code=\"srs*l\" aria-selected=\"false\" class=\"thumbnail_post\" ng-hide=\"hide\" post-url=\"https://blog.naver.com/pangyolee/223713001880\" product=\"post.product\" thumbnail-key-name=\"url\" thumbnail-list=\"post.thumbnails\" thumbnail-video-name=\"videoThumbnail\" thumbnail-vr-name=\"vrthumbnail\">\n",
       "<div bg-sliding-leave=\"\" class=\"thumbnail_area\">\n",
       "<!-- ngRepeat: thumbnail in thumbnailList | limitTo : 1 --><a bg-nclickf='{\"code\":\"srs*l.image\"}' class=\"thumbnail_inner\" href=\"https://blog.naver.com/pangyolee/223713001880\" ng-click=\"afterProcess()\" ng-href=\"https://blog.naver.com/pangyolee/223713001880\" ng-repeat=\"thumbnail in thumbnailList | limitTo : 1\" target=\"_blank\">\n",
       "<img alt=\"포스트 썸네일\" bg-image=\"https://blogthumb.pstatic.net/MjAyNTAxMDJfNDYg/MDAxNzM1ODI0MTM4MjAw.5MJ74Aj-gtxkM6O9XpHvDhzlAhYWb3neSfHyZdIo1y4g.81nXbgGjmnW_PYxgP8PY8n61ADotAp4D5jkk-EIsLDEg.JPEG/20230216_102601.jpg?type=s2\" class=\"img_post\" height=\"167\" ng-class=\"{background_color:thumbnail['noThisDayThumbnail']}\" ng-hide=\"thumbnail['noThisDayThumbnail']\" src=\"https://blogthumb.pstatic.net/MjAyNTAxMDJfNDYg/MDAxNzM1ODI0MTM4MjAw.5MJ74Aj-gtxkM6O9XpHvDhzlAhYWb3neSfHyZdIo1y4g.81nXbgGjmnW_PYxgP8PY8n61ADotAp4D5jkk-EIsLDEg.JPEG/20230216_102601.jpg?type=s2\" width=\"167\"/>\n",
       "<!-- [D] 360vr이미지 일 경우 <i class=\"sp_common icon_vr\">360도 VR</i><span class=\"dimmed\"></span> 추가 / 동영상일 경우 <i class=\"sp_common icon_video_play\">동영상</i><span class=\"dimmed\"></span> 추가 -->\n",
       "<!-- ngIf: !product && thumbnail[thumbnailVrName] -->\n",
       "<!-- ngIf: !product && thumbnail[thumbnailVideoName] -->\n",
       "<!-- ngIf: product -->\n",
       "<!-- ngIf: thumbnail[thumbnailVrName] || thumbnail[thumbnailVideoName] -->\n",
       "<!-- N년전 오늘에 사용되는 마크업 -->\n",
       "<!-- ngIf: thisDayPost -->\n",
       "<!-- ngIf: thisDayPost && !thumbnail['noThisDayThumbnail'] -->\n",
       "<!-- ngIf: thisDayPost && thumbnail['noThisDayThumbnail'] -->\n",
       "</a><!-- end ngRepeat: thumbnail in thumbnailList | limitTo : 1 -->\n",
       "<a aria-selected=\"false\" bg-sliding-btn=\"\" class=\"button_more_img\" href=\"#\" ng-show=\"thumbnailList.length &gt; 1\" role=\"button\">\n",
       "<i class=\"sp_common icon_more\"><span class=\"blind\">글 섬네일 펼치기</span></i>\n",
       "</a>\n",
       "<!-- ngIf: thumbnailList.length > 1 --><div bg-sliding-area=\"\" class=\"plus_thumbnail_list\" ng-if=\"thumbnailList.length &gt; 1\" ng-style=\"{display : isViewPlusThumbnail? 'block':'none'}\" style=\"left: 0px; display: none;\">\n",
       "<a bg-nclickf='{\"code\":\"srs*l.image\"}' class=\"list_inner\" href=\"https://blog.naver.com/pangyolee/223713001880\" ng-click=\"afterProcess()\" ng-href=\"https://blog.naver.com/pangyolee/223713001880\" target=\"_blank\" title=\"포스트로 이동\">\n",
       "<!-- ngRepeat: thumbnail in thumbnailList | limitTo : 3 : 1 --><div class=\"plus_item\" ng-repeat=\"thumbnail in thumbnailList | limitTo : 3 : 1\">\n",
       "<img alt=\"글 섬네일\" bg-image=\"https://blogthumb.pstatic.net/MjAyNTAxMDJfMjIx/MDAxNzM1ODI0MTM5NjM5.JwXqc2x6MgecM-jhYFY-NW-dc4CF3Xaux1tPDRJO4ZEg.BFUoZ2u4tlqSg4qkC94wKM_Gom3xXQSrZC_OUPYybCIg.JPEG/20230216_104507.jpg?type=s2\" class=\"plus_img\" height=\"167\" src=\"https://blogthumb.pstatic.net/MjAyNTAxMDJfMjIx/MDAxNzM1ODI0MTM5NjM5.JwXqc2x6MgecM-jhYFY-NW-dc4CF3Xaux1tPDRJO4ZEg.BFUoZ2u4tlqSg4qkC94wKM_Gom3xXQSrZC_OUPYybCIg.JPEG/20230216_104507.jpg?type=s2\" width=\"167\"/>\n",
       "<!-- [D] 360vr이미지 일 경우 <i class=\"sp_common icon_vr\">360도 VR</i><span class=\"dimmed\"></span> 추가 / 동영상일 경우 <i class=\"sp_common icon_video_play\">동영상</i><span class=\"dimmed\"></span> 추가 -->\n",
       "<!-- ngIf: thumbnail[thumbnailVrName] -->\n",
       "<!-- ngIf: thumbnail[thumbnailVideoName] -->\n",
       "<!-- ngIf: thumbnail[thumbnailVrName] || thumbnail[thumbnailVideoName] -->\n",
       "</div><!-- end ngRepeat: thumbnail in thumbnailList | limitTo : 3 : 1 --><div class=\"plus_item\" ng-repeat=\"thumbnail in thumbnailList | limitTo : 3 : 1\">\n",
       "<img alt=\"글 섬네일\" bg-image=\"https://blogthumb.pstatic.net/MjAyNTAxMDJfMjkz/MDAxNzM1ODI0MTQzMTEy.wcmgppEaTVJ_TTZIc4cwQ58Z9h6uYek4Y_Gdy1GMUvsg.njuJogP9ohIaRycP2JnmSX9ZqQs19e80JZMPeH0XcmAg.JPEG/20230216_102624.jpg?type=s2\" class=\"plus_img\" height=\"167\" src=\"https://blogthumb.pstatic.net/MjAyNTAxMDJfMjkz/MDAxNzM1ODI0MTQzMTEy.wcmgppEaTVJ_TTZIc4cwQ58Z9h6uYek4Y_Gdy1GMUvsg.njuJogP9ohIaRycP2JnmSX9ZqQs19e80JZMPeH0XcmAg.JPEG/20230216_102624.jpg?type=s2\" width=\"167\"/>\n",
       "<!-- [D] 360vr이미지 일 경우 <i class=\"sp_common icon_vr\">360도 VR</i><span class=\"dimmed\"></span> 추가 / 동영상일 경우 <i class=\"sp_common icon_video_play\">동영상</i><span class=\"dimmed\"></span> 추가 -->\n",
       "<!-- ngIf: thumbnail[thumbnailVrName] -->\n",
       "<!-- ngIf: thumbnail[thumbnailVideoName] -->\n",
       "<!-- ngIf: thumbnail[thumbnailVrName] || thumbnail[thumbnailVideoName] -->\n",
       "</div><!-- end ngRepeat: thumbnail in thumbnailList | limitTo : 3 : 1 --><div class=\"plus_item\" ng-repeat=\"thumbnail in thumbnailList | limitTo : 3 : 1\">\n",
       "<img alt=\"글 섬네일\" bg-image=\"https://blogthumb.pstatic.net/MjAyNTAxMDJfMTY1/MDAxNzM1ODI0MTQzNDgy.Ooz7FulPAtFItMovXcvd18iSeX31b_oN3iVsQ1LZL0Yg.zEXIE7tD_1Tzzxhj-8Ox7SP0nYXycklX9LeGZHROcz8g.JPEG/20230213_124559.jpg?type=s2\" class=\"plus_img\" height=\"167\" src=\"https://blogthumb.pstatic.net/MjAyNTAxMDJfMTY1/MDAxNzM1ODI0MTQzNDgy.Ooz7FulPAtFItMovXcvd18iSeX31b_oN3iVsQ1LZL0Yg.zEXIE7tD_1Tzzxhj-8Ox7SP0nYXycklX9LeGZHROcz8g.JPEG/20230213_124559.jpg?type=s2\" width=\"167\"/>\n",
       "<!-- [D] 360vr이미지 일 경우 <i class=\"sp_common icon_vr\">360도 VR</i><span class=\"dimmed\"></span> 추가 / 동영상일 경우 <i class=\"sp_common icon_video_play\">동영상</i><span class=\"dimmed\"></span> 추가 -->\n",
       "<!-- ngIf: thumbnail[thumbnailVrName] -->\n",
       "<!-- ngIf: thumbnail[thumbnailVideoName] -->\n",
       "<!-- ngIf: thumbnail[thumbnailVrName] || thumbnail[thumbnailVideoName] -->\n",
       "</div><!-- end ngRepeat: thumbnail in thumbnailList | limitTo : 3 : 1 -->\n",
       "</a>\n",
       "</div><!-- end ngIf: thumbnailList.length > 1 -->\n",
       "</div>\n",
       "</div>\n",
       "</div>\n",
       "</div>"
      ]
     },
     "execution_count": 95,
     "metadata": {},
     "output_type": "execute_result"
    }
   ],
   "source": [
    "list_search_post[1]"
   ]
  },
  {
   "cell_type": "code",
   "execution_count": 96,
   "metadata": {},
   "outputs": [
    {
     "data": {
      "text/plain": [
       "'아이폰16 프로 차이와 성지 활용법으로 최적의 혜택 받기'"
      ]
     },
     "execution_count": 96,
     "metadata": {},
     "output_type": "execute_result"
    }
   ],
   "source": [
    "# 글 제목\n",
    "post_num = 1\n",
    "title = list_search_post[post_num].select_one('span.title').text\n",
    "title"
   ]
  },
  {
   "cell_type": "code",
   "execution_count": 97,
   "metadata": {},
   "outputs": [
    {
     "data": {
      "text/plain": [
       "'아이폰16 시리즈는 강력한 성능과 고급스러운 디자인으로 많은 이들의 관심을 끌고 있습니다. 하지만 고가의 플래그십 모델인 만큼, 가격 부담이 크기 때문에 할인 혜택을 최대한 활용하는 것이 중요합니다. 이번 글에서는 아이폰16 프로 차이, 통신사 할인 비교, 성지 매장 활용법, 그리고... '"
      ]
     },
     "execution_count": 97,
     "metadata": {},
     "output_type": "execute_result"
    }
   ],
   "source": [
    "# 블로그 내용\n",
    "text = list_search_post[post_num].select_one('a.text').text\n",
    "text"
   ]
  },
  {
   "cell_type": "code",
   "execution_count": 98,
   "metadata": {},
   "outputs": [
    {
     "data": {
      "text/plain": [
       "'DevelopPharmacy'"
      ]
     },
     "execution_count": 98,
     "metadata": {},
     "output_type": "execute_result"
    }
   ],
   "source": [
    "# 글 작성자\n",
    "name_author = list_search_post[post_num].select_one('em.name_author').text\n",
    "name_author"
   ]
  },
  {
   "cell_type": "code",
   "execution_count": 99,
   "metadata": {},
   "outputs": [
    {
     "data": {
      "text/plain": [
       "'DevelopPharmacy'"
      ]
     },
     "execution_count": 99,
     "metadata": {},
     "output_type": "execute_result"
    }
   ],
   "source": [
    "# 블로그 이름\n",
    "name_blog = list_search_post[post_num].select_one('span.name_blog').text\n",
    "name_blog"
   ]
  },
  {
   "cell_type": "code",
   "execution_count": 100,
   "metadata": {},
   "outputs": [
    {
     "data": {
      "text/plain": [
       "'2025. 1. 2.'"
      ]
     },
     "execution_count": 100,
     "metadata": {},
     "output_type": "execute_result"
    }
   ],
   "source": [
    "# 글 작성 날짜\n",
    "date = list_search_post[post_num].select_one('span.date').text\n",
    "date"
   ]
  },
  {
   "cell_type": "code",
   "execution_count": 101,
   "metadata": {},
   "outputs": [
    {
     "data": {
      "text/plain": [
       "'https://blog.naver.com/pangyolee/223713001880'"
      ]
     },
     "execution_count": 101,
     "metadata": {},
     "output_type": "execute_result"
    }
   ],
   "source": [
    "# 글 링크\n",
    "text_link = list_search_post[post_num].select_one('a.desc_inner')['href']\n",
    "text_link"
   ]
  },
  {
   "cell_type": "code",
   "execution_count": 102,
   "metadata": {},
   "outputs": [
    {
     "name": "stdout",
     "output_type": "stream",
     "text": [
      "3 5\n"
     ]
    }
   ],
   "source": [
    "start = 5\n",
    "end = 3\n",
    "start, end = end, start\n",
    "print(start, end)"
   ]
  },
  {
   "cell_type": "code",
   "execution_count": 103,
   "metadata": {},
   "outputs": [
    {
     "name": "stdout",
     "output_type": "stream",
     "text": [
      "최대 포스트 페이지 수 : 153\n",
      "수집할 포스트 페이지 수: 5\n"
     ]
    }
   ],
   "source": [
    "# 수집할 포스트 페이지 설정\n",
    "while True:\n",
    "    try:\n",
    "        print(f'최대 포스트 페이지 수 : {max_post_search_page_num}')\n",
    "        post_crawling_page_num = int(input(f\"수집할 포스트 페이지 수를 입력하세요(숫자만 입력) : \"))\n",
    "        if post_crawling_page_num <= 0:\n",
    "            print(\"0보다 큰 숫자를 입력하세요.\")\n",
    "            continue\n",
    "        if post_crawling_page_num > max_post_search_page_num:\n",
    "            print('입력한 숫자 :', post_crawling_page_num)\n",
    "            print(f\"입력한 숫자가 검색 결과 페이지 수보다 큽니다. {max_post_search_page_num}로 설정합니다.\")\n",
    "            post_crawling_page_num = max_post_search_page_num\n",
    "        break\n",
    "    except ValueError:\n",
    "        print(\"유효한 숫자를 입력하세요.\")\n",
    "\n",
    "print(f\"수집할 포스트 페이지 수: {post_crawling_page_num}\")"
   ]
  },
  {
   "cell_type": "code",
   "execution_count": 104,
   "metadata": {},
   "outputs": [
    {
     "name": "stdout",
     "output_type": "stream",
     "text": [
      "35 35 35 35 35 35 35\n"
     ]
    }
   ],
   "source": [
    "keyword = '아이폰 16' # 검색어\n",
    "tab_option = '글' # 포스트, 블로그 선택\n",
    "rangetype = 'PERIOD' # 검색 범위(ALL, WEEK, MONTH, PERIOD)\n",
    "orderby = 'sim' # 정렬 순서(sim, recentdate)\n",
    "\n",
    "# rangetype이 PERIOD인 경우 시작일과 종료일 설정 \n",
    "startdate = '2025-01-01' # 형식: YYYY-mm-dd(예. 2025-01-01)\n",
    "enddate = '2025-01-10' # 형식: YYYY-mm-dd(예. 2025-01-01)\n",
    "current_date = datetime.today().strftime('%Y-%m-%d')\n",
    "if startdate > enddate:\n",
    "    startdate, enddate = enddate, startdate # 시작일이 종료일보다 크면 종료일로 변경\n",
    "if startdate > current_date:\n",
    "    startdate, enddate = current_date, current_date # 시작일이 현재 날짜보다 크면 현재 날짜로 변경\n",
    "if enddate > current_date:\n",
    "    enddate = current_date # 종료일이 현재 날짜보다 크면 현재 날짜로 변경\n",
    "\n",
    "title_list = []\n",
    "text_list = []\n",
    "name_author_list = []\n",
    "name_blog_list = []\n",
    "date_list = []\n",
    "post_link_list = []\n",
    "author_blog_link_list = []\n",
    "\n",
    "for page_num in range(1, post_crawling_page_num + 1):\n",
    "    if tab_option == '글':\n",
    "        if rangetype == 'PERIOD':\n",
    "            keyword_url = f'https://section.blog.naver.com/Search/Post.naver?pageNo={page_num}&rangeType={rangetype}&orderBy={orderby}&&startDate={startdate}&endDate={enddate}&keyword={keyword}'\n",
    "        else:\n",
    "            keyword_url = f'https://section.blog.naver.com/Search/Post.naver?pageNo={page_num}&rangeType={rangetype}&orderBy={orderby}&keyword={keyword}'\n",
    "    elif tab_option == '블로그':\n",
    "        keyword_url = f'https://section.blog.naver.com/Search/Blog.naver?pageNo={page_num}&orderBy={orderby}&keyword={keyword}'\n",
    "\n",
    "\n",
    "    driver.get(keyword_url)\n",
    "    driver.implicitly_wait(10) # 페이지 로드 될 때까지 기다리지만 로드 되는 순간 종료\n",
    "    time.sleep(random.uniform(1, 3))\n",
    "\n",
    "    page = driver.page_source\n",
    "    soup = bs(page, 'html.parser')\n",
    "    # print(soup.title.text)\n",
    "    \n",
    "    area_list_search = soup.select_one('div.area_list_search')\n",
    "    list_search_post = area_list_search.select('div.list_search_post')\n",
    "\n",
    "    for post in list_search_post:\n",
    "        title = post.select_one('span.title').text\n",
    "        text = post.select_one('a.text').text\n",
    "        name_author = post.select_one('em.name_author').text\n",
    "        name_blog = post.select_one('span.name_blog').text\n",
    "        date = post.select_one('span.date').text\n",
    "        post_link = post.select_one('a.desc_inner')['href']\n",
    "        author_blog_link = post.select_one('a.author')['href']\n",
    "\n",
    "        title_list.append(title)\n",
    "        text_list.append(text)\n",
    "        name_author_list.append(name_author)\n",
    "        name_blog_list.append(name_blog)\n",
    "        date_list.append(date)\n",
    "        post_link_list.append(post_link)\n",
    "        author_blog_link_list.append(author_blog_link)\n",
    "\n",
    "print(len(title_list), len(text_list), len(name_author_list), len(name_blog_list), len(date_list), len(post_link_list), len(author_blog_link_list))"
   ]
  },
  {
   "cell_type": "code",
   "execution_count": 105,
   "metadata": {},
   "outputs": [
    {
     "data": {
      "text/html": [
       "<div>\n",
       "<style scoped>\n",
       "    .dataframe tbody tr th:only-of-type {\n",
       "        vertical-align: middle;\n",
       "    }\n",
       "\n",
       "    .dataframe tbody tr th {\n",
       "        vertical-align: top;\n",
       "    }\n",
       "\n",
       "    .dataframe thead th {\n",
       "        text-align: right;\n",
       "    }\n",
       "</style>\n",
       "<table border=\"1\" class=\"dataframe\">\n",
       "  <thead>\n",
       "    <tr style=\"text-align: right;\">\n",
       "      <th></th>\n",
       "      <th>title</th>\n",
       "      <th>text</th>\n",
       "      <th>name_author</th>\n",
       "      <th>name_blog</th>\n",
       "      <th>date</th>\n",
       "      <th>post_link</th>\n",
       "      <th>author_blog_link</th>\n",
       "    </tr>\n",
       "  </thead>\n",
       "  <tbody>\n",
       "    <tr>\n",
       "      <th>0</th>\n",
       "      <td>아이폰16 성능 15와 비교 및 할인팁</td>\n",
       "      <td>아이폰16 성능이 궁금하다면 이번 포스팅을 주목해 주세요. 전작 15 시리즈와 비교...</td>\n",
       "      <td>곰순이</td>\n",
       "      <td>곰순이</td>\n",
       "      <td>2025. 1. 10.</td>\n",
       "      <td>https://blog.naver.com/mlifeso/223722026004</td>\n",
       "      <td>https://blog.naver.com/mlifeso</td>\n",
       "    </tr>\n",
       "    <tr>\n",
       "      <th>1</th>\n",
       "      <td>아이폰16 프로 디자인 보조금 꿀팁까지</td>\n",
       "      <td>오늘은 아이폰16 프로 디자인과 달라진 주요 스펙을 정리해 보고, 가격 할인을 받을...</td>\n",
       "      <td>얌못</td>\n",
       "      <td>경제꿈나무</td>\n",
       "      <td>2025. 1. 9.</td>\n",
       "      <td>https://blog.naver.com/cjfgns2/223720560043</td>\n",
       "      <td>https://blog.naver.com/cjfgns2</td>\n",
       "    </tr>\n",
       "    <tr>\n",
       "      <th>2</th>\n",
       "      <td>아이폰 16프로 내추럴 티타늄 언박싱 구매후기</td>\n",
       "      <td>아이폰 16프로 내추럴 티타늄 언박싱 구매후기 남편돈 남편산 구매후기입니다 저는 아...</td>\n",
       "      <td>grace</td>\n",
       "      <td>GRACE's lov diary</td>\n",
       "      <td>2025. 1. 7.</td>\n",
       "      <td>https://blog.naver.com/dmsp3535/223717372581</td>\n",
       "      <td>https://blog.naver.com/dmsp3535</td>\n",
       "    </tr>\n",
       "    <tr>\n",
       "      <th>3</th>\n",
       "      <td>아이폰16프로 256 가격 성지 할인</td>\n",
       "      <td>최신 스마트폰 중에서도 아이폰16 프로는 강력한 성능과 세련된 디자인으로 많은 이들...</td>\n",
       "      <td>테크매니아</td>\n",
       "      <td>테크톡톡</td>\n",
       "      <td>2025. 1. 3.</td>\n",
       "      <td>https://blog.naver.com/sexyleep/223712531240</td>\n",
       "      <td>https://blog.naver.com/sexyleep</td>\n",
       "    </tr>\n",
       "    <tr>\n",
       "      <th>4</th>\n",
       "      <td>아이폰16 프로 통신사 자급제 차이 가격 비교 가이드</td>\n",
       "      <td>오늘은 아이폰16 프로 통신사 자급제 차이에 대해 알아보겠습니다. 이동통신과 자급제...</td>\n",
       "      <td>IT 대장님</td>\n",
       "      <td>IT 전문대대</td>\n",
       "      <td>2025. 1. 9.</td>\n",
       "      <td>https://blog.naver.com/ykimceo/223720115490</td>\n",
       "      <td>https://blog.naver.com/ykimceo</td>\n",
       "    </tr>\n",
       "  </tbody>\n",
       "</table>\n",
       "</div>"
      ],
      "text/plain": [
       "                           title  \\\n",
       "0          아이폰16 성능 15와 비교 및 할인팁   \n",
       "1          아이폰16 프로 디자인 보조금 꿀팁까지   \n",
       "2      아이폰 16프로 내추럴 티타늄 언박싱 구매후기   \n",
       "3           아이폰16프로 256 가격 성지 할인   \n",
       "4  아이폰16 프로 통신사 자급제 차이 가격 비교 가이드   \n",
       "\n",
       "                                                text name_author  \\\n",
       "0  아이폰16 성능이 궁금하다면 이번 포스팅을 주목해 주세요. 전작 15 시리즈와 비교...         곰순이   \n",
       "1  오늘은 아이폰16 프로 디자인과 달라진 주요 스펙을 정리해 보고, 가격 할인을 받을...          얌못   \n",
       "2  아이폰 16프로 내추럴 티타늄 언박싱 구매후기 남편돈 남편산 구매후기입니다 저는 아...       grace   \n",
       "3  최신 스마트폰 중에서도 아이폰16 프로는 강력한 성능과 세련된 디자인으로 많은 이들...       테크매니아   \n",
       "4  오늘은 아이폰16 프로 통신사 자급제 차이에 대해 알아보겠습니다. 이동통신과 자급제...      IT 대장님   \n",
       "\n",
       "           name_blog          date  \\\n",
       "0                곰순이  2025. 1. 10.   \n",
       "1              경제꿈나무   2025. 1. 9.   \n",
       "2  GRACE's lov diary   2025. 1. 7.   \n",
       "3               테크톡톡   2025. 1. 3.   \n",
       "4            IT 전문대대   2025. 1. 9.   \n",
       "\n",
       "                                      post_link  \\\n",
       "0   https://blog.naver.com/mlifeso/223722026004   \n",
       "1   https://blog.naver.com/cjfgns2/223720560043   \n",
       "2  https://blog.naver.com/dmsp3535/223717372581   \n",
       "3  https://blog.naver.com/sexyleep/223712531240   \n",
       "4   https://blog.naver.com/ykimceo/223720115490   \n",
       "\n",
       "                  author_blog_link  \n",
       "0   https://blog.naver.com/mlifeso  \n",
       "1   https://blog.naver.com/cjfgns2  \n",
       "2  https://blog.naver.com/dmsp3535  \n",
       "3  https://blog.naver.com/sexyleep  \n",
       "4   https://blog.naver.com/ykimceo  "
      ]
     },
     "execution_count": 105,
     "metadata": {},
     "output_type": "execute_result"
    }
   ],
   "source": [
    "post_dict = {\n",
    "    'title': title_list,\n",
    "    'text': text_list,\n",
    "    'name_author': name_author_list,\n",
    "    'name_blog': name_blog_list,\n",
    "    'date': date_list,\n",
    "    'post_link': post_link_list,\n",
    "    'author_blog_link': author_blog_link_list\n",
    "}\n",
    "post_df = pd.DataFrame(post_dict)\n",
    "post_df.head()"
   ]
  },
  {
   "cell_type": "code",
   "execution_count": 106,
   "metadata": {},
   "outputs": [
    {
     "data": {
      "text/plain": [
       "(35, 7)"
      ]
     },
     "execution_count": 106,
     "metadata": {},
     "output_type": "execute_result"
    }
   ],
   "source": [
    "new = post_df.drop_duplicates()\n",
    "new.shape"
   ]
  },
  {
   "cell_type": "code",
   "execution_count": 107,
   "metadata": {},
   "outputs": [
    {
     "data": {
      "text/plain": [
       "'20250114'"
      ]
     },
     "execution_count": 107,
     "metadata": {},
     "output_type": "execute_result"
    }
   ],
   "source": [
    "# 현재 날짜\n",
    "current_date = datetime.today().strftime('%Y%m%d')\n",
    "current_date"
   ]
  },
  {
   "cell_type": "code",
   "execution_count": 108,
   "metadata": {},
   "outputs": [
    {
     "data": {
      "text/plain": [
       "'c:/Users/kbjoo/Documents/Google_Drive/GitHub/my_projects/crawling/naver'"
      ]
     },
     "execution_count": 108,
     "metadata": {},
     "output_type": "execute_result"
    }
   ],
   "source": [
    "# 현재 경로 확인\n",
    "code_path = os.getcwd().replace('\\\\', '/')\n",
    "code_path"
   ]
  },
  {
   "cell_type": "code",
   "execution_count": 109,
   "metadata": {},
   "outputs": [],
   "source": [
    "# 수집한 파일 저장할 폴더 생성\n",
    "crawled_folder_path = os.path.join(code_path, 'crawled_data', 'naver_blog', current_date)\n",
    "os.makedirs(crawled_folder_path, exist_ok=True)"
   ]
  },
  {
   "cell_type": "code",
   "execution_count": 110,
   "metadata": {},
   "outputs": [
    {
     "data": {
      "text/plain": [
       "'20250114_PM_042129'"
      ]
     },
     "execution_count": 110,
     "metadata": {},
     "output_type": "execute_result"
    }
   ],
   "source": [
    "current_datetime = datetime.today().strftime('%Y%m%d_%p_%I%M%S')\n",
    "current_datetime"
   ]
  },
  {
   "cell_type": "markdown",
   "metadata": {},
   "source": [
    "## 블로그 선택\n",
    "- 참고 링크 : https://section.blog.naver.com/Search/Blog.naver?pageNo=1&orderBy=sim&keyword=아이폰 16\n",
    "- 참고 링크 : https://section.blog.naver.com/Search/Blog.naver?pageNo=1&orderBy=recentdate&keyword=아이폰 16\n",
    "- [⭕] orderBy 옵션\n",
    "    - 관련도순 : &orderBy=sim\n",
    "    - 최신순 : &orderBy=recentdate\n",
    "\n",
    "- [⭕] 수집할 페이지 옵션 추가\n",
    "- [⭕] 수집할 페이지가 실제 페이지 수보다 많을 경우 예외 처리"
   ]
  },
  {
   "cell_type": "code",
   "execution_count": 111,
   "metadata": {},
   "outputs": [],
   "source": [
    "keyword = '아이폰 16' # 검색어\n",
    "tab_option = '블로그' # 포스트, 블로그 선택\n",
    "orderby = 'sim' # 정렬 순서(sim, recentdate)\n",
    "\n",
    "if tab_option == '글':\n",
    "    if rangetype == 'PERIOD':\n",
    "        keyword_url = f'https://section.blog.naver.com/Search/Post.naver?pageNo={page_num}&rangeType={rangetype}&orderBy={orderby}&&startDate={startdate}&endDate={enddate}&keyword={keyword}'\n",
    "    else:\n",
    "        keyword_url = f'https://section.blog.naver.com/Search/Post.naver?pageNo={page_num}&rangeType={rangetype}&orderBy={orderby}&keyword={keyword}'\n",
    "elif tab_option == '블로그':\n",
    "    keyword_url = f'https://section.blog.naver.com/Search/Blog.naver?pageNo={page_num}&orderBy={orderby}&keyword={keyword}'"
   ]
  },
  {
   "cell_type": "code",
   "execution_count": 112,
   "metadata": {},
   "outputs": [
    {
     "data": {
      "text/plain": [
       "'https://section.blog.naver.com/Search/Blog.naver?pageNo=5&orderBy=sim&keyword=아이폰 16'"
      ]
     },
     "execution_count": 112,
     "metadata": {},
     "output_type": "execute_result"
    }
   ],
   "source": [
    "keyword_url"
   ]
  },
  {
   "cell_type": "code",
   "execution_count": 113,
   "metadata": {},
   "outputs": [
    {
     "name": "stdout",
     "output_type": "stream",
     "text": [
      "==================================================\n",
      "검색어 : 아이폰 16\n",
      "글/블로그 선택 : 블로그\n",
      "정렬 순서 : 관련도순\n",
      "검색 결과 개수 : 196\n",
      "검색 결과 페이지 수 : 20\n"
     ]
    }
   ],
   "source": [
    "# 검색 결과 개수 확인\n",
    "page_num = 1\n",
    "keyword_url = f'https://section.blog.naver.com/Search/Blog.naver?pageNo={page_num}&orderBy={orderby}&keyword={keyword}'\n",
    "\n",
    "driver.get(keyword_url)\n",
    "driver.implicitly_wait(10) # 페이지 로드 될 때까지 기다리지만 로드 되는 순간 종료\n",
    "time.sleep(random.uniform(1, 3))\n",
    "\n",
    "page = driver.page_source\n",
    "soup = bs(page, 'html.parser')\n",
    "\n",
    "area_list_search = soup.select_one('div.area_list_search')\n",
    "list_search_blog = area_list_search.select('div.list_search_blog')\n",
    "\n",
    "# 검색 결과 개수\n",
    "raw_blog_search_number = soup.select_one('div.search_information em.search_number').text\n",
    "blog_search_number = int(re.sub('[^0-9]', '', raw_blog_search_number))\n",
    "\n",
    "# 검색 결과 페이지 수\n",
    "max_blog_search_page_num = int(np.ceil(blog_search_number / len(list_search_blog)))\n",
    "\n",
    "print('='*50)\n",
    "print('검색어 :', keyword)\n",
    "print('글/블로그 선택 :', tab_option)\n",
    "print('정렬 순서 :', orderby.replace('sim', '관련도순').replace('recentdate', '최신순'))\n",
    "print('검색 결과 개수 :', blog_search_number)\n",
    "print('검색 결과 페이지 수 :', max_blog_search_page_num)"
   ]
  },
  {
   "cell_type": "code",
   "execution_count": 114,
   "metadata": {},
   "outputs": [
    {
     "name": "stdout",
     "output_type": "stream",
     "text": [
      "네이버 블로그\n"
     ]
    }
   ],
   "source": [
    "page = driver.page_source\n",
    "soup = bs(page, 'html.parser')\n",
    "print(soup.title.text)"
   ]
  },
  {
   "cell_type": "code",
   "execution_count": 115,
   "metadata": {},
   "outputs": [
    {
     "data": {
      "text/plain": [
       "<div anchor-text=\"content\" bg-move-scroll-on-pop-state=\"\" class=\"list_search_blog\" ng-repeat=\"blog in blogSearchCtrl.resultList\">\n",
       "<div class=\"item\">\n",
       "<a bg-nclick=\"srb*l.blogger\" class=\"name_blog\" href=\"https://blog.naver.com/qhrejddl7373\" ng-href=\"https://blog.naver.com/qhrejddl7373\" target=\"_blank\">\n",
       "<em class=\"text_blog\" ng-bind-html=\"blog.blogName\"><strong class=\"search_keyword\">아이폰16</strong>프로사전예약혜택성지모아카페</em>\n",
       "</a>\n",
       "<p class=\"blog_intro\" ng-bind-html=\"blog.blogDesc\"><strong class=\"search_keyword\">아이폰16</strong>프로사전예약혜택성지모아카페 정보 공유 블로그 입니다~</p>\n",
       "<div class=\"writer_info\">\n",
       "<a bg-nclick=\"srb*l.blogger\" class=\"author\" href=\"https://blog.naver.com/qhrejddl7373\" ng-href=\"https://blog.naver.com/qhrejddl7373\" target=\"_blank\">\n",
       "<div class=\"thumbnail_author\">\n",
       "<img alt=\"블로거 썸네일\" bg-image=\"https://blogpfthumb-phinf.pstatic.net/MjAyNDA5MTNfMTc3/MDAxNzI2MTk2NTg4Njgx.uAZNONyJWghf7L_Anmni-CY7bw7n1TYuESshHirSrCcg.d0j2fA62wXmE-SqYrDRIv206ty97Ju_CFz2HLa6oafEg.PNG/m2.png/m2.png?type=s1\" class=\"img_author\" height=\"25\" src=\"https://blogpfthumb-phinf.pstatic.net/MjAyNDA5MTNfMTc3/MDAxNzI2MTk2NTg4Njgx.uAZNONyJWghf7L_Anmni-CY7bw7n1TYuESshHirSrCcg.d0j2fA62wXmE-SqYrDRIv206ty97Ju_CFz2HLa6oafEg.PNG/m2.png/m2.png?type=s1\" width=\"25\"/>\n",
       "</div>\n",
       "<em class=\"name_author\">성지모아카페</em>\n",
       "</a>\n",
       "<!-- ngIf: blog.officialBlog -->\n",
       "<!-- ngIf: blog.marketBlog -->\n",
       "</div>\n",
       "</div>\n",
       "</div>"
      ]
     },
     "execution_count": 115,
     "metadata": {},
     "output_type": "execute_result"
    }
   ],
   "source": [
    "area_list_search = soup.select_one('div.area_list_search')\n",
    "list_search_blog = area_list_search.select('div.list_search_blog')\n",
    "list_search_blog[0]"
   ]
  },
  {
   "cell_type": "code",
   "execution_count": 116,
   "metadata": {},
   "outputs": [
    {
     "data": {
      "text/plain": [
       "10"
      ]
     },
     "execution_count": 116,
     "metadata": {},
     "output_type": "execute_result"
    }
   ],
   "source": [
    "len(list_search_blog)"
   ]
  },
  {
   "cell_type": "code",
   "execution_count": 117,
   "metadata": {},
   "outputs": [
    {
     "name": "stdout",
     "output_type": "stream",
     "text": [
      "196\n",
      "20\n"
     ]
    }
   ],
   "source": [
    "# 검색 결과 개수\n",
    "raw_search_number = soup.select_one('div.search_information em.search_number').text\n",
    "search_number = int(re.sub('[^0-9]', '', raw_search_number))\n",
    "print(search_number)\n",
    "\n",
    "# 검색 결과 페이지 수\n",
    "max_search_page_num = int(np.ceil(search_number / len(list_search_blog)))\n",
    "print(max_search_page_num)"
   ]
  },
  {
   "cell_type": "code",
   "execution_count": 118,
   "metadata": {},
   "outputs": [
    {
     "data": {
      "text/plain": [
       "'아이폰16프로사전예약혜택성지모아카페'"
      ]
     },
     "execution_count": 118,
     "metadata": {},
     "output_type": "execute_result"
    }
   ],
   "source": [
    "# 블로그 제목\n",
    "post_num = 0\n",
    "text_blog = list_search_blog[post_num].select_one('em.text_blog').text\n",
    "text_blog"
   ]
  },
  {
   "cell_type": "code",
   "execution_count": 119,
   "metadata": {},
   "outputs": [
    {
     "data": {
      "text/plain": [
       "'아이폰16프로사전예약혜택성지모아카페 정보 공유 블로그 입니다~'"
      ]
     },
     "execution_count": 119,
     "metadata": {},
     "output_type": "execute_result"
    }
   ],
   "source": [
    "# 블로그 내용\n",
    "blog_intro = list_search_blog[post_num].select_one('p.blog_intro').text\n",
    "blog_intro"
   ]
  },
  {
   "cell_type": "code",
   "execution_count": 120,
   "metadata": {},
   "outputs": [
    {
     "data": {
      "text/plain": [
       "'성지모아카페'"
      ]
     },
     "execution_count": 120,
     "metadata": {},
     "output_type": "execute_result"
    }
   ],
   "source": [
    "# 글 작성자\n",
    "name_author = list_search_blog[post_num].select_one('em.name_author').text\n",
    "name_author"
   ]
  },
  {
   "cell_type": "code",
   "execution_count": 121,
   "metadata": {},
   "outputs": [
    {
     "data": {
      "text/plain": [
       "'https://blog.naver.com/qhrejddl7373'"
      ]
     },
     "execution_count": 121,
     "metadata": {},
     "output_type": "execute_result"
    }
   ],
   "source": [
    "# 블로그 링크\n",
    "blog_link = list_search_blog[post_num].select_one('a.name_blog')['href']\n",
    "blog_link"
   ]
  },
  {
   "cell_type": "code",
   "execution_count": null,
   "metadata": {},
   "outputs": [],
   "source": []
  },
  {
   "cell_type": "code",
   "execution_count": 122,
   "metadata": {},
   "outputs": [
    {
     "data": {
      "text/plain": [
       "'아이폰16'"
      ]
     },
     "execution_count": 122,
     "metadata": {},
     "output_type": "execute_result"
    }
   ],
   "source": [
    "# 블로그 제목\n",
    "post_num = 1\n",
    "text_blog = list_search_blog[post_num].select_one('em.text_blog').text\n",
    "text_blog"
   ]
  },
  {
   "cell_type": "code",
   "execution_count": 123,
   "metadata": {},
   "outputs": [
    {
     "data": {
      "text/plain": [
       "''"
      ]
     },
     "execution_count": 123,
     "metadata": {},
     "output_type": "execute_result"
    }
   ],
   "source": [
    "# 블로그 내용\n",
    "blog_intro = list_search_blog[post_num].select_one('p.blog_intro').text\n",
    "blog_intro"
   ]
  },
  {
   "cell_type": "code",
   "execution_count": 124,
   "metadata": {},
   "outputs": [
    {
     "data": {
      "text/plain": [
       "True"
      ]
     },
     "execution_count": 124,
     "metadata": {},
     "output_type": "execute_result"
    }
   ],
   "source": [
    "list_search_blog[post_num].select_one('p.blog_intro').text == ''"
   ]
  },
  {
   "cell_type": "code",
   "execution_count": 125,
   "metadata": {},
   "outputs": [
    {
     "data": {
      "text/plain": [
       "'아이폰16'"
      ]
     },
     "execution_count": 125,
     "metadata": {},
     "output_type": "execute_result"
    }
   ],
   "source": [
    "# 글 작성자\n",
    "name_author = list_search_blog[post_num].select_one('em.name_author').text\n",
    "name_author"
   ]
  },
  {
   "cell_type": "code",
   "execution_count": 126,
   "metadata": {},
   "outputs": [
    {
     "data": {
      "text/plain": [
       "'https://blog.naver.com/crnzlwbrc'"
      ]
     },
     "execution_count": 126,
     "metadata": {},
     "output_type": "execute_result"
    }
   ],
   "source": [
    "# 블로그 링크\n",
    "blog_link = list_search_blog[post_num].select_one('a.name_blog')['href']\n",
    "blog_link"
   ]
  },
  {
   "cell_type": "code",
   "execution_count": 127,
   "metadata": {},
   "outputs": [
    {
     "name": "stdout",
     "output_type": "stream",
     "text": [
      "최대 블로그 페이지 수 : 20\n",
      "수집할 블로그 페이지 수: 5\n"
     ]
    }
   ],
   "source": [
    "# 수집할 블로그 페이지 설정\n",
    "while True:\n",
    "    try:\n",
    "        print(f'최대 블로그 페이지 수 : {max_blog_search_page_num}')\n",
    "        blog_crawling_page_num = int(input(f\"수집할 블로그 페이지 수를 입력하세요(숫자만 입력) : \"))\n",
    "        if blog_crawling_page_num <= 0:\n",
    "            print(\"0보다 큰 숫자를 입력하세요.\")\n",
    "            continue\n",
    "        if blog_crawling_page_num > max_blog_search_page_num:\n",
    "            print('입력한 숫자 :', blog_crawling_page_num)\n",
    "            print(f\"입력한 숫자가 검색 결과 페이지 수보다 큽니다. {max_blog_search_page_num}로 설정합니다.\")\n",
    "            blog_crawling_page_num = max_blog_search_page_num\n",
    "        break\n",
    "    except ValueError:\n",
    "        print(\"유효한 숫자를 입력하세요.\")\n",
    "\n",
    "print(f\"수집할 블로그 페이지 수: {blog_crawling_page_num}\")"
   ]
  },
  {
   "cell_type": "code",
   "execution_count": 129,
   "metadata": {},
   "outputs": [
    {
     "name": "stdout",
     "output_type": "stream",
     "text": [
      "50 50 50 50\n"
     ]
    }
   ],
   "source": [
    "# 정보 수집\n",
    "text_blog_list = []\n",
    "blog_intro_list = []\n",
    "name_author_list = []\n",
    "blog_link_list = []\n",
    "for page_num in range(1, blog_crawling_page_num + 1):\n",
    "    keyword_url = f'https://section.blog.naver.com/Search/Blog.naver?pageNo={page_num}&orderBy={orderby}&keyword={keyword}'\n",
    "\n",
    "    driver.get(keyword_url)\n",
    "    driver.implicitly_wait(10) # 페이지 로드 될 때까지 기다리지만 로드 되는 순간 종료\n",
    "    time.sleep(random.uniform(1, 3))\n",
    "\n",
    "    page = driver.page_source\n",
    "    soup = bs(page, 'html.parser')\n",
    "    # print(soup.title.text)\n",
    "\n",
    "    area_list_search = soup.select_one('div.area_list_search')\n",
    "    list_search_blog = area_list_search.select('div.list_search_blog')\n",
    "\n",
    "    for blog in list_search_blog:\n",
    "        text_blog = blog.select_one('em.text_blog').text\n",
    "        if blog.select_one('p.blog_intro').text == '':\n",
    "            blog_intro = np.nan\n",
    "        else:\n",
    "            blog_intro = blog.select_one('p.blog_intro').text\n",
    "        name_author = blog.select_one('em.name_author').text\n",
    "        blog_link = blog.select_one('a.name_blog')['href']\n",
    "        # print(text_blog, blog_intro, name_author, blog_link)\n",
    "\n",
    "        text_blog_list.append(text_blog)\n",
    "        blog_intro_list.append(blog_intro)\n",
    "        name_author_list.append(name_author)\n",
    "        blog_link_list.append(blog_link)\n",
    "\n",
    "print(len(text_blog_list), len(blog_intro_list), len(name_author_list), len(blog_link_list))"
   ]
  },
  {
   "cell_type": "code",
   "execution_count": 131,
   "metadata": {},
   "outputs": [
    {
     "data": {
      "text/html": [
       "<div>\n",
       "<style scoped>\n",
       "    .dataframe tbody tr th:only-of-type {\n",
       "        vertical-align: middle;\n",
       "    }\n",
       "\n",
       "    .dataframe tbody tr th {\n",
       "        vertical-align: top;\n",
       "    }\n",
       "\n",
       "    .dataframe thead th {\n",
       "        text-align: right;\n",
       "    }\n",
       "</style>\n",
       "<table border=\"1\" class=\"dataframe\">\n",
       "  <thead>\n",
       "    <tr style=\"text-align: right;\">\n",
       "      <th></th>\n",
       "      <th>text_blog</th>\n",
       "      <th>blog_intro</th>\n",
       "      <th>name_author</th>\n",
       "      <th>blog_link</th>\n",
       "    </tr>\n",
       "  </thead>\n",
       "  <tbody>\n",
       "    <tr>\n",
       "      <th>0</th>\n",
       "      <td>아이폰16프로사전예약혜택성지모아카페</td>\n",
       "      <td>아이폰16프로사전예약혜택성지모아카페 정보 공유 블로그 입니다~</td>\n",
       "      <td>성지모아카페</td>\n",
       "      <td>https://blog.naver.com/qhrejddl7373</td>\n",
       "    </tr>\n",
       "    <tr>\n",
       "      <th>1</th>\n",
       "      <td>아이폰16</td>\n",
       "      <td>NaN</td>\n",
       "      <td>아이폰16</td>\n",
       "      <td>https://blog.naver.com/crnzlwbrc</td>\n",
       "    </tr>\n",
       "    <tr>\n",
       "      <th>2</th>\n",
       "      <td>탐방</td>\n",
       "      <td>아이폰 16 무보정 현실적인 탐방리뷰</td>\n",
       "      <td>탐방</td>\n",
       "      <td>https://blog.naver.com/hyeonmin1356</td>\n",
       "    </tr>\n",
       "    <tr>\n",
       "      <th>3</th>\n",
       "      <td>먹고, 쉬고.</td>\n",
       "      <td>맛집, 카페, 여행 [촬영 : 아이폰 16프로]</td>\n",
       "      <td>잠만보</td>\n",
       "      <td>https://blog.naver.com/unicodin</td>\n",
       "    </tr>\n",
       "    <tr>\n",
       "      <th>4</th>\n",
       "      <td>먹짱일기장</td>\n",
       "      <td>아이폰 16 pro max오너의 맛도리 블로그</td>\n",
       "      <td>유댕</td>\n",
       "      <td>https://blog.naver.com/eliyoujin</td>\n",
       "    </tr>\n",
       "  </tbody>\n",
       "</table>\n",
       "</div>"
      ],
      "text/plain": [
       "             text_blog                          blog_intro name_author  \\\n",
       "0  아이폰16프로사전예약혜택성지모아카페  아이폰16프로사전예약혜택성지모아카페 정보 공유 블로그 입니다~      성지모아카페   \n",
       "1                아이폰16                                 NaN       아이폰16   \n",
       "2                   탐방                아이폰 16 무보정 현실적인 탐방리뷰          탐방   \n",
       "3              먹고, 쉬고.          맛집, 카페, 여행 [촬영 : 아이폰 16프로]         잠만보   \n",
       "4                먹짱일기장           아이폰 16 pro max오너의 맛도리 블로그          유댕   \n",
       "\n",
       "                             blog_link  \n",
       "0  https://blog.naver.com/qhrejddl7373  \n",
       "1     https://blog.naver.com/crnzlwbrc  \n",
       "2  https://blog.naver.com/hyeonmin1356  \n",
       "3      https://blog.naver.com/unicodin  \n",
       "4     https://blog.naver.com/eliyoujin  "
      ]
     },
     "execution_count": 131,
     "metadata": {},
     "output_type": "execute_result"
    }
   ],
   "source": [
    "blog_dict = {\n",
    "    'text_blog': text_blog_list,\n",
    "    'blog_intro': blog_intro_list,\n",
    "    'name_author': name_author_list,\n",
    "    'blog_link': blog_link_list\n",
    "}\n",
    "blog_df = pd.DataFrame(blog_dict)\n",
    "blog_df.head()"
   ]
  },
  {
   "cell_type": "markdown",
   "metadata": {},
   "source": [
    "## 종합"
   ]
  },
  {
   "cell_type": "code",
   "execution_count": 4,
   "metadata": {},
   "outputs": [],
   "source": [
    "keyword = '아이폰 16' # 검색어"
   ]
  },
  {
   "cell_type": "code",
   "execution_count": 13,
   "metadata": {},
   "outputs": [],
   "source": [
    "rangetype = 'PERIOD' # 검색 범위(기간 전체 : ALL, 최근 1주 : WEEK, 최근 1개월 : MONTH, 기간 입력 : PERIOD)\n",
    "orderby = 'sim' # 정렬 순서(관련도순 : sim, 최신순 : recentdate)\n",
    "\n",
    "# rangetype이 PERIOD인 경우 시작일과 종료일 설정 \n",
    "startdate = '2025-01-01' # 형식: YYYY-mm-dd(예. 2025-01-01)\n",
    "enddate = '2025-01-02' # 형식: YYYY-mm-dd(예. 2025-01-01)\n",
    "current_date = datetime.today().strftime('%Y-%m-%d')\n",
    "if startdate > enddate:\n",
    "    startdate, enddate = enddate, startdate # 시작일이 종료일보다 크면 종료일로 변경\n",
    "if startdate > current_date:\n",
    "    startdate, enddate = current_date, current_date # 시작일이 현재 날짜보다 크면 현재 날짜로 변경\n",
    "if enddate > current_date:\n",
    "    enddate = current_date # 종료일이 현재 날짜보다 크면 현재 날짜로 변경"
   ]
  },
  {
   "cell_type": "code",
   "execution_count": 7,
   "metadata": {},
   "outputs": [],
   "source": [
    "# 웹드라이버 실행\n",
    "driver = webdriver.Chrome(options=options)"
   ]
  },
  {
   "cell_type": "code",
   "execution_count": 14,
   "metadata": {},
   "outputs": [
    {
     "name": "stdout",
     "output_type": "stream",
     "text": [
      "==================================================\n",
      "검색어 : 아이폰 16\n",
      "글/블로그 선택 : 글\n",
      "검색 범위 : 기간 입력\n",
      "검색 시작일 : 2025-01-01\n",
      "검색 종료일 : 2025-01-02\n",
      "정렬 순서 : 관련도순\n",
      "검색 결과 개수 : 1067\n",
      "검색 결과 페이지 수 : 153\n",
      "\n",
      "==================================================\n",
      "검색어 : 아이폰 16\n",
      "글/블로그 선택 : 블로그\n",
      "정렬 순서 : 관련도순\n",
      "검색 결과 개수 : 196\n",
      "검색 결과 페이지 수 : 20\n"
     ]
    }
   ],
   "source": [
    "# 검색 결과 개수 확인\n",
    "sheet_name_list = ['글', '블로그']\n",
    "for tab_option in sheet_name_list:\n",
    "    page_num = 1\n",
    "    if tab_option == '글':\n",
    "        if rangetype == 'PERIOD':\n",
    "            keyword_url = f'https://section.blog.naver.com/Search/Post.naver?pageNo={page_num}&rangeType={rangetype}&orderBy={orderby}&&startDate={startdate}&endDate={enddate}&keyword={keyword}'\n",
    "        else:\n",
    "            keyword_url = f'https://section.blog.naver.com/Search/Post.naver?pageNo={page_num}&rangeType={rangetype}&orderBy={orderby}&keyword={keyword}'\n",
    "\n",
    "        driver.get(keyword_url)\n",
    "        driver.implicitly_wait(10) # 페이지 로드 될 때까지 기다리지만 로드 되는 순간 종료\n",
    "        time.sleep(random.uniform(1, 3))\n",
    "\n",
    "        page = driver.page_source\n",
    "        soup = bs(page, 'html.parser')\n",
    "        \n",
    "        area_list_search = soup.select_one('div.area_list_search')\n",
    "        list_search_post = area_list_search.select('div.list_search_post')\n",
    "\n",
    "        # 검색 결과 개수\n",
    "        raw_post_search_number = soup.select_one('div.search_information em.search_number').text\n",
    "        post_search_number = int(re.sub('[^0-9]', '', raw_post_search_number))\n",
    "\n",
    "        # 검색 결과 페이지 수\n",
    "        max_post_search_page_num = int(np.ceil(post_search_number / len(list_search_post)))\n",
    "\n",
    "        if rangetype == 'PERIOD':\n",
    "            print('='*50)\n",
    "            print('검색어 :', keyword)\n",
    "            print('글/블로그 선택 :', tab_option)\n",
    "            print('검색 범위 :', rangetype.replace('PERIOD', '기간 입력'))\n",
    "            print('검색 시작일 :', startdate)\n",
    "            print('검색 종료일 :', enddate)\n",
    "            print('정렬 순서 :', orderby.replace('sim', '관련도순').replace('recentdate', '최신순'))\n",
    "            print('검색 결과 개수 :', post_search_number)\n",
    "            print('검색 결과 페이지 수 :', max_post_search_page_num)\n",
    "        else:\n",
    "            print('검색어 :', keyword)\n",
    "            print('글/블로그 선택 :', tab_option)\n",
    "            print('검색 범위 :', rangetype.replace('ALL', '기간 전체').replace('WEEK', '최근 1주').replace('MONTH', '최근 1개월'))\n",
    "            print('정렬 순서 :', orderby.replace('sim', '관련도순').replace('recentdate', '최신순'))\n",
    "            print('검색 결과 개수 :', post_search_number)\n",
    "            print('검색 결과 페이지 수 :', max_post_search_page_num)\n",
    "        print()\n",
    "\n",
    "    elif tab_option == '블로그':\n",
    "        keyword_url = f'https://section.blog.naver.com/Search/Blog.naver?pageNo={page_num}&orderBy={orderby}&keyword={keyword}'\n",
    "\n",
    "        driver.get(keyword_url)\n",
    "        driver.implicitly_wait(10) # 페이지 로드 될 때까지 기다리지만 로드 되는 순간 종료\n",
    "        time.sleep(random.uniform(1, 3))\n",
    "\n",
    "        page = driver.page_source\n",
    "        soup = bs(page, 'html.parser')\n",
    "\n",
    "        area_list_search = soup.select_one('div.area_list_search')\n",
    "        list_search_blog = area_list_search.select('div.list_search_blog')\n",
    "\n",
    "        # 검색 결과 개수\n",
    "        raw_blog_search_number = soup.select_one('div.search_information em.search_number').text\n",
    "        blog_search_number = int(re.sub('[^0-9]', '', raw_blog_search_number))\n",
    "\n",
    "        # 검색 결과 페이지 수\n",
    "        max_blog_search_page_num = int(np.ceil(blog_search_number / len(list_search_blog)))\n",
    "        \n",
    "        print('='*50)\n",
    "        print('검색어 :', keyword)\n",
    "        print('글/블로그 선택 :', tab_option)\n",
    "        print('정렬 순서 :', orderby.replace('sim', '관련도순').replace('recentdate', '최신순'))\n",
    "        print('검색 결과 개수 :', blog_search_number)\n",
    "        print('검색 결과 페이지 수 :', max_blog_search_page_num)"
   ]
  },
  {
   "cell_type": "code",
   "execution_count": 15,
   "metadata": {},
   "outputs": [
    {
     "name": "stdout",
     "output_type": "stream",
     "text": [
      "최대 포스트 페이지 수 : 153\n",
      "수집할 포스트 페이지 수: 5\n"
     ]
    }
   ],
   "source": [
    "# 수집할 포스트 페이지 설정\n",
    "while True:\n",
    "    try:\n",
    "        print(f'최대 포스트 페이지 수 : {max_post_search_page_num}')\n",
    "        post_crawling_page_num = int(input(f\"수집할 포스트 페이지 수를 입력하세요(숫자만 입력) : \"))\n",
    "        if post_crawling_page_num <= 0:\n",
    "            print(\"0보다 큰 숫자를 입력하세요.\")\n",
    "            continue\n",
    "        if post_crawling_page_num > max_post_search_page_num:\n",
    "            print('입력한 숫자 :', post_crawling_page_num)\n",
    "            print(f\"입력한 숫자가 검색 결과 페이지 수보다 큽니다. {max_post_search_page_num}로 설정합니다.\")\n",
    "            post_crawling_page_num = max_post_search_page_num\n",
    "        break\n",
    "    except ValueError:\n",
    "        print(\"유효한 숫자를 입력하세요.\")\n",
    "\n",
    "print(f\"수집할 포스트 페이지 수: {post_crawling_page_num}\")"
   ]
  },
  {
   "cell_type": "code",
   "execution_count": 16,
   "metadata": {},
   "outputs": [
    {
     "name": "stdout",
     "output_type": "stream",
     "text": [
      "최대 블로그 페이지 수 : 20\n",
      "수집할 블로그 페이지 수: 5\n"
     ]
    }
   ],
   "source": [
    "# 수집할 블로그 페이지 설정\n",
    "while True:\n",
    "    try:\n",
    "        print(f'최대 블로그 페이지 수 : {max_blog_search_page_num}')\n",
    "        blog_crawling_page_num = int(input(f\"수집할 블로그 페이지 수를 입력하세요(숫자만 입력) : \"))\n",
    "        if blog_crawling_page_num <= 0:\n",
    "            print(\"0보다 큰 숫자를 입력하세요.\")\n",
    "            continue\n",
    "        if blog_crawling_page_num > max_blog_search_page_num:\n",
    "            print('입력한 숫자 :', blog_crawling_page_num)\n",
    "            print(f\"입력한 숫자가 검색 결과 페이지 수보다 큽니다. {max_blog_search_page_num}로 설정합니다.\")\n",
    "            blog_crawling_page_num = max_blog_search_page_num\n",
    "        break\n",
    "    except ValueError:\n",
    "        print(\"유효한 숫자를 입력하세요.\")\n",
    "\n",
    "print(f\"수집할 블로그 페이지 수: {blog_crawling_page_num}\")"
   ]
  },
  {
   "cell_type": "code",
   "execution_count": 17,
   "metadata": {},
   "outputs": [],
   "source": [
    "# 현재 날짜\n",
    "current_date = datetime.today().strftime('%Y%m%d')\n",
    "# 현재 경로 확인\n",
    "code_path = os.getcwd().replace('\\\\', '/')\n",
    "# 수집한 파일 저장할 폴더 생성\n",
    "crawled_folder_path = os.path.join(code_path, 'crawled_data', 'naver_blog', current_date)\n",
    "os.makedirs(crawled_folder_path, exist_ok=True)\n",
    "# 저장할 파일 경로\n",
    "current_datetime = datetime.today().strftime('%Y%m%d_%p_%I%M%S')\n",
    "file_path = os.path.join(crawled_folder_path, f'naver_blog_{current_datetime}.xlsx')"
   ]
  },
  {
   "cell_type": "code",
   "execution_count": null,
   "metadata": {},
   "outputs": [
    {
     "name": "stdout",
     "output_type": "stream",
     "text": [
      "(35, 6)\n",
      "(50, 4)\n",
      "저장 파일 경로 : c:/Users/kbjoo/Documents/Google_Drive/GitHub/my_projects/crawling/naver\\crawled_data\\naver_blog\\20250114\\naver_blog_20250114_PM_035009.xlsx\n",
      "저장완료\n"
     ]
    }
   ],
   "source": [
    "# 페이지 수집\n",
    "sheet_name_list = ['글', '블로그']\n",
    "with pd.ExcelWriter(file_path, engine='openpyxl') as writer:\n",
    "    for tab_option in sheet_name_list:\n",
    "        if tab_option == '글':\n",
    "            title_list = []\n",
    "            text_list = []\n",
    "            name_author_list = []\n",
    "            name_blog_list = []\n",
    "            date_list = []\n",
    "            post_link_list = []\n",
    "            author_blog_link_list = []\n",
    "\n",
    "            for page_num in range(1, post_crawling_page_num + 1):\n",
    "                if rangetype == 'PERIOD':\n",
    "                    keyword_url = f'https://section.blog.naver.com/Search/Post.naver?pageNo={page_num}&rangeType={rangetype}&orderBy={orderby}&&startDate={startdate}&endDate={enddate}&keyword={keyword}'\n",
    "                else:\n",
    "                    keyword_url = f'https://section.blog.naver.com/Search/Post.naver?pageNo={page_num}&rangeType={rangetype}&orderBy={orderby}&keyword={keyword}'\n",
    "\n",
    "                driver.get(keyword_url)\n",
    "                driver.implicitly_wait(10) # 페이지 로드 될 때까지 기다리지만 로드 되는 순간 종료\n",
    "                time.sleep(random.uniform(1, 3))\n",
    "\n",
    "                page = driver.page_source\n",
    "                soup = bs(page, 'html.parser')\n",
    "                # print(soup.title.text)\n",
    "                \n",
    "                area_list_search = soup.select_one('div.area_list_search')\n",
    "                list_search_post = area_list_search.select('div.list_search_post')\n",
    "\n",
    "                for post in list_search_post:\n",
    "                    title = post.select_one('span.title').text\n",
    "                    text = post.select_one('a.text').text\n",
    "                    name_author = post.select_one('em.name_author').text\n",
    "                    name_blog = post.select_one('span.name_blog').text\n",
    "                    date = post.select_one('span.date').text\n",
    "                    post_link = post.select_one('a.desc_inner')['href']\n",
    "                    author_blog_link = post.select_one('a.author')['href']\n",
    "\n",
    "                    title_list.append(title)\n",
    "                    text_list.append(text)\n",
    "                    name_author_list.append(name_author)\n",
    "                    name_blog_list.append(name_blog)\n",
    "                    date_list.append(date)\n",
    "                    post_link_list.append(post_link)\n",
    "                    author_blog_link_list.append(author_blog_link)\n",
    "\n",
    "            # print(len(title_list), len(text_list), len(name_author_list), len(name_blog_list), len(date_list), len(post_link_list), len(author_blog_link_list))\n",
    "\n",
    "            # 데이터 프레임 생성\n",
    "            post_dict = {\n",
    "                'title': title_list,\n",
    "                'text': text_list,\n",
    "                'name_author': name_author_list,\n",
    "                'name_blog': name_blog_list,\n",
    "                'date': date_list,\n",
    "                'post_link': post_link_list,\n",
    "                'author_blog_link': author_blog_link_list\n",
    "            }\n",
    "            post_df = pd.DataFrame(post_dict)\n",
    "            post_df.to_excel(writer, sheet_name=tab_option, index=False)\n",
    "            print(post_df.shape)\n",
    "\n",
    "        elif tab_option == '블로그':\n",
    "            text_blog_list = []\n",
    "            blog_intro_list = []\n",
    "            name_author_list = []\n",
    "            blog_link_list = []\n",
    "            for page_num in range(1, blog_crawling_page_num + 1):\n",
    "                keyword_url = f'https://section.blog.naver.com/Search/Blog.naver?pageNo={page_num}&orderBy={orderby}&keyword={keyword}'\n",
    "\n",
    "                driver.get(keyword_url)\n",
    "                driver.implicitly_wait(10) # 페이지 로드 될 때까지 기다리지만 로드 되는 순간 종료\n",
    "                time.sleep(random.uniform(1, 3))\n",
    "\n",
    "                page = driver.page_source\n",
    "                soup = bs(page, 'html.parser')\n",
    "                # print(soup.title.text)\n",
    "\n",
    "                area_list_search = soup.select_one('div.area_list_search')\n",
    "                list_search_blog = area_list_search.select('div.list_search_blog')\n",
    "\n",
    "                for blog in list_search_blog:\n",
    "                    text_blog = blog.select_one('em.text_blog').text\n",
    "                    if blog.select_one('p.blog_intro').text == '':\n",
    "                        blog_intro = np.nan\n",
    "                    else:\n",
    "                        blog_intro = blog.select_one('p.blog_intro').text\n",
    "                    name_author = blog.select_one('em.name_author').text\n",
    "                    blog_link = blog.select_one('a.name_blog')['href']\n",
    "                    # print(text_blog, blog_intro, name_author, blog_link)\n",
    "\n",
    "                    text_blog_list.append(text_blog)\n",
    "                    blog_intro_list.append(blog_intro)\n",
    "                    name_author_list.append(name_author)\n",
    "                    blog_link_list.append(blog_link)\n",
    "\n",
    "                # print(len(text_blog_list), len(blog_intro_list), len(name_author_list), len(blog_link_list))\n",
    "            blog_dict = {\n",
    "                'text_blog': text_blog_list,\n",
    "                'blog_intro': blog_intro_list,\n",
    "                'name_author': name_author_list,\n",
    "                'blog_link': blog_link_list\n",
    "            }\n",
    "            blog_df = pd.DataFrame(blog_dict)\n",
    "            blog_df.to_excel(writer, sheet_name=tab_option, index=False)\n",
    "            print(blog_df.shape)\n",
    "\n",
    "    print('저장 파일 경로 :', file_path)\n",
    "    print('저장완료')"
   ]
  },
  {
   "cell_type": "code",
   "execution_count": 132,
   "metadata": {},
   "outputs": [],
   "source": [
    "driver.quit()"
   ]
  },
  {
   "cell_type": "markdown",
   "metadata": {},
   "source": [
    "# END"
   ]
  }
 ],
 "metadata": {
  "kernelspec": {
   "display_name": "crawling",
   "language": "python",
   "name": "python3"
  },
  "language_info": {
   "codemirror_mode": {
    "name": "ipython",
    "version": 3
   },
   "file_extension": ".py",
   "mimetype": "text/x-python",
   "name": "python",
   "nbconvert_exporter": "python",
   "pygments_lexer": "ipython3",
   "version": "3.13.0"
  }
 },
 "nbformat": 4,
 "nbformat_minor": 2
}
