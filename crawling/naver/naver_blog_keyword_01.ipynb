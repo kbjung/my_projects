{
 "cells": [
  {
   "cell_type": "markdown",
   "metadata": {},
   "source": [
    "# Library"
   ]
  },
  {
   "cell_type": "code",
   "execution_count": 10,
   "metadata": {},
   "outputs": [],
   "source": [
    "import requests\n",
    "from bs4 import BeautifulSoup as bs\n",
    "\n",
    "import time, os, random\n",
    "import pandas as pd\n",
    "import numpy as np\n",
    "\n",
    "from selenium import webdriver\n",
    "import chromedriver_autoinstaller as ca\n",
    "\n",
    "from selenium.webdriver.common.by import By\n",
    "from selenium.webdriver.common.keys import Keys\n",
    "\n",
    "from selenium.webdriver.support.ui import WebDriverWait\n",
    "from selenium.webdriver.support import expected_conditions as EC"
   ]
  },
  {
   "cell_type": "markdown",
   "metadata": {},
   "source": [
    "## chrome driver 설치"
   ]
  },
  {
   "cell_type": "code",
   "execution_count": 2,
   "metadata": {},
   "outputs": [],
   "source": [
    "# USB error 메세지 발생 해결을 위한 코드\n",
    "options = webdriver.ChromeOptions()\n",
    "options.add_experimental_option(\"excludeSwitches\", [\"enable-logging\"])"
   ]
  },
  {
   "cell_type": "code",
   "execution_count": 3,
   "metadata": {},
   "outputs": [
    {
     "data": {
      "text/plain": [
       "'131'"
      ]
     },
     "execution_count": 3,
     "metadata": {},
     "output_type": "execute_result"
    }
   ],
   "source": [
    "# 현재 크롬 버전 확인\n",
    "chrome_ver = ca.get_chrome_version().split('.')[0]\n",
    "chrome_ver"
   ]
  },
  {
   "cell_type": "code",
   "execution_count": 4,
   "metadata": {},
   "outputs": [],
   "source": [
    "# # 크롬 드라이버 확인 및 설치(처음 한번만 실행)\n",
    "# ca.install(True)"
   ]
  },
  {
   "cell_type": "markdown",
   "metadata": {},
   "source": [
    "# 페이지 접속"
   ]
  },
  {
   "cell_type": "code",
   "execution_count": null,
   "metadata": {},
   "outputs": [],
   "source": [
    "# url = 'https://section.blog.naver.com/BlogHome.naver?directoryNo=0&currentPage=1&groupId=0' # 네이버 블로그 홈"
   ]
  },
  {
   "cell_type": "markdown",
   "metadata": {},
   "source": [
    "## requests 테스트\n",
    "- 페이지 접속 가능 여부확인\n",
    "    - 가능할 경우 출력 : <Response [200]>"
   ]
  },
  {
   "cell_type": "code",
   "execution_count": 7,
   "metadata": {},
   "outputs": [
    {
     "name": "stdout",
     "output_type": "stream",
     "text": [
      "<Response [200]>\n"
     ]
    },
    {
     "data": {
      "text/plain": [
       "'네이버 블로그'"
      ]
     },
     "execution_count": 7,
     "metadata": {},
     "output_type": "execute_result"
    }
   ],
   "source": [
    "# req = requests.get(url)\n",
    "# print(req)\n",
    "\n",
    "# 한글 깨짐 해결 코드\n",
    "# # html = req.content.decode('utf-8') # 한글 깨짐 해결\n",
    "# # soup = bs(html, 'html.parser')\n",
    "\n",
    "# soup = bs(req.text, 'html.parser')\n",
    "# soup.title.text"
   ]
  },
  {
   "cell_type": "code",
   "execution_count": 48,
   "metadata": {},
   "outputs": [
    {
     "name": "stdout",
     "output_type": "stream",
     "text": [
      "<Response [200]>\n"
     ]
    },
    {
     "data": {
      "text/plain": [
       "'네이버 블로그'"
      ]
     },
     "execution_count": 48,
     "metadata": {},
     "output_type": "execute_result"
    }
   ],
   "source": [
    "# request로 수집 에러\n",
    "keyword = '아이폰 16' # 검색어\n",
    "page_num = 1 # 페이지 번호\n",
    "keyword_url = f'https://section.blog.naver.com/Search/Post.naver?pageNo={page_num}&rangeType=ALL&orderBy=sim&keyword={keyword}'\n",
    "req = requests.get(keyword_url, headers={'User-Agent': 'Mozilla/5.0 (Windows NT 10.0; Win64; x64) AppleWebKit/537.36 (KHTML, like Gecko) Chrome/131.0.0.0 Safari/537.36'})\n",
    "print(req)\n",
    "soup = bs(req.text, 'html.parser')\n",
    "soup.title.text"
   ]
  },
  {
   "cell_type": "code",
   "execution_count": 50,
   "metadata": {},
   "outputs": [
    {
     "ename": "AttributeError",
     "evalue": "'NoneType' object has no attribute 'select'",
     "output_type": "error",
     "traceback": [
      "\u001b[1;31m---------------------------------------------------------------------------\u001b[0m",
      "\u001b[1;31mAttributeError\u001b[0m                            Traceback (most recent call last)",
      "Cell \u001b[1;32mIn[50], line 2\u001b[0m\n\u001b[0;32m      1\u001b[0m area_list_search \u001b[38;5;241m=\u001b[39m soup\u001b[38;5;241m.\u001b[39mselect_one(\u001b[38;5;124m'\u001b[39m\u001b[38;5;124mdiv.area_list_search\u001b[39m\u001b[38;5;124m'\u001b[39m)\n\u001b[1;32m----> 2\u001b[0m list_search_post \u001b[38;5;241m=\u001b[39m \u001b[43marea_list_search\u001b[49m\u001b[38;5;241;43m.\u001b[39;49m\u001b[43mselect\u001b[49m(\u001b[38;5;124m'\u001b[39m\u001b[38;5;124mdiv.list_search_post\u001b[39m\u001b[38;5;124m'\u001b[39m)\n\u001b[0;32m      3\u001b[0m list_search_post[\u001b[38;5;241m0\u001b[39m]\n",
      "\u001b[1;31mAttributeError\u001b[0m: 'NoneType' object has no attribute 'select'"
     ]
    }
   ],
   "source": [
    "# area_list_search = soup.select_one('div.area_list_search')\n",
    "# list_search_post = area_list_search.select('div.list_search_post')\n",
    "# list_search_post[0]"
   ]
  },
  {
   "cell_type": "markdown",
   "metadata": {},
   "source": [
    "## keyword 입력"
   ]
  },
  {
   "cell_type": "code",
   "execution_count": 125,
   "metadata": {},
   "outputs": [],
   "source": [
    "keyword = '아이폰 16' # 검색어\n",
    "page_num = 1 # 페이지 번호\n",
    "tab_option = '글'\n",
    "if tab_option == '글':\n",
    "    keyword_url = f'https://section.blog.naver.com/Search/Post.naver?pageNo={page_num}&rangeType=ALL&orderBy=sim&keyword={keyword}'\n",
    "elif tab_option == '블로그':\n",
    "    keyword_url = f'https://section.blog.naver.com/Search/Blog.naver?pageNo={page_num}&orderBy=sim&keyword={keyword}'"
   ]
  },
  {
   "cell_type": "markdown",
   "metadata": {},
   "source": [
    "## 탭 선택(글, 블로그)"
   ]
  },
  {
   "cell_type": "code",
   "execution_count": null,
   "metadata": {},
   "outputs": [],
   "source": [
    "# tab_option = '블로그'\n",
    "\n",
    "# if tab_option == '글':\n",
    "#     page = driver.page_source\n",
    "#     soup = bs(page, 'html.parser')\n",
    "#     print('글')\n",
    "#     print(soup.title.text)\n",
    "\n",
    "# elif tab_option == '블로그':\n",
    "#     blog_tab_xpath = '//*[@id=\"content\"]/section/div[1]/div[1]/a[2]'\n",
    "#     blog_tab = driver.find_element(By.XPATH, blog_tab_xpath)\n",
    "#     blog_tab.click()\n",
    "#     driver.implicitly_wait(10)\n",
    "\n",
    "#     page = driver.page_source\n",
    "#     soup = bs(page, 'html.parser')\n",
    "#     print('블로그')\n",
    "#     print(soup.title.text)"
   ]
  },
  {
   "cell_type": "markdown",
   "metadata": {},
   "source": [
    "## selenium 작동"
   ]
  },
  {
   "cell_type": "code",
   "execution_count": 8,
   "metadata": {},
   "outputs": [],
   "source": [
    "# 웹드라이버 실행\n",
    "driver = webdriver.Chrome(options=options)"
   ]
  },
  {
   "cell_type": "code",
   "execution_count": 126,
   "metadata": {},
   "outputs": [],
   "source": [
    "driver.get(keyword_url)\n",
    "driver.implicitly_wait(10) # 페이지 로드 될 때까지 기다리지만 로드 되는 순간 종료\n",
    "# driver.maximize_window() # 브라우져 창 최대화"
   ]
  },
  {
   "cell_type": "code",
   "execution_count": null,
   "metadata": {},
   "outputs": [],
   "source": [
    "# keyword = '아이폰 16' # 검색어\n",
    "# keyword_input_xpath = '//*[@id=\"header\"]/div[1]/div/div[2]/form/fieldset/div/input' # 검색창 xpath\n",
    "# keyword_input_box = driver.find_element(By.XPATH, keyword_input_xpath)\n",
    "# keyword_input_box.send_keys(keyword)\n",
    "# time.sleep(random.uniform(1, 2))\n",
    "# keyword_input_box.send_keys(Keys.ENTER)\n",
    "# driver.implicitly_wait(10)"
   ]
  },
  {
   "cell_type": "markdown",
   "metadata": {},
   "source": [
    "# 정보 수집"
   ]
  },
  {
   "cell_type": "markdown",
   "metadata": {},
   "source": [
    "### 🔧 글 선택\n",
    "- 참고 링크 : https://section.blog.naver.com/Search/Post.naver?pageNo={page_num}&rangeType=ALL&orderBy=sim&keyword={keyword}\n",
    "- 참고 링크 : https://section.blog.naver.com/Search/Post.naver?pageNo=1&rangeType=WEEK&orderBy=sim&startDate=2025-01-03&endDate=2025-01-10&keyword=아이폰 16\n",
    "- rangeType 옵션(기간)\n",
    "    - 기간전체 : &rangeType=ALL\n",
    "    - 최근 1주 : &rangeType=WEEK\n",
    "    - 최근 1개월 : &rangeType=MONTH\n",
    "    - 기간 입력 : &startDate=YYYY-mm-dd&endDate=YYYY-mm-dd\n",
    "\n",
    "- orderBy 옵션(관련도순, 최신순)\n",
    "    - 관련도순 : &orderBy=sim\n",
    "    - 최신순 : &orderBy=recentdate"
   ]
  },
  {
   "cell_type": "code",
   "execution_count": 127,
   "metadata": {},
   "outputs": [
    {
     "name": "stdout",
     "output_type": "stream",
     "text": [
      "네이버 블로그\n"
     ]
    }
   ],
   "source": [
    "page = driver.page_source\n",
    "soup = bs(page, 'html.parser')\n",
    "print(soup.title.text)"
   ]
  },
  {
   "cell_type": "code",
   "execution_count": 128,
   "metadata": {},
   "outputs": [
    {
     "data": {
      "text/plain": [
       "<div anchor-text=\"content\" bg-move-scroll-on-pop-state=\"\" class=\"list_search_post\" ng-repeat=\"post in postSearchCtrl.resultList\">\n",
       "<div bg-article-multi-img-style=\"\" class=\"item multi_pic\">\n",
       "<div class=\"info_post\" ng-class=\"{only_post: post.thumbnails.length == 0}\">\n",
       "<div class=\"desc\">\n",
       "<a bg-nclick=\"srs*l.text\" class=\"desc_inner\" href=\"https://blog.naver.com/cjfgns2/223720560043\" ng-href=\"https://blog.naver.com/cjfgns2/223720560043\" target=\"_blank\">\n",
       "<strong class=\"title_post\">\n",
       "<!-- ngIf: post.titleHeadColor == '#27C400' -->\n",
       "<!-- ngIf: post.titleHeadColor == '#FF6565' -->\n",
       "<span class=\"title\" ng-bind-html=\"post.title\"><strong class=\"search_keyword\">아이폰16</strong> 프로 디자인 보조금 꿀팁까지</span>\n",
       "</strong>\n",
       "</a><!-- ngIf: post.contents --><a bg-nclick=\"srs*l.text\" class=\"text\" href=\"https://blog.naver.com/cjfgns2/223720560043\" ng-bind-html=\"post.contents\" ng-href=\"https://blog.naver.com/cjfgns2/223720560043\" ng-if=\"post.contents\" target=\"_blank\">오늘은 <strong class=\"search_keyword\">아이폰16</strong> 프로 디자인과 달라진 주요 스펙을 정리해 보고, 가격 할인을 받을 수 있는 방법까지 총정리해 보는 시간을 가져볼게요. 서두는 이만하고 바로 본론으로 넘어가 자세히 알아보도록 하겠습니다. &lt;목차&gt; 1.<strong class=\"search_keyword\">아이폰16</strong> 프로 스펙 및 디자인 2.<strong class=\"search_keyword\">아이폰16</strong> 프로 컬러 및 가격 3. 할인 크게... </a><!-- end ngIf: post.contents -->\n",
       "</div>\n",
       "<div class=\"writer_info\">\n",
       "<a bg-nclick=\"srs*l.blogger\" class=\"author\" href=\"https://blog.naver.com/cjfgns2\" ng-href=\"https://blog.naver.com/cjfgns2\" target=\"_blank\">\n",
       "<div class=\"thumbnail_author\">\n",
       "<img alt=\"블로거 썸네일\" bg-image=\"https://blogpfthumb-phinf.pstatic.net/MjAyNDA4MjVfMTQ0/MDAxNzI0NTk0Mzg2OTM0.n-OBT9RYQrmfUrYZlEBogv07wn2PDbCFhzQx5IDHV0Ug.QvIB--g3yqjNHkTI2zXAaL6rwBd1sMTDqCjI2DAfEs0g.JPEG/stock-6596794_1920.jpg/stock-6596794_1920.jpg?type=s1\" class=\"img_author\" height=\"25\" src=\"https://blogpfthumb-phinf.pstatic.net/MjAyNDA4MjVfMTQ0/MDAxNzI0NTk0Mzg2OTM0.n-OBT9RYQrmfUrYZlEBogv07wn2PDbCFhzQx5IDHV0Ug.QvIB--g3yqjNHkTI2zXAaL6rwBd1sMTDqCjI2DAfEs0g.JPEG/stock-6596794_1920.jpg/stock-6596794_1920.jpg?type=s1\" width=\"25\"/>\n",
       "</div>\n",
       "<em class=\"name_author\">얌못</em>\n",
       "</a>\n",
       "<span class=\"name_blog\">경제꿈나무</span>\n",
       "<span class=\"date\">17시간 전</span>\n",
       "<!-- ngIf: post.marketPost && post.product.productStatus == 'ON_SALE' -->\n",
       "<!-- ngIf: post.marketPost && post.product.productStatus == 'BE_SCHEDULED' -->\n",
       "<!-- ngIf: post.marketPost && post.product.productStatus == 'SALE_END' -->\n",
       "</div>\n",
       "</div>\n",
       "<div area-code=\"srs*l\" aria-selected=\"false\" class=\"thumbnail_post\" ng-hide=\"hide\" post-url=\"https://blog.naver.com/cjfgns2/223720560043\" product=\"post.product\" thumbnail-key-name=\"url\" thumbnail-list=\"post.thumbnails\" thumbnail-video-name=\"videoThumbnail\" thumbnail-vr-name=\"vrthumbnail\">\n",
       "<div bg-sliding-leave=\"\" class=\"thumbnail_area\">\n",
       "<!-- ngRepeat: thumbnail in thumbnailList | limitTo : 1 --><a bg-nclickf='{\"code\":\"srs*l.image\"}' class=\"thumbnail_inner\" href=\"https://blog.naver.com/cjfgns2/223720560043\" ng-click=\"afterProcess()\" ng-href=\"https://blog.naver.com/cjfgns2/223720560043\" ng-repeat=\"thumbnail in thumbnailList | limitTo : 1\" target=\"_blank\">\n",
       "<img alt=\"포스트 썸네일\" bg-image=\"https://blogthumb.pstatic.net/MjAyNTAxMDlfMjU3/MDAxNzM2NDI0Mzk3Njgz.ZV50pfB0FBnM4DfyYRUN8Hrk9f18zqV7vC1eyu82wHAg.joPn17RQXYP2-J5wSZcjwQShTM8JoACJxat6k8_H-aAg.JPEG/20230223_105556.jpg?type=s2\" class=\"img_post\" height=\"167\" ng-class=\"{background_color:thumbnail['noThisDayThumbnail']}\" ng-hide=\"thumbnail['noThisDayThumbnail']\" src=\"https://blogthumb.pstatic.net/MjAyNTAxMDlfMjU3/MDAxNzM2NDI0Mzk3Njgz.ZV50pfB0FBnM4DfyYRUN8Hrk9f18zqV7vC1eyu82wHAg.joPn17RQXYP2-J5wSZcjwQShTM8JoACJxat6k8_H-aAg.JPEG/20230223_105556.jpg?type=s2\" width=\"167\"/>\n",
       "<!-- [D] 360vr이미지 일 경우 <i class=\"sp_common icon_vr\">360도 VR</i><span class=\"dimmed\"></span> 추가 / 동영상일 경우 <i class=\"sp_common icon_video_play\">동영상</i><span class=\"dimmed\"></span> 추가 -->\n",
       "<!-- ngIf: !product && thumbnail[thumbnailVrName] -->\n",
       "<!-- ngIf: !product && thumbnail[thumbnailVideoName] -->\n",
       "<!-- ngIf: product -->\n",
       "<!-- ngIf: thumbnail[thumbnailVrName] || thumbnail[thumbnailVideoName] -->\n",
       "<!-- N년전 오늘에 사용되는 마크업 -->\n",
       "<!-- ngIf: thisDayPost -->\n",
       "<!-- ngIf: thisDayPost && !thumbnail['noThisDayThumbnail'] -->\n",
       "<!-- ngIf: thisDayPost && thumbnail['noThisDayThumbnail'] -->\n",
       "</a><!-- end ngRepeat: thumbnail in thumbnailList | limitTo : 1 -->\n",
       "<a aria-selected=\"false\" bg-sliding-btn=\"\" class=\"button_more_img\" href=\"#\" ng-show=\"thumbnailList.length &gt; 1\" role=\"button\">\n",
       "<i class=\"sp_common icon_more\"><span class=\"blind\">글 섬네일 펼치기</span></i>\n",
       "</a>\n",
       "<!-- ngIf: thumbnailList.length > 1 --><div bg-sliding-area=\"\" class=\"plus_thumbnail_list\" ng-if=\"thumbnailList.length &gt; 1\" ng-style=\"{display : isViewPlusThumbnail? 'block':'none'}\" style=\"left: 0px; display: none;\">\n",
       "<a bg-nclickf='{\"code\":\"srs*l.image\"}' class=\"list_inner\" href=\"https://blog.naver.com/cjfgns2/223720560043\" ng-click=\"afterProcess()\" ng-href=\"https://blog.naver.com/cjfgns2/223720560043\" target=\"_blank\" title=\"포스트로 이동\">\n",
       "<!-- ngRepeat: thumbnail in thumbnailList | limitTo : 3 : 1 --><div class=\"plus_item\" ng-repeat=\"thumbnail in thumbnailList | limitTo : 3 : 1\">\n",
       "<img alt=\"글 섬네일\" bg-image=\"https://blogthumb.pstatic.net/MjAyNTAxMDlfMjIz/MDAxNzM2NDI0Mzk4MDAx.BqkzIW7RS8Cndull4TtzKx9koZsjVLOqMYo7zS4pazMg.2gZbrz3Bh5Bj4Ju0R1addyG3S4drV2Y166qBO6WAwqAg.JPEG/20230223_105949.jpg?type=s2\" class=\"plus_img\" height=\"167\" src=\"https://blogthumb.pstatic.net/MjAyNTAxMDlfMjIz/MDAxNzM2NDI0Mzk4MDAx.BqkzIW7RS8Cndull4TtzKx9koZsjVLOqMYo7zS4pazMg.2gZbrz3Bh5Bj4Ju0R1addyG3S4drV2Y166qBO6WAwqAg.JPEG/20230223_105949.jpg?type=s2\" width=\"167\"/>\n",
       "<!-- [D] 360vr이미지 일 경우 <i class=\"sp_common icon_vr\">360도 VR</i><span class=\"dimmed\"></span> 추가 / 동영상일 경우 <i class=\"sp_common icon_video_play\">동영상</i><span class=\"dimmed\"></span> 추가 -->\n",
       "<!-- ngIf: thumbnail[thumbnailVrName] -->\n",
       "<!-- ngIf: thumbnail[thumbnailVideoName] -->\n",
       "<!-- ngIf: thumbnail[thumbnailVrName] || thumbnail[thumbnailVideoName] -->\n",
       "</div><!-- end ngRepeat: thumbnail in thumbnailList | limitTo : 3 : 1 --><div class=\"plus_item\" ng-repeat=\"thumbnail in thumbnailList | limitTo : 3 : 1\">\n",
       "<img alt=\"글 섬네일\" bg-image=\"https://blogthumb.pstatic.net/MjAyNTAxMDlfODgg/MDAxNzM2NDI0NDAxOTYz.k_HSpMNnazI2UFSrPdHXDbndc41MNuA4ZcIG3sXHR_gg.CT2HWVdPPMcC7oWXHgU4C6jpmnw9WBYUeG65vg0aAUAg.JPEG/20230216_104518.jpg?type=s2\" class=\"plus_img\" height=\"167\" src=\"https://blogthumb.pstatic.net/MjAyNTAxMDlfODgg/MDAxNzM2NDI0NDAxOTYz.k_HSpMNnazI2UFSrPdHXDbndc41MNuA4ZcIG3sXHR_gg.CT2HWVdPPMcC7oWXHgU4C6jpmnw9WBYUeG65vg0aAUAg.JPEG/20230216_104518.jpg?type=s2\" width=\"167\"/>\n",
       "<!-- [D] 360vr이미지 일 경우 <i class=\"sp_common icon_vr\">360도 VR</i><span class=\"dimmed\"></span> 추가 / 동영상일 경우 <i class=\"sp_common icon_video_play\">동영상</i><span class=\"dimmed\"></span> 추가 -->\n",
       "<!-- ngIf: thumbnail[thumbnailVrName] -->\n",
       "<!-- ngIf: thumbnail[thumbnailVideoName] -->\n",
       "<!-- ngIf: thumbnail[thumbnailVrName] || thumbnail[thumbnailVideoName] -->\n",
       "</div><!-- end ngRepeat: thumbnail in thumbnailList | limitTo : 3 : 1 --><div class=\"plus_item\" ng-repeat=\"thumbnail in thumbnailList | limitTo : 3 : 1\">\n",
       "<img alt=\"글 섬네일\" bg-image=\"https://blogthumb.pstatic.net/MjAyNTAxMDlfNzcg/MDAxNzM2NDI0Mzk2ODI1.buhrU-3XgTijrI7Bg-oOtwn9QE8vl4E924N-aqwR8_kg.2IIhY3gqVJGKy3A5E1rMwbXUKEHDqs0yqU-ydBvErjMg.JPEG/20230216_103941.jpg?type=s2\" class=\"plus_img\" height=\"167\" src=\"https://blogthumb.pstatic.net/MjAyNTAxMDlfNzcg/MDAxNzM2NDI0Mzk2ODI1.buhrU-3XgTijrI7Bg-oOtwn9QE8vl4E924N-aqwR8_kg.2IIhY3gqVJGKy3A5E1rMwbXUKEHDqs0yqU-ydBvErjMg.JPEG/20230216_103941.jpg?type=s2\" width=\"167\"/>\n",
       "<!-- [D] 360vr이미지 일 경우 <i class=\"sp_common icon_vr\">360도 VR</i><span class=\"dimmed\"></span> 추가 / 동영상일 경우 <i class=\"sp_common icon_video_play\">동영상</i><span class=\"dimmed\"></span> 추가 -->\n",
       "<!-- ngIf: thumbnail[thumbnailVrName] -->\n",
       "<!-- ngIf: thumbnail[thumbnailVideoName] -->\n",
       "<!-- ngIf: thumbnail[thumbnailVrName] || thumbnail[thumbnailVideoName] -->\n",
       "</div><!-- end ngRepeat: thumbnail in thumbnailList | limitTo : 3 : 1 -->\n",
       "</a>\n",
       "</div><!-- end ngIf: thumbnailList.length > 1 -->\n",
       "</div>\n",
       "</div>\n",
       "</div>\n",
       "</div>"
      ]
     },
     "execution_count": 128,
     "metadata": {},
     "output_type": "execute_result"
    }
   ],
   "source": [
    "area_list_search = soup.select_one('div.area_list_search')\n",
    "list_search_post = area_list_search.select('div.list_search_post')\n",
    "list_search_post[0]"
   ]
  },
  {
   "cell_type": "code",
   "execution_count": 64,
   "metadata": {},
   "outputs": [
    {
     "data": {
      "text/plain": [
       "'아이폰16 프로 디자인 보조금 꿀팁까지'"
      ]
     },
     "execution_count": 64,
     "metadata": {},
     "output_type": "execute_result"
    }
   ],
   "source": [
    "# 글 제목\n",
    "post_num = 0\n",
    "title = list_search_post[post_num].select_one('span.title').text\n",
    "title"
   ]
  },
  {
   "cell_type": "code",
   "execution_count": 65,
   "metadata": {},
   "outputs": [
    {
     "data": {
      "text/plain": [
       "'오늘은 아이폰16 프로 디자인과 달라진 주요 스펙을 정리해 보고, 가격 할인을 받을 수 있는 방법까지 총정리해 보는 시간을 가져볼게요. 서두는 이만하고 바로 본론으로 넘어가 자세히 알아보도록 하겠습니다. <목차> 1.아이폰16 프로 스펙 및 디자인 2.아이폰16 프로 컬러 및 가격 3. 할인 크게... '"
      ]
     },
     "execution_count": 65,
     "metadata": {},
     "output_type": "execute_result"
    }
   ],
   "source": [
    "# 블로그 내용\n",
    "text = list_search_post[post_num].select_one('a.text').text\n",
    "text"
   ]
  },
  {
   "cell_type": "code",
   "execution_count": 66,
   "metadata": {},
   "outputs": [
    {
     "data": {
      "text/plain": [
       "'얌못'"
      ]
     },
     "execution_count": 66,
     "metadata": {},
     "output_type": "execute_result"
    }
   ],
   "source": [
    "# 글 작성자\n",
    "name_author = list_search_post[post_num].select_one('em.name_author').text\n",
    "name_author"
   ]
  },
  {
   "cell_type": "code",
   "execution_count": 67,
   "metadata": {},
   "outputs": [
    {
     "data": {
      "text/plain": [
       "'경제꿈나무'"
      ]
     },
     "execution_count": 67,
     "metadata": {},
     "output_type": "execute_result"
    }
   ],
   "source": [
    "# 블로그 이름\n",
    "name_blog = list_search_post[post_num].select_one('span.name_blog').text\n",
    "name_blog"
   ]
  },
  {
   "cell_type": "code",
   "execution_count": 68,
   "metadata": {},
   "outputs": [
    {
     "data": {
      "text/plain": [
       "'17시간 전'"
      ]
     },
     "execution_count": 68,
     "metadata": {},
     "output_type": "execute_result"
    }
   ],
   "source": [
    "# 글 작성 날짜\n",
    "date = list_search_post[post_num].select_one('span.date').text\n",
    "date"
   ]
  },
  {
   "cell_type": "code",
   "execution_count": 69,
   "metadata": {},
   "outputs": [
    {
     "data": {
      "text/plain": [
       "'https://blog.naver.com/cjfgns2/223720560043'"
      ]
     },
     "execution_count": 69,
     "metadata": {},
     "output_type": "execute_result"
    }
   ],
   "source": [
    "# 글 링크\n",
    "desc_inner = list_search_post[post_num].select_one('a.desc_inner')['href']\n",
    "desc_inner"
   ]
  },
  {
   "cell_type": "code",
   "execution_count": 70,
   "metadata": {},
   "outputs": [
    {
     "data": {
      "text/plain": [
       "<div anchor-text=\"content\" bg-move-scroll-on-pop-state=\"\" class=\"list_search_post\" ng-repeat=\"post in postSearchCtrl.resultList\">\n",
       "<div bg-article-multi-img-style=\"\" class=\"item multi_pic\">\n",
       "<div class=\"info_post\" ng-class=\"{only_post: post.thumbnails.length == 0}\">\n",
       "<div class=\"desc\">\n",
       "<a bg-nclick=\"srs*l.text\" class=\"desc_inner\" href=\"https://blog.naver.com/sexyleep/223712531240\" ng-href=\"https://blog.naver.com/sexyleep/223712531240\" target=\"_blank\">\n",
       "<strong class=\"title_post\">\n",
       "<!-- ngIf: post.titleHeadColor == '#27C400' -->\n",
       "<!-- ngIf: post.titleHeadColor == '#FF6565' -->\n",
       "<span class=\"title\" ng-bind-html=\"post.title\"><strong class=\"search_keyword\">아이폰16</strong>프로 256 가격 성지 할인</span>\n",
       "</strong>\n",
       "</a><!-- ngIf: post.contents --><a bg-nclick=\"srs*l.text\" class=\"text\" href=\"https://blog.naver.com/sexyleep/223712531240\" ng-bind-html=\"post.contents\" ng-href=\"https://blog.naver.com/sexyleep/223712531240\" ng-if=\"post.contents\" target=\"_blank\">최신 스마트폰 중에서도 <strong class=\"search_keyword\">아이폰16</strong> 프로는 강력한 성능과 세련된 디자인으로 많은 이들의 관심을 받고 있습니다. 하지만 높은 출고가로 인해 구매를 고민하는 경우가 많습니다. 이번 글에서는 <strong class=\"search_keyword\">아이폰16</strong> 프로의 주요 스펙과 함께 256GB 모델을 더 저렴하게 구매할 수 있는 다양한 방법을... </a><!-- end ngIf: post.contents -->\n",
       "</div>\n",
       "<div class=\"writer_info\">\n",
       "<a bg-nclick=\"srs*l.blogger\" class=\"author\" href=\"https://blog.naver.com/sexyleep\" ng-href=\"https://blog.naver.com/sexyleep\" target=\"_blank\">\n",
       "<div class=\"thumbnail_author\">\n",
       "<img alt=\"블로거 썸네일\" bg-image=\"https://blogpfthumb-phinf.pstatic.net/MjAyNDA0MTFfNTIg/MDAxNzEyODQ0NjgxNjUz.Ms6zwj8JSJEfBjXIXoQ9n3DnDEboX_Z2AozdRKXWkesg.8bUDXWQE49IEEBCXuflh7NDu6ZKvWD6WjDgj2Tf3Wwgg.PNG/%25ED%2585%258C%25ED%2581%25AC%25EC%258B%25AC%25EB%25B3%25BC.png/%25ED%2585%258C%25ED%2581%25AC%25EC%258B%25AC%25EB%25B3%25BC.png?type=s1\" class=\"img_author\" height=\"25\" src=\"https://blogpfthumb-phinf.pstatic.net/MjAyNDA0MTFfNTIg/MDAxNzEyODQ0NjgxNjUz.Ms6zwj8JSJEfBjXIXoQ9n3DnDEboX_Z2AozdRKXWkesg.8bUDXWQE49IEEBCXuflh7NDu6ZKvWD6WjDgj2Tf3Wwgg.PNG/%25ED%2585%258C%25ED%2581%25AC%25EC%258B%25AC%25EB%25B3%25BC.png/%25ED%2585%258C%25ED%2581%25AC%25EC%258B%25AC%25EB%25B3%25BC.png?type=s1\" width=\"25\"/>\n",
       "</div>\n",
       "<em class=\"name_author\">테크매니아</em>\n",
       "</a>\n",
       "<span class=\"name_blog\">테크톡톡</span>\n",
       "<span class=\"date\">2025. 1. 3.</span>\n",
       "<!-- ngIf: post.marketPost && post.product.productStatus == 'ON_SALE' -->\n",
       "<!-- ngIf: post.marketPost && post.product.productStatus == 'BE_SCHEDULED' -->\n",
       "<!-- ngIf: post.marketPost && post.product.productStatus == 'SALE_END' -->\n",
       "</div>\n",
       "</div>\n",
       "<div area-code=\"srs*l\" aria-selected=\"false\" class=\"thumbnail_post\" ng-hide=\"hide\" post-url=\"https://blog.naver.com/sexyleep/223712531240\" product=\"post.product\" thumbnail-key-name=\"url\" thumbnail-list=\"post.thumbnails\" thumbnail-video-name=\"videoThumbnail\" thumbnail-vr-name=\"vrthumbnail\">\n",
       "<div bg-sliding-leave=\"\" class=\"thumbnail_area\">\n",
       "<!-- ngRepeat: thumbnail in thumbnailList | limitTo : 1 --><a bg-nclickf='{\"code\":\"srs*l.image\"}' class=\"thumbnail_inner\" href=\"https://blog.naver.com/sexyleep/223712531240\" ng-click=\"afterProcess()\" ng-href=\"https://blog.naver.com/sexyleep/223712531240\" ng-repeat=\"thumbnail in thumbnailList | limitTo : 1\" target=\"_blank\">\n",
       "<img alt=\"포스트 썸네일\" bg-image=\"https://blogthumb.pstatic.net/MjAyNTAxMDJfNjcg/MDAxNzM1Nzk2MDM4NjQ3.36cFkuYqdGO8OEficC1MRlO4HzCsIVzojb-PMSDYVaYg.z5tGFJRgzI8i_4hIRBWqt98DdqMToYpdgDOsCQdMtE0g.PNG/%BE%C6%C0%CC%C6%F916%C7%C1%B7%CE256i16pro8.png?type=s2\" class=\"img_post\" height=\"167\" ng-class=\"{background_color:thumbnail['noThisDayThumbnail']}\" ng-hide=\"thumbnail['noThisDayThumbnail']\" src=\"https://blogthumb.pstatic.net/MjAyNTAxMDJfNjcg/MDAxNzM1Nzk2MDM4NjQ3.36cFkuYqdGO8OEficC1MRlO4HzCsIVzojb-PMSDYVaYg.z5tGFJRgzI8i_4hIRBWqt98DdqMToYpdgDOsCQdMtE0g.PNG/%BE%C6%C0%CC%C6%F916%C7%C1%B7%CE256i16pro8.png?type=s2\" width=\"167\"/>\n",
       "<!-- [D] 360vr이미지 일 경우 <i class=\"sp_common icon_vr\">360도 VR</i><span class=\"dimmed\"></span> 추가 / 동영상일 경우 <i class=\"sp_common icon_video_play\">동영상</i><span class=\"dimmed\"></span> 추가 -->\n",
       "<!-- ngIf: !product && thumbnail[thumbnailVrName] -->\n",
       "<!-- ngIf: !product && thumbnail[thumbnailVideoName] -->\n",
       "<!-- ngIf: product -->\n",
       "<!-- ngIf: thumbnail[thumbnailVrName] || thumbnail[thumbnailVideoName] -->\n",
       "<!-- N년전 오늘에 사용되는 마크업 -->\n",
       "<!-- ngIf: thisDayPost -->\n",
       "<!-- ngIf: thisDayPost && !thumbnail['noThisDayThumbnail'] -->\n",
       "<!-- ngIf: thisDayPost && thumbnail['noThisDayThumbnail'] -->\n",
       "</a><!-- end ngRepeat: thumbnail in thumbnailList | limitTo : 1 -->\n",
       "<a aria-selected=\"false\" bg-sliding-btn=\"\" class=\"button_more_img\" href=\"#\" ng-show=\"thumbnailList.length &gt; 1\" role=\"button\">\n",
       "<i class=\"sp_common icon_more\"><span class=\"blind\">글 섬네일 펼치기</span></i>\n",
       "</a>\n",
       "<!-- ngIf: thumbnailList.length > 1 --><div bg-sliding-area=\"\" class=\"plus_thumbnail_list\" ng-if=\"thumbnailList.length &gt; 1\" ng-style=\"{display : isViewPlusThumbnail? 'block':'none'}\" style=\"left: 0px; display: none;\">\n",
       "<a bg-nclickf='{\"code\":\"srs*l.image\"}' class=\"list_inner\" href=\"https://blog.naver.com/sexyleep/223712531240\" ng-click=\"afterProcess()\" ng-href=\"https://blog.naver.com/sexyleep/223712531240\" target=\"_blank\" title=\"포스트로 이동\">\n",
       "<!-- ngRepeat: thumbnail in thumbnailList | limitTo : 3 : 1 --><div class=\"plus_item\" ng-repeat=\"thumbnail in thumbnailList | limitTo : 3 : 1\">\n",
       "<img alt=\"글 섬네일\" bg-image=\"https://blogthumb.pstatic.net/MjAyNTAxMDJfNDgg/MDAxNzM1Nzk1OTU3ODM2.IibVKqZ8EKS4mftbITw7cxTPSUEG1aaSysXlWG2jR0gg.SUZEIbSw-_UbLEHje7iVItRrnSO5kjEbmSCS32MWL9Yg.PNG/%3F%95%84%3F%9D%B4%3F%8F%B016%3F%94%84%EB%A1%3F256i16pro3.png?type=s2\" class=\"plus_img\" height=\"167\" src=\"https://blogthumb.pstatic.net/MjAyNTAxMDJfNDgg/MDAxNzM1Nzk1OTU3ODM2.IibVKqZ8EKS4mftbITw7cxTPSUEG1aaSysXlWG2jR0gg.SUZEIbSw-_UbLEHje7iVItRrnSO5kjEbmSCS32MWL9Yg.PNG/%3F%95%84%3F%9D%B4%3F%8F%B016%3F%94%84%EB%A1%3F256i16pro3.png?type=s2\" width=\"167\"/>\n",
       "<!-- [D] 360vr이미지 일 경우 <i class=\"sp_common icon_vr\">360도 VR</i><span class=\"dimmed\"></span> 추가 / 동영상일 경우 <i class=\"sp_common icon_video_play\">동영상</i><span class=\"dimmed\"></span> 추가 -->\n",
       "<!-- ngIf: thumbnail[thumbnailVrName] -->\n",
       "<!-- ngIf: thumbnail[thumbnailVideoName] -->\n",
       "<!-- ngIf: thumbnail[thumbnailVrName] || thumbnail[thumbnailVideoName] -->\n",
       "</div><!-- end ngRepeat: thumbnail in thumbnailList | limitTo : 3 : 1 --><div class=\"plus_item\" ng-repeat=\"thumbnail in thumbnailList | limitTo : 3 : 1\">\n",
       "<img alt=\"글 섬네일\" bg-image=\"https://blogthumb.pstatic.net/MjAyNTAxMDJfMjQy/MDAxNzM1Nzk2MDM5NzE4.5dAAA6a_AdQnzMo4it-9JFaXVLgnWhXI_1Kvz5FS9RQg.Vue3inMk9ttrLPLDRBMzwn8PSw1-dGimhQrdhYsQd-wg.PNG/%BE%C6%C0%CC%C6%F916%C7%C1%B7%CE256i16pro7.png?type=s2\" class=\"plus_img\" height=\"167\" src=\"https://blogthumb.pstatic.net/MjAyNTAxMDJfMjQy/MDAxNzM1Nzk2MDM5NzE4.5dAAA6a_AdQnzMo4it-9JFaXVLgnWhXI_1Kvz5FS9RQg.Vue3inMk9ttrLPLDRBMzwn8PSw1-dGimhQrdhYsQd-wg.PNG/%BE%C6%C0%CC%C6%F916%C7%C1%B7%CE256i16pro7.png?type=s2\" width=\"167\"/>\n",
       "<!-- [D] 360vr이미지 일 경우 <i class=\"sp_common icon_vr\">360도 VR</i><span class=\"dimmed\"></span> 추가 / 동영상일 경우 <i class=\"sp_common icon_video_play\">동영상</i><span class=\"dimmed\"></span> 추가 -->\n",
       "<!-- ngIf: thumbnail[thumbnailVrName] -->\n",
       "<!-- ngIf: thumbnail[thumbnailVideoName] -->\n",
       "<!-- ngIf: thumbnail[thumbnailVrName] || thumbnail[thumbnailVideoName] -->\n",
       "</div><!-- end ngRepeat: thumbnail in thumbnailList | limitTo : 3 : 1 --><div class=\"plus_item\" ng-repeat=\"thumbnail in thumbnailList | limitTo : 3 : 1\">\n",
       "<img alt=\"글 섬네일\" bg-image=\"https://blogthumb.pstatic.net/MjAyNTAxMDJfOTcg/MDAxNzM1Nzk2MDQxNzQ3.D-UVLlpo3X_eVnsPLUD-G_n-OngJF4O3Lf9W2iULSJgg.K86azKHQEdIZo69FsXveLuoLxKifpVYV3s1p8nDRBHcg.PNG/%BE%C6%C0%CC%C6%F916%C7%C1%B7%CE256i16pro4.png?type=s2\" class=\"plus_img\" height=\"167\" src=\"https://blogthumb.pstatic.net/MjAyNTAxMDJfOTcg/MDAxNzM1Nzk2MDQxNzQ3.D-UVLlpo3X_eVnsPLUD-G_n-OngJF4O3Lf9W2iULSJgg.K86azKHQEdIZo69FsXveLuoLxKifpVYV3s1p8nDRBHcg.PNG/%BE%C6%C0%CC%C6%F916%C7%C1%B7%CE256i16pro4.png?type=s2\" width=\"167\"/>\n",
       "<!-- [D] 360vr이미지 일 경우 <i class=\"sp_common icon_vr\">360도 VR</i><span class=\"dimmed\"></span> 추가 / 동영상일 경우 <i class=\"sp_common icon_video_play\">동영상</i><span class=\"dimmed\"></span> 추가 -->\n",
       "<!-- ngIf: thumbnail[thumbnailVrName] -->\n",
       "<!-- ngIf: thumbnail[thumbnailVideoName] -->\n",
       "<!-- ngIf: thumbnail[thumbnailVrName] || thumbnail[thumbnailVideoName] -->\n",
       "</div><!-- end ngRepeat: thumbnail in thumbnailList | limitTo : 3 : 1 -->\n",
       "</a>\n",
       "</div><!-- end ngIf: thumbnailList.length > 1 -->\n",
       "</div>\n",
       "</div>\n",
       "</div>\n",
       "</div>"
      ]
     },
     "execution_count": 70,
     "metadata": {},
     "output_type": "execute_result"
    }
   ],
   "source": [
    "list_search_post[1]"
   ]
  },
  {
   "cell_type": "code",
   "execution_count": 71,
   "metadata": {},
   "outputs": [
    {
     "data": {
      "text/plain": [
       "'아이폰16프로 256 가격 성지 할인'"
      ]
     },
     "execution_count": 71,
     "metadata": {},
     "output_type": "execute_result"
    }
   ],
   "source": [
    "# 글 제목\n",
    "post_num = 1\n",
    "title = list_search_post[post_num].select_one('span.title').text\n",
    "title"
   ]
  },
  {
   "cell_type": "code",
   "execution_count": 72,
   "metadata": {},
   "outputs": [
    {
     "data": {
      "text/plain": [
       "'최신 스마트폰 중에서도 아이폰16 프로는 강력한 성능과 세련된 디자인으로 많은 이들의 관심을 받고 있습니다. 하지만 높은 출고가로 인해 구매를 고민하는 경우가 많습니다. 이번 글에서는 아이폰16 프로의 주요 스펙과 함께 256GB 모델을 더 저렴하게 구매할 수 있는 다양한 방법을... '"
      ]
     },
     "execution_count": 72,
     "metadata": {},
     "output_type": "execute_result"
    }
   ],
   "source": [
    "# 블로그 내용\n",
    "text = list_search_post[post_num].select_one('a.text').text\n",
    "text"
   ]
  },
  {
   "cell_type": "code",
   "execution_count": 73,
   "metadata": {},
   "outputs": [
    {
     "data": {
      "text/plain": [
       "'테크매니아'"
      ]
     },
     "execution_count": 73,
     "metadata": {},
     "output_type": "execute_result"
    }
   ],
   "source": [
    "# 글 작성자\n",
    "name_author = list_search_post[post_num].select_one('em.name_author').text\n",
    "name_author"
   ]
  },
  {
   "cell_type": "code",
   "execution_count": 74,
   "metadata": {},
   "outputs": [
    {
     "data": {
      "text/plain": [
       "'테크톡톡'"
      ]
     },
     "execution_count": 74,
     "metadata": {},
     "output_type": "execute_result"
    }
   ],
   "source": [
    "# 블로그 이름\n",
    "name_blog = list_search_post[post_num].select_one('span.name_blog').text\n",
    "name_blog"
   ]
  },
  {
   "cell_type": "code",
   "execution_count": 75,
   "metadata": {},
   "outputs": [
    {
     "data": {
      "text/plain": [
       "'2025. 1. 3.'"
      ]
     },
     "execution_count": 75,
     "metadata": {},
     "output_type": "execute_result"
    }
   ],
   "source": [
    "# 글 작성 날짜\n",
    "date = list_search_post[post_num].select_one('span.date').text\n",
    "date"
   ]
  },
  {
   "cell_type": "code",
   "execution_count": null,
   "metadata": {},
   "outputs": [
    {
     "data": {
      "text/plain": [
       "'https://blog.naver.com/sexyleep/223712531240'"
      ]
     },
     "execution_count": 76,
     "metadata": {},
     "output_type": "execute_result"
    }
   ],
   "source": [
    "# 글 링크\n",
    "text_link = list_search_post[post_num].select_one('a.desc_inner')['href']\n",
    "text_link"
   ]
  },
  {
   "cell_type": "code",
   "execution_count": 129,
   "metadata": {},
   "outputs": [
    {
     "name": "stdout",
     "output_type": "stream",
     "text": [
      "7 7 7 7 7 7\n"
     ]
    }
   ],
   "source": [
    "area_list_search = soup.select_one('div.area_list_search')\n",
    "list_search_post = area_list_search.select('div.list_search_post')\n",
    "\n",
    "title_list = []\n",
    "text_list = []\n",
    "name_author_list = []\n",
    "name_blog_list = []\n",
    "date_list = []\n",
    "text_link_list = []\n",
    "\n",
    "for post in list_search_post:\n",
    "    title = post.select_one('span.title').text\n",
    "    text = post.select_one('a.text').text\n",
    "    name_author = post.select_one('em.name_author').text\n",
    "    name_blog = post.select_one('span.name_blog').text\n",
    "    date = post.select_one('span.date').text\n",
    "    text_link = post.select_one('a.desc_inner')['href']\n",
    "    # print(title, text, name_author, name_blog, text_link)\n",
    "\n",
    "    title_list.append(title)\n",
    "    text_list.append(text)\n",
    "    name_author_list.append(name_author)\n",
    "    name_blog_list.append(name_blog)\n",
    "    date_list.append(date)\n",
    "    text_link_list.append(text_link)\n",
    "print(len(title_list), len(text_list), len(name_author_list), len(name_blog_list), len(date_list), len(text_link_list))"
   ]
  },
  {
   "cell_type": "code",
   "execution_count": null,
   "metadata": {},
   "outputs": [],
   "source": [
    "# 웹드라이버 실행\n",
    "driver = webdriver.Chrome(options=options)"
   ]
  },
  {
   "cell_type": "code",
   "execution_count": 134,
   "metadata": {},
   "outputs": [
    {
     "name": "stdout",
     "output_type": "stream",
     "text": [
      "네이버 블로그\n",
      "네이버 블로그\n",
      "네이버 블로그\n",
      "네이버 블로그\n",
      "네이버 블로그\n",
      "네이버 블로그\n",
      "네이버 블로그\n",
      "네이버 블로그\n",
      "네이버 블로그\n",
      "63 63 63 63 63 63\n"
     ]
    }
   ],
   "source": [
    "keyword = '아이폰 16' # 검색어\n",
    "tab_option = '글'\n",
    "\n",
    "title_list = []\n",
    "text_list = []\n",
    "name_author_list = []\n",
    "name_blog_list = []\n",
    "date_list = []\n",
    "post_link_list = []\n",
    "\n",
    "for page_num in range(1, 10):\n",
    "    if tab_option == '글':\n",
    "        keyword_url = f'https://section.blog.naver.com/Search/Post.naver?pageNo={page_num}&rangeType=ALL&orderBy=sim&keyword={keyword}'\n",
    "    elif tab_option == '블로그':\n",
    "        keyword_url = f'https://section.blog.naver.com/Search/Blog.naver?pageNo={page_num}&orderBy=sim&keyword={keyword}'\n",
    "\n",
    "    driver.get(keyword_url)\n",
    "    driver.implicitly_wait(10) # 페이지 로드 될 때까지 기다리지만 로드 되는 순간 종료\n",
    "    time.sleep(random.uniform(1, 3))\n",
    "\n",
    "    page = driver.page_source\n",
    "    soup = bs(page, 'html.parser')\n",
    "    # print(soup.title.text)\n",
    "    \n",
    "    area_list_search = soup.select_one('div.area_list_search')\n",
    "    list_search_post = area_list_search.select('div.list_search_post')\n",
    "\n",
    "    for post in list_search_post:\n",
    "        title = post.select_one('span.title').text\n",
    "        text = post.select_one('a.text').text\n",
    "        name_author = post.select_one('em.name_author').text\n",
    "        name_blog = post.select_one('span.name_blog').text\n",
    "        date = post.select_one('span.date').text\n",
    "        post_link = post.select_one('a.desc_inner')['href']\n",
    "\n",
    "        title_list.append(title)\n",
    "        text_list.append(text)\n",
    "        name_author_list.append(name_author)\n",
    "        name_blog_list.append(name_blog)\n",
    "        date_list.append(date)\n",
    "        post_link_list.append(post_link)\n",
    "\n",
    "print(len(title_list), len(text_list), len(name_author_list), len(name_blog_list), len(date_list), len(post_link_list))"
   ]
  },
  {
   "cell_type": "code",
   "execution_count": 135,
   "metadata": {},
   "outputs": [
    {
     "data": {
      "text/html": [
       "<div>\n",
       "<style scoped>\n",
       "    .dataframe tbody tr th:only-of-type {\n",
       "        vertical-align: middle;\n",
       "    }\n",
       "\n",
       "    .dataframe tbody tr th {\n",
       "        vertical-align: top;\n",
       "    }\n",
       "\n",
       "    .dataframe thead th {\n",
       "        text-align: right;\n",
       "    }\n",
       "</style>\n",
       "<table border=\"1\" class=\"dataframe\">\n",
       "  <thead>\n",
       "    <tr style=\"text-align: right;\">\n",
       "      <th></th>\n",
       "      <th>title</th>\n",
       "      <th>text</th>\n",
       "      <th>name_author</th>\n",
       "      <th>name_blog</th>\n",
       "      <th>date</th>\n",
       "      <th>post_link</th>\n",
       "    </tr>\n",
       "  </thead>\n",
       "  <tbody>\n",
       "    <tr>\n",
       "      <th>0</th>\n",
       "      <td>아이폰16 프로 디자인 보조금 꿀팁까지</td>\n",
       "      <td>오늘은 아이폰16 프로 디자인과 달라진 주요 스펙을 정리해 보고, 가격 할인을 받을...</td>\n",
       "      <td>얌못</td>\n",
       "      <td>경제꿈나무</td>\n",
       "      <td>17시간 전</td>\n",
       "      <td>https://blog.naver.com/cjfgns2/223720560043</td>\n",
       "    </tr>\n",
       "    <tr>\n",
       "      <th>1</th>\n",
       "      <td>아이폰16프로 256 가격 성지 할인</td>\n",
       "      <td>최신 스마트폰 중에서도 아이폰16 프로는 강력한 성능과 세련된 디자인으로 많은 이들...</td>\n",
       "      <td>테크매니아</td>\n",
       "      <td>테크톡톡</td>\n",
       "      <td>2025. 1. 3.</td>\n",
       "      <td>https://blog.naver.com/sexyleep/223712531240</td>\n",
       "    </tr>\n",
       "    <tr>\n",
       "      <th>2</th>\n",
       "      <td>아이폰16 비교 성지 보조금 정보까지</td>\n",
       "      <td>이번 아이폰16 시리즈 쫙 비교하고 저는 프로를 선택했어요:) 일반형이랑 많이 고민...</td>\n",
       "      <td>곰순이</td>\n",
       "      <td>곰순이</td>\n",
       "      <td>2025. 1. 3.</td>\n",
       "      <td>https://blog.naver.com/mlifeso/223713468628</td>\n",
       "    </tr>\n",
       "    <tr>\n",
       "      <th>3</th>\n",
       "      <td>아이폰16 일반 구매 가이드 나알지</td>\n",
       "      <td>아이폰16 시리즈가 드디어 공개되며, 많은 분들이 새 스마트폰 구매를 고민하고 계실...</td>\n",
       "      <td>리</td>\n",
       "      <td>이야기</td>\n",
       "      <td>2024. 12. 26.</td>\n",
       "      <td>https://blog.naver.com/ssg2070kk/223706335892</td>\n",
       "    </tr>\n",
       "    <tr>\n",
       "      <th>4</th>\n",
       "      <td>아이폰 16프로 가격 비교 최대 지원금 성지 보조금 체크</td>\n",
       "      <td>목차 아이폰 16프로 스펙 공시지원금 선택약정 구매비교 자급제 vs 성지구매 비교 ...</td>\n",
       "      <td>냠냐미</td>\n",
       "      <td>그때, 그 순간의 기록 ෆ</td>\n",
       "      <td>2024. 12. 30.</td>\n",
       "      <td>https://blog.naver.com/bsh_2310/223709206124</td>\n",
       "    </tr>\n",
       "    <tr>\n",
       "      <th>...</th>\n",
       "      <td>...</td>\n",
       "      <td>...</td>\n",
       "      <td>...</td>\n",
       "      <td>...</td>\n",
       "      <td>...</td>\n",
       "      <td>...</td>\n",
       "    </tr>\n",
       "    <tr>\n",
       "      <th>58</th>\n",
       "      <td>아이폰16 비교 기본 스펙 싸게사는법 정리</td>\n",
       "      <td>이번 글에서는 아이폰16 시리즈의 모델별 특징과 출고가를 비교하고, 비용 부담을 덜...</td>\n",
       "      <td>DevelopPharmacy</td>\n",
       "      <td>DevelopPharmacy</td>\n",
       "      <td>2024. 12. 26.</td>\n",
       "      <td>https://blog.naver.com/pangyolee/223706071730</td>\n",
       "    </tr>\n",
       "    <tr>\n",
       "      <th>59</th>\n",
       "      <td>아이폰16 프로 블랙 싸게사는법 추천 팁</td>\n",
       "      <td>아이폰16 프로는 최신 기술력과 감각적인 디자인으로 출시 직후부터 큰 관심을 받고 ...</td>\n",
       "      <td>테크매니아</td>\n",
       "      <td>테크톡톡</td>\n",
       "      <td>2025. 1. 1.</td>\n",
       "      <td>https://blog.naver.com/sexyleep/223710511737</td>\n",
       "    </tr>\n",
       "    <tr>\n",
       "      <th>60</th>\n",
       "      <td>아이폰16 블루 컬러와 성지 활용 실속 구매 가이드</td>\n",
       "      <td>아이폰16 블루는 전작인 아이폰 15 블루보다 더 진한 색감과 세련된 디자인으로 많...</td>\n",
       "      <td>DevelopPharmacy</td>\n",
       "      <td>DevelopPharmacy</td>\n",
       "      <td>2025. 1. 4.</td>\n",
       "      <td>https://blog.naver.com/pangyolee/223714772074</td>\n",
       "    </tr>\n",
       "    <tr>\n",
       "      <th>61</th>\n",
       "      <td>아이폰16 프로 스펙</td>\n",
       "      <td>아이폰16 프로 스펙 2. 아이폰 16 프로 가격 정보 3. 아이폰 16 프로 할인...</td>\n",
       "      <td>DevelopPharmacy</td>\n",
       "      <td>DevelopPharmacy</td>\n",
       "      <td>2025. 1. 5.</td>\n",
       "      <td>https://blog.naver.com/pangyolee/223715710529</td>\n",
       "    </tr>\n",
       "    <tr>\n",
       "      <th>62</th>\n",
       "      <td>아이폰16프로 256 가격 저렴하게 할인 받아 구매한 후기</td>\n",
       "      <td>아이폰16프로 256 가격 및 통신사 할인 3. 성지 보조금 활용법 1. 아이폰 1...</td>\n",
       "      <td>DevelopPharmacy</td>\n",
       "      <td>DevelopPharmacy</td>\n",
       "      <td>2024. 12. 25.</td>\n",
       "      <td>https://blog.naver.com/pangyolee/223704761760</td>\n",
       "    </tr>\n",
       "  </tbody>\n",
       "</table>\n",
       "<p>63 rows × 6 columns</p>\n",
       "</div>"
      ],
      "text/plain": [
       "                               title  \\\n",
       "0              아이폰16 프로 디자인 보조금 꿀팁까지   \n",
       "1               아이폰16프로 256 가격 성지 할인   \n",
       "2               아이폰16 비교 성지 보조금 정보까지   \n",
       "3                아이폰16 일반 구매 가이드 나알지   \n",
       "4    아이폰 16프로 가격 비교 최대 지원금 성지 보조금 체크   \n",
       "..                               ...   \n",
       "58           아이폰16 비교 기본 스펙 싸게사는법 정리   \n",
       "59            아이폰16 프로 블랙 싸게사는법 추천 팁   \n",
       "60      아이폰16 블루 컬러와 성지 활용 실속 구매 가이드   \n",
       "61                       아이폰16 프로 스펙   \n",
       "62  아이폰16프로 256 가격 저렴하게 할인 받아 구매한 후기   \n",
       "\n",
       "                                                 text      name_author  \\\n",
       "0   오늘은 아이폰16 프로 디자인과 달라진 주요 스펙을 정리해 보고, 가격 할인을 받을...               얌못   \n",
       "1   최신 스마트폰 중에서도 아이폰16 프로는 강력한 성능과 세련된 디자인으로 많은 이들...            테크매니아   \n",
       "2   이번 아이폰16 시리즈 쫙 비교하고 저는 프로를 선택했어요:) 일반형이랑 많이 고민...              곰순이   \n",
       "3   아이폰16 시리즈가 드디어 공개되며, 많은 분들이 새 스마트폰 구매를 고민하고 계실...                리   \n",
       "4   목차 아이폰 16프로 스펙 공시지원금 선택약정 구매비교 자급제 vs 성지구매 비교 ...              냠냐미   \n",
       "..                                                ...              ...   \n",
       "58  이번 글에서는 아이폰16 시리즈의 모델별 특징과 출고가를 비교하고, 비용 부담을 덜...  DevelopPharmacy   \n",
       "59  아이폰16 프로는 최신 기술력과 감각적인 디자인으로 출시 직후부터 큰 관심을 받고 ...            테크매니아   \n",
       "60  아이폰16 블루는 전작인 아이폰 15 블루보다 더 진한 색감과 세련된 디자인으로 많...  DevelopPharmacy   \n",
       "61  아이폰16 프로 스펙 2. 아이폰 16 프로 가격 정보 3. 아이폰 16 프로 할인...  DevelopPharmacy   \n",
       "62  아이폰16프로 256 가격 및 통신사 할인 3. 성지 보조금 활용법 1. 아이폰 1...  DevelopPharmacy   \n",
       "\n",
       "          name_blog           date  \\\n",
       "0             경제꿈나무         17시간 전   \n",
       "1              테크톡톡    2025. 1. 3.   \n",
       "2               곰순이    2025. 1. 3.   \n",
       "3               이야기  2024. 12. 26.   \n",
       "4    그때, 그 순간의 기록 ෆ  2024. 12. 30.   \n",
       "..              ...            ...   \n",
       "58  DevelopPharmacy  2024. 12. 26.   \n",
       "59             테크톡톡    2025. 1. 1.   \n",
       "60  DevelopPharmacy    2025. 1. 4.   \n",
       "61  DevelopPharmacy    2025. 1. 5.   \n",
       "62  DevelopPharmacy  2024. 12. 25.   \n",
       "\n",
       "                                        post_link  \n",
       "0     https://blog.naver.com/cjfgns2/223720560043  \n",
       "1    https://blog.naver.com/sexyleep/223712531240  \n",
       "2     https://blog.naver.com/mlifeso/223713468628  \n",
       "3   https://blog.naver.com/ssg2070kk/223706335892  \n",
       "4    https://blog.naver.com/bsh_2310/223709206124  \n",
       "..                                            ...  \n",
       "58  https://blog.naver.com/pangyolee/223706071730  \n",
       "59   https://blog.naver.com/sexyleep/223710511737  \n",
       "60  https://blog.naver.com/pangyolee/223714772074  \n",
       "61  https://blog.naver.com/pangyolee/223715710529  \n",
       "62  https://blog.naver.com/pangyolee/223704761760  \n",
       "\n",
       "[63 rows x 6 columns]"
      ]
     },
     "execution_count": 135,
     "metadata": {},
     "output_type": "execute_result"
    }
   ],
   "source": [
    "post_dict = {\n",
    "    'title': title_list,\n",
    "    'text': text_list,\n",
    "    'name_author': name_author_list,\n",
    "    'name_blog': name_blog_list,\n",
    "    'date': date_list,\n",
    "    'post_link': post_link_list\n",
    "}\n",
    "post_df = pd.DataFrame(post_dict)\n",
    "post_df"
   ]
  },
  {
   "cell_type": "code",
   "execution_count": 138,
   "metadata": {},
   "outputs": [
    {
     "data": {
      "text/plain": [
       "(63, 6)"
      ]
     },
     "execution_count": 138,
     "metadata": {},
     "output_type": "execute_result"
    }
   ],
   "source": [
    "new = post_df.drop_duplicates()\n",
    "new.shape"
   ]
  },
  {
   "cell_type": "markdown",
   "metadata": {},
   "source": [
    "## 🔧 블로그 선택\n",
    "- 참고 링크 : https://section.blog.naver.com/Search/Blog.naver?pageNo=1&orderBy=sim&keyword=아이폰 16\n",
    "- 참고 링크 : https://section.blog.naver.com/Search/Blog.naver?pageNo=1&orderBy=recentdate&keyword=아이폰 16\n",
    "- orderBy 옵션\n",
    "    - 관련도순 : &orderBy=sim\n",
    "    - 최신순 : &orderBy=recentdate"
   ]
  },
  {
   "cell_type": "code",
   "execution_count": 82,
   "metadata": {},
   "outputs": [],
   "source": [
    "page_num = 1 # 페이지 번호\n",
    "tab_option = '블로그'\n",
    "if tab_option == '글':\n",
    "    keyword_url = f'https://section.blog.naver.com/Search/Post.naver?pageNo={page_num}&rangeType=ALL&orderBy=sim&keyword={keyword}'\n",
    "elif tab_option == '블로그':\n",
    "    keyword_url = f'https://section.blog.naver.com/Search/Blog.naver?pageNo={page_num}&orderBy=sim&keyword={keyword}'"
   ]
  },
  {
   "cell_type": "code",
   "execution_count": 83,
   "metadata": {},
   "outputs": [
    {
     "data": {
      "text/plain": [
       "'https://section.blog.naver.com/Search/Blog.naver?pageNo=1&orderBy=sim&keyword=아이폰 16'"
      ]
     },
     "execution_count": 83,
     "metadata": {},
     "output_type": "execute_result"
    }
   ],
   "source": [
    "keyword_url"
   ]
  },
  {
   "cell_type": "code",
   "execution_count": 84,
   "metadata": {},
   "outputs": [],
   "source": [
    "driver.get(keyword_url)\n",
    "driver.implicitly_wait(10) # 페이지 로드 될 때까지 기다리지만 로드 되는 순간 종료\n",
    "# driver.maximize_window() # 브라우져 창 최대화"
   ]
  },
  {
   "cell_type": "code",
   "execution_count": 85,
   "metadata": {},
   "outputs": [
    {
     "name": "stdout",
     "output_type": "stream",
     "text": [
      "네이버 블로그\n"
     ]
    }
   ],
   "source": [
    "page = driver.page_source\n",
    "soup = bs(page, 'html.parser')\n",
    "print(soup.title.text)"
   ]
  },
  {
   "cell_type": "code",
   "execution_count": 87,
   "metadata": {},
   "outputs": [
    {
     "data": {
      "text/plain": [
       "<div anchor-text=\"content\" bg-move-scroll-on-pop-state=\"\" class=\"list_search_blog\" ng-repeat=\"blog in blogSearchCtrl.resultList\">\n",
       "<div class=\"item\">\n",
       "<a bg-nclick=\"srb*l.blogger\" class=\"name_blog\" href=\"https://blog.naver.com/qhrejddl7373\" ng-href=\"https://blog.naver.com/qhrejddl7373\" target=\"_blank\">\n",
       "<em class=\"text_blog\" ng-bind-html=\"blog.blogName\"><strong class=\"search_keyword\">아이폰16</strong>프로사전예약혜택성지모아카페</em>\n",
       "</a>\n",
       "<p class=\"blog_intro\" ng-bind-html=\"blog.blogDesc\"><strong class=\"search_keyword\">아이폰16</strong>프로사전예약혜택성지모아카페 정보 공유 블로그 입니다~</p>\n",
       "<div class=\"writer_info\">\n",
       "<a bg-nclick=\"srb*l.blogger\" class=\"author\" href=\"https://blog.naver.com/qhrejddl7373\" ng-href=\"https://blog.naver.com/qhrejddl7373\" target=\"_blank\">\n",
       "<div class=\"thumbnail_author\">\n",
       "<img alt=\"블로거 썸네일\" bg-image=\"https://blogpfthumb-phinf.pstatic.net/MjAyNDA5MTNfMTc3/MDAxNzI2MTk2NTg4Njgx.uAZNONyJWghf7L_Anmni-CY7bw7n1TYuESshHirSrCcg.d0j2fA62wXmE-SqYrDRIv206ty97Ju_CFz2HLa6oafEg.PNG/m2.png/m2.png?type=s1\" class=\"img_author\" height=\"25\" src=\"https://blogpfthumb-phinf.pstatic.net/MjAyNDA5MTNfMTc3/MDAxNzI2MTk2NTg4Njgx.uAZNONyJWghf7L_Anmni-CY7bw7n1TYuESshHirSrCcg.d0j2fA62wXmE-SqYrDRIv206ty97Ju_CFz2HLa6oafEg.PNG/m2.png/m2.png?type=s1\" width=\"25\"/>\n",
       "</div>\n",
       "<em class=\"name_author\">성지모아카페</em>\n",
       "</a>\n",
       "<!-- ngIf: blog.officialBlog -->\n",
       "<!-- ngIf: blog.marketBlog -->\n",
       "</div>\n",
       "</div>\n",
       "</div>"
      ]
     },
     "execution_count": 87,
     "metadata": {},
     "output_type": "execute_result"
    }
   ],
   "source": [
    "area_list_search = soup.select_one('div.area_list_search')\n",
    "list_search_blog = area_list_search.select('div.list_search_blog')\n",
    "list_search_blog[0]"
   ]
  },
  {
   "cell_type": "code",
   "execution_count": 99,
   "metadata": {},
   "outputs": [
    {
     "data": {
      "text/plain": [
       "'아이폰16프로사전예약혜택성지모아카페'"
      ]
     },
     "execution_count": 99,
     "metadata": {},
     "output_type": "execute_result"
    }
   ],
   "source": [
    "# 블로그 제목\n",
    "post_num = 0\n",
    "text_blog = list_search_blog[post_num].select_one('em.text_blog').text\n",
    "text_blog"
   ]
  },
  {
   "cell_type": "code",
   "execution_count": 100,
   "metadata": {},
   "outputs": [
    {
     "data": {
      "text/plain": [
       "'아이폰16프로사전예약혜택성지모아카페 정보 공유 블로그 입니다~'"
      ]
     },
     "execution_count": 100,
     "metadata": {},
     "output_type": "execute_result"
    }
   ],
   "source": [
    "# 블로그 내용\n",
    "blog_intro = list_search_blog[post_num].select_one('p.blog_intro').text\n",
    "blog_intro"
   ]
  },
  {
   "cell_type": "code",
   "execution_count": 101,
   "metadata": {},
   "outputs": [
    {
     "data": {
      "text/plain": [
       "'성지모아카페'"
      ]
     },
     "execution_count": 101,
     "metadata": {},
     "output_type": "execute_result"
    }
   ],
   "source": [
    "# 글 작성자\n",
    "name_author = list_search_blog[post_num].select_one('em.name_author').text\n",
    "name_author"
   ]
  },
  {
   "cell_type": "code",
   "execution_count": 120,
   "metadata": {},
   "outputs": [
    {
     "data": {
      "text/plain": [
       "'https://blog.naver.com/crnzlwbrc'"
      ]
     },
     "execution_count": 120,
     "metadata": {},
     "output_type": "execute_result"
    }
   ],
   "source": [
    "# 블로그 링크\n",
    "blog_link = list_search_blog[post_num].select_one('a.name_blog')['href']\n",
    "blog_link"
   ]
  },
  {
   "cell_type": "code",
   "execution_count": null,
   "metadata": {},
   "outputs": [],
   "source": []
  },
  {
   "cell_type": "code",
   "execution_count": 103,
   "metadata": {},
   "outputs": [
    {
     "data": {
      "text/plain": [
       "'아이폰16'"
      ]
     },
     "execution_count": 103,
     "metadata": {},
     "output_type": "execute_result"
    }
   ],
   "source": [
    "# 블로그 제목\n",
    "post_num = 1\n",
    "text_blog = list_search_blog[post_num].select_one('em.text_blog').text\n",
    "text_blog"
   ]
  },
  {
   "cell_type": "code",
   "execution_count": 108,
   "metadata": {},
   "outputs": [
    {
     "data": {
      "text/plain": [
       "''"
      ]
     },
     "execution_count": 108,
     "metadata": {},
     "output_type": "execute_result"
    }
   ],
   "source": [
    "# 블로그 내용\n",
    "blog_intro = list_search_blog[post_num].select_one('p.blog_intro').text\n",
    "blog_intro"
   ]
  },
  {
   "cell_type": "code",
   "execution_count": 116,
   "metadata": {},
   "outputs": [
    {
     "data": {
      "text/plain": [
       "True"
      ]
     },
     "execution_count": 116,
     "metadata": {},
     "output_type": "execute_result"
    }
   ],
   "source": [
    "list_search_blog[post_num].select_one('p.blog_intro').text == ''"
   ]
  },
  {
   "cell_type": "code",
   "execution_count": 105,
   "metadata": {},
   "outputs": [
    {
     "data": {
      "text/plain": [
       "'아이폰16'"
      ]
     },
     "execution_count": 105,
     "metadata": {},
     "output_type": "execute_result"
    }
   ],
   "source": [
    "# 글 작성자\n",
    "name_author = list_search_blog[post_num].select_one('em.name_author').text\n",
    "name_author"
   ]
  },
  {
   "cell_type": "code",
   "execution_count": 119,
   "metadata": {},
   "outputs": [
    {
     "data": {
      "text/plain": [
       "'https://blog.naver.com/crnzlwbrc'"
      ]
     },
     "execution_count": 119,
     "metadata": {},
     "output_type": "execute_result"
    }
   ],
   "source": [
    "# 블로그 링크\n",
    "blog_link = list_search_blog[post_num].select_one('a.name_blog')['href']\n",
    "blog_link"
   ]
  },
  {
   "cell_type": "code",
   "execution_count": 121,
   "metadata": {},
   "outputs": [
    {
     "name": "stdout",
     "output_type": "stream",
     "text": [
      "10 10 10 10\n"
     ]
    }
   ],
   "source": [
    "# 정보 수집\n",
    "text_blog_list = []\n",
    "blog_intro_list = []\n",
    "name_author_list = []\n",
    "blog_link_list = []\n",
    "for blog in list_search_blog:\n",
    "    text_blog = blog.select_one('em.text_blog').text\n",
    "    if blog.select_one('p.blog_intro').text == '':\n",
    "        blog_intro = np.nan\n",
    "    else:\n",
    "        blog_intro = blog.select_one('p.blog_intro').text\n",
    "    name_author = blog.select_one('em.name_author').text\n",
    "    blog_link = blog.select_one('a.name_blog')['href']\n",
    "    # print(text_blog, blog_intro, name_author, blog_link)\n",
    "\n",
    "    text_blog_list.append(text_blog)\n",
    "    blog_intro_list.append(blog_intro)\n",
    "    name_author_list.append(name_author)\n",
    "    blog_link_list.append(blog_link)\n",
    "\n",
    "print(len(text_blog_list), len(blog_intro_list), len(name_author_list), len(name_blog_list))"
   ]
  },
  {
   "cell_type": "code",
   "execution_count": 123,
   "metadata": {},
   "outputs": [
    {
     "data": {
      "text/html": [
       "<div>\n",
       "<style scoped>\n",
       "    .dataframe tbody tr th:only-of-type {\n",
       "        vertical-align: middle;\n",
       "    }\n",
       "\n",
       "    .dataframe tbody tr th {\n",
       "        vertical-align: top;\n",
       "    }\n",
       "\n",
       "    .dataframe thead th {\n",
       "        text-align: right;\n",
       "    }\n",
       "</style>\n",
       "<table border=\"1\" class=\"dataframe\">\n",
       "  <thead>\n",
       "    <tr style=\"text-align: right;\">\n",
       "      <th></th>\n",
       "      <th>text_blog</th>\n",
       "      <th>blog_intro</th>\n",
       "      <th>name_author</th>\n",
       "      <th>blog_link</th>\n",
       "    </tr>\n",
       "  </thead>\n",
       "  <tbody>\n",
       "    <tr>\n",
       "      <th>0</th>\n",
       "      <td>아이폰16프로사전예약혜택성지모아카페</td>\n",
       "      <td>아이폰16프로사전예약혜택성지모아카페 정보 공유 블로그 입니다~</td>\n",
       "      <td>성지모아카페</td>\n",
       "      <td>https://blog.naver.com/qhrejddl7373</td>\n",
       "    </tr>\n",
       "    <tr>\n",
       "      <th>1</th>\n",
       "      <td>아이폰16</td>\n",
       "      <td>NaN</td>\n",
       "      <td>아이폰16</td>\n",
       "      <td>https://blog.naver.com/crnzlwbrc</td>\n",
       "    </tr>\n",
       "    <tr>\n",
       "      <th>2</th>\n",
       "      <td>먹고, 쉬고.</td>\n",
       "      <td>맛집, 카페, 여행 [촬영 : 아이폰 16프로]</td>\n",
       "      <td>잠만보</td>\n",
       "      <td>https://blog.naver.com/unicodin</td>\n",
       "    </tr>\n",
       "    <tr>\n",
       "      <th>3</th>\n",
       "      <td>먹짱일기장</td>\n",
       "      <td>아이폰 16 pro max오너의 맛도리 블로그</td>\n",
       "      <td>유댕</td>\n",
       "      <td>https://blog.naver.com/eliyoujin</td>\n",
       "    </tr>\n",
       "    <tr>\n",
       "      <th>4</th>\n",
       "      <td>KT플라자 광화문중앙</td>\n",
       "      <td>아이폰16 즉시개통</td>\n",
       "      <td>KT광화문중앙직영점</td>\n",
       "      <td>https://blog.naver.com/bcbc233</td>\n",
       "    </tr>\n",
       "    <tr>\n",
       "      <th>5</th>\n",
       "      <td>냠냠 미식노트</td>\n",
       "      <td>구미지역의 맛집 탐방✨ [아이폰16 촬영]</td>\n",
       "      <td>냠냠로드</td>\n",
       "      <td>https://blog.naver.com/alswn120679</td>\n",
       "    </tr>\n",
       "    <tr>\n",
       "      <th>6</th>\n",
       "      <td>푸딩이와 삐약이의 여행일기S2</td>\n",
       "      <td>아이폰 pro max 15 / 아이폰 16 사용</td>\n",
       "      <td>나는야 이푸딩</td>\n",
       "      <td>https://blog.naver.com/kjjxv9309</td>\n",
       "    </tr>\n",
       "    <tr>\n",
       "      <th>7</th>\n",
       "      <td>post_uooooodi</td>\n",
       "      <td>아이폰16pro 나의앨범 86,029장</td>\n",
       "      <td>uooooodi</td>\n",
       "      <td>https://blog.naver.com/uooooodi</td>\n",
       "    </tr>\n",
       "    <tr>\n",
       "      <th>8</th>\n",
       "      <td>KT대화역점</td>\n",
       "      <td>친절상담KT대화점아이폰16사전예약중</td>\n",
       "      <td>kkkyou1111</td>\n",
       "      <td>https://blog.naver.com/kkkyou1111</td>\n",
       "    </tr>\n",
       "    <tr>\n",
       "      <th>9</th>\n",
       "      <td>Mlog</td>\n",
       "      <td>서울 지역의 맛집과 카페 꽃집을 리뷰해요 아이폰 16pro로 촬영해요</td>\n",
       "      <td>종이</td>\n",
       "      <td>https://blog.naver.com/fate081000</td>\n",
       "    </tr>\n",
       "  </tbody>\n",
       "</table>\n",
       "</div>"
      ],
      "text/plain": [
       "             text_blog                              blog_intro name_author  \\\n",
       "0  아이폰16프로사전예약혜택성지모아카페      아이폰16프로사전예약혜택성지모아카페 정보 공유 블로그 입니다~      성지모아카페   \n",
       "1                아이폰16                                     NaN       아이폰16   \n",
       "2              먹고, 쉬고.              맛집, 카페, 여행 [촬영 : 아이폰 16프로]         잠만보   \n",
       "3                먹짱일기장               아이폰 16 pro max오너의 맛도리 블로그          유댕   \n",
       "4          KT플라자 광화문중앙                              아이폰16 즉시개통  KT광화문중앙직영점   \n",
       "5              냠냠 미식노트                 구미지역의 맛집 탐방✨ [아이폰16 촬영]        냠냠로드   \n",
       "6     푸딩이와 삐약이의 여행일기S2              아이폰 pro max 15 / 아이폰 16 사용     나는야 이푸딩   \n",
       "7        post_uooooodi                   아이폰16pro 나의앨범 86,029장    uooooodi   \n",
       "8               KT대화역점                     친절상담KT대화점아이폰16사전예약중  kkkyou1111   \n",
       "9                 Mlog  서울 지역의 맛집과 카페 꽃집을 리뷰해요 아이폰 16pro로 촬영해요          종이   \n",
       "\n",
       "                             blog_link  \n",
       "0  https://blog.naver.com/qhrejddl7373  \n",
       "1     https://blog.naver.com/crnzlwbrc  \n",
       "2      https://blog.naver.com/unicodin  \n",
       "3     https://blog.naver.com/eliyoujin  \n",
       "4       https://blog.naver.com/bcbc233  \n",
       "5   https://blog.naver.com/alswn120679  \n",
       "6     https://blog.naver.com/kjjxv9309  \n",
       "7      https://blog.naver.com/uooooodi  \n",
       "8    https://blog.naver.com/kkkyou1111  \n",
       "9    https://blog.naver.com/fate081000  "
      ]
     },
     "execution_count": 123,
     "metadata": {},
     "output_type": "execute_result"
    }
   ],
   "source": [
    "blog_dict = {\n",
    "    'text_blog': text_blog_list,\n",
    "    'blog_intro': blog_intro_list,\n",
    "    'name_author': name_author_list,\n",
    "    'blog_link': blog_link_list\n",
    "}\n",
    "blog_df = pd.DataFrame(blog_dict)\n",
    "blog_df"
   ]
  },
  {
   "cell_type": "markdown",
   "metadata": {},
   "source": [
    "# 🔧 종합\n",
    "- 글, 블로그 옵션 설정 적용 : 관련도, 기간 등"
   ]
  },
  {
   "cell_type": "code",
   "execution_count": null,
   "metadata": {},
   "outputs": [],
   "source": [
    "keyword = '아이폰 16' # 검색어\n",
    "tab_option = '글'"
   ]
  },
  {
   "cell_type": "code",
   "execution_count": null,
   "metadata": {},
   "outputs": [],
   "source": [
    "if tab_option == '글':\n",
    "    title_list = []\n",
    "    text_list = []\n",
    "    name_author_list = []\n",
    "    name_blog_list = []\n",
    "    date_list = []\n",
    "    post_link_list = []\n",
    "    for page_num in range(1, 10):\n",
    "        keyword_url = f'https://section.blog.naver.com/Search/Post.naver?pageNo={page_num}&rangeType=ALL&orderBy=sim&keyword={keyword}'\n",
    "\n",
    "        driver.get(keyword_url)\n",
    "        driver.implicitly_wait(10) # 페이지 로드 될 때까지 기다리지만 로드 되는 순간 종료\n",
    "        time.sleep(random.uniform(1, 3))\n",
    "\n",
    "        page = driver.page_source\n",
    "        soup = bs(page, 'html.parser')\n",
    "        # print(soup.title.text)\n",
    "        \n",
    "        area_list_search = soup.select_one('div.area_list_search')\n",
    "        list_search_post = area_list_search.select('div.list_search_post')\n",
    "\n",
    "        for post in list_search_post:\n",
    "            title = post.select_one('span.title').text\n",
    "            text = post.select_one('a.text').text\n",
    "            name_author = post.select_one('em.name_author').text\n",
    "            name_blog = post.select_one('span.name_blog').text\n",
    "            date = post.select_one('span.date').text\n",
    "            post_link = post.select_one('a.desc_inner')['href']\n",
    "\n",
    "            title_list.append(title)\n",
    "            text_list.append(text)\n",
    "            name_author_list.append(name_author)\n",
    "            name_blog_list.append(name_blog)\n",
    "            date_list.append(date)\n",
    "            post_link_list.append(post_link)\n",
    "\n",
    "    print(len(title_list), len(text_list), len(name_author_list), len(name_blog_list), len(date_list), len(post_link_list))\n",
    "    \n",
    "elif tab_option == '블로그':\n",
    "    for page_num in range(1, 10):\n",
    "        keyword_url = f'https://section.blog.naver.com/Search/Blog.naver?pageNo={page_num}&orderBy=sim&keyword={keyword}'\n",
    "\n",
    "        driver.get(keyword_url)\n",
    "        driver.implicitly_wait(10) # 페이지 로드 될 때까지 기다리지만 로드 되는 순간 종료\n",
    "        time.sleep(random.uniform(1, 3))\n",
    "\n",
    "        page = driver.page_source\n",
    "        soup = bs(page, 'html.parser')\n",
    "        # print(soup.title.text)\n",
    "\n",
    "        area_list_search = soup.select_one('div.area_list_search')\n",
    "        list_search_post = area_list_search.select('div.list_search_post')\n",
    "\n",
    "        for post in list_search_post:\n",
    "            title = post.select_one('span.title').text\n",
    "            text = post.select_one('a.text').text\n",
    "            name_author = post.select_one('em.name_author').text\n",
    "            name_blog = post.select_one('span.name_blog').text\n",
    "            date = post.select_one('span.date').text\n",
    "            post_link = post.select_one('a.desc_inner')['href']\n",
    "\n",
    "            title_list.append(title)\n",
    "            text_list.append(text)\n",
    "            name_author_list.append(name_author)\n",
    "            name_blog_list.append(name_blog)\n",
    "            date_list.append(date)\n",
    "            post_link_list.append(post_link)\n",
    "\n",
    "    print(len(title_list), len(text_list), len(name_author_list), len(name_blog_list), len(date_list), len(post_link_list))"
   ]
  },
  {
   "cell_type": "code",
   "execution_count": 139,
   "metadata": {},
   "outputs": [],
   "source": [
    "driver.quit()"
   ]
  },
  {
   "cell_type": "markdown",
   "metadata": {},
   "source": [
    "# END"
   ]
  }
 ],
 "metadata": {
  "kernelspec": {
   "display_name": "crawling",
   "language": "python",
   "name": "python3"
  },
  "language_info": {
   "codemirror_mode": {
    "name": "ipython",
    "version": 3
   },
   "file_extension": ".py",
   "mimetype": "text/x-python",
   "name": "python",
   "nbconvert_exporter": "python",
   "pygments_lexer": "ipython3",
   "version": "3.13.0"
  }
 },
 "nbformat": 4,
 "nbformat_minor": 2
}
