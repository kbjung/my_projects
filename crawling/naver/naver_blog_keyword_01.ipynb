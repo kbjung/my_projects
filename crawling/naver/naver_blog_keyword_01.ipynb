{
 "cells": [
  {
   "cell_type": "markdown",
   "metadata": {},
   "source": [
    "# Library"
   ]
  },
  {
   "cell_type": "code",
   "execution_count": 30,
   "metadata": {},
   "outputs": [],
   "source": [
    "import requests\n",
    "from bs4 import BeautifulSoup as bs\n",
    "\n",
    "import time, os, random\n",
    "import pandas as pd\n",
    "import numpy as np\n",
    "from datetime import datetime\n",
    "\n",
    "from selenium import webdriver\n",
    "import chromedriver_autoinstaller as ca\n",
    "\n",
    "from selenium.webdriver.common.by import By\n",
    "from selenium.webdriver.common.keys import Keys\n",
    "\n",
    "from selenium.webdriver.support.ui import WebDriverWait\n",
    "from selenium.webdriver.support import expected_conditions as EC"
   ]
  },
  {
   "cell_type": "markdown",
   "metadata": {},
   "source": [
    "## chrome driver 설치"
   ]
  },
  {
   "cell_type": "code",
   "execution_count": 2,
   "metadata": {},
   "outputs": [],
   "source": [
    "# USB error 메세지 발생 해결을 위한 코드\n",
    "options = webdriver.ChromeOptions()\n",
    "options.add_experimental_option(\"excludeSwitches\", [\"enable-logging\"])"
   ]
  },
  {
   "cell_type": "code",
   "execution_count": 3,
   "metadata": {},
   "outputs": [
    {
     "data": {
      "text/plain": [
       "'131'"
      ]
     },
     "execution_count": 3,
     "metadata": {},
     "output_type": "execute_result"
    }
   ],
   "source": [
    "# 현재 크롬 버전 확인\n",
    "chrome_ver = ca.get_chrome_version().split('.')[0]\n",
    "chrome_ver"
   ]
  },
  {
   "cell_type": "code",
   "execution_count": 4,
   "metadata": {},
   "outputs": [],
   "source": [
    "# # 크롬 드라이버 확인 및 설치(처음 한번만 실행)\n",
    "# ca.install(True)"
   ]
  },
  {
   "cell_type": "markdown",
   "metadata": {},
   "source": [
    "# 페이지 접속"
   ]
  },
  {
   "cell_type": "code",
   "execution_count": null,
   "metadata": {},
   "outputs": [],
   "source": [
    "# url = 'https://section.blog.naver.com/BlogHome.naver?directoryNo=0&currentPage=1&groupId=0' # 네이버 블로그 홈"
   ]
  },
  {
   "cell_type": "markdown",
   "metadata": {},
   "source": [
    "## requests 테스트\n",
    "- 페이지 접속 가능 여부확인\n",
    "    - 가능할 경우 출력 : <Response [200]>"
   ]
  },
  {
   "cell_type": "code",
   "execution_count": 7,
   "metadata": {},
   "outputs": [
    {
     "name": "stdout",
     "output_type": "stream",
     "text": [
      "<Response [200]>\n"
     ]
    },
    {
     "data": {
      "text/plain": [
       "'네이버 블로그'"
      ]
     },
     "execution_count": 7,
     "metadata": {},
     "output_type": "execute_result"
    }
   ],
   "source": [
    "# req = requests.get(url)\n",
    "# print(req)\n",
    "\n",
    "# 한글 깨짐 해결 코드\n",
    "# # html = req.content.decode('utf-8') # 한글 깨짐 해결\n",
    "# # soup = bs(html, 'html.parser')\n",
    "\n",
    "# soup = bs(req.text, 'html.parser')\n",
    "# soup.title.text"
   ]
  },
  {
   "cell_type": "code",
   "execution_count": 4,
   "metadata": {},
   "outputs": [
    {
     "name": "stdout",
     "output_type": "stream",
     "text": [
      "<Response [200]>\n"
     ]
    },
    {
     "data": {
      "text/plain": [
       "'네이버 블로그'"
      ]
     },
     "execution_count": 4,
     "metadata": {},
     "output_type": "execute_result"
    }
   ],
   "source": [
    "# request로 수집 에러\n",
    "keyword = '아이폰 16' # 검색어\n",
    "page_num = 1 # 페이지 번호\n",
    "rangetype = 'ALL' # 검색 범위\n",
    "orderby = 'sim' # 정렬 순서\n",
    "\n",
    "keyword_url = f'https://section.blog.naver.com/Search/Post.naver?pageNo={page_num}&rangeType={rangetype}&orderBy={orderby}&keyword={keyword}'\n",
    "req = requests.get(keyword_url, headers={'User-Agent': 'Mozilla/5.0 (Windows NT 10.0; Win64; x64) AppleWebKit/537.36 (KHTML, like Gecko) Chrome/131.0.0.0 Safari/537.36'})\n",
    "print(req)\n",
    "soup = bs(req.text, 'html.parser')\n",
    "soup.title.text"
   ]
  },
  {
   "cell_type": "code",
   "execution_count": 6,
   "metadata": {},
   "outputs": [],
   "source": [
    "# area_list_search = soup.select_one('div.area_list_search')\n",
    "# list_search_post = area_list_search.select('div.list_search_post')\n",
    "# list_search_post[0]"
   ]
  },
  {
   "cell_type": "markdown",
   "metadata": {},
   "source": [
    "## keyword 입력"
   ]
  },
  {
   "cell_type": "code",
   "execution_count": 9,
   "metadata": {},
   "outputs": [],
   "source": [
    "keyword = '아이폰 16' # 검색어"
   ]
  },
  {
   "cell_type": "markdown",
   "metadata": {},
   "source": [
    "## 탭 선택(글, 블로그)"
   ]
  },
  {
   "cell_type": "code",
   "execution_count": 10,
   "metadata": {},
   "outputs": [],
   "source": [
    "tab_option = '글' # 포스트, 블로그 선택\n",
    "page_num = 1 # 페이지 번호\n",
    "rangetype = 'ALL' # 검색 범위\n",
    "orderby = 'sim' # 정렬 순서\n",
    "\n",
    "if tab_option == '글':\n",
    "    keyword_url = f'https://section.blog.naver.com/Search/Post.naver?pageNo={page_num}&rangeType={rangetype}&orderBy={orderby}&keyword={keyword}'\n",
    "elif tab_option == '블로그':\n",
    "    keyword_url = f'https://section.blog.naver.com/Search/Blog.naver?pageNo={page_num}&orderBy={orderby}&keyword={keyword}'"
   ]
  },
  {
   "cell_type": "markdown",
   "metadata": {},
   "source": [
    "## selenium 작동"
   ]
  },
  {
   "cell_type": "code",
   "execution_count": 11,
   "metadata": {},
   "outputs": [],
   "source": [
    "# 웹드라이버 실행\n",
    "driver = webdriver.Chrome(options=options)"
   ]
  },
  {
   "cell_type": "code",
   "execution_count": 12,
   "metadata": {},
   "outputs": [],
   "source": [
    "driver.get(keyword_url)\n",
    "driver.implicitly_wait(10) # 페이지 로드 될 때까지 기다리지만 로드 되는 순간 종료\n",
    "# driver.maximize_window() # 브라우져 창 최대화"
   ]
  },
  {
   "cell_type": "code",
   "execution_count": null,
   "metadata": {},
   "outputs": [],
   "source": [
    "# keyword = '아이폰 16' # 검색어\n",
    "# keyword_input_xpath = '//*[@id=\"header\"]/div[1]/div/div[2]/form/fieldset/div/input' # 검색창 xpath\n",
    "# keyword_input_box = driver.find_element(By.XPATH, keyword_input_xpath)\n",
    "# keyword_input_box.send_keys(keyword)\n",
    "# time.sleep(random.uniform(1, 2))\n",
    "# keyword_input_box.send_keys(Keys.ENTER)\n",
    "# driver.implicitly_wait(10)"
   ]
  },
  {
   "cell_type": "markdown",
   "metadata": {},
   "source": [
    "# 정보 수집"
   ]
  },
  {
   "cell_type": "markdown",
   "metadata": {},
   "source": [
    "### 🔧 글 선택\n",
    "- 참고 링크 : https://section.blog.naver.com/Search/Post.naver?pageNo={page_num}&rangeType=ALL&orderBy=sim&keyword={keyword}\n",
    "- 참고 링크 : https://section.blog.naver.com/Search/Post.naver?pageNo=1&rangeType=WEEK&orderBy=sim&startDate=2025-01-03&endDate=2025-01-10&keyword=아이폰 16\n",
    "- 참고 링크 : https://section.blog.naver.com/Search/Post.naver?pageNo=1&rangeType=PERIOD&orderBy=sim&startDate=2025-01-01&endDate=2025-01-13&keyword=아이폰 16\n",
    "- [⭕] rangeType 옵션(기간)\n",
    "    - 기간전체 : &rangeType=ALL\n",
    "    - 최근 1주 : &rangeType=WEEK\n",
    "    - 최근 1개월 : &rangeType=MONTH\n",
    "    - 기간 입력 : &rangeType=PERIOD&startDate=YYYY-mm-dd&endDate=YYYY-mm-dd\n",
    "\n",
    "- [⭕] orderBy 옵션(관련도순, 최신순)\n",
    "    - 관련도순 : &orderBy=sim\n",
    "    - 최신순 : &orderBy=recentdate\n",
    "\n",
    "- 수집할 페이지 옵션 추가\n",
    "- 수집할 페이지가 실제 페이지 수보다 많을 경우 예외 처리"
   ]
  },
  {
   "cell_type": "code",
   "execution_count": 13,
   "metadata": {},
   "outputs": [
    {
     "name": "stdout",
     "output_type": "stream",
     "text": [
      "네이버 블로그\n"
     ]
    }
   ],
   "source": [
    "page = driver.page_source\n",
    "soup = bs(page, 'html.parser')\n",
    "print(soup.title.text)"
   ]
  },
  {
   "cell_type": "code",
   "execution_count": 14,
   "metadata": {},
   "outputs": [
    {
     "data": {
      "text/plain": [
       "<div anchor-text=\"content\" bg-move-scroll-on-pop-state=\"\" class=\"list_search_post\" ng-repeat=\"post in postSearchCtrl.resultList\">\n",
       "<div bg-article-multi-img-style=\"\" class=\"item multi_pic\">\n",
       "<div class=\"info_post\" ng-class=\"{only_post: post.thumbnails.length == 0}\">\n",
       "<div class=\"desc\">\n",
       "<a bg-nclick=\"srs*l.text\" class=\"desc_inner\" href=\"https://blog.naver.com/mlifeso/223722026004\" ng-href=\"https://blog.naver.com/mlifeso/223722026004\" target=\"_blank\">\n",
       "<strong class=\"title_post\">\n",
       "<!-- ngIf: post.titleHeadColor == '#27C400' -->\n",
       "<!-- ngIf: post.titleHeadColor == '#FF6565' -->\n",
       "<span class=\"title\" ng-bind-html=\"post.title\"><strong class=\"search_keyword\">아이폰16</strong> 성능 15와 비교 및 할인팁</span>\n",
       "</strong>\n",
       "</a><!-- ngIf: post.contents --><a bg-nclick=\"srs*l.text\" class=\"text\" href=\"https://blog.naver.com/mlifeso/223722026004\" ng-bind-html=\"post.contents\" ng-href=\"https://blog.naver.com/mlifeso/223722026004\" ng-if=\"post.contents\" target=\"_blank\"><strong class=\"search_keyword\">아이폰16</strong> 성능이 궁금하다면 이번 포스팅을 주목해 주세요. 전작 15 시리즈와 비교했을 때 성능이 얼마나 업그레이드되었는지 비교해 보는 시간을 가져볼게요. 이번 <strong class=\"search_keyword\">아이폰16</strong> 시리즈는 전기종 가격이 동결되었는데요. 여전히 비싼 가격이라는 건 변함없는 사실입니다. 최대 보조금을 받아... </a><!-- end ngIf: post.contents -->\n",
       "</div>\n",
       "<div class=\"writer_info\">\n",
       "<a bg-nclick=\"srs*l.blogger\" class=\"author\" href=\"https://blog.naver.com/mlifeso\" ng-href=\"https://blog.naver.com/mlifeso\" target=\"_blank\">\n",
       "<div class=\"thumbnail_author\">\n",
       "<img alt=\"블로거 썸네일\" bg-image=\"https://blogpfthumb-phinf.pstatic.net/MjAyNDA4MjFfMjMz/MDAxNzI0MjIwNjY0OTk3.Lz77idosY6SM2sjmmiabEUMWv84BDAQYTgs7_aGUBYkg.T_rDcYlAiScfKoj8gofJr-Kn-ffbkqSCnJpHJkdwDREg.JPEG/%25EC%25A7%2591%25EC%2588%259C%25EC%259D%25B4%25EA%25B3%25B0.JPG/%25EC%25A7%2591%25EC%2588%259C%25EC%259D%25B4%25EA%25B3%25B0.JPG?type=s1\" class=\"img_author\" height=\"25\" src=\"https://blogpfthumb-phinf.pstatic.net/MjAyNDA4MjFfMjMz/MDAxNzI0MjIwNjY0OTk3.Lz77idosY6SM2sjmmiabEUMWv84BDAQYTgs7_aGUBYkg.T_rDcYlAiScfKoj8gofJr-Kn-ffbkqSCnJpHJkdwDREg.JPEG/%25EC%25A7%2591%25EC%2588%259C%25EC%259D%25B4%25EA%25B3%25B0.JPG/%25EC%25A7%2591%25EC%2588%259C%25EC%259D%25B4%25EA%25B3%25B0.JPG?type=s1\" width=\"25\"/>\n",
       "</div>\n",
       "<em class=\"name_author\">곰순이</em>\n",
       "</a>\n",
       "<span class=\"name_blog\">곰순이</span>\n",
       "<span class=\"date\">2025. 1. 10.</span>\n",
       "<!-- ngIf: post.marketPost && post.product.productStatus == 'ON_SALE' -->\n",
       "<!-- ngIf: post.marketPost && post.product.productStatus == 'BE_SCHEDULED' -->\n",
       "<!-- ngIf: post.marketPost && post.product.productStatus == 'SALE_END' -->\n",
       "</div>\n",
       "</div>\n",
       "<div area-code=\"srs*l\" aria-selected=\"false\" class=\"thumbnail_post\" ng-hide=\"hide\" post-url=\"https://blog.naver.com/mlifeso/223722026004\" product=\"post.product\" thumbnail-key-name=\"url\" thumbnail-list=\"post.thumbnails\" thumbnail-video-name=\"videoThumbnail\" thumbnail-vr-name=\"vrthumbnail\">\n",
       "<div bg-sliding-leave=\"\" class=\"thumbnail_area\">\n",
       "<!-- ngRepeat: thumbnail in thumbnailList | limitTo : 1 --><a bg-nclickf='{\"code\":\"srs*l.image\"}' class=\"thumbnail_inner\" href=\"https://blog.naver.com/mlifeso/223722026004\" ng-click=\"afterProcess()\" ng-href=\"https://blog.naver.com/mlifeso/223722026004\" ng-repeat=\"thumbnail in thumbnailList | limitTo : 1\" target=\"_blank\">\n",
       "<img alt=\"포스트 썸네일\" bg-image=\"https://blogthumb.pstatic.net/MjAyNTAxMTBfMzIg/MDAxNzM2NTE3OTM2ODUy.Zup5Nescytku4sqJD67Hx_DNUTVYSI_VkI5reUVcc_Mg.vnZIU76SsERKQbaPwUEUeukeZc4o143bs72MtqhgfM4g.JPEG/20230224_115848.jpg?type=s2\" class=\"img_post\" height=\"167\" ng-class=\"{background_color:thumbnail['noThisDayThumbnail']}\" ng-hide=\"thumbnail['noThisDayThumbnail']\" src=\"https://blogthumb.pstatic.net/MjAyNTAxMTBfMzIg/MDAxNzM2NTE3OTM2ODUy.Zup5Nescytku4sqJD67Hx_DNUTVYSI_VkI5reUVcc_Mg.vnZIU76SsERKQbaPwUEUeukeZc4o143bs72MtqhgfM4g.JPEG/20230224_115848.jpg?type=s2\" width=\"167\"/>\n",
       "<!-- [D] 360vr이미지 일 경우 <i class=\"sp_common icon_vr\">360도 VR</i><span class=\"dimmed\"></span> 추가 / 동영상일 경우 <i class=\"sp_common icon_video_play\">동영상</i><span class=\"dimmed\"></span> 추가 -->\n",
       "<!-- ngIf: !product && thumbnail[thumbnailVrName] -->\n",
       "<!-- ngIf: !product && thumbnail[thumbnailVideoName] -->\n",
       "<!-- ngIf: product -->\n",
       "<!-- ngIf: thumbnail[thumbnailVrName] || thumbnail[thumbnailVideoName] -->\n",
       "<!-- N년전 오늘에 사용되는 마크업 -->\n",
       "<!-- ngIf: thisDayPost -->\n",
       "<!-- ngIf: thisDayPost && !thumbnail['noThisDayThumbnail'] -->\n",
       "<!-- ngIf: thisDayPost && thumbnail['noThisDayThumbnail'] -->\n",
       "</a><!-- end ngRepeat: thumbnail in thumbnailList | limitTo : 1 -->\n",
       "<a aria-selected=\"false\" bg-sliding-btn=\"\" class=\"button_more_img\" href=\"#\" ng-show=\"thumbnailList.length &gt; 1\" role=\"button\">\n",
       "<i class=\"sp_common icon_more\"><span class=\"blind\">글 섬네일 펼치기</span></i>\n",
       "</a>\n",
       "<!-- ngIf: thumbnailList.length > 1 --><div bg-sliding-area=\"\" class=\"plus_thumbnail_list\" ng-if=\"thumbnailList.length &gt; 1\" ng-style=\"{display : isViewPlusThumbnail? 'block':'none'}\" style=\"left: 0px; display: none;\">\n",
       "<a bg-nclickf='{\"code\":\"srs*l.image\"}' class=\"list_inner\" href=\"https://blog.naver.com/mlifeso/223722026004\" ng-click=\"afterProcess()\" ng-href=\"https://blog.naver.com/mlifeso/223722026004\" target=\"_blank\" title=\"포스트로 이동\">\n",
       "<!-- ngRepeat: thumbnail in thumbnailList | limitTo : 3 : 1 --><div class=\"plus_item\" ng-repeat=\"thumbnail in thumbnailList | limitTo : 3 : 1\">\n",
       "<img alt=\"글 섬네일\" bg-image=\"https://blogthumb.pstatic.net/MjAyNTAxMTBfMiAg/MDAxNzM2NTE3OTM5NDgz.x18ONGE3OvJQqT1vstP2U9Iooy0b5wlDkZLvT4gkwkgg.28ZQxOZ76ehIUcqZRrOHSwp5FFr9vV7UECK9bnwct2Ig.JPEG/20230224_115416.jpg?type=s2\" class=\"plus_img\" height=\"167\" src=\"https://blogthumb.pstatic.net/MjAyNTAxMTBfMiAg/MDAxNzM2NTE3OTM5NDgz.x18ONGE3OvJQqT1vstP2U9Iooy0b5wlDkZLvT4gkwkgg.28ZQxOZ76ehIUcqZRrOHSwp5FFr9vV7UECK9bnwct2Ig.JPEG/20230224_115416.jpg?type=s2\" width=\"167\"/>\n",
       "<!-- [D] 360vr이미지 일 경우 <i class=\"sp_common icon_vr\">360도 VR</i><span class=\"dimmed\"></span> 추가 / 동영상일 경우 <i class=\"sp_common icon_video_play\">동영상</i><span class=\"dimmed\"></span> 추가 -->\n",
       "<!-- ngIf: thumbnail[thumbnailVrName] -->\n",
       "<!-- ngIf: thumbnail[thumbnailVideoName] -->\n",
       "<!-- ngIf: thumbnail[thumbnailVrName] || thumbnail[thumbnailVideoName] -->\n",
       "</div><!-- end ngRepeat: thumbnail in thumbnailList | limitTo : 3 : 1 --><div class=\"plus_item\" ng-repeat=\"thumbnail in thumbnailList | limitTo : 3 : 1\">\n",
       "<img alt=\"글 섬네일\" bg-image=\"https://blogthumb.pstatic.net/MjAyNTAxMTBfNDAg/MDAxNzM2NTE3OTQyOTU3.E9-eQD91x6h8sXJfiUhhotDxV9xF4XZSzkFvu-NSj5Qg.-F1rT8bMVLDzPtfcb7qTtBbU06S71fzvMvt5_lZ4ghEg.JPEG/20230224_114918.jpg?type=s2\" class=\"plus_img\" height=\"167\" src=\"https://blogthumb.pstatic.net/MjAyNTAxMTBfNDAg/MDAxNzM2NTE3OTQyOTU3.E9-eQD91x6h8sXJfiUhhotDxV9xF4XZSzkFvu-NSj5Qg.-F1rT8bMVLDzPtfcb7qTtBbU06S71fzvMvt5_lZ4ghEg.JPEG/20230224_114918.jpg?type=s2\" width=\"167\"/>\n",
       "<!-- [D] 360vr이미지 일 경우 <i class=\"sp_common icon_vr\">360도 VR</i><span class=\"dimmed\"></span> 추가 / 동영상일 경우 <i class=\"sp_common icon_video_play\">동영상</i><span class=\"dimmed\"></span> 추가 -->\n",
       "<!-- ngIf: thumbnail[thumbnailVrName] -->\n",
       "<!-- ngIf: thumbnail[thumbnailVideoName] -->\n",
       "<!-- ngIf: thumbnail[thumbnailVrName] || thumbnail[thumbnailVideoName] -->\n",
       "</div><!-- end ngRepeat: thumbnail in thumbnailList | limitTo : 3 : 1 --><div class=\"plus_item\" ng-repeat=\"thumbnail in thumbnailList | limitTo : 3 : 1\">\n",
       "<img alt=\"글 섬네일\" bg-image=\"https://blogthumb.pstatic.net/MjAyNTAxMTBfMTkg/MDAxNzM2NTE3OTQ2Mjkx.BsB4AecNox4OO-12eVEeIN9WVNKrQA6WKHMT8-VCfOog.4bIj432f4sMIp7ZvxcfAdeflmeq7mVnTViutfJ_SaCAg.JPEG/20230224_114448.jpg?type=s2\" class=\"plus_img\" height=\"167\" src=\"https://blogthumb.pstatic.net/MjAyNTAxMTBfMTkg/MDAxNzM2NTE3OTQ2Mjkx.BsB4AecNox4OO-12eVEeIN9WVNKrQA6WKHMT8-VCfOog.4bIj432f4sMIp7ZvxcfAdeflmeq7mVnTViutfJ_SaCAg.JPEG/20230224_114448.jpg?type=s2\" width=\"167\"/>\n",
       "<!-- [D] 360vr이미지 일 경우 <i class=\"sp_common icon_vr\">360도 VR</i><span class=\"dimmed\"></span> 추가 / 동영상일 경우 <i class=\"sp_common icon_video_play\">동영상</i><span class=\"dimmed\"></span> 추가 -->\n",
       "<!-- ngIf: thumbnail[thumbnailVrName] -->\n",
       "<!-- ngIf: thumbnail[thumbnailVideoName] -->\n",
       "<!-- ngIf: thumbnail[thumbnailVrName] || thumbnail[thumbnailVideoName] -->\n",
       "</div><!-- end ngRepeat: thumbnail in thumbnailList | limitTo : 3 : 1 -->\n",
       "</a>\n",
       "</div><!-- end ngIf: thumbnailList.length > 1 -->\n",
       "</div>\n",
       "</div>\n",
       "</div>\n",
       "</div>"
      ]
     },
     "execution_count": 14,
     "metadata": {},
     "output_type": "execute_result"
    }
   ],
   "source": [
    "area_list_search = soup.select_one('div.area_list_search')\n",
    "list_search_post = area_list_search.select('div.list_search_post')\n",
    "list_search_post[0]"
   ]
  },
  {
   "cell_type": "code",
   "execution_count": 15,
   "metadata": {},
   "outputs": [
    {
     "data": {
      "text/plain": [
       "'아이폰16 성능 15와 비교 및 할인팁'"
      ]
     },
     "execution_count": 15,
     "metadata": {},
     "output_type": "execute_result"
    }
   ],
   "source": [
    "# 글 제목\n",
    "post_num = 0\n",
    "title = list_search_post[post_num].select_one('span.title').text\n",
    "title"
   ]
  },
  {
   "cell_type": "code",
   "execution_count": 16,
   "metadata": {},
   "outputs": [
    {
     "data": {
      "text/plain": [
       "'아이폰16 성능이 궁금하다면 이번 포스팅을 주목해 주세요. 전작 15 시리즈와 비교했을 때 성능이 얼마나 업그레이드되었는지 비교해 보는 시간을 가져볼게요. 이번 아이폰16 시리즈는 전기종 가격이 동결되었는데요. 여전히 비싼 가격이라는 건 변함없는 사실입니다. 최대 보조금을 받아... '"
      ]
     },
     "execution_count": 16,
     "metadata": {},
     "output_type": "execute_result"
    }
   ],
   "source": [
    "# 블로그 내용\n",
    "text = list_search_post[post_num].select_one('a.text').text\n",
    "text"
   ]
  },
  {
   "cell_type": "code",
   "execution_count": 17,
   "metadata": {},
   "outputs": [
    {
     "data": {
      "text/plain": [
       "'곰순이'"
      ]
     },
     "execution_count": 17,
     "metadata": {},
     "output_type": "execute_result"
    }
   ],
   "source": [
    "# 글 작성자\n",
    "name_author = list_search_post[post_num].select_one('em.name_author').text\n",
    "name_author"
   ]
  },
  {
   "cell_type": "code",
   "execution_count": 18,
   "metadata": {},
   "outputs": [
    {
     "data": {
      "text/plain": [
       "'곰순이'"
      ]
     },
     "execution_count": 18,
     "metadata": {},
     "output_type": "execute_result"
    }
   ],
   "source": [
    "# 블로그 이름\n",
    "name_blog = list_search_post[post_num].select_one('span.name_blog').text\n",
    "name_blog"
   ]
  },
  {
   "cell_type": "code",
   "execution_count": 19,
   "metadata": {},
   "outputs": [
    {
     "data": {
      "text/plain": [
       "'2025. 1. 10.'"
      ]
     },
     "execution_count": 19,
     "metadata": {},
     "output_type": "execute_result"
    }
   ],
   "source": [
    "# 글 작성 날짜\n",
    "date = list_search_post[post_num].select_one('span.date').text\n",
    "date"
   ]
  },
  {
   "cell_type": "code",
   "execution_count": 20,
   "metadata": {},
   "outputs": [
    {
     "data": {
      "text/plain": [
       "'https://blog.naver.com/mlifeso/223722026004'"
      ]
     },
     "execution_count": 20,
     "metadata": {},
     "output_type": "execute_result"
    }
   ],
   "source": [
    "# 글 링크\n",
    "desc_inner = list_search_post[post_num].select_one('a.desc_inner')['href']\n",
    "desc_inner"
   ]
  },
  {
   "cell_type": "code",
   "execution_count": 21,
   "metadata": {},
   "outputs": [
    {
     "data": {
      "text/plain": [
       "<div anchor-text=\"content\" bg-move-scroll-on-pop-state=\"\" class=\"list_search_post\" ng-repeat=\"post in postSearchCtrl.resultList\">\n",
       "<div bg-article-multi-img-style=\"\" class=\"item multi_pic\">\n",
       "<div class=\"info_post\" ng-class=\"{only_post: post.thumbnails.length == 0}\">\n",
       "<div class=\"desc\">\n",
       "<a bg-nclick=\"srs*l.text\" class=\"desc_inner\" href=\"https://blog.naver.com/cjfgns2/223720560043\" ng-href=\"https://blog.naver.com/cjfgns2/223720560043\" target=\"_blank\">\n",
       "<strong class=\"title_post\">\n",
       "<!-- ngIf: post.titleHeadColor == '#27C400' -->\n",
       "<!-- ngIf: post.titleHeadColor == '#FF6565' -->\n",
       "<span class=\"title\" ng-bind-html=\"post.title\"><strong class=\"search_keyword\">아이폰16</strong> 프로 디자인 보조금 꿀팁까지</span>\n",
       "</strong>\n",
       "</a><!-- ngIf: post.contents --><a bg-nclick=\"srs*l.text\" class=\"text\" href=\"https://blog.naver.com/cjfgns2/223720560043\" ng-bind-html=\"post.contents\" ng-href=\"https://blog.naver.com/cjfgns2/223720560043\" ng-if=\"post.contents\" target=\"_blank\">오늘은 <strong class=\"search_keyword\">아이폰16</strong> 프로 디자인과 달라진 주요 스펙을 정리해 보고, 가격 할인을 받을 수 있는 방법까지 총정리해 보는 시간을 가져볼게요. 서두는 이만하고 바로 본론으로 넘어가 자세히 알아보도록 하겠습니다. &lt;목차&gt; 1.<strong class=\"search_keyword\">아이폰16</strong> 프로 스펙 및 디자인 2.<strong class=\"search_keyword\">아이폰16</strong> 프로 컬러 및 가격 3. 할인 크게... </a><!-- end ngIf: post.contents -->\n",
       "</div>\n",
       "<div class=\"writer_info\">\n",
       "<a bg-nclick=\"srs*l.blogger\" class=\"author\" href=\"https://blog.naver.com/cjfgns2\" ng-href=\"https://blog.naver.com/cjfgns2\" target=\"_blank\">\n",
       "<div class=\"thumbnail_author\">\n",
       "<img alt=\"블로거 썸네일\" bg-image=\"https://blogpfthumb-phinf.pstatic.net/MjAyNDA4MjVfMTQ0/MDAxNzI0NTk0Mzg2OTM0.n-OBT9RYQrmfUrYZlEBogv07wn2PDbCFhzQx5IDHV0Ug.QvIB--g3yqjNHkTI2zXAaL6rwBd1sMTDqCjI2DAfEs0g.JPEG/stock-6596794_1920.jpg/stock-6596794_1920.jpg?type=s1\" class=\"img_author\" height=\"25\" src=\"https://blogpfthumb-phinf.pstatic.net/MjAyNDA4MjVfMTQ0/MDAxNzI0NTk0Mzg2OTM0.n-OBT9RYQrmfUrYZlEBogv07wn2PDbCFhzQx5IDHV0Ug.QvIB--g3yqjNHkTI2zXAaL6rwBd1sMTDqCjI2DAfEs0g.JPEG/stock-6596794_1920.jpg/stock-6596794_1920.jpg?type=s1\" width=\"25\"/>\n",
       "</div>\n",
       "<em class=\"name_author\">얌못</em>\n",
       "</a>\n",
       "<span class=\"name_blog\">경제꿈나무</span>\n",
       "<span class=\"date\">2025. 1. 9.</span>\n",
       "<!-- ngIf: post.marketPost && post.product.productStatus == 'ON_SALE' -->\n",
       "<!-- ngIf: post.marketPost && post.product.productStatus == 'BE_SCHEDULED' -->\n",
       "<!-- ngIf: post.marketPost && post.product.productStatus == 'SALE_END' -->\n",
       "</div>\n",
       "</div>\n",
       "<div area-code=\"srs*l\" aria-selected=\"false\" class=\"thumbnail_post\" ng-hide=\"hide\" post-url=\"https://blog.naver.com/cjfgns2/223720560043\" product=\"post.product\" thumbnail-key-name=\"url\" thumbnail-list=\"post.thumbnails\" thumbnail-video-name=\"videoThumbnail\" thumbnail-vr-name=\"vrthumbnail\">\n",
       "<div bg-sliding-leave=\"\" class=\"thumbnail_area\">\n",
       "<!-- ngRepeat: thumbnail in thumbnailList | limitTo : 1 --><a bg-nclickf='{\"code\":\"srs*l.image\"}' class=\"thumbnail_inner\" href=\"https://blog.naver.com/cjfgns2/223720560043\" ng-click=\"afterProcess()\" ng-href=\"https://blog.naver.com/cjfgns2/223720560043\" ng-repeat=\"thumbnail in thumbnailList | limitTo : 1\" target=\"_blank\">\n",
       "<img alt=\"포스트 썸네일\" bg-image=\"https://blogthumb.pstatic.net/MjAyNTAxMDlfMjU3/MDAxNzM2NDI0Mzk3Njgz.ZV50pfB0FBnM4DfyYRUN8Hrk9f18zqV7vC1eyu82wHAg.joPn17RQXYP2-J5wSZcjwQShTM8JoACJxat6k8_H-aAg.JPEG/20230223_105556.jpg?type=s2\" class=\"img_post\" height=\"167\" ng-class=\"{background_color:thumbnail['noThisDayThumbnail']}\" ng-hide=\"thumbnail['noThisDayThumbnail']\" src=\"https://blogthumb.pstatic.net/MjAyNTAxMDlfMjU3/MDAxNzM2NDI0Mzk3Njgz.ZV50pfB0FBnM4DfyYRUN8Hrk9f18zqV7vC1eyu82wHAg.joPn17RQXYP2-J5wSZcjwQShTM8JoACJxat6k8_H-aAg.JPEG/20230223_105556.jpg?type=s2\" width=\"167\"/>\n",
       "<!-- [D] 360vr이미지 일 경우 <i class=\"sp_common icon_vr\">360도 VR</i><span class=\"dimmed\"></span> 추가 / 동영상일 경우 <i class=\"sp_common icon_video_play\">동영상</i><span class=\"dimmed\"></span> 추가 -->\n",
       "<!-- ngIf: !product && thumbnail[thumbnailVrName] -->\n",
       "<!-- ngIf: !product && thumbnail[thumbnailVideoName] -->\n",
       "<!-- ngIf: product -->\n",
       "<!-- ngIf: thumbnail[thumbnailVrName] || thumbnail[thumbnailVideoName] -->\n",
       "<!-- N년전 오늘에 사용되는 마크업 -->\n",
       "<!-- ngIf: thisDayPost -->\n",
       "<!-- ngIf: thisDayPost && !thumbnail['noThisDayThumbnail'] -->\n",
       "<!-- ngIf: thisDayPost && thumbnail['noThisDayThumbnail'] -->\n",
       "</a><!-- end ngRepeat: thumbnail in thumbnailList | limitTo : 1 -->\n",
       "<a aria-selected=\"false\" bg-sliding-btn=\"\" class=\"button_more_img\" href=\"#\" ng-show=\"thumbnailList.length &gt; 1\" role=\"button\">\n",
       "<i class=\"sp_common icon_more\"><span class=\"blind\">글 섬네일 펼치기</span></i>\n",
       "</a>\n",
       "<!-- ngIf: thumbnailList.length > 1 --><div bg-sliding-area=\"\" class=\"plus_thumbnail_list\" ng-if=\"thumbnailList.length &gt; 1\" ng-style=\"{display : isViewPlusThumbnail? 'block':'none'}\" style=\"left: 0px; display: none;\">\n",
       "<a bg-nclickf='{\"code\":\"srs*l.image\"}' class=\"list_inner\" href=\"https://blog.naver.com/cjfgns2/223720560043\" ng-click=\"afterProcess()\" ng-href=\"https://blog.naver.com/cjfgns2/223720560043\" target=\"_blank\" title=\"포스트로 이동\">\n",
       "<!-- ngRepeat: thumbnail in thumbnailList | limitTo : 3 : 1 --><div class=\"plus_item\" ng-repeat=\"thumbnail in thumbnailList | limitTo : 3 : 1\">\n",
       "<img alt=\"글 섬네일\" bg-image=\"https://blogthumb.pstatic.net/MjAyNTAxMDlfMjIz/MDAxNzM2NDI0Mzk4MDAx.BqkzIW7RS8Cndull4TtzKx9koZsjVLOqMYo7zS4pazMg.2gZbrz3Bh5Bj4Ju0R1addyG3S4drV2Y166qBO6WAwqAg.JPEG/20230223_105949.jpg?type=s2\" class=\"plus_img\" height=\"167\" src=\"https://blogthumb.pstatic.net/MjAyNTAxMDlfMjIz/MDAxNzM2NDI0Mzk4MDAx.BqkzIW7RS8Cndull4TtzKx9koZsjVLOqMYo7zS4pazMg.2gZbrz3Bh5Bj4Ju0R1addyG3S4drV2Y166qBO6WAwqAg.JPEG/20230223_105949.jpg?type=s2\" width=\"167\"/>\n",
       "<!-- [D] 360vr이미지 일 경우 <i class=\"sp_common icon_vr\">360도 VR</i><span class=\"dimmed\"></span> 추가 / 동영상일 경우 <i class=\"sp_common icon_video_play\">동영상</i><span class=\"dimmed\"></span> 추가 -->\n",
       "<!-- ngIf: thumbnail[thumbnailVrName] -->\n",
       "<!-- ngIf: thumbnail[thumbnailVideoName] -->\n",
       "<!-- ngIf: thumbnail[thumbnailVrName] || thumbnail[thumbnailVideoName] -->\n",
       "</div><!-- end ngRepeat: thumbnail in thumbnailList | limitTo : 3 : 1 --><div class=\"plus_item\" ng-repeat=\"thumbnail in thumbnailList | limitTo : 3 : 1\">\n",
       "<img alt=\"글 섬네일\" bg-image=\"https://blogthumb.pstatic.net/MjAyNTAxMDlfODgg/MDAxNzM2NDI0NDAxOTYz.k_HSpMNnazI2UFSrPdHXDbndc41MNuA4ZcIG3sXHR_gg.CT2HWVdPPMcC7oWXHgU4C6jpmnw9WBYUeG65vg0aAUAg.JPEG/20230216_104518.jpg?type=s2\" class=\"plus_img\" height=\"167\" src=\"https://blogthumb.pstatic.net/MjAyNTAxMDlfODgg/MDAxNzM2NDI0NDAxOTYz.k_HSpMNnazI2UFSrPdHXDbndc41MNuA4ZcIG3sXHR_gg.CT2HWVdPPMcC7oWXHgU4C6jpmnw9WBYUeG65vg0aAUAg.JPEG/20230216_104518.jpg?type=s2\" width=\"167\"/>\n",
       "<!-- [D] 360vr이미지 일 경우 <i class=\"sp_common icon_vr\">360도 VR</i><span class=\"dimmed\"></span> 추가 / 동영상일 경우 <i class=\"sp_common icon_video_play\">동영상</i><span class=\"dimmed\"></span> 추가 -->\n",
       "<!-- ngIf: thumbnail[thumbnailVrName] -->\n",
       "<!-- ngIf: thumbnail[thumbnailVideoName] -->\n",
       "<!-- ngIf: thumbnail[thumbnailVrName] || thumbnail[thumbnailVideoName] -->\n",
       "</div><!-- end ngRepeat: thumbnail in thumbnailList | limitTo : 3 : 1 --><div class=\"plus_item\" ng-repeat=\"thumbnail in thumbnailList | limitTo : 3 : 1\">\n",
       "<img alt=\"글 섬네일\" bg-image=\"https://blogthumb.pstatic.net/MjAyNTAxMDlfNzcg/MDAxNzM2NDI0Mzk2ODI1.buhrU-3XgTijrI7Bg-oOtwn9QE8vl4E924N-aqwR8_kg.2IIhY3gqVJGKy3A5E1rMwbXUKEHDqs0yqU-ydBvErjMg.JPEG/20230216_103941.jpg?type=s2\" class=\"plus_img\" height=\"167\" src=\"https://blogthumb.pstatic.net/MjAyNTAxMDlfNzcg/MDAxNzM2NDI0Mzk2ODI1.buhrU-3XgTijrI7Bg-oOtwn9QE8vl4E924N-aqwR8_kg.2IIhY3gqVJGKy3A5E1rMwbXUKEHDqs0yqU-ydBvErjMg.JPEG/20230216_103941.jpg?type=s2\" width=\"167\"/>\n",
       "<!-- [D] 360vr이미지 일 경우 <i class=\"sp_common icon_vr\">360도 VR</i><span class=\"dimmed\"></span> 추가 / 동영상일 경우 <i class=\"sp_common icon_video_play\">동영상</i><span class=\"dimmed\"></span> 추가 -->\n",
       "<!-- ngIf: thumbnail[thumbnailVrName] -->\n",
       "<!-- ngIf: thumbnail[thumbnailVideoName] -->\n",
       "<!-- ngIf: thumbnail[thumbnailVrName] || thumbnail[thumbnailVideoName] -->\n",
       "</div><!-- end ngRepeat: thumbnail in thumbnailList | limitTo : 3 : 1 -->\n",
       "</a>\n",
       "</div><!-- end ngIf: thumbnailList.length > 1 -->\n",
       "</div>\n",
       "</div>\n",
       "</div>\n",
       "</div>"
      ]
     },
     "execution_count": 21,
     "metadata": {},
     "output_type": "execute_result"
    }
   ],
   "source": [
    "list_search_post[1]"
   ]
  },
  {
   "cell_type": "code",
   "execution_count": 22,
   "metadata": {},
   "outputs": [
    {
     "data": {
      "text/plain": [
       "'아이폰16 프로 디자인 보조금 꿀팁까지'"
      ]
     },
     "execution_count": 22,
     "metadata": {},
     "output_type": "execute_result"
    }
   ],
   "source": [
    "# 글 제목\n",
    "post_num = 1\n",
    "title = list_search_post[post_num].select_one('span.title').text\n",
    "title"
   ]
  },
  {
   "cell_type": "code",
   "execution_count": 23,
   "metadata": {},
   "outputs": [
    {
     "data": {
      "text/plain": [
       "'오늘은 아이폰16 프로 디자인과 달라진 주요 스펙을 정리해 보고, 가격 할인을 받을 수 있는 방법까지 총정리해 보는 시간을 가져볼게요. 서두는 이만하고 바로 본론으로 넘어가 자세히 알아보도록 하겠습니다. <목차> 1.아이폰16 프로 스펙 및 디자인 2.아이폰16 프로 컬러 및 가격 3. 할인 크게... '"
      ]
     },
     "execution_count": 23,
     "metadata": {},
     "output_type": "execute_result"
    }
   ],
   "source": [
    "# 블로그 내용\n",
    "text = list_search_post[post_num].select_one('a.text').text\n",
    "text"
   ]
  },
  {
   "cell_type": "code",
   "execution_count": 24,
   "metadata": {},
   "outputs": [
    {
     "data": {
      "text/plain": [
       "'얌못'"
      ]
     },
     "execution_count": 24,
     "metadata": {},
     "output_type": "execute_result"
    }
   ],
   "source": [
    "# 글 작성자\n",
    "name_author = list_search_post[post_num].select_one('em.name_author').text\n",
    "name_author"
   ]
  },
  {
   "cell_type": "code",
   "execution_count": 25,
   "metadata": {},
   "outputs": [
    {
     "data": {
      "text/plain": [
       "'경제꿈나무'"
      ]
     },
     "execution_count": 25,
     "metadata": {},
     "output_type": "execute_result"
    }
   ],
   "source": [
    "# 블로그 이름\n",
    "name_blog = list_search_post[post_num].select_one('span.name_blog').text\n",
    "name_blog"
   ]
  },
  {
   "cell_type": "code",
   "execution_count": 26,
   "metadata": {},
   "outputs": [
    {
     "data": {
      "text/plain": [
       "'2025. 1. 9.'"
      ]
     },
     "execution_count": 26,
     "metadata": {},
     "output_type": "execute_result"
    }
   ],
   "source": [
    "# 글 작성 날짜\n",
    "date = list_search_post[post_num].select_one('span.date').text\n",
    "date"
   ]
  },
  {
   "cell_type": "code",
   "execution_count": 27,
   "metadata": {},
   "outputs": [
    {
     "data": {
      "text/plain": [
       "'https://blog.naver.com/cjfgns2/223720560043'"
      ]
     },
     "execution_count": 27,
     "metadata": {},
     "output_type": "execute_result"
    }
   ],
   "source": [
    "# 글 링크\n",
    "text_link = list_search_post[post_num].select_one('a.desc_inner')['href']\n",
    "text_link"
   ]
  },
  {
   "cell_type": "code",
   "execution_count": 28,
   "metadata": {},
   "outputs": [
    {
     "name": "stdout",
     "output_type": "stream",
     "text": [
      "7 7 7 7 7 7\n"
     ]
    }
   ],
   "source": [
    "area_list_search = soup.select_one('div.area_list_search')\n",
    "list_search_post = area_list_search.select('div.list_search_post')\n",
    "\n",
    "title_list = []\n",
    "text_list = []\n",
    "name_author_list = []\n",
    "name_blog_list = []\n",
    "date_list = []\n",
    "text_link_list = []\n",
    "\n",
    "for post in list_search_post:\n",
    "    title = post.select_one('span.title').text\n",
    "    text = post.select_one('a.text').text\n",
    "    name_author = post.select_one('em.name_author').text\n",
    "    name_blog = post.select_one('span.name_blog').text\n",
    "    date = post.select_one('span.date').text\n",
    "    text_link = post.select_one('a.desc_inner')['href']\n",
    "    # print(title, text, name_author, name_blog, text_link)\n",
    "\n",
    "    title_list.append(title)\n",
    "    text_list.append(text)\n",
    "    name_author_list.append(name_author)\n",
    "    name_blog_list.append(name_blog)\n",
    "    date_list.append(date)\n",
    "    text_link_list.append(text_link)\n",
    "print(len(title_list), len(text_list), len(name_author_list), len(name_blog_list), len(date_list), len(text_link_list))"
   ]
  },
  {
   "cell_type": "code",
   "execution_count": 58,
   "metadata": {},
   "outputs": [],
   "source": [
    "driver.quit()"
   ]
  },
  {
   "cell_type": "code",
   "execution_count": 36,
   "metadata": {},
   "outputs": [],
   "source": [
    "# 웹드라이버 실행\n",
    "driver = webdriver.Chrome(options=options)"
   ]
  },
  {
   "cell_type": "code",
   "execution_count": 34,
   "metadata": {},
   "outputs": [
    {
     "name": "stdout",
     "output_type": "stream",
     "text": [
      "3 5\n"
     ]
    }
   ],
   "source": [
    "start = 5\n",
    "end = 3\n",
    "start, end = end, start\n",
    "print(start, end)"
   ]
  },
  {
   "cell_type": "code",
   "execution_count": 37,
   "metadata": {},
   "outputs": [
    {
     "name": "stdout",
     "output_type": "stream",
     "text": [
      "63 63 63 63 63 63\n"
     ]
    }
   ],
   "source": [
    "keyword = '아이폰 16' # 검색어\n",
    "tab_option = '글' # 포스트, 블로그 선택\n",
    "rangetype = 'PERIOD' # 검색 범위(ALL, WEEK, MONTH, PERIOD)\n",
    "orderby = 'sim' # 정렬 순서(sim, recentdate)\n",
    "\n",
    "# rangetype이 PERIOD인 경우 시작일과 종료일 설정 \n",
    "startdate = '2025-01-01' # 형식: YYYY-mm-dd(예. 2025-01-01)\n",
    "enddate = '2025-01-10' # 형식: YYYY-mm-dd(예. 2025-01-01)\n",
    "current_date = datetime.today().strftime('%Y-%m-%d')\n",
    "if startdate > enddate:\n",
    "    startdate, enddate = enddate, startdate # 시작일이 종료일보다 크면 종료일로 변경\n",
    "if startdate > current_date:\n",
    "    startdate, enddate = current_date, current_date # 시작일이 현재 날짜보다 크면 현재 날짜로 변경\n",
    "if enddate > current_date:\n",
    "    enddate = current_date # 종료일이 현재 날짜보다 크면 현재 날짜로 변경\n",
    "\n",
    "title_list = []\n",
    "text_list = []\n",
    "name_author_list = []\n",
    "name_blog_list = []\n",
    "date_list = []\n",
    "post_link_list = []\n",
    "\n",
    "for page_num in range(1, 10):\n",
    "    if tab_option == '글':\n",
    "        if rangetype == 'PERIOD':\n",
    "            keyword_url = f'https://section.blog.naver.com/Search/Post.naver?pageNo={page_num}&rangeType={rangetype}&orderBy={orderby}&&startDate={startdate}&endDate={enddate}&keyword={keyword}'\n",
    "        else:\n",
    "            keyword_url = f'https://section.blog.naver.com/Search/Post.naver?pageNo={page_num}&rangeType={rangetype}&orderBy={orderby}&keyword={keyword}'\n",
    "    elif tab_option == '블로그':\n",
    "        keyword_url = f'https://section.blog.naver.com/Search/Blog.naver?pageNo={page_num}&orderBy={orderby}&keyword={keyword}'\n",
    "\n",
    "\n",
    "    driver.get(keyword_url)\n",
    "    driver.implicitly_wait(10) # 페이지 로드 될 때까지 기다리지만 로드 되는 순간 종료\n",
    "    time.sleep(random.uniform(1, 3))\n",
    "\n",
    "    page = driver.page_source\n",
    "    soup = bs(page, 'html.parser')\n",
    "    # print(soup.title.text)\n",
    "    \n",
    "    area_list_search = soup.select_one('div.area_list_search')\n",
    "    list_search_post = area_list_search.select('div.list_search_post')\n",
    "\n",
    "    for post in list_search_post:\n",
    "        title = post.select_one('span.title').text\n",
    "        text = post.select_one('a.text').text\n",
    "        name_author = post.select_one('em.name_author').text\n",
    "        name_blog = post.select_one('span.name_blog').text\n",
    "        date = post.select_one('span.date').text\n",
    "        post_link = post.select_one('a.desc_inner')['href']\n",
    "\n",
    "        title_list.append(title)\n",
    "        text_list.append(text)\n",
    "        name_author_list.append(name_author)\n",
    "        name_blog_list.append(name_blog)\n",
    "        date_list.append(date)\n",
    "        post_link_list.append(post_link)\n",
    "\n",
    "print(len(title_list), len(text_list), len(name_author_list), len(name_blog_list), len(date_list), len(post_link_list))"
   ]
  },
  {
   "cell_type": "code",
   "execution_count": 38,
   "metadata": {},
   "outputs": [
    {
     "data": {
      "text/html": [
       "<div>\n",
       "<style scoped>\n",
       "    .dataframe tbody tr th:only-of-type {\n",
       "        vertical-align: middle;\n",
       "    }\n",
       "\n",
       "    .dataframe tbody tr th {\n",
       "        vertical-align: top;\n",
       "    }\n",
       "\n",
       "    .dataframe thead th {\n",
       "        text-align: right;\n",
       "    }\n",
       "</style>\n",
       "<table border=\"1\" class=\"dataframe\">\n",
       "  <thead>\n",
       "    <tr style=\"text-align: right;\">\n",
       "      <th></th>\n",
       "      <th>title</th>\n",
       "      <th>text</th>\n",
       "      <th>name_author</th>\n",
       "      <th>name_blog</th>\n",
       "      <th>date</th>\n",
       "      <th>post_link</th>\n",
       "    </tr>\n",
       "  </thead>\n",
       "  <tbody>\n",
       "    <tr>\n",
       "      <th>0</th>\n",
       "      <td>아이폰16 성능 15와 비교 및 할인팁</td>\n",
       "      <td>아이폰16 성능이 궁금하다면 이번 포스팅을 주목해 주세요. 전작 15 시리즈와 비교...</td>\n",
       "      <td>곰순이</td>\n",
       "      <td>곰순이</td>\n",
       "      <td>2025. 1. 10.</td>\n",
       "      <td>https://blog.naver.com/mlifeso/223722026004</td>\n",
       "    </tr>\n",
       "    <tr>\n",
       "      <th>1</th>\n",
       "      <td>아이폰16 프로 디자인 보조금 꿀팁까지</td>\n",
       "      <td>오늘은 아이폰16 프로 디자인과 달라진 주요 스펙을 정리해 보고, 가격 할인을 받을...</td>\n",
       "      <td>얌못</td>\n",
       "      <td>경제꿈나무</td>\n",
       "      <td>2025. 1. 9.</td>\n",
       "      <td>https://blog.naver.com/cjfgns2/223720560043</td>\n",
       "    </tr>\n",
       "    <tr>\n",
       "      <th>2</th>\n",
       "      <td>아이폰 16프로 내추럴 티타늄 언박싱 구매후기</td>\n",
       "      <td>아이폰 16프로 내추럴 티타늄 언박싱 구매후기 남편돈 남편산 구매후기입니다 저는 아...</td>\n",
       "      <td>grace</td>\n",
       "      <td>GRACE's lov diary</td>\n",
       "      <td>2025. 1. 7.</td>\n",
       "      <td>https://blog.naver.com/dmsp3535/223717372581</td>\n",
       "    </tr>\n",
       "    <tr>\n",
       "      <th>3</th>\n",
       "      <td>아이폰16프로 256 가격 성지 할인</td>\n",
       "      <td>최신 스마트폰 중에서도 아이폰16 프로는 강력한 성능과 세련된 디자인으로 많은 이들...</td>\n",
       "      <td>테크매니아</td>\n",
       "      <td>테크톡톡</td>\n",
       "      <td>2025. 1. 3.</td>\n",
       "      <td>https://blog.naver.com/sexyleep/223712531240</td>\n",
       "    </tr>\n",
       "    <tr>\n",
       "      <th>4</th>\n",
       "      <td>SK 아이폰 16 프로 가격, 이렇게 싸게 살 수 있다고?</td>\n",
       "      <td>안녕하세요~ 오늘은 많은 분들이 기다리고 계신 최신 스마트폰, SK 아이폰 16 프...</td>\n",
       "      <td>marktup</td>\n",
       "      <td>marktup</td>\n",
       "      <td>2025. 1. 3.</td>\n",
       "      <td>https://blog.naver.com/marktup/223713528440</td>\n",
       "    </tr>\n",
       "    <tr>\n",
       "      <th>...</th>\n",
       "      <td>...</td>\n",
       "      <td>...</td>\n",
       "      <td>...</td>\n",
       "      <td>...</td>\n",
       "      <td>...</td>\n",
       "      <td>...</td>\n",
       "    </tr>\n",
       "    <tr>\n",
       "      <th>58</th>\n",
       "      <td>아이폰16 성지 출고가보다 싸게 구매하기</td>\n",
       "      <td>오늘은 아이폰 16의 스펙과 출고가, 그리고 아이폰16 성지를 활용해 저렴하게 구매...</td>\n",
       "      <td>DevelopPharmacy</td>\n",
       "      <td>DevelopPharmacy</td>\n",
       "      <td>2025. 1. 7.</td>\n",
       "      <td>https://blog.naver.com/pangyolee/223717746406</td>\n",
       "    </tr>\n",
       "    <tr>\n",
       "      <th>59</th>\n",
       "      <td>아이폰16 프로 256 가격 전작 15프로 차이</td>\n",
       "      <td>애플의 아이폰16 시리즈는 최근 몇 년간 출시된 모델 중 가장 적은 인기를 얻었다는...</td>\n",
       "      <td>해모수</td>\n",
       "      <td>넓은 세상으로,,,,</td>\n",
       "      <td>2025. 1. 4.</td>\n",
       "      <td>https://blog.naver.com/owen1108/223713961050</td>\n",
       "    </tr>\n",
       "    <tr>\n",
       "      <th>60</th>\n",
       "      <td>아이폰16 구매 제일 저렴하게</td>\n",
       "      <td>아이폰16 구매를 앞두고 있다면 이번 포스팅을 참고해 주세요. 아이폰16의 달라진 ...</td>\n",
       "      <td>곰순이</td>\n",
       "      <td>곰순이</td>\n",
       "      <td>2025. 1. 8.</td>\n",
       "      <td>https://blog.naver.com/mlifeso/223718201181</td>\n",
       "    </tr>\n",
       "    <tr>\n",
       "      <th>61</th>\n",
       "      <td>아이폰16 블루 컬러와 성지 활용 실속 구매 가이드</td>\n",
       "      <td>아이폰16 블루는 전작인 아이폰 15 블루보다 더 진한 색감과 세련된 디자인으로 많...</td>\n",
       "      <td>DevelopPharmacy</td>\n",
       "      <td>DevelopPharmacy</td>\n",
       "      <td>2025. 1. 4.</td>\n",
       "      <td>https://blog.naver.com/pangyolee/223714772074</td>\n",
       "    </tr>\n",
       "    <tr>\n",
       "      <th>62</th>\n",
       "      <td>아이폰16 프로 스펙</td>\n",
       "      <td>아이폰16 프로 스펙 2. 아이폰 16 프로 가격 정보 3. 아이폰 16 프로 할인...</td>\n",
       "      <td>DevelopPharmacy</td>\n",
       "      <td>DevelopPharmacy</td>\n",
       "      <td>2025. 1. 5.</td>\n",
       "      <td>https://blog.naver.com/pangyolee/223715710529</td>\n",
       "    </tr>\n",
       "  </tbody>\n",
       "</table>\n",
       "<p>63 rows × 6 columns</p>\n",
       "</div>"
      ],
      "text/plain": [
       "                               title  \\\n",
       "0              아이폰16 성능 15와 비교 및 할인팁   \n",
       "1              아이폰16 프로 디자인 보조금 꿀팁까지   \n",
       "2          아이폰 16프로 내추럴 티타늄 언박싱 구매후기   \n",
       "3               아이폰16프로 256 가격 성지 할인   \n",
       "4   SK 아이폰 16 프로 가격, 이렇게 싸게 살 수 있다고?   \n",
       "..                               ...   \n",
       "58            아이폰16 성지 출고가보다 싸게 구매하기   \n",
       "59        아이폰16 프로 256 가격 전작 15프로 차이   \n",
       "60                  아이폰16 구매 제일 저렴하게   \n",
       "61      아이폰16 블루 컬러와 성지 활용 실속 구매 가이드   \n",
       "62                       아이폰16 프로 스펙   \n",
       "\n",
       "                                                 text      name_author  \\\n",
       "0   아이폰16 성능이 궁금하다면 이번 포스팅을 주목해 주세요. 전작 15 시리즈와 비교...              곰순이   \n",
       "1   오늘은 아이폰16 프로 디자인과 달라진 주요 스펙을 정리해 보고, 가격 할인을 받을...               얌못   \n",
       "2   아이폰 16프로 내추럴 티타늄 언박싱 구매후기 남편돈 남편산 구매후기입니다 저는 아...            grace   \n",
       "3   최신 스마트폰 중에서도 아이폰16 프로는 강력한 성능과 세련된 디자인으로 많은 이들...            테크매니아   \n",
       "4   안녕하세요~ 오늘은 많은 분들이 기다리고 계신 최신 스마트폰, SK 아이폰 16 프...          marktup   \n",
       "..                                                ...              ...   \n",
       "58  오늘은 아이폰 16의 스펙과 출고가, 그리고 아이폰16 성지를 활용해 저렴하게 구매...  DevelopPharmacy   \n",
       "59  애플의 아이폰16 시리즈는 최근 몇 년간 출시된 모델 중 가장 적은 인기를 얻었다는...              해모수   \n",
       "60  아이폰16 구매를 앞두고 있다면 이번 포스팅을 참고해 주세요. 아이폰16의 달라진 ...              곰순이   \n",
       "61  아이폰16 블루는 전작인 아이폰 15 블루보다 더 진한 색감과 세련된 디자인으로 많...  DevelopPharmacy   \n",
       "62  아이폰16 프로 스펙 2. 아이폰 16 프로 가격 정보 3. 아이폰 16 프로 할인...  DevelopPharmacy   \n",
       "\n",
       "            name_blog          date  \\\n",
       "0                 곰순이  2025. 1. 10.   \n",
       "1               경제꿈나무   2025. 1. 9.   \n",
       "2   GRACE's lov diary   2025. 1. 7.   \n",
       "3                테크톡톡   2025. 1. 3.   \n",
       "4             marktup   2025. 1. 3.   \n",
       "..                ...           ...   \n",
       "58    DevelopPharmacy   2025. 1. 7.   \n",
       "59        넓은 세상으로,,,,   2025. 1. 4.   \n",
       "60                곰순이   2025. 1. 8.   \n",
       "61    DevelopPharmacy   2025. 1. 4.   \n",
       "62    DevelopPharmacy   2025. 1. 5.   \n",
       "\n",
       "                                        post_link  \n",
       "0     https://blog.naver.com/mlifeso/223722026004  \n",
       "1     https://blog.naver.com/cjfgns2/223720560043  \n",
       "2    https://blog.naver.com/dmsp3535/223717372581  \n",
       "3    https://blog.naver.com/sexyleep/223712531240  \n",
       "4     https://blog.naver.com/marktup/223713528440  \n",
       "..                                            ...  \n",
       "58  https://blog.naver.com/pangyolee/223717746406  \n",
       "59   https://blog.naver.com/owen1108/223713961050  \n",
       "60    https://blog.naver.com/mlifeso/223718201181  \n",
       "61  https://blog.naver.com/pangyolee/223714772074  \n",
       "62  https://blog.naver.com/pangyolee/223715710529  \n",
       "\n",
       "[63 rows x 6 columns]"
      ]
     },
     "execution_count": 38,
     "metadata": {},
     "output_type": "execute_result"
    }
   ],
   "source": [
    "post_dict = {\n",
    "    'title': title_list,\n",
    "    'text': text_list,\n",
    "    'name_author': name_author_list,\n",
    "    'name_blog': name_blog_list,\n",
    "    'date': date_list,\n",
    "    'post_link': post_link_list\n",
    "}\n",
    "post_df = pd.DataFrame(post_dict)\n",
    "post_df"
   ]
  },
  {
   "cell_type": "code",
   "execution_count": 39,
   "metadata": {},
   "outputs": [
    {
     "data": {
      "text/plain": [
       "(63, 6)"
      ]
     },
     "execution_count": 39,
     "metadata": {},
     "output_type": "execute_result"
    }
   ],
   "source": [
    "new = post_df.drop_duplicates()\n",
    "new.shape"
   ]
  },
  {
   "cell_type": "code",
   "execution_count": 56,
   "metadata": {},
   "outputs": [
    {
     "data": {
      "text/plain": [
       "'20250113'"
      ]
     },
     "execution_count": 56,
     "metadata": {},
     "output_type": "execute_result"
    }
   ],
   "source": [
    "# 현재 날짜\n",
    "current_date = datetime.today().strftime('%Y%m%d')\n",
    "current_date"
   ]
  },
  {
   "cell_type": "code",
   "execution_count": 57,
   "metadata": {},
   "outputs": [
    {
     "data": {
      "text/plain": [
       "'c:/Users/kbjoo/Documents/Google_Drive/GitHub/my_projects/crawling/naver'"
      ]
     },
     "execution_count": 57,
     "metadata": {},
     "output_type": "execute_result"
    }
   ],
   "source": [
    "# 현재 경로 확인\n",
    "code_path = os.getcwd().replace('\\\\', '/')\n",
    "code_path"
   ]
  },
  {
   "cell_type": "code",
   "execution_count": null,
   "metadata": {},
   "outputs": [],
   "source": [
    "# 수집한 파일 저장할 폴더 생성\n",
    "crawled_folder_path = os.path.join(code_path, 'crawled_data', 'naver_blog', current_date)\n",
    "os.makedirs(crawled_folder_path, exist_ok=True)"
   ]
  },
  {
   "cell_type": "code",
   "execution_count": 70,
   "metadata": {},
   "outputs": [
    {
     "data": {
      "text/plain": [
       "'20250113_AM_113519'"
      ]
     },
     "execution_count": 70,
     "metadata": {},
     "output_type": "execute_result"
    }
   ],
   "source": [
    "current_datetime = datetime.today().strftime('%Y%m%d_%p_%I%M%S')\n",
    "current_datetime"
   ]
  },
  {
   "cell_type": "code",
   "execution_count": null,
   "metadata": {},
   "outputs": [],
   "source": [
    "# 저장할 파일 경로\n",
    "file_path = os.path.join(crawled_folder_path, f'naver_blog_{current_datetime}.xlsx')\n",
    "file_path"
   ]
  },
  {
   "cell_type": "code",
   "execution_count": null,
   "metadata": {},
   "outputs": [],
   "source": []
  },
  {
   "cell_type": "markdown",
   "metadata": {},
   "source": [
    "## 🔧 블로그 선택\n",
    "- 참고 링크 : https://section.blog.naver.com/Search/Blog.naver?pageNo=1&orderBy=sim&keyword=아이폰 16\n",
    "- 참고 링크 : https://section.blog.naver.com/Search/Blog.naver?pageNo=1&orderBy=recentdate&keyword=아이폰 16\n",
    "- [⭕] orderBy 옵션\n",
    "    - 관련도순 : &orderBy=sim\n",
    "    - 최신순 : &orderBy=recentdate\n",
    "\n",
    "- 수집할 페이지 옵션 추가\n",
    "- 수집할 페이지가 실제 페이지 수보다 많을 경우 예외 처리"
   ]
  },
  {
   "cell_type": "code",
   "execution_count": 40,
   "metadata": {},
   "outputs": [],
   "source": [
    "keyword = '아이폰 16' # 검색어\n",
    "tab_option = '블로그' # 포스트, 블로그 선택\n",
    "# rangetype = 'PERIOD' # 검색 범위(ALL, WEEK, MONTH, PERIOD)\n",
    "orderby = 'sim' # 정렬 순서(sim, recentdate)\n",
    "\n",
    "# # rangetype이 PERIOD인 경우 시작일과 종료일 설정 \n",
    "# startdate = '2025-01-01' # 형식: YYYY-mm-dd(예. 2025-01-01)\n",
    "# enddate = '2025-01-10' # 형식: YYYY-mm-dd(예. 2025-01-01)\n",
    "# current_date = datetime.today().strftime('%Y-%m-%d')\n",
    "# if startdate > enddate:\n",
    "#     startdate, enddate = enddate, startdate # 시작일이 종료일보다 크면 종료일로 변경\n",
    "# if startdate > current_date:\n",
    "#     startdate, enddate = current_date, current_date # 시작일이 현재 날짜보다 크면 현재 날짜로 변경\n",
    "# if enddate > current_date:\n",
    "#     enddate = current_date # 종료일이 현재 날짜보다 크면 현재 날짜로 변경\n",
    "\n",
    "if tab_option == '글':\n",
    "    if rangetype == 'PERIOD':\n",
    "        keyword_url = f'https://section.blog.naver.com/Search/Post.naver?pageNo={page_num}&rangeType={rangetype}&orderBy={orderby}&&startDate={startdate}&endDate={enddate}&keyword={keyword}'\n",
    "    else:\n",
    "        keyword_url = f'https://section.blog.naver.com/Search/Post.naver?pageNo={page_num}&rangeType={rangetype}&orderBy={orderby}&keyword={keyword}'\n",
    "elif tab_option == '블로그':\n",
    "    keyword_url = f'https://section.blog.naver.com/Search/Blog.naver?pageNo={page_num}&orderBy={orderby}&keyword={keyword}'"
   ]
  },
  {
   "cell_type": "code",
   "execution_count": 41,
   "metadata": {},
   "outputs": [
    {
     "data": {
      "text/plain": [
       "'https://section.blog.naver.com/Search/Blog.naver?pageNo=9&orderBy=sim&keyword=아이폰 16'"
      ]
     },
     "execution_count": 41,
     "metadata": {},
     "output_type": "execute_result"
    }
   ],
   "source": [
    "keyword_url"
   ]
  },
  {
   "cell_type": "code",
   "execution_count": 42,
   "metadata": {},
   "outputs": [],
   "source": [
    "driver.get(keyword_url)\n",
    "driver.implicitly_wait(10) # 페이지 로드 될 때까지 기다리지만 로드 되는 순간 종료\n",
    "# driver.maximize_window() # 브라우져 창 최대화"
   ]
  },
  {
   "cell_type": "code",
   "execution_count": 43,
   "metadata": {},
   "outputs": [
    {
     "name": "stdout",
     "output_type": "stream",
     "text": [
      "네이버 블로그\n"
     ]
    }
   ],
   "source": [
    "page = driver.page_source\n",
    "soup = bs(page, 'html.parser')\n",
    "print(soup.title.text)"
   ]
  },
  {
   "cell_type": "code",
   "execution_count": 44,
   "metadata": {},
   "outputs": [
    {
     "data": {
      "text/plain": [
       "<div anchor-text=\"content\" bg-move-scroll-on-pop-state=\"\" class=\"list_search_blog\" ng-repeat=\"blog in blogSearchCtrl.resultList\">\n",
       "<div class=\"item\">\n",
       "<a bg-nclick=\"srb*l.blogger\" class=\"name_blog\" href=\"https://blog.naver.com/gim_melting\" ng-href=\"https://blog.naver.com/gim_melting\" target=\"_blank\">\n",
       "<em class=\"text_blog\" ng-bind-html=\"blog.blogName\">강원도 토박이의 말랑한 국내여행</em>\n",
       "</a>\n",
       "<p class=\"blog_intro\" ng-bind-html=\"blog.blogDesc\">강원도 춘천 30년 토박이 - 야놀자 노른자클럽 2기 - <strong class=\"search_keyword\">아이폰 16</strong>pro 사용 중 협업문의gim_melting@naver.com</p>\n",
       "<div class=\"writer_info\">\n",
       "<a bg-nclick=\"srb*l.blogger\" class=\"author\" href=\"https://blog.naver.com/gim_melting\" ng-href=\"https://blog.naver.com/gim_melting\" target=\"_blank\">\n",
       "<div class=\"thumbnail_author\">\n",
       "<img alt=\"블로거 썸네일\" bg-image=\"https://blogpfthumb-phinf.pstatic.net/MjAyNDEyMTNfNTEg/MDAxNzM0MDE3Nzg2MDQ2.iluFGxfEcLO7VthkRL3t9fsGVsTL1WbCPiqdoPkNyEsg.FiO1CoYrejZNwN9s_ZYzE0Bm6xpwv4UpGY3l4ZWtngUg.PNG/%25EB%2584%25A4%25EC%259D%25B4%25EB%25B2%2584%25ED%2594%2584%25EB%25A1%259C%25ED%2595%25842.png/%25EB%2584%25A4%25EC%259D%25B4%25EB%25B2%2584%25ED%2594%2584%25EB%25A1%259C%25ED%2595%25842.png?type=s1\" class=\"img_author\" height=\"25\" src=\"https://blogpfthumb-phinf.pstatic.net/MjAyNDEyMTNfNTEg/MDAxNzM0MDE3Nzg2MDQ2.iluFGxfEcLO7VthkRL3t9fsGVsTL1WbCPiqdoPkNyEsg.FiO1CoYrejZNwN9s_ZYzE0Bm6xpwv4UpGY3l4ZWtngUg.PNG/%25EB%2584%25A4%25EC%259D%25B4%25EB%25B2%2584%25ED%2594%2584%25EB%25A1%259C%25ED%2595%25842.png/%25EB%2584%25A4%25EC%259D%25B4%25EB%25B2%2584%25ED%2594%2584%25EB%25A1%259C%25ED%2595%25842.png?type=s1\" width=\"25\"/>\n",
       "</div>\n",
       "<em class=\"name_author\">김멜팅</em>\n",
       "</a>\n",
       "<!-- ngIf: blog.officialBlog -->\n",
       "<!-- ngIf: blog.marketBlog -->\n",
       "</div>\n",
       "</div>\n",
       "</div>"
      ]
     },
     "execution_count": 44,
     "metadata": {},
     "output_type": "execute_result"
    }
   ],
   "source": [
    "area_list_search = soup.select_one('div.area_list_search')\n",
    "list_search_blog = area_list_search.select('div.list_search_blog')\n",
    "list_search_blog[0]"
   ]
  },
  {
   "cell_type": "code",
   "execution_count": 45,
   "metadata": {},
   "outputs": [
    {
     "data": {
      "text/plain": [
       "'강원도 토박이의 말랑한 국내여행'"
      ]
     },
     "execution_count": 45,
     "metadata": {},
     "output_type": "execute_result"
    }
   ],
   "source": [
    "# 블로그 제목\n",
    "post_num = 0\n",
    "text_blog = list_search_blog[post_num].select_one('em.text_blog').text\n",
    "text_blog"
   ]
  },
  {
   "cell_type": "code",
   "execution_count": 46,
   "metadata": {},
   "outputs": [
    {
     "data": {
      "text/plain": [
       "'강원도 춘천 30년 토박이 - 야놀자 노른자클럽 2기 - 아이폰 16pro 사용 중 협업문의gim_melting@naver.com'"
      ]
     },
     "execution_count": 46,
     "metadata": {},
     "output_type": "execute_result"
    }
   ],
   "source": [
    "# 블로그 내용\n",
    "blog_intro = list_search_blog[post_num].select_one('p.blog_intro').text\n",
    "blog_intro"
   ]
  },
  {
   "cell_type": "code",
   "execution_count": 47,
   "metadata": {},
   "outputs": [
    {
     "data": {
      "text/plain": [
       "'김멜팅'"
      ]
     },
     "execution_count": 47,
     "metadata": {},
     "output_type": "execute_result"
    }
   ],
   "source": [
    "# 글 작성자\n",
    "name_author = list_search_blog[post_num].select_one('em.name_author').text\n",
    "name_author"
   ]
  },
  {
   "cell_type": "code",
   "execution_count": 48,
   "metadata": {},
   "outputs": [
    {
     "data": {
      "text/plain": [
       "'https://blog.naver.com/gim_melting'"
      ]
     },
     "execution_count": 48,
     "metadata": {},
     "output_type": "execute_result"
    }
   ],
   "source": [
    "# 블로그 링크\n",
    "blog_link = list_search_blog[post_num].select_one('a.name_blog')['href']\n",
    "blog_link"
   ]
  },
  {
   "cell_type": "code",
   "execution_count": null,
   "metadata": {},
   "outputs": [],
   "source": []
  },
  {
   "cell_type": "code",
   "execution_count": 49,
   "metadata": {},
   "outputs": [
    {
     "data": {
      "text/plain": [
       "'합리적 선택을 도와드위요'"
      ]
     },
     "execution_count": 49,
     "metadata": {},
     "output_type": "execute_result"
    }
   ],
   "source": [
    "# 블로그 제목\n",
    "post_num = 1\n",
    "text_blog = list_search_blog[post_num].select_one('em.text_blog').text\n",
    "text_blog"
   ]
  },
  {
   "cell_type": "code",
   "execution_count": 50,
   "metadata": {},
   "outputs": [
    {
     "data": {
      "text/plain": [
       "'✔️아이폰16pro 사용 ✔️25.04 결혼준비 중 ✔️협업 문의: seung2435@naver.com'"
      ]
     },
     "execution_count": 50,
     "metadata": {},
     "output_type": "execute_result"
    }
   ],
   "source": [
    "# 블로그 내용\n",
    "blog_intro = list_search_blog[post_num].select_one('p.blog_intro').text\n",
    "blog_intro"
   ]
  },
  {
   "cell_type": "code",
   "execution_count": 51,
   "metadata": {},
   "outputs": [
    {
     "data": {
      "text/plain": [
       "False"
      ]
     },
     "execution_count": 51,
     "metadata": {},
     "output_type": "execute_result"
    }
   ],
   "source": [
    "list_search_blog[post_num].select_one('p.blog_intro').text == ''"
   ]
  },
  {
   "cell_type": "code",
   "execution_count": 52,
   "metadata": {},
   "outputs": [
    {
     "data": {
      "text/plain": [
       "'위요'"
      ]
     },
     "execution_count": 52,
     "metadata": {},
     "output_type": "execute_result"
    }
   ],
   "source": [
    "# 글 작성자\n",
    "name_author = list_search_blog[post_num].select_one('em.name_author').text\n",
    "name_author"
   ]
  },
  {
   "cell_type": "code",
   "execution_count": 53,
   "metadata": {},
   "outputs": [
    {
     "data": {
      "text/plain": [
       "'https://blog.naver.com/seung2435'"
      ]
     },
     "execution_count": 53,
     "metadata": {},
     "output_type": "execute_result"
    }
   ],
   "source": [
    "# 블로그 링크\n",
    "blog_link = list_search_blog[post_num].select_one('a.name_blog')['href']\n",
    "blog_link"
   ]
  },
  {
   "cell_type": "code",
   "execution_count": null,
   "metadata": {},
   "outputs": [],
   "source": [
    "area_list_search = soup.select_one('div.area_list_search')\n",
    "list_search_blog = area_list_search.select('div.list_search_blog')"
   ]
  },
  {
   "cell_type": "code",
   "execution_count": 54,
   "metadata": {},
   "outputs": [
    {
     "name": "stdout",
     "output_type": "stream",
     "text": [
      "10 10 10 63\n"
     ]
    }
   ],
   "source": [
    "# 정보 수집\n",
    "text_blog_list = []\n",
    "blog_intro_list = []\n",
    "name_author_list = []\n",
    "blog_link_list = []\n",
    "for blog in list_search_blog:\n",
    "    text_blog = blog.select_one('em.text_blog').text\n",
    "    if blog.select_one('p.blog_intro').text == '':\n",
    "        blog_intro = np.nan\n",
    "    else:\n",
    "        blog_intro = blog.select_one('p.blog_intro').text\n",
    "    name_author = blog.select_one('em.name_author').text\n",
    "    blog_link = blog.select_one('a.name_blog')['href']\n",
    "    # print(text_blog, blog_intro, name_author, blog_link)\n",
    "\n",
    "    text_blog_list.append(text_blog)\n",
    "    blog_intro_list.append(blog_intro)\n",
    "    name_author_list.append(name_author)\n",
    "    blog_link_list.append(blog_link)\n",
    "\n",
    "print(len(text_blog_list), len(blog_intro_list), len(name_author_list), len(name_blog_list))"
   ]
  },
  {
   "cell_type": "code",
   "execution_count": 55,
   "metadata": {},
   "outputs": [
    {
     "data": {
      "text/html": [
       "<div>\n",
       "<style scoped>\n",
       "    .dataframe tbody tr th:only-of-type {\n",
       "        vertical-align: middle;\n",
       "    }\n",
       "\n",
       "    .dataframe tbody tr th {\n",
       "        vertical-align: top;\n",
       "    }\n",
       "\n",
       "    .dataframe thead th {\n",
       "        text-align: right;\n",
       "    }\n",
       "</style>\n",
       "<table border=\"1\" class=\"dataframe\">\n",
       "  <thead>\n",
       "    <tr style=\"text-align: right;\">\n",
       "      <th></th>\n",
       "      <th>text_blog</th>\n",
       "      <th>blog_intro</th>\n",
       "      <th>name_author</th>\n",
       "      <th>blog_link</th>\n",
       "    </tr>\n",
       "  </thead>\n",
       "  <tbody>\n",
       "    <tr>\n",
       "      <th>0</th>\n",
       "      <td>강원도 토박이의 말랑한 국내여행</td>\n",
       "      <td>강원도 춘천 30년 토박이 - 야놀자 노른자클럽 2기 - 아이폰 16pro 사용 중...</td>\n",
       "      <td>김멜팅</td>\n",
       "      <td>https://blog.naver.com/gim_melting</td>\n",
       "    </tr>\n",
       "    <tr>\n",
       "      <th>1</th>\n",
       "      <td>합리적 선택을 도와드위요</td>\n",
       "      <td>✔️아이폰16pro 사용 ✔️25.04 결혼준비 중 ✔️협업 문의: seung243...</td>\n",
       "      <td>위요</td>\n",
       "      <td>https://blog.naver.com/seung2435</td>\n",
       "    </tr>\n",
       "    <tr>\n",
       "      <th>2</th>\n",
       "      <td>아이엠신뢰예요_슈슈모바일</td>\n",
       "      <td>가입 -인터넷가입 -알뜰폰가입 -S24,플립6,폴드6 -아이폰16 -S24FE -일...</td>\n",
       "      <td>슈슈</td>\n",
       "      <td>https://blog.naver.com/shushu0091</td>\n",
       "    </tr>\n",
       "    <tr>\n",
       "      <th>3</th>\n",
       "      <td>대전 계룡 휴대폰 /한결 /쵸파통신/노랑우체통</td>\n",
       "      <td>갤럭시s24 s24+ 울트라,폴더폰,대전알뜰폰,휴대폰,대전핸드폰,아이폰16가격,갤럭...</td>\n",
       "      <td>쵸파사장</td>\n",
       "      <td>https://blog.naver.com/dnjswogud11</td>\n",
       "    </tr>\n",
       "    <tr>\n",
       "      <th>4</th>\n",
       "      <td>빵트립</td>\n",
       "      <td>함께 가성비 좋은 국내 가볼만한 곳을 소개합니다. ·가끔 자유부인인날 갈만한곳도 올...</td>\n",
       "      <td>빵트립</td>\n",
       "      <td>https://blog.naver.com/dlalgus106</td>\n",
       "    </tr>\n",
       "    <tr>\n",
       "      <th>5</th>\n",
       "      <td>대구 휴대폰 하면 당근폰!!</td>\n",
       "      <td>대구/경북 대표맛집 * Z폴드블6 * 아이폰16 시리즈 * S24 시리즈 * 폴더블...</td>\n",
       "      <td>carrot_phone</td>\n",
       "      <td>https://blog.naver.com/carrot_phone</td>\n",
       "    </tr>\n",
       "    <tr>\n",
       "      <th>6</th>\n",
       "      <td>미스유 어디가YOU</td>\n",
       "      <td>모습을 전달할게요 인천의 매력과 다채로운 모습을 소개합니다 love4830@nave...</td>\n",
       "      <td>미스유</td>\n",
       "      <td>https://blog.naver.com/love4830</td>\n",
       "    </tr>\n",
       "    <tr>\n",
       "      <th>7</th>\n",
       "      <td>엄마는 처음인 혜잠의 애개육아</td>\n",
       "      <td>24년 8월생 루돌이, 7살 반려견 좌충우돌 육아일기✔️아이폰16PRO ✔협업: e...</td>\n",
       "      <td>혜잠</td>\n",
       "      <td>https://blog.naver.com/hjsdaily</td>\n",
       "    </tr>\n",
       "    <tr>\n",
       "      <th>8</th>\n",
       "      <td>KT소닉붐직영점</td>\n",
       "      <td>(5단지 상가 다이소 맞은편 KT/365일 연중무휴) 아이폰16 시리즈 사전예약 이...</td>\n",
       "      <td>카멜</td>\n",
       "      <td>https://blog.naver.com/ktneungdong_store</td>\n",
       "    </tr>\n",
       "    <tr>\n",
       "      <th>9</th>\n",
       "      <td>가재부부의 IT이야기</td>\n",
       "      <td>소개하는 가재부부입니다. 카메라 : 소니 a7m4 렌즈 : 탐론 28-75 G2 스...</td>\n",
       "      <td>가재부부</td>\n",
       "      <td>https://blog.naver.com/handrer</td>\n",
       "    </tr>\n",
       "  </tbody>\n",
       "</table>\n",
       "</div>"
      ],
      "text/plain": [
       "                   text_blog  \\\n",
       "0          강원도 토박이의 말랑한 국내여행   \n",
       "1              합리적 선택을 도와드위요   \n",
       "2              아이엠신뢰예요_슈슈모바일   \n",
       "3  대전 계룡 휴대폰 /한결 /쵸파통신/노랑우체통   \n",
       "4                        빵트립   \n",
       "5            대구 휴대폰 하면 당근폰!!   \n",
       "6                 미스유 어디가YOU   \n",
       "7           엄마는 처음인 혜잠의 애개육아   \n",
       "8                   KT소닉붐직영점   \n",
       "9                가재부부의 IT이야기   \n",
       "\n",
       "                                          blog_intro   name_author  \\\n",
       "0  강원도 춘천 30년 토박이 - 야놀자 노른자클럽 2기 - 아이폰 16pro 사용 중...           김멜팅   \n",
       "1  ✔️아이폰16pro 사용 ✔️25.04 결혼준비 중 ✔️협업 문의: seung243...            위요   \n",
       "2  가입 -인터넷가입 -알뜰폰가입 -S24,플립6,폴드6 -아이폰16 -S24FE -일...            슈슈   \n",
       "3  갤럭시s24 s24+ 울트라,폴더폰,대전알뜰폰,휴대폰,대전핸드폰,아이폰16가격,갤럭...          쵸파사장   \n",
       "4  함께 가성비 좋은 국내 가볼만한 곳을 소개합니다. ·가끔 자유부인인날 갈만한곳도 올...           빵트립   \n",
       "5  대구/경북 대표맛집 * Z폴드블6 * 아이폰16 시리즈 * S24 시리즈 * 폴더블...  carrot_phone   \n",
       "6  모습을 전달할게요 인천의 매력과 다채로운 모습을 소개합니다 love4830@nave...           미스유   \n",
       "7  24년 8월생 루돌이, 7살 반려견 좌충우돌 육아일기✔️아이폰16PRO ✔협업: e...            혜잠   \n",
       "8  (5단지 상가 다이소 맞은편 KT/365일 연중무휴) 아이폰16 시리즈 사전예약 이...            카멜   \n",
       "9  소개하는 가재부부입니다. 카메라 : 소니 a7m4 렌즈 : 탐론 28-75 G2 스...          가재부부   \n",
       "\n",
       "                                  blog_link  \n",
       "0        https://blog.naver.com/gim_melting  \n",
       "1          https://blog.naver.com/seung2435  \n",
       "2         https://blog.naver.com/shushu0091  \n",
       "3        https://blog.naver.com/dnjswogud11  \n",
       "4         https://blog.naver.com/dlalgus106  \n",
       "5       https://blog.naver.com/carrot_phone  \n",
       "6           https://blog.naver.com/love4830  \n",
       "7           https://blog.naver.com/hjsdaily  \n",
       "8  https://blog.naver.com/ktneungdong_store  \n",
       "9            https://blog.naver.com/handrer  "
      ]
     },
     "execution_count": 55,
     "metadata": {},
     "output_type": "execute_result"
    }
   ],
   "source": [
    "blog_dict = {\n",
    "    'text_blog': text_blog_list,\n",
    "    'blog_intro': blog_intro_list,\n",
    "    'name_author': name_author_list,\n",
    "    'blog_link': blog_link_list\n",
    "}\n",
    "blog_df = pd.DataFrame(blog_dict)\n",
    "blog_df"
   ]
  },
  {
   "cell_type": "markdown",
   "metadata": {},
   "source": [
    "## 🔧 종합\n",
    "- 수집할 페이지 옵션 추가\n",
    "- 수집할 페이지가 실제 페이지 수보다 많을 경우 예외 처리"
   ]
  },
  {
   "cell_type": "code",
   "execution_count": 59,
   "metadata": {},
   "outputs": [],
   "source": [
    "keyword = '아이폰 16' # 검색어"
   ]
  },
  {
   "cell_type": "code",
   "execution_count": 60,
   "metadata": {},
   "outputs": [],
   "source": [
    "rangetype = 'PERIOD' # 검색 범위(ALL, WEEK, MONTH, PERIOD)\n",
    "orderby = 'sim' # 정렬 순서(sim, recentdate)\n",
    "\n",
    "# rangetype이 PERIOD인 경우 시작일과 종료일 설정 \n",
    "startdate = '2025-01-01' # 형식: YYYY-mm-dd(예. 2025-01-01)\n",
    "enddate = '2025-01-10' # 형식: YYYY-mm-dd(예. 2025-01-01)\n",
    "current_date = datetime.today().strftime('%Y-%m-%d')\n",
    "if startdate > enddate:\n",
    "    startdate, enddate = enddate, startdate # 시작일이 종료일보다 크면 종료일로 변경\n",
    "if startdate > current_date:\n",
    "    startdate, enddate = current_date, current_date # 시작일이 현재 날짜보다 크면 현재 날짜로 변경\n",
    "if enddate > current_date:\n",
    "    enddate = current_date # 종료일이 현재 날짜보다 크면 현재 날짜로 변경"
   ]
  },
  {
   "cell_type": "code",
   "execution_count": 71,
   "metadata": {},
   "outputs": [],
   "source": [
    "# 현재 날짜\n",
    "current_date = datetime.today().strftime('%Y%m%d')\n",
    "# 현재 경로 확인\n",
    "code_path = os.getcwd().replace('\\\\', '/')\n",
    "# 수집한 파일 저장할 폴더 생성\n",
    "crawled_folder_path = os.path.join(code_path, 'crawled_data', 'naver_blog', current_date)\n",
    "os.makedirs(crawled_folder_path, exist_ok=True)\n",
    "# 저장할 파일 경로\n",
    "current_datetime = datetime.today().strftime('%Y%m%d_%p_%I%M%S')\n",
    "file_path = os.path.join(crawled_folder_path, f'naver_blog_{current_datetime}.xlsx')"
   ]
  },
  {
   "cell_type": "code",
   "execution_count": null,
   "metadata": {},
   "outputs": [
    {
     "name": "stdout",
     "output_type": "stream",
     "text": [
      "63 63 63 63 63 63\n",
      "10 10 10 63\n",
      "20 20 20 63\n",
      "30 30 30 63\n",
      "40 40 40 63\n",
      "50 50 50 63\n",
      "60 60 60 63\n",
      "70 70 70 63\n",
      "80 80 80 63\n",
      "90 90 90 63\n",
      "저장 파일 경로 : c:/Users/kbjoo/Documents/Google_Drive/GitHub/my_projects/crawling/naver\\crawled_data\\naver_blog\\20250113\\naver_blog_20250113_AM_113540.xlsx\n",
      "저장완료\n"
     ]
    }
   ],
   "source": [
    "# 웹드라이버 실행\n",
    "driver = webdriver.Chrome(options=options)\n",
    "\n",
    "sheet_name_list = ['글', '블로그']\n",
    "with pd.ExcelWriter(file_path, engine='openpyxl') as writer:\n",
    "    for tab_option in sheet_name_list:\n",
    "        if tab_option == '글':\n",
    "            title_list = []\n",
    "            text_list = []\n",
    "            name_author_list = []\n",
    "            name_blog_list = []\n",
    "            date_list = []\n",
    "            post_link_list = []\n",
    "            for page_num in range(1, 10):\n",
    "                if rangetype == 'PERIOD':\n",
    "                    keyword_url = f'https://section.blog.naver.com/Search/Post.naver?pageNo={page_num}&rangeType={rangetype}&orderBy={orderby}&&startDate={startdate}&endDate={enddate}&keyword={keyword}'\n",
    "                else:\n",
    "                    keyword_url = f'https://section.blog.naver.com/Search/Post.naver?pageNo={page_num}&rangeType={rangetype}&orderBy={orderby}&keyword={keyword}'\n",
    "\n",
    "                driver.get(keyword_url)\n",
    "                driver.implicitly_wait(10) # 페이지 로드 될 때까지 기다리지만 로드 되는 순간 종료\n",
    "                time.sleep(random.uniform(1, 3))\n",
    "\n",
    "                page = driver.page_source\n",
    "                soup = bs(page, 'html.parser')\n",
    "                # print(soup.title.text)\n",
    "                \n",
    "                area_list_search = soup.select_one('div.area_list_search')\n",
    "                list_search_post = area_list_search.select('div.list_search_post')\n",
    "\n",
    "                for post in list_search_post:\n",
    "                    title = post.select_one('span.title').text\n",
    "                    text = post.select_one('a.text').text\n",
    "                    name_author = post.select_one('em.name_author').text\n",
    "                    name_blog = post.select_one('span.name_blog').text\n",
    "                    date = post.select_one('span.date').text\n",
    "                    post_link = post.select_one('a.desc_inner')['href']\n",
    "\n",
    "                    title_list.append(title)\n",
    "                    text_list.append(text)\n",
    "                    name_author_list.append(name_author)\n",
    "                    name_blog_list.append(name_blog)\n",
    "                    date_list.append(date)\n",
    "                    post_link_list.append(post_link)\n",
    "\n",
    "            # print(len(title_list), len(text_list), len(name_author_list), len(name_blog_list), len(date_list), len(post_link_list))\n",
    "\n",
    "            # 데이터 프레임 생성\n",
    "            post_dict = {\n",
    "                'title': title_list,\n",
    "                'text': text_list,\n",
    "                'name_author': name_author_list,\n",
    "                'name_blog': name_blog_list,\n",
    "                'date': date_list,\n",
    "                'post_link': post_link_list\n",
    "            }\n",
    "            post_df = pd.DataFrame(post_dict)\n",
    "            post_df.to_excel(writer, sheet_name=tab_option, index=False)\n",
    "            print(post_df.shape)\n",
    "\n",
    "        elif tab_option == '블로그':\n",
    "            text_blog_list = []\n",
    "            blog_intro_list = []\n",
    "            name_author_list = []\n",
    "            blog_link_list = []\n",
    "            for page_num in range(1, 10):\n",
    "                keyword_url = f'https://section.blog.naver.com/Search/Blog.naver?pageNo={page_num}&orderBy={orderby}&keyword={keyword}'\n",
    "\n",
    "                driver.get(keyword_url)\n",
    "                driver.implicitly_wait(10) # 페이지 로드 될 때까지 기다리지만 로드 되는 순간 종료\n",
    "                time.sleep(random.uniform(1, 3))\n",
    "\n",
    "                page = driver.page_source\n",
    "                soup = bs(page, 'html.parser')\n",
    "                # print(soup.title.text)\n",
    "\n",
    "                area_list_search = soup.select_one('div.area_list_search')\n",
    "                list_search_blog = area_list_search.select('div.list_search_blog')\n",
    "\n",
    "                for blog in list_search_blog:\n",
    "                    text_blog = blog.select_one('em.text_blog').text\n",
    "                    if blog.select_one('p.blog_intro').text == '':\n",
    "                        blog_intro = np.nan\n",
    "                    else:\n",
    "                        blog_intro = blog.select_one('p.blog_intro').text\n",
    "                    name_author = blog.select_one('em.name_author').text\n",
    "                    blog_link = blog.select_one('a.name_blog')['href']\n",
    "                    # print(text_blog, blog_intro, name_author, blog_link)\n",
    "\n",
    "                    text_blog_list.append(text_blog)\n",
    "                    blog_intro_list.append(blog_intro)\n",
    "                    name_author_list.append(name_author)\n",
    "                    blog_link_list.append(blog_link)\n",
    "\n",
    "                # print(len(text_blog_list), len(blog_intro_list), len(name_author_list), len(name_blog_list))\n",
    "            blog_dict = {\n",
    "                'text_blog': text_blog_list,\n",
    "                'blog_intro': blog_intro_list,\n",
    "                'name_author': name_author_list,\n",
    "                'blog_link': blog_link_list\n",
    "            }\n",
    "            blog_df = pd.DataFrame(blog_dict)\n",
    "            blog_df.to_excel(writer, sheet_name=tab_option, index=False)\n",
    "            print(blog_df.shape)\n",
    "\n",
    "    print('저장 파일 경로 :', file_path)\n",
    "    print('저장완료')"
   ]
  },
  {
   "cell_type": "code",
   "execution_count": 73,
   "metadata": {},
   "outputs": [],
   "source": [
    "driver.quit()"
   ]
  },
  {
   "cell_type": "markdown",
   "metadata": {},
   "source": [
    "# END"
   ]
  }
 ],
 "metadata": {
  "kernelspec": {
   "display_name": "crawling",
   "language": "python",
   "name": "python3"
  },
  "language_info": {
   "codemirror_mode": {
    "name": "ipython",
    "version": 3
   },
   "file_extension": ".py",
   "mimetype": "text/x-python",
   "name": "python",
   "nbconvert_exporter": "python",
   "pygments_lexer": "ipython3",
   "version": "3.13.0"
  }
 },
 "nbformat": 4,
 "nbformat_minor": 2
}
