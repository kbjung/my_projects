{
 "cells": [
  {
   "cell_type": "markdown",
   "metadata": {},
   "source": [
    "# Library"
   ]
  },
  {
   "cell_type": "code",
   "execution_count": 1,
   "metadata": {},
   "outputs": [],
   "source": [
    "import requests\n",
    "from bs4 import BeautifulSoup as bs\n",
    "\n",
    "import time, os, random\n",
    "import pandas as pd\n",
    "import re\n",
    "import numpy as np\n",
    "\n",
    "from selenium import webdriver\n",
    "import chromedriver_autoinstaller as ca\n",
    "\n",
    "from selenium.webdriver.common.by import By\n",
    "from selenium.webdriver import ActionChains\n",
    "from selenium.webdriver.common.keys import Keys\n",
    "\n",
    "from selenium.webdriver.support.ui import WebDriverWait\n",
    "from selenium.webdriver.support import expected_conditions as EC"
   ]
  },
  {
   "cell_type": "markdown",
   "metadata": {},
   "source": [
    "## chrome driver 설치"
   ]
  },
  {
   "cell_type": "code",
   "execution_count": 2,
   "metadata": {},
   "outputs": [],
   "source": [
    "# USB error 메세지 발생 해결을 위한 코드\n",
    "options = webdriver.ChromeOptions()\n",
    "options.add_experimental_option(\"excludeSwitches\", [\"enable-logging\"])"
   ]
  },
  {
   "cell_type": "code",
   "execution_count": 3,
   "metadata": {},
   "outputs": [
    {
     "data": {
      "text/plain": [
       "'131'"
      ]
     },
     "execution_count": 3,
     "metadata": {},
     "output_type": "execute_result"
    }
   ],
   "source": [
    "# 현재 크롬 버전 확인\n",
    "chrome_ver = ca.get_chrome_version().split('.')[0]\n",
    "chrome_ver"
   ]
  },
  {
   "cell_type": "code",
   "execution_count": 4,
   "metadata": {},
   "outputs": [],
   "source": [
    "# # 크롬 드라이버 확인 및 설치(처음 한번만 실행)\n",
    "# ca.install(True)"
   ]
  },
  {
   "cell_type": "markdown",
   "metadata": {},
   "source": [
    "## chrome driver 실행"
   ]
  },
  {
   "cell_type": "code",
   "execution_count": 5,
   "metadata": {},
   "outputs": [],
   "source": [
    "# 웹드라이버 실행\n",
    "driver = webdriver.Chrome(options=options)"
   ]
  },
  {
   "cell_type": "markdown",
   "metadata": {},
   "source": [
    "# 페이지 접속"
   ]
  },
  {
   "cell_type": "code",
   "execution_count": 6,
   "metadata": {},
   "outputs": [],
   "source": [
    "# 페이지 주소\n",
    "url = 'https://news.naver.com/section/101' # 네이버 뉴스 > 경제"
   ]
  },
  {
   "cell_type": "markdown",
   "metadata": {},
   "source": [
    "### requests 테스트\n",
    "- 페이지 접속 가능 여부확인\n",
    "    - 가능할 경우 출력 : <Response [200]>"
   ]
  },
  {
   "cell_type": "code",
   "execution_count": 7,
   "metadata": {},
   "outputs": [
    {
     "name": "stdout",
     "output_type": "stream",
     "text": [
      "<Response [200]>\n"
     ]
    },
    {
     "data": {
      "text/plain": [
       "'경제 : 네이버 뉴스'"
      ]
     },
     "execution_count": 7,
     "metadata": {},
     "output_type": "execute_result"
    }
   ],
   "source": [
    "# req = requests.get(url)\n",
    "# print(req)\n",
    "# html = req.content.decode('utf-8') # 한글 깨짐 해결 코드\n",
    "# soup = bs(html, 'html.parser')\n",
    "# soup.title.text"
   ]
  },
  {
   "cell_type": "markdown",
   "metadata": {},
   "source": [
    "### selenium 작동"
   ]
  },
  {
   "cell_type": "code",
   "execution_count": 8,
   "metadata": {},
   "outputs": [],
   "source": [
    "driver.get(url)\n",
    "driver.implicitly_wait(10) # 페이지 로드 될 때까지 기다리지만 로드 되는 순간 종료\n",
    "# driver.maximize_window() # 브라우져 창 최대화"
   ]
  },
  {
   "cell_type": "markdown",
   "metadata": {},
   "source": [
    "### 검색 창에 검색어 입력"
   ]
  },
  {
   "cell_type": "code",
   "execution_count": 9,
   "metadata": {},
   "outputs": [],
   "source": [
    "# 헤드라인 뉴스\n",
    "headline_news_more_view_button_xpath = '//*[@id=\"newsct\"]/div[1]/div[2]/a' # 헤드라인 더 보기 버튼\n",
    "\n",
    "# 헤드라인 더 보기 버튼 로딩 대기\n",
    "headline_news_more_view_button = WebDriverWait(driver, 10).until(\n",
    "    EC.presence_of_element_located((By.XPATH, headline_news_more_view_button_xpath))\n",
    ")\n",
    "\n",
    "# 헤드라인 더보기 버튼 클릭\n",
    "headline_news_more_view_button.click()\n",
    "driver.implicitly_wait(10)"
   ]
  },
  {
   "cell_type": "markdown",
   "metadata": {},
   "source": [
    "## 헤드라인 뉴스 수집"
   ]
  },
  {
   "cell_type": "code",
   "execution_count": 19,
   "metadata": {},
   "outputs": [
    {
     "data": {
      "text/plain": [
       "'경제 : 네이버 뉴스'"
      ]
     },
     "execution_count": 19,
     "metadata": {},
     "output_type": "execute_result"
    }
   ],
   "source": [
    "page = driver.page_source\n",
    "soup = bs(page, 'html.parser')\n",
    "soup.title.text"
   ]
  },
  {
   "cell_type": "code",
   "execution_count": 22,
   "metadata": {},
   "outputs": [
    {
     "data": {
      "text/plain": [
       "21"
      ]
     },
     "execution_count": 22,
     "metadata": {},
     "output_type": "execute_result"
    }
   ],
   "source": [
    "# 헤드라인 뉴스 섹션\n",
    "headline_news_section = soup.select_one('ul.sa_list')\n",
    "len(headline_news_section)"
   ]
  },
  {
   "cell_type": "code",
   "execution_count": 23,
   "metadata": {},
   "outputs": [
    {
     "data": {
      "text/plain": [
       "10"
      ]
     },
     "execution_count": 23,
     "metadata": {},
     "output_type": "execute_result"
    }
   ],
   "source": [
    "# 뉴스 타이들 리스트\n",
    "headline_news_list = headline_news_section.select('li.sa_item._SECTION_HEADLINE')\n",
    "len(headline_news_list)"
   ]
  },
  {
   "cell_type": "markdown",
   "metadata": {},
   "source": [
    "### 기사 내용 섹션"
   ]
  },
  {
   "cell_type": "code",
   "execution_count": 27,
   "metadata": {},
   "outputs": [
    {
     "data": {
      "text/plain": [
       "<div class=\"sa_text\">\n",
       "<a class=\"sa_text_title _NLOG_IMPRESSION\" data-clk=\"eco.clart\" data-imp-gdid=\"880000D8_000000000000000015119487\" data-imp-index=\"1\" data-imp-url=\"https://n.news.naver.com/mnews/article/001/0015119487\" href=\"https://n.news.naver.com/mnews/article/001/0015119487\">\n",
       "<strong class=\"sa_text_strong\">전세사기·깡통전세에…세입자 '경매 셀프낙찰' 10년 만에 최대</strong>\n",
       "</a>\n",
       "<div class=\"sa_text_lede\">1~12월 수도권 주택 셀프낙찰 878건…전세사기 사태 이후 급증 올해 전세 사기와 '깡통전세' 등으로 경매에 넘어간 집을 세입자가 직접 낙찰받은 사례가 10년 만에 최다였던 것으로 나타났다. 세입자 입장에서는 이미</div>\n",
       "<div class=\"sa_text_info\">\n",
       "<div class=\"sa_text_info_left\">\n",
       "<div class=\"sa_text_press\">연합뉴스</div>\n",
       "<a class=\"sa_text_cmt _COMMENT_COUNT_LIST\" data-object-id=\"news001,0015119487\" data-processed=\"true\" data-ticket=\"news\" data-zero-allow=\"false\" href=\"https://n.news.naver.com/mnews/article/comment/001/0015119487\" style=\"display: none;\"></a>\n",
       "</div>\n",
       "<div class=\"sa_text_info_right\">\n",
       "<a class=\"sa_text_cluster\" data-clk=\"clcou\" href=\"/cluster/c_202412220730_00000672/section/101?oid=001&amp;aid=0015119487\">\n",
       "<span class=\"sa_text_cluster_num\">13</span>\n",
       "<span class=\"blind\">개의 관련뉴스 더보기</span>\n",
       "</a>\n",
       "</div>\n",
       "</div>\n",
       "</div>"
      ]
     },
     "execution_count": 27,
     "metadata": {},
     "output_type": "execute_result"
    }
   ],
   "source": [
    "# 기사 내용 섹션\n",
    "order_number = 0\n",
    "news_content_section = headline_news_list[order_number].select_one('div.sa_text')\n",
    "news_content_section"
   ]
  },
  {
   "cell_type": "code",
   "execution_count": 32,
   "metadata": {},
   "outputs": [
    {
     "data": {
      "text/plain": [
       "'https://n.news.naver.com/mnews/article/001/0015119487'"
      ]
     },
     "execution_count": 32,
     "metadata": {},
     "output_type": "execute_result"
    }
   ],
   "source": [
    "# 기사 링크\n",
    "link = news_content_section.select_one('a.sa_text_title._NLOG_IMPRESSION')['href']\n",
    "link"
   ]
  },
  {
   "cell_type": "code",
   "execution_count": 28,
   "metadata": {},
   "outputs": [
    {
     "data": {
      "text/plain": [
       "\"전세사기·깡통전세에…세입자 '경매 셀프낙찰' 10년 만에 최대\""
      ]
     },
     "execution_count": 28,
     "metadata": {},
     "output_type": "execute_result"
    }
   ],
   "source": [
    "# 타이틀\n",
    "title = news_content_section.select_one('strong.sa_text_strong').text\n",
    "title"
   ]
  },
  {
   "cell_type": "code",
   "execution_count": 33,
   "metadata": {},
   "outputs": [
    {
     "data": {
      "text/plain": [
       "\"1~12월 수도권 주택 셀프낙찰 878건…전세사기 사태 이후 급증 올해 전세 사기와 '깡통전세' 등으로 경매에 넘어간 집을 세입자가 직접 낙찰받은 사례가 10년 만에 최다였던 것으로 나타났다. 세입자 입장에서는 이미\""
      ]
     },
     "execution_count": 33,
     "metadata": {},
     "output_type": "execute_result"
    }
   ],
   "source": [
    "# 기사 내용\n",
    "content = news_content_section.select_one('div.sa_text_lede').text\n",
    "content"
   ]
  },
  {
   "cell_type": "code",
   "execution_count": 34,
   "metadata": {},
   "outputs": [
    {
     "data": {
      "text/plain": [
       "'연합뉴스'"
      ]
     },
     "execution_count": 34,
     "metadata": {},
     "output_type": "execute_result"
    }
   ],
   "source": [
    "# 언론사\n",
    "press = news_content_section.select_one('div.sa_text_press').text\n",
    "press"
   ]
  },
  {
   "cell_type": "code",
   "execution_count": 36,
   "metadata": {},
   "outputs": [
    {
     "data": {
      "text/plain": [
       "13"
      ]
     },
     "execution_count": 36,
     "metadata": {},
     "output_type": "execute_result"
    }
   ],
   "source": [
    "# 관련 뉴스 개수\n",
    "related_news_count = int(news_content_section.select_one('span.sa_text_cluster_num').text)\n",
    "related_news_count"
   ]
  },
  {
   "cell_type": "markdown",
   "metadata": {},
   "source": [
    "# 수집한 데이터 전처리"
   ]
  },
  {
   "cell_type": "code",
   "execution_count": 37,
   "metadata": {},
   "outputs": [],
   "source": [
    "link_list = []\n",
    "title_list = []\n",
    "content_list = []\n",
    "press_list = []\n",
    "related_news_count_list = []\n",
    "\n",
    "for i in range(len(headline_news_list)):\n",
    "    # 기사 내용 섹션\n",
    "    news_content_section = headline_news_list[i].select_one('div.sa_text')\n",
    "\n",
    "    # 기사 링크\n",
    "    try:\n",
    "        link = news_content_section.select_one('a.sa_text_title._NLOG_IMPRESSION')['href']\n",
    "    except:\n",
    "        link = np.nan\n",
    "        print(i)\n",
    "        # print('기사 링크 없음')\n",
    "    \n",
    "    # 타이틀\n",
    "    try:\n",
    "        title = news_content_section.select_one('strong.sa_text_strong').text\n",
    "    except:\n",
    "        title = np.nan\n",
    "        print(i)\n",
    "        # print('타이틀 없음')\n",
    "    \n",
    "    # 기사 내용\n",
    "    try:\n",
    "        content = news_content_section.select_one('div.sa_text_lede').text\n",
    "    except:\n",
    "        content = np.nan\n",
    "        print(i)\n",
    "        # print('기사 내용 없음')\n",
    "    \n",
    "    ## 언론사\n",
    "    try:\n",
    "        press = news_content_section.select_one('div.sa_text_press').text\n",
    "    except:\n",
    "        press = np.nan\n",
    "        print(i)\n",
    "        # print('언론사 없음')\n",
    "    \n",
    "    ## 관련 뉴스 개수\n",
    "    try:\n",
    "        related_news_count = int(news_content_section.select_one('span.sa_text_cluster_num').text)\n",
    "    except:\n",
    "        related_news_count = np.nan\n",
    "        print(i)\n",
    "        # print('관련 뉴스 개수 없음')\n",
    "    \n",
    "    # 정보 리스트에 담기\n",
    "    link_list.append(link)\n",
    "    title_list.append(title)\n",
    "    content_list.append(content)\n",
    "    press_list.append(press)\n",
    "    related_news_count_list.append(related_news_count)"
   ]
  },
  {
   "cell_type": "code",
   "execution_count": 38,
   "metadata": {},
   "outputs": [
    {
     "data": {
      "text/plain": [
       "(10, 10, 10, 10, 10)"
      ]
     },
     "execution_count": 38,
     "metadata": {},
     "output_type": "execute_result"
    }
   ],
   "source": [
    "len(link_list), len(title_list), len(content_list), len(press_list), len(related_news_count_list)"
   ]
  },
  {
   "cell_type": "code",
   "execution_count": 40,
   "metadata": {},
   "outputs": [
    {
     "data": {
      "text/html": [
       "<div>\n",
       "<style scoped>\n",
       "    .dataframe tbody tr th:only-of-type {\n",
       "        vertical-align: middle;\n",
       "    }\n",
       "\n",
       "    .dataframe tbody tr th {\n",
       "        vertical-align: top;\n",
       "    }\n",
       "\n",
       "    .dataframe thead th {\n",
       "        text-align: right;\n",
       "    }\n",
       "</style>\n",
       "<table border=\"1\" class=\"dataframe\">\n",
       "  <thead>\n",
       "    <tr style=\"text-align: right;\">\n",
       "      <th></th>\n",
       "      <th>번호</th>\n",
       "      <th>기사 링크</th>\n",
       "      <th>기사 제목</th>\n",
       "      <th>기사 내용</th>\n",
       "      <th>언론사</th>\n",
       "      <th>관련 뉴스 개수</th>\n",
       "    </tr>\n",
       "  </thead>\n",
       "  <tbody>\n",
       "    <tr>\n",
       "      <th>0</th>\n",
       "      <td>1</td>\n",
       "      <td>https://n.news.naver.com/mnews/article/001/001...</td>\n",
       "      <td>전세사기·깡통전세에…세입자 '경매 셀프낙찰' 10년 만에 최대</td>\n",
       "      <td>1~12월 수도권 주택 셀프낙찰 878건…전세사기 사태 이후 급증 올해 전세 사기와...</td>\n",
       "      <td>연합뉴스</td>\n",
       "      <td>13</td>\n",
       "    </tr>\n",
       "    <tr>\n",
       "      <th>1</th>\n",
       "      <td>2</td>\n",
       "      <td>https://n.news.naver.com/mnews/article/001/001...</td>\n",
       "      <td>내년 韓 제조업·수출 '경고등'…'수출주력' 반도체도 고전 예상</td>\n",
       "      <td>산업硏·한경협·무협, 내년 전망 보고서…한목소리로 \"우려\" 반도체 등 주요 산업, ...</td>\n",
       "      <td>연합뉴스</td>\n",
       "      <td>48</td>\n",
       "    </tr>\n",
       "    <tr>\n",
       "      <th>2</th>\n",
       "      <td>3</td>\n",
       "      <td>https://n.news.naver.com/mnews/article/032/000...</td>\n",
       "      <td>금융자산 10억 이상 ‘부자’ 46만명···300억 이상 초부자도 첫 1만명대</td>\n",
       "      <td>지난해 국내에서 10억원 이상의 금융자산을 보유한 부자가 1% 정도 늘어 46만명을...</td>\n",
       "      <td>경향신문</td>\n",
       "      <td>47</td>\n",
       "    </tr>\n",
       "    <tr>\n",
       "      <th>3</th>\n",
       "      <td>4</td>\n",
       "      <td>https://n.news.naver.com/mnews/article/011/000...</td>\n",
       "      <td>\"53억 아파트 누가 샀대?\"…회삿돈 끌어온 부부 정체 알고보니</td>\n",
       "      <td>#외국인 국적의 한 부부가 서울 투기과열지구 내 아파트를 53억 원에 사들였다. 남...</td>\n",
       "      <td>서울경제</td>\n",
       "      <td>41</td>\n",
       "    </tr>\n",
       "    <tr>\n",
       "      <th>4</th>\n",
       "      <td>5</td>\n",
       "      <td>https://n.news.naver.com/mnews/article/011/000...</td>\n",
       "      <td>개인사업자 대출 한눈에 비교한다…비교공시 서비스 개시</td>\n",
       "      <td>금융위원회는 23일부터 금융회사를 직접 방문하지 않고도 대출금리 등을 한 눈에 비교...</td>\n",
       "      <td>서울경제</td>\n",
       "      <td>17</td>\n",
       "    </tr>\n",
       "  </tbody>\n",
       "</table>\n",
       "</div>"
      ],
      "text/plain": [
       "   번호                                              기사 링크  \\\n",
       "0   1  https://n.news.naver.com/mnews/article/001/001...   \n",
       "1   2  https://n.news.naver.com/mnews/article/001/001...   \n",
       "2   3  https://n.news.naver.com/mnews/article/032/000...   \n",
       "3   4  https://n.news.naver.com/mnews/article/011/000...   \n",
       "4   5  https://n.news.naver.com/mnews/article/011/000...   \n",
       "\n",
       "                                         기사 제목  \\\n",
       "0           전세사기·깡통전세에…세입자 '경매 셀프낙찰' 10년 만에 최대   \n",
       "1          내년 韓 제조업·수출 '경고등'…'수출주력' 반도체도 고전 예상   \n",
       "2  금융자산 10억 이상 ‘부자’ 46만명···300억 이상 초부자도 첫 1만명대   \n",
       "3          \"53억 아파트 누가 샀대?\"…회삿돈 끌어온 부부 정체 알고보니   \n",
       "4                개인사업자 대출 한눈에 비교한다…비교공시 서비스 개시   \n",
       "\n",
       "                                               기사 내용   언론사  관련 뉴스 개수  \n",
       "0  1~12월 수도권 주택 셀프낙찰 878건…전세사기 사태 이후 급증 올해 전세 사기와...  연합뉴스        13  \n",
       "1  산업硏·한경협·무협, 내년 전망 보고서…한목소리로 \"우려\" 반도체 등 주요 산업, ...  연합뉴스        48  \n",
       "2  지난해 국내에서 10억원 이상의 금융자산을 보유한 부자가 1% 정도 늘어 46만명을...  경향신문        47  \n",
       "3  #외국인 국적의 한 부부가 서울 투기과열지구 내 아파트를 53억 원에 사들였다. 남...  서울경제        41  \n",
       "4  금융위원회는 23일부터 금융회사를 직접 방문하지 않고도 대출금리 등을 한 눈에 비교...  서울경제        17  "
      ]
     },
     "execution_count": 40,
     "metadata": {},
     "output_type": "execute_result"
    }
   ],
   "source": [
    "data_dict = {\n",
    "    '번호': range(1, len(link_list)+1),\n",
    "    '기사 링크': link_list,\n",
    "    '기사 제목': title_list,\n",
    "    '기사 내용': content_list,\n",
    "    '언론사': press_list,\n",
    "    '관련 뉴스 개수': related_news_count_list\n",
    "    }\n",
    "df = pd.DataFrame(data_dict)\n",
    "df.head()"
   ]
  },
  {
   "cell_type": "markdown",
   "metadata": {},
   "source": [
    "# 데이터 출력"
   ]
  },
  {
   "cell_type": "code",
   "execution_count": 41,
   "metadata": {},
   "outputs": [
    {
     "data": {
      "text/plain": [
       "'20241222'"
      ]
     },
     "execution_count": 41,
     "metadata": {},
     "output_type": "execute_result"
    }
   ],
   "source": [
    "current_date = time.strftime('%Y%m%d')\n",
    "current_date"
   ]
  },
  {
   "cell_type": "code",
   "execution_count": 42,
   "metadata": {},
   "outputs": [
    {
     "data": {
      "text/plain": [
       "'20241222_PM_083518'"
      ]
     },
     "execution_count": 42,
     "metadata": {},
     "output_type": "execute_result"
    }
   ],
   "source": [
    "current_datetime = time.strftime('%Y%m%d_%p_%I%M%S')\n",
    "current_datetime"
   ]
  },
  {
   "cell_type": "code",
   "execution_count": 43,
   "metadata": {},
   "outputs": [
    {
     "data": {
      "text/plain": [
       "'c:/Users/kbjoo/Documents/Google_Drive/GitHub/my_projects/crawling/naver'"
      ]
     },
     "execution_count": 43,
     "metadata": {},
     "output_type": "execute_result"
    }
   ],
   "source": [
    "# 현재 경로 확인\n",
    "code_path = os.getcwd().replace('\\\\', '/')\n",
    "code_path"
   ]
  },
  {
   "cell_type": "code",
   "execution_count": 44,
   "metadata": {},
   "outputs": [
    {
     "data": {
      "text/plain": [
       "'c:/Users/kbjoo/Documents/Google_Drive/GitHub/my_projects/crawling/naver\\\\crawled_data\\\\naver_news\\\\20241222'"
      ]
     },
     "execution_count": 44,
     "metadata": {},
     "output_type": "execute_result"
    }
   ],
   "source": [
    "# 수집한 파일 저장할 폴더 생성\n",
    "crawled_folder_path = os.path.join(code_path, 'crawled_data', 'naver_news', current_date)\n",
    "crawled_folder_path"
   ]
  },
  {
   "cell_type": "code",
   "execution_count": 45,
   "metadata": {},
   "outputs": [],
   "source": [
    "os.makedirs(crawled_folder_path, exist_ok=True)"
   ]
  },
  {
   "cell_type": "code",
   "execution_count": 46,
   "metadata": {},
   "outputs": [],
   "source": [
    "# 엑셀 파일로 출력\n",
    "df.to_excel(os.path.join(crawled_folder_path, f'naver_news_economy_{current_datetime}.xlsx'), index=False)"
   ]
  },
  {
   "cell_type": "code",
   "execution_count": 47,
   "metadata": {},
   "outputs": [],
   "source": [
    "driver.quit()"
   ]
  },
  {
   "cell_type": "markdown",
   "metadata": {},
   "source": [
    "# END"
   ]
  }
 ],
 "metadata": {
  "kernelspec": {
   "display_name": "crawling",
   "language": "python",
   "name": "python3"
  },
  "language_info": {
   "codemirror_mode": {
    "name": "ipython",
    "version": 3
   },
   "file_extension": ".py",
   "mimetype": "text/x-python",
   "name": "python",
   "nbconvert_exporter": "python",
   "pygments_lexer": "ipython3",
   "version": "3.13.0"
  },
  "orig_nbformat": 4
 },
 "nbformat": 4,
 "nbformat_minor": 2
}
