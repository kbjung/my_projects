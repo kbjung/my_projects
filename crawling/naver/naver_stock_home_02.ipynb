{
 "cells": [
  {
   "cell_type": "markdown",
   "metadata": {},
   "source": [
    "# Library"
   ]
  },
  {
   "cell_type": "code",
   "execution_count": 10,
   "metadata": {},
   "outputs": [],
   "source": [
    "import requests\n",
    "from bs4 import BeautifulSoup as bs\n",
    "\n",
    "import os, re\n",
    "from datetime import datetime\n",
    "import pandas as pd\n",
    "\n",
    "from openpyxl import load_workbook"
   ]
  },
  {
   "cell_type": "markdown",
   "metadata": {},
   "source": [
    "# 페이지 접속"
   ]
  },
  {
   "cell_type": "code",
   "execution_count": 11,
   "metadata": {},
   "outputs": [],
   "source": [
    "url = 'https://finance.naver.com/' # 네이버 증권 > 홈"
   ]
  },
  {
   "cell_type": "markdown",
   "metadata": {},
   "source": [
    "## requests 테스트\n",
    "- 페이지 접속 가능 여부확인\n",
    "    - 가능할 경우 출력 : <Response [200]>"
   ]
  },
  {
   "cell_type": "code",
   "execution_count": 12,
   "metadata": {},
   "outputs": [
    {
     "name": "stdout",
     "output_type": "stream",
     "text": [
      "<Response [200]>\n"
     ]
    }
   ],
   "source": [
    "req = requests.get(url)\n",
    "print(req)"
   ]
  },
  {
   "cell_type": "markdown",
   "metadata": {},
   "source": [
    "# 정보 수집"
   ]
  },
  {
   "cell_type": "code",
   "execution_count": 19,
   "metadata": {},
   "outputs": [
    {
     "name": "stdout",
     "output_type": "stream",
     "text": [
      "2025-01-03 14:19:50.843359\n",
      "네이버페이 증권\n"
     ]
    }
   ],
   "source": [
    "# html = req.content.decode('utf-8') # 한글 깨짐 해결 코드\n",
    "html = req.text\n",
    "soup = bs(html, 'html.parser')\n",
    "\n",
    "# 현재 시간 가져오기\n",
    "current_time = datetime.now()\n",
    "# current_time = datetime.now().strftime('%Y%m%d_%H%M%S')\n",
    "print(current_time)\n",
    "print(soup.title.text)"
   ]
  },
  {
   "cell_type": "code",
   "execution_count": 20,
   "metadata": {},
   "outputs": [],
   "source": [
    "# TOP 종목\n",
    "section_sise_top = soup.select_one('div#content div.section_sise_top')\n",
    "group_types = section_sise_top.select('div.group_type')"
   ]
  },
  {
   "cell_type": "markdown",
   "metadata": {},
   "source": [
    "## 데이터 출력"
   ]
  },
  {
   "cell_type": "code",
   "execution_count": null,
   "metadata": {},
   "outputs": [],
   "source": [
    "# 전일 대비 정보 추출 함수\n",
    "def extract_number(text):\n",
    "    # 숫자 추출\n",
    "    number_str = re.sub('[^0-9]', '', text)\n",
    "    if number_str == '':\n",
    "        return 0  # 빈 문자열인 경우 0 반환\n",
    "    \n",
    "    number = int(number_str)\n",
    "    \n",
    "    # '하락'이 포함된 경우 음수로 변환\n",
    "    if '하락' in text:\n",
    "        number = -number\n",
    "    \n",
    "    return number"
   ]
  },
  {
   "cell_type": "code",
   "execution_count": null,
   "metadata": {},
   "outputs": [
    {
     "name": "stdout",
     "output_type": "stream",
     "text": [
      "데이터 저장 경로 : c:/Users/kbjoo/Documents/Google_Drive/GitHub/my_projects/crawling/naver\\crawled_data\\naver_stock\\home\\20250103\n",
      "저장완료\n"
     ]
    }
   ],
   "source": [
    "# 현재 날짜\n",
    "current_date = current_time.strftime('%Y%m%d')\n",
    "\n",
    "# 현재 경로 확인\n",
    "code_path = os.getcwd().replace('\\\\', '/')\n",
    "# 수집한 파일 저장할 폴더 생성\n",
    "crawled_folder_path = os.path.join(code_path, 'crawled_data', 'naver_stock', 'home', current_date)\n",
    "os.makedirs(crawled_folder_path, exist_ok=True)\n",
    "# 저장할 파일 경로\n",
    "file_path = os.path.join(crawled_folder_path, f'naver_stock_home_{current_time.strftime(\"%Y%m%d_%H%M%S\")}.xlsx')\n",
    "\n",
    "# 탭 정보 : 거래상위, 상승, 하락, 시가총액상위\n",
    "sheet_name_list = ['거래상위', '상승', '하락', '시가총액상위']\n",
    "with pd.ExcelWriter(file_path, engine='openpyxl') as writer:\n",
    "    for group, sheet_name in zip(group_types, sheet_name_list):\n",
    "        # 종목 정보 추출\n",
    "        stock_lines = group.select('tbody tr')\n",
    "        \n",
    "        stock_name_list = []\n",
    "        current_price_list = []\n",
    "        compare_yesterday_list = []\n",
    "        updown_ratio_list = []\n",
    "        for one_stock in stock_lines:\n",
    "            # 종목명\n",
    "            stock_name = one_stock.select_one('th a').text\n",
    "\n",
    "            # 현재가\n",
    "            current_price = int(one_stock.select_one('td').text.replace(',', ''))\n",
    "\n",
    "            # 전일대비\n",
    "            raw_compare_yesterday = one_stock.select('td')[1].text\n",
    "            compare_yesterday = extract_number(raw_compare_yesterday)\n",
    "\n",
    "            # 등락률\n",
    "            raw_updown_ratio = one_stock.select('td')[2].text.strip()\n",
    "            updown_ratio = float(re.sub('[^0-9.-]', '', raw_updown_ratio))\n",
    "\n",
    "            # 리스트에 추가\n",
    "            stock_name_list.append(stock_name)\n",
    "            current_price_list.append(current_price)\n",
    "            compare_yesterday_list.append(compare_yesterday)\n",
    "            updown_ratio_list.append(updown_ratio)\n",
    "        \n",
    "        # 데이터프레임 생성\n",
    "        df = pd.DataFrame(\n",
    "            {\n",
    "                '수집시간': current_time,\n",
    "                '종목명': stock_name_list,\n",
    "                '현재가': current_price_list,\n",
    "                '전일대비': compare_yesterday_list,\n",
    "                '등락률(%)': updown_ratio_list\n",
    "            }\n",
    "        )\n",
    "        df.to_excel(writer, sheet_name=sheet_name, index=False)\n",
    "\n",
    "# 엑셀 파일 로드\n",
    "wb = load_workbook(file_path)\n",
    "\n",
    "# 각 시트에 대해 셀 서식 설정\n",
    "for sheet_name in sheet_name_list:\n",
    "    ws = wb[sheet_name]\n",
    "    for row in ws.iter_rows(min_row=2, min_col=5, max_col=5):  # '등락률' 열에 대해 서식 설정\n",
    "        for cell in row:\n",
    "            cell.number_format = '0.00'\n",
    "\n",
    "# 엑셀 파일 저장\n",
    "wb.save(file_path)\n",
    "\n",
    "print('데이터 저장 경로 :', crawled_folder_path)\n",
    "print('저장완료')"
   ]
  },
  {
   "cell_type": "markdown",
   "metadata": {},
   "source": [
    "# END"
   ]
  }
 ],
 "metadata": {
  "kernelspec": {
   "display_name": "crawling",
   "language": "python",
   "name": "python3"
  },
  "language_info": {
   "codemirror_mode": {
    "name": "ipython",
    "version": 3
   },
   "file_extension": ".py",
   "mimetype": "text/x-python",
   "name": "python",
   "nbconvert_exporter": "python",
   "pygments_lexer": "ipython3",
   "version": "3.13.0"
  }
 },
 "nbformat": 4,
 "nbformat_minor": 2
}
