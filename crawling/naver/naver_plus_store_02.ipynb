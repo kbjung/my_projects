{
 "cells": [
  {
   "cell_type": "markdown",
   "metadata": {},
   "source": [
    "# Library"
   ]
  },
  {
   "cell_type": "code",
   "execution_count": 1,
   "metadata": {},
   "outputs": [],
   "source": [
    "import requests\n",
    "from bs4 import BeautifulSoup as bs\n",
    "\n",
    "import time, os, random\n",
    "import pandas as pd\n",
    "import re\n",
    "import numpy as np\n",
    "\n",
    "from selenium import webdriver\n",
    "import chromedriver_autoinstaller as ca\n",
    "\n",
    "from selenium.webdriver.common.by import By\n",
    "from selenium.webdriver import ActionChains\n",
    "from selenium.webdriver.common.keys import Keys"
   ]
  },
  {
   "cell_type": "markdown",
   "metadata": {},
   "source": [
    "## chrome driver 설치"
   ]
  },
  {
   "cell_type": "code",
   "execution_count": 2,
   "metadata": {},
   "outputs": [],
   "source": [
    "# USB error 메세지 발생 해결을 위한 코드\n",
    "options = webdriver.ChromeOptions()\n",
    "options.add_experimental_option(\"excludeSwitches\", [\"enable-logging\"])"
   ]
  },
  {
   "cell_type": "code",
   "execution_count": 3,
   "metadata": {},
   "outputs": [
    {
     "data": {
      "text/plain": [
       "'131'"
      ]
     },
     "execution_count": 3,
     "metadata": {},
     "output_type": "execute_result"
    }
   ],
   "source": [
    "# 현재 크롬 버전 확인\n",
    "chrome_ver = ca.get_chrome_version().split('.')[0]\n",
    "chrome_ver"
   ]
  },
  {
   "cell_type": "code",
   "execution_count": null,
   "metadata": {},
   "outputs": [
    {
     "data": {
      "text/plain": [
       "'c:\\\\Users\\\\kbjoo\\\\Documents\\\\Google_Drive\\\\GitHub\\\\my_projects\\\\crawling\\\\naver\\\\131\\\\chromedriver.exe'"
      ]
     },
     "execution_count": 11,
     "metadata": {},
     "output_type": "execute_result"
    }
   ],
   "source": [
    "# # 크롬 드라이버 확인 및 설치(처음 한번만 실행)\n",
    "# ca.install(True)"
   ]
  },
  {
   "cell_type": "markdown",
   "metadata": {},
   "source": [
    "### chrome driver 실행"
   ]
  },
  {
   "cell_type": "code",
   "execution_count": 12,
   "metadata": {},
   "outputs": [],
   "source": [
    "# 웹드라이버 실행\n",
    "driver = webdriver.Chrome(options=options)"
   ]
  },
  {
   "cell_type": "markdown",
   "metadata": {},
   "source": [
    "## 페이지 접속"
   ]
  },
  {
   "cell_type": "code",
   "execution_count": null,
   "metadata": {},
   "outputs": [],
   "source": [
    "# 페이지 주소\n",
    "url = 'https://shopping.naver.com/ns/home'"
   ]
  },
  {
   "cell_type": "markdown",
   "metadata": {},
   "source": [
    "### requests 테스트\n",
    "- 페이지 접속 가능 여부확인\n",
    "    - 가능할 경우 출력 : <Response [200]>"
   ]
  },
  {
   "cell_type": "code",
   "execution_count": 14,
   "metadata": {},
   "outputs": [],
   "source": [
    "# req = requests.get(url)\n",
    "# print(req)\n",
    "# html = req.content.decode('utf-8') # 한글 깨짐 해결 코드\n",
    "# soup = bs(html, 'html.parser')\n",
    "# soup.title.text"
   ]
  },
  {
   "cell_type": "markdown",
   "metadata": {},
   "source": [
    "### selenium 작동"
   ]
  },
  {
   "cell_type": "code",
   "execution_count": 15,
   "metadata": {},
   "outputs": [],
   "source": [
    "driver.get(url)\n",
    "driver.implicitly_wait(random.randrange(2, 5))\n",
    "# driver.maximize_window() # 브라우져 창 최대화"
   ]
  },
  {
   "cell_type": "markdown",
   "metadata": {},
   "source": [
    "### 검색 창에 검색어 입력"
   ]
  },
  {
   "cell_type": "code",
   "execution_count": null,
   "metadata": {},
   "outputs": [],
   "source": [
    "search_keyword = '가습기'\n",
    "\n",
    "before_search_window_xpath = '//*[@id=\"gnb-gnb\"]/div/div/div[2]/div[2]/button' # 전단계 검색 입력창\n",
    "\n",
    "before_search_window = driver.find_element(By.XPATH, before_search_window_xpath)\n",
    "before_search_window.click()\n",
    "time.sleep(random.randrange(1, 3))"
   ]
  },
  {
   "cell_type": "code",
   "execution_count": null,
   "metadata": {},
   "outputs": [],
   "source": [
    "search_window_xpath = '//*[@id=\"input_text\"]' # 검색 입력창\n",
    "\n",
    "search_window = driver.find_element(By.XPATH, search_window_xpath)\n",
    "search_window.send_keys(search_keyword)\n",
    "time.sleep(random.randrange(1, 3))\n",
    "search_window.send_keys(Keys.RETURN)"
   ]
  },
  {
   "cell_type": "code",
   "execution_count": 20,
   "metadata": {},
   "outputs": [],
   "source": [
    "# 스크롤해야 정보가 로드되는 페이지\n",
    "\n",
    "# 페이지 스크롤 다운\n",
    "driver.execute_script(\"window.scrollTo(0, document.body.scrollHeight);\")\n",
    "time.sleep(random.uniform(1, 3))"
   ]
  },
  {
   "cell_type": "markdown",
   "metadata": {},
   "source": [
    "## 입력 키워드 정보 수집 "
   ]
  },
  {
   "cell_type": "code",
   "execution_count": 21,
   "metadata": {},
   "outputs": [
    {
     "data": {
      "text/plain": [
       "'가습기 : 네이버+ 스토어 검색'"
      ]
     },
     "execution_count": 21,
     "metadata": {},
     "output_type": "execute_result"
    }
   ],
   "source": [
    "page = driver.page_source\n",
    "soup = bs(page, 'html.parser')\n",
    "soup.title.text"
   ]
  },
  {
   "cell_type": "code",
   "execution_count": 22,
   "metadata": {},
   "outputs": [
    {
     "data": {
      "text/plain": [
       "2"
      ]
     },
     "execution_count": 22,
     "metadata": {},
     "output_type": "execute_result"
    }
   ],
   "source": [
    "# 상품 섹션\n",
    "products_section = soup.select_one('div#composite-card-list')\n",
    "len(products_section)"
   ]
  },
  {
   "cell_type": "code",
   "execution_count": 23,
   "metadata": {},
   "outputs": [
    {
     "data": {
      "text/plain": [
       "99"
      ]
     },
     "execution_count": 23,
     "metadata": {},
     "output_type": "execute_result"
    }
   ],
   "source": [
    "# 상품 리스트\n",
    "product_list = products_section.select('li.compositeCardContainer_composite_card_container__jr8cb div.basicProductCard_basic_product_card__TdrHT')\n",
    "len(product_list)"
   ]
  },
  {
   "cell_type": "markdown",
   "metadata": {},
   "source": [
    "## 🔧 이미지 링크\n",
    "- 90번대 이미지 링크 오류 수정 필요"
   ]
  },
  {
   "cell_type": "code",
   "execution_count": 24,
   "metadata": {},
   "outputs": [
    {
     "data": {
      "text/plain": [
       "[<img alt=\"\" class=\"autoFitImg_auto_fit_img__fIpj4 autoFitImg_full_height__QCTGq productCardThumbnail_image__Li6iz scale\" data-src=\"https://shopping-phinf.pstatic.net/main_8838834/88388342556.11.jpg?type=f300\" src=\"https://shopping-phinf.pstatic.net/main_8838834/88388342556.11.jpg?type=f300\" style=\"opacity: 1;\"/>]"
      ]
     },
     "execution_count": 24,
     "metadata": {},
     "output_type": "execute_result"
    }
   ],
   "source": [
    "# 상품 썸네일 이미지 링크\n",
    "order_number = 0\n",
    "product_list[order_number].select('div.productCardThumbnail_thumbnail__KzO1N img')"
   ]
  },
  {
   "cell_type": "code",
   "execution_count": 25,
   "metadata": {},
   "outputs": [
    {
     "data": {
      "text/plain": [
       "'https://shopping-phinf.pstatic.net/main_8838834/88388342556.11.jpg?type=f300'"
      ]
     },
     "execution_count": 25,
     "metadata": {},
     "output_type": "execute_result"
    }
   ],
   "source": [
    "product_thumnail_img_src = product_list[order_number].select_one('div.productCardThumbnail_thumbnail__KzO1N img.autoFitImg_auto_fit_img__fIpj4')['src']\n",
    "# product_thumnail_img_src = product_list[order_number].find('img', class_='autoFitImg_auto_fit_img__fIpj4 autoFitImg_full_height__QCTGq productCardThumbnail_image__Li6iz scale').attrs['src']\n",
    "product_thumnail_img_src"
   ]
  },
  {
   "cell_type": "code",
   "execution_count": 26,
   "metadata": {},
   "outputs": [
    {
     "name": "stdout",
     "output_type": "stream",
     "text": [
      "웰포트 올스텐 신생아 가열식가습기 ST-2000 티타늄\n",
      "할인 전 판매가489,000원\n",
      "12%할인\n",
      "429,000원\n"
     ]
    }
   ],
   "source": [
    "# 상품 정보 섹션\n",
    "order_number = 0\n",
    "# 상품 제목\n",
    "print(product_list[order_number].select_one('div.basicProductCardInformation_basic_product_card_information__7v_uc strong.basicProductCardInformation_title__Bc_Ng').text)\n",
    "\n",
    "# 상품 가격\n",
    "\n",
    "print(product_list[order_number].select_one('div.basicProductCardInformation_basic_product_card_information__7v_uc span.priceTag_original_price__jyZRY').text)\n",
    "print(product_list[order_number].select_one('div.basicProductCardInformation_basic_product_card_information__7v_uc span.priceTag_discount__F_ZXz').text)\n",
    "print(product_list[order_number].select_one('div.basicProductCardInformation_basic_product_card_information__7v_uc span.priceTag_inner_price__TctbK').text)"
   ]
  },
  {
   "cell_type": "code",
   "execution_count": 27,
   "metadata": {},
   "outputs": [
    {
     "name": "stdout",
     "output_type": "stream",
     "text": [
      "케리프 타워제로 트리플케어 UV 가열 복합식 대용량 가습기 KLH-9000UV\n",
      "할인 전 판매가240,000원\n",
      "42%할인\n",
      "139,000원\n"
     ]
    }
   ],
   "source": [
    "# 상품 정보 섹션\n",
    "order_number = 1\n",
    "# 상품 제목\n",
    "print(product_list[order_number].select_one('div.basicProductCardInformation_basic_product_card_information__7v_uc strong.basicProductCardInformation_title__Bc_Ng').text)\n",
    "\n",
    "# 상품 가격\n",
    "\n",
    "print(product_list[order_number].select_one('div.basicProductCardInformation_basic_product_card_information__7v_uc span.priceTag_original_price__jyZRY').text)\n",
    "print(product_list[order_number].select_one('div.basicProductCardInformation_basic_product_card_information__7v_uc span.priceTag_discount__F_ZXz').text)\n",
    "print(product_list[order_number].select_one('div.basicProductCardInformation_basic_product_card_information__7v_uc span.priceTag_inner_price__TctbK').text)"
   ]
  },
  {
   "cell_type": "code",
   "execution_count": 28,
   "metadata": {},
   "outputs": [
    {
     "name": "stdout",
     "output_type": "stream",
     "text": [
      "시즘 가열식 가습기 신생아 아기 밥통 대용량 유리 수조통 가습기\n",
      "할인 전 판매가329,000원\n",
      "39%할인\n",
      "198,000원\n"
     ]
    }
   ],
   "source": [
    "# 상품 정보 섹션\n",
    "    # 할인 하지 않는 상품 존재 : 7, 12, 24 등등\n",
    "order_number = 23\n",
    "# 상품 제목\n",
    "print(product_list[order_number].select_one('div.basicProductCardInformation_basic_product_card_information__7v_uc strong.basicProductCardInformation_title__Bc_Ng').text)\n",
    "\n",
    "# 상품 가격\n",
    "try:\n",
    "    print(product_list[order_number].select_one('div.basicProductCardInformation_basic_product_card_information__7v_uc span.priceTag_original_price__jyZRY').text)\n",
    "except:\n",
    "    print('할인없음')\n",
    "try:\n",
    "    print(product_list[order_number].select_one('div.basicProductCardInformation_basic_product_card_information__7v_uc span.priceTag_discount__F_ZXz').text)\n",
    "except:\n",
    "    print('할인없음')\n",
    "print(product_list[order_number].select_one('div.basicProductCardInformation_basic_product_card_information__7v_uc span.priceTag_inner_price__TctbK').text)"
   ]
  },
  {
   "cell_type": "markdown",
   "metadata": {},
   "source": [
    "# 🔧 수집한 데이터 전처리\n",
    "- 원래가격, 할인률, 현재가격 숫자만 표기하도록 정제\n",
    "- 원래가격, 할인률 nan 값 처리된 부분 확인"
   ]
  },
  {
   "cell_type": "code",
   "execution_count": 30,
   "metadata": {},
   "outputs": [],
   "source": [
    "num_list, img_src_list, title_list, original_price_list, discount_rate_list, price_list = [], [], [], [], [], []\n",
    "\n",
    "for i in range(len(product_list)):\n",
    "    try:\n",
    "        num = i + 1\n",
    "        img_src = product_list[i].select_one('div.productCardThumbnail_thumbnail__KzO1N img.autoFitImg_auto_fit_img__fIpj4')['src']\n",
    "        \n",
    "        title = product_list[i].select_one('div.basicProductCardInformation_basic_product_card_information__7v_uc strong.basicProductCardInformation_title__Bc_Ng').text\n",
    "        \n",
    "        try:\n",
    "            original_price = product_list[i].select_one('div.basicProductCardInformation_basic_product_card_information__7v_uc span.priceTag_original_price__jyZRY').text\n",
    "        except:\n",
    "            original_price = np.nan\n",
    "        try:\n",
    "            discount_rate = product_list[i].select_one('div.basicProductCardInformation_basic_product_card_information__7v_uc span.priceTag_discount__F_ZXz').text\n",
    "        except:\n",
    "            discount_rate = np.nan\n",
    "        price = product_list[i].select_one('div.basicProductCardInformation_basic_product_card_information__7v_uc span.priceTag_inner_price__TctbK').text\n",
    "\n",
    "        num_list.append(num)\n",
    "        img_src_list.append(img_src)\n",
    "        title_list.append(title)\n",
    "        original_price_list.append(original_price)\n",
    "        discount_rate_list.append(discount_rate)\n",
    "        price_list.append(price)\n",
    "    except:\n",
    "        print(i)"
   ]
  },
  {
   "cell_type": "code",
   "execution_count": 31,
   "metadata": {},
   "outputs": [
    {
     "data": {
      "text/plain": [
       "(99, 99, 99, 99, 99, 99)"
      ]
     },
     "execution_count": 31,
     "metadata": {},
     "output_type": "execute_result"
    }
   ],
   "source": [
    "len(num_list), len(img_src_list), len(title_list), len(original_price_list), len(discount_rate_list), len(price_list)"
   ]
  },
  {
   "cell_type": "code",
   "execution_count": 32,
   "metadata": {},
   "outputs": [
    {
     "data": {
      "text/html": [
       "<div>\n",
       "<style scoped>\n",
       "    .dataframe tbody tr th:only-of-type {\n",
       "        vertical-align: middle;\n",
       "    }\n",
       "\n",
       "    .dataframe tbody tr th {\n",
       "        vertical-align: top;\n",
       "    }\n",
       "\n",
       "    .dataframe thead th {\n",
       "        text-align: right;\n",
       "    }\n",
       "</style>\n",
       "<table border=\"1\" class=\"dataframe\">\n",
       "  <thead>\n",
       "    <tr style=\"text-align: right;\">\n",
       "      <th></th>\n",
       "      <th>번호</th>\n",
       "      <th>이미지링크</th>\n",
       "      <th>제품제목</th>\n",
       "      <th>원래가격</th>\n",
       "      <th>할인률</th>\n",
       "      <th>현재가격</th>\n",
       "    </tr>\n",
       "  </thead>\n",
       "  <tbody>\n",
       "    <tr>\n",
       "      <th>0</th>\n",
       "      <td>1</td>\n",
       "      <td>https://shopping-phinf.pstatic.net/main_883883...</td>\n",
       "      <td>웰포트 올스텐 신생아 가열식가습기 ST-2000 티타늄</td>\n",
       "      <td>할인 전 판매가489,000원</td>\n",
       "      <td>12%할인</td>\n",
       "      <td>429,000원</td>\n",
       "    </tr>\n",
       "    <tr>\n",
       "      <th>1</th>\n",
       "      <td>2</td>\n",
       "      <td>https://shopping-phinf.pstatic.net/main_885023...</td>\n",
       "      <td>케리프 타워제로 트리플케어 UV 가열 복합식 대용량 가습기 KLH-9000UV</td>\n",
       "      <td>할인 전 판매가240,000원</td>\n",
       "      <td>42%할인</td>\n",
       "      <td>139,000원</td>\n",
       "    </tr>\n",
       "    <tr>\n",
       "      <th>2</th>\n",
       "      <td>3</td>\n",
       "      <td>https://searchad-phinf.pstatic.net/MjAyNDEyMDN...</td>\n",
       "      <td>에어메이드 신제품 가열 살균 열풍자동건조 9L 가습기 아쿠아마린 AMH-9002</td>\n",
       "      <td>할인 전 판매가279,000원</td>\n",
       "      <td>39%할인</td>\n",
       "      <td>169,000원</td>\n",
       "    </tr>\n",
       "    <tr>\n",
       "      <th>3</th>\n",
       "      <td>4</td>\n",
       "      <td>https://searchad-phinf.pstatic.net/MjAyMzA5MDd...</td>\n",
       "      <td>디디오랩 아기 신생아 올스텐 가열식 가습기</td>\n",
       "      <td>할인 전 판매가274,000원</td>\n",
       "      <td>41%할인</td>\n",
       "      <td>159,000원</td>\n",
       "    </tr>\n",
       "    <tr>\n",
       "      <th>4</th>\n",
       "      <td>5</td>\n",
       "      <td>https://shopping-phinf.pstatic.net/main_867046...</td>\n",
       "      <td>루메나 듀얼 무선 미니가습기 H3 X</td>\n",
       "      <td>할인 전 판매가45,900원</td>\n",
       "      <td>21%할인</td>\n",
       "      <td>35,900원</td>\n",
       "    </tr>\n",
       "  </tbody>\n",
       "</table>\n",
       "</div>"
      ],
      "text/plain": [
       "   번호                                              이미지링크  \\\n",
       "0   1  https://shopping-phinf.pstatic.net/main_883883...   \n",
       "1   2  https://shopping-phinf.pstatic.net/main_885023...   \n",
       "2   3  https://searchad-phinf.pstatic.net/MjAyNDEyMDN...   \n",
       "3   4  https://searchad-phinf.pstatic.net/MjAyMzA5MDd...   \n",
       "4   5  https://shopping-phinf.pstatic.net/main_867046...   \n",
       "\n",
       "                                           제품제목              원래가격    할인률  \\\n",
       "0                웰포트 올스텐 신생아 가열식가습기 ST-2000 티타늄  할인 전 판매가489,000원  12%할인   \n",
       "1   케리프 타워제로 트리플케어 UV 가열 복합식 대용량 가습기 KLH-9000UV  할인 전 판매가240,000원  42%할인   \n",
       "2  에어메이드 신제품 가열 살균 열풍자동건조 9L 가습기 아쿠아마린 AMH-9002  할인 전 판매가279,000원  39%할인   \n",
       "3                       디디오랩 아기 신생아 올스텐 가열식 가습기  할인 전 판매가274,000원  41%할인   \n",
       "4                          루메나 듀얼 무선 미니가습기 H3 X   할인 전 판매가45,900원  21%할인   \n",
       "\n",
       "       현재가격  \n",
       "0  429,000원  \n",
       "1  139,000원  \n",
       "2  169,000원  \n",
       "3  159,000원  \n",
       "4   35,900원  "
      ]
     },
     "execution_count": 32,
     "metadata": {},
     "output_type": "execute_result"
    }
   ],
   "source": [
    "data_dict = {\n",
    "    '번호':num_list, \n",
    "    '이미지링크':img_src_list,\n",
    "    '제품제목':title_list,\n",
    "    '원래가격':original_price_list,\n",
    "    '할인률':discount_rate_list,\n",
    "    '현재가격':price_list\n",
    "    }\n",
    "df = pd.DataFrame(data_dict)\n",
    "df.head()"
   ]
  },
  {
   "cell_type": "code",
   "execution_count": 33,
   "metadata": {},
   "outputs": [
    {
     "data": {
      "text/html": [
       "<div>\n",
       "<style scoped>\n",
       "    .dataframe tbody tr th:only-of-type {\n",
       "        vertical-align: middle;\n",
       "    }\n",
       "\n",
       "    .dataframe tbody tr th {\n",
       "        vertical-align: top;\n",
       "    }\n",
       "\n",
       "    .dataframe thead th {\n",
       "        text-align: right;\n",
       "    }\n",
       "</style>\n",
       "<table border=\"1\" class=\"dataframe\">\n",
       "  <thead>\n",
       "    <tr style=\"text-align: right;\">\n",
       "      <th></th>\n",
       "      <th>번호</th>\n",
       "      <th>이미지링크</th>\n",
       "      <th>제품제목</th>\n",
       "      <th>원래가격</th>\n",
       "      <th>할인률</th>\n",
       "      <th>현재가격</th>\n",
       "    </tr>\n",
       "  </thead>\n",
       "  <tbody>\n",
       "    <tr>\n",
       "      <th>94</th>\n",
       "      <td>95</td>\n",
       "      <td>data:image/png;base64,iVBORw0KGgoAAAANSUhEUgAA...</td>\n",
       "      <td>듀플렉스 베베 리모컨 가열식 신생아 가습기 3.5L DP-780WH</td>\n",
       "      <td>할인 전 판매가97,000원</td>\n",
       "      <td>19%할인</td>\n",
       "      <td>78,000원</td>\n",
       "    </tr>\n",
       "    <tr>\n",
       "      <th>95</th>\n",
       "      <td>96</td>\n",
       "      <td>data:image/png;base64,iVBORw0KGgoAAAANSUhEUgAA...</td>\n",
       "      <td>웰포트 올스텐 신생아 가열식가습기 ST-2000 티타늄</td>\n",
       "      <td>할인 전 판매가489,000원</td>\n",
       "      <td>12%할인</td>\n",
       "      <td>429,000원</td>\n",
       "    </tr>\n",
       "    <tr>\n",
       "      <th>96</th>\n",
       "      <td>97</td>\n",
       "      <td>data:image/png;base64,iVBORw0KGgoAAAANSUhEUgAA...</td>\n",
       "      <td>감성전자 워터캔들 신생아 아기 가습기 세척 편한 대용량 가열식가습기 GS-HM25WT</td>\n",
       "      <td>할인 전 판매가299,000원</td>\n",
       "      <td>36%할인</td>\n",
       "      <td>189,000원</td>\n",
       "    </tr>\n",
       "    <tr>\n",
       "      <th>97</th>\n",
       "      <td>98</td>\n",
       "      <td>data:image/png;base64,iVBORw0KGgoAAAANSUhEUgAA...</td>\n",
       "      <td>르젠 스타일리쉬 가열식 가습기 모래시계형 저전력 최대 180W 인테리어 디자인</td>\n",
       "      <td>할인 전 판매가139,000원</td>\n",
       "      <td>14%할인</td>\n",
       "      <td>119,000원</td>\n",
       "    </tr>\n",
       "    <tr>\n",
       "      <th>98</th>\n",
       "      <td>99</td>\n",
       "      <td>data:image/png;base64,iVBORw0KGgoAAAANSUhEUgAA...</td>\n",
       "      <td>한일 스퀘어 유리 세라믹 물멍 무드등 아기 신생아 가열식 가습기</td>\n",
       "      <td>할인 전 판매가239,000원</td>\n",
       "      <td>20%할인</td>\n",
       "      <td>189,000원</td>\n",
       "    </tr>\n",
       "  </tbody>\n",
       "</table>\n",
       "</div>"
      ],
      "text/plain": [
       "    번호                                              이미지링크  \\\n",
       "94  95  data:image/png;base64,iVBORw0KGgoAAAANSUhEUgAA...   \n",
       "95  96  data:image/png;base64,iVBORw0KGgoAAAANSUhEUgAA...   \n",
       "96  97  data:image/png;base64,iVBORw0KGgoAAAANSUhEUgAA...   \n",
       "97  98  data:image/png;base64,iVBORw0KGgoAAAANSUhEUgAA...   \n",
       "98  99  data:image/png;base64,iVBORw0KGgoAAAANSUhEUgAA...   \n",
       "\n",
       "                                               제품제목              원래가격    할인률  \\\n",
       "94            듀플렉스 베베 리모컨 가열식 신생아 가습기 3.5L DP-780WH   할인 전 판매가97,000원  19%할인   \n",
       "95                   웰포트 올스텐 신생아 가열식가습기 ST-2000 티타늄  할인 전 판매가489,000원  12%할인   \n",
       "96  감성전자 워터캔들 신생아 아기 가습기 세척 편한 대용량 가열식가습기 GS-HM25WT  할인 전 판매가299,000원  36%할인   \n",
       "97      르젠 스타일리쉬 가열식 가습기 모래시계형 저전력 최대 180W 인테리어 디자인  할인 전 판매가139,000원  14%할인   \n",
       "98              한일 스퀘어 유리 세라믹 물멍 무드등 아기 신생아 가열식 가습기  할인 전 판매가239,000원  20%할인   \n",
       "\n",
       "        현재가격  \n",
       "94   78,000원  \n",
       "95  429,000원  \n",
       "96  189,000원  \n",
       "97  119,000원  \n",
       "98  189,000원  "
      ]
     },
     "execution_count": 33,
     "metadata": {},
     "output_type": "execute_result"
    }
   ],
   "source": [
    "df.tail()"
   ]
  },
  {
   "cell_type": "code",
   "execution_count": 34,
   "metadata": {},
   "outputs": [
    {
     "data": {
      "text/html": [
       "<div>\n",
       "<style scoped>\n",
       "    .dataframe tbody tr th:only-of-type {\n",
       "        vertical-align: middle;\n",
       "    }\n",
       "\n",
       "    .dataframe tbody tr th {\n",
       "        vertical-align: top;\n",
       "    }\n",
       "\n",
       "    .dataframe thead th {\n",
       "        text-align: right;\n",
       "    }\n",
       "</style>\n",
       "<table border=\"1\" class=\"dataframe\">\n",
       "  <thead>\n",
       "    <tr style=\"text-align: right;\">\n",
       "      <th></th>\n",
       "      <th>번호</th>\n",
       "      <th>이미지링크</th>\n",
       "      <th>제품제목</th>\n",
       "      <th>원래가격</th>\n",
       "      <th>할인률</th>\n",
       "      <th>현재가격</th>\n",
       "    </tr>\n",
       "  </thead>\n",
       "  <tbody>\n",
       "    <tr>\n",
       "      <th>40</th>\n",
       "      <td>41</td>\n",
       "      <td>https://shopping-phinf.pstatic.net/main_827353...</td>\n",
       "      <td>에코후레쉬 화산 에서 온 가습제 천연 가습기 자연 기화식 제올라이트 돌 화산석</td>\n",
       "      <td>할인 전 판매가16,000원</td>\n",
       "      <td>25%할인</td>\n",
       "      <td>11,900원</td>\n",
       "    </tr>\n",
       "    <tr>\n",
       "      <th>41</th>\n",
       "      <td>42</td>\n",
       "      <td>https://shopping-phinf.pstatic.net/main_822281...</td>\n",
       "      <td>대용량 가습기 사무실 대형가습기 업소용 산업용 공업용 거실 통세척 13L 다이얼</td>\n",
       "      <td>할인 전 판매가169,000원</td>\n",
       "      <td>41%할인</td>\n",
       "      <td>99,000원</td>\n",
       "    </tr>\n",
       "    <tr>\n",
       "      <th>42</th>\n",
       "      <td>43</td>\n",
       "      <td>https://shopping-phinf.pstatic.net/main_884625...</td>\n",
       "      <td>에어메이드 복합식 대용량 가습기 아쿠아마린 AMH-9902UV</td>\n",
       "      <td>할인 전 판매가339,000원</td>\n",
       "      <td>41%할인</td>\n",
       "      <td>198,000원</td>\n",
       "    </tr>\n",
       "    <tr>\n",
       "      <th>43</th>\n",
       "      <td>44</td>\n",
       "      <td>https://shopping-phinf.pstatic.net/main_834861...</td>\n",
       "      <td>듀플렉스 무드등 초음파 가습기 3.5L DP-G50UH</td>\n",
       "      <td>할인 전 판매가36,900원</td>\n",
       "      <td>21%할인</td>\n",
       "      <td>28,900원</td>\n",
       "    </tr>\n",
       "    <tr>\n",
       "      <th>44</th>\n",
       "      <td>45</td>\n",
       "      <td>https://shopping-phinf.pstatic.net/main_885023...</td>\n",
       "      <td>케리프 타워제로 트리플케어 UV 가열 복합식 대용량 가습기 KLH-9000UV</td>\n",
       "      <td>할인 전 판매가240,000원</td>\n",
       "      <td>42%할인</td>\n",
       "      <td>139,000원</td>\n",
       "    </tr>\n",
       "    <tr>\n",
       "      <th>45</th>\n",
       "      <td>46</td>\n",
       "      <td>https://shopping-phinf.pstatic.net/main_867438...</td>\n",
       "      <td>르젠 숨시내 가열식 가습기 올스텐 밥통 밥솥 신생아 5세대 3.5L</td>\n",
       "      <td>할인 전 판매가386,000원</td>\n",
       "      <td>30%할인</td>\n",
       "      <td>268,000원</td>\n",
       "    </tr>\n",
       "    <tr>\n",
       "      <th>46</th>\n",
       "      <td>47</td>\n",
       "      <td>https://shopping-phinf.pstatic.net/main_870396...</td>\n",
       "      <td>한일 3.5L 물멍 가열식 가습기 신생아 아기 가습기</td>\n",
       "      <td>할인 전 판매가339,000원</td>\n",
       "      <td>44%할인</td>\n",
       "      <td>188,000원</td>\n",
       "    </tr>\n",
       "    <tr>\n",
       "      <th>47</th>\n",
       "      <td>48</td>\n",
       "      <td>https://shopping-phinf.pstatic.net/main_869825...</td>\n",
       "      <td>미니 가습기 USB가습기 사무실 휴대용 탁상용 가습기</td>\n",
       "      <td>할인 전 판매가25,000원</td>\n",
       "      <td>24%할인</td>\n",
       "      <td>19,000원</td>\n",
       "    </tr>\n",
       "    <tr>\n",
       "      <th>48</th>\n",
       "      <td>49</td>\n",
       "      <td>https://shopping-phinf.pstatic.net/main_884409...</td>\n",
       "      <td>쿠쿠 스테인레스 3.8L 가열식 가습기 CH-FS301FW</td>\n",
       "      <td>할인 전 판매가449,000원</td>\n",
       "      <td>48%할인</td>\n",
       "      <td>229,000원</td>\n",
       "    </tr>\n",
       "    <tr>\n",
       "      <th>49</th>\n",
       "      <td>50</td>\n",
       "      <td>https://shopping-phinf.pstatic.net/main_885565...</td>\n",
       "      <td>밀리빙 복합식 대용량 가습기 타워형 3중 살균 13L</td>\n",
       "      <td>할인 전 판매가238,000원</td>\n",
       "      <td>16%할인</td>\n",
       "      <td>198,000원</td>\n",
       "    </tr>\n",
       "  </tbody>\n",
       "</table>\n",
       "</div>"
      ],
      "text/plain": [
       "    번호                                              이미지링크  \\\n",
       "40  41  https://shopping-phinf.pstatic.net/main_827353...   \n",
       "41  42  https://shopping-phinf.pstatic.net/main_822281...   \n",
       "42  43  https://shopping-phinf.pstatic.net/main_884625...   \n",
       "43  44  https://shopping-phinf.pstatic.net/main_834861...   \n",
       "44  45  https://shopping-phinf.pstatic.net/main_885023...   \n",
       "45  46  https://shopping-phinf.pstatic.net/main_867438...   \n",
       "46  47  https://shopping-phinf.pstatic.net/main_870396...   \n",
       "47  48  https://shopping-phinf.pstatic.net/main_869825...   \n",
       "48  49  https://shopping-phinf.pstatic.net/main_884409...   \n",
       "49  50  https://shopping-phinf.pstatic.net/main_885565...   \n",
       "\n",
       "                                            제품제목              원래가격    할인률  \\\n",
       "40   에코후레쉬 화산 에서 온 가습제 천연 가습기 자연 기화식 제올라이트 돌 화산석   할인 전 판매가16,000원  25%할인   \n",
       "41  대용량 가습기 사무실 대형가습기 업소용 산업용 공업용 거실 통세척 13L 다이얼  할인 전 판매가169,000원  41%할인   \n",
       "42            에어메이드 복합식 대용량 가습기 아쿠아마린 AMH-9902UV  할인 전 판매가339,000원  41%할인   \n",
       "43                듀플렉스 무드등 초음파 가습기 3.5L DP-G50UH   할인 전 판매가36,900원  21%할인   \n",
       "44   케리프 타워제로 트리플케어 UV 가열 복합식 대용량 가습기 KLH-9000UV  할인 전 판매가240,000원  42%할인   \n",
       "45         르젠 숨시내 가열식 가습기 올스텐 밥통 밥솥 신생아 5세대 3.5L  할인 전 판매가386,000원  30%할인   \n",
       "46                 한일 3.5L 물멍 가열식 가습기 신생아 아기 가습기  할인 전 판매가339,000원  44%할인   \n",
       "47                 미니 가습기 USB가습기 사무실 휴대용 탁상용 가습기   할인 전 판매가25,000원  24%할인   \n",
       "48              쿠쿠 스테인레스 3.8L 가열식 가습기 CH-FS301FW  할인 전 판매가449,000원  48%할인   \n",
       "49                 밀리빙 복합식 대용량 가습기 타워형 3중 살균 13L  할인 전 판매가238,000원  16%할인   \n",
       "\n",
       "        현재가격  \n",
       "40   11,900원  \n",
       "41   99,000원  \n",
       "42  198,000원  \n",
       "43   28,900원  \n",
       "44  139,000원  \n",
       "45  268,000원  \n",
       "46  188,000원  \n",
       "47   19,000원  \n",
       "48  229,000원  \n",
       "49  198,000원  "
      ]
     },
     "execution_count": 34,
     "metadata": {},
     "output_type": "execute_result"
    }
   ],
   "source": [
    "df.iloc[40:50]"
   ]
  },
  {
   "cell_type": "markdown",
   "metadata": {},
   "source": [
    "# 데이터 출력"
   ]
  },
  {
   "cell_type": "markdown",
   "metadata": {},
   "source": [
    "# END"
   ]
  }
 ],
 "metadata": {
  "kernelspec": {
   "display_name": "crawling",
   "language": "python",
   "name": "python3"
  },
  "language_info": {
   "codemirror_mode": {
    "name": "ipython",
    "version": 3
   },
   "file_extension": ".py",
   "mimetype": "text/x-python",
   "name": "python",
   "nbconvert_exporter": "python",
   "pygments_lexer": "ipython3",
   "version": "3.13.0"
  },
  "orig_nbformat": 4
 },
 "nbformat": 4,
 "nbformat_minor": 2
}
