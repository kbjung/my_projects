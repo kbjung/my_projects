{
 "cells": [
  {
   "cell_type": "markdown",
   "metadata": {},
   "source": [
    "# Library"
   ]
  },
  {
   "cell_type": "code",
   "execution_count": 133,
   "metadata": {},
   "outputs": [],
   "source": [
    "import requests\n",
    "from bs4 import BeautifulSoup as bs\n",
    "\n",
    "import time, os, random\n",
    "import pandas as pd\n",
    "import re\n",
    "import numpy as np\n",
    "\n",
    "from selenium import webdriver\n",
    "import chromedriver_autoinstaller as ca\n",
    "\n",
    "from selenium.webdriver.common.by import By\n",
    "from selenium.webdriver import ActionChains\n",
    "from selenium.webdriver.common.keys import Keys"
   ]
  },
  {
   "cell_type": "markdown",
   "metadata": {},
   "source": [
    "## chrome driver 설치"
   ]
  },
  {
   "cell_type": "code",
   "execution_count": 134,
   "metadata": {},
   "outputs": [],
   "source": [
    "# USB error 메세지 발생 해결을 위한 코드\n",
    "options = webdriver.ChromeOptions()\n",
    "options.add_experimental_option(\"excludeSwitches\", [\"enable-logging\"])"
   ]
  },
  {
   "cell_type": "code",
   "execution_count": 135,
   "metadata": {},
   "outputs": [
    {
     "data": {
      "text/plain": [
       "'131'"
      ]
     },
     "execution_count": 135,
     "metadata": {},
     "output_type": "execute_result"
    }
   ],
   "source": [
    "# 현재 크롬 버전 확인\n",
    "chrome_ver = ca.get_chrome_version().split('.')[0]\n",
    "chrome_ver"
   ]
  },
  {
   "cell_type": "code",
   "execution_count": 136,
   "metadata": {},
   "outputs": [],
   "source": [
    "# # 크롬 드라이버 확인 및 설치(처음 한번만 실행)\n",
    "# ca.install(True)"
   ]
  },
  {
   "cell_type": "markdown",
   "metadata": {},
   "source": [
    "## chrome driver 실행"
   ]
  },
  {
   "cell_type": "code",
   "execution_count": 207,
   "metadata": {},
   "outputs": [],
   "source": [
    "# 웹드라이버 실행\n",
    "driver = webdriver.Chrome(options=options)"
   ]
  },
  {
   "cell_type": "markdown",
   "metadata": {},
   "source": [
    "## 페이지 접속"
   ]
  },
  {
   "cell_type": "code",
   "execution_count": 200,
   "metadata": {},
   "outputs": [],
   "source": [
    "# 페이지 주소\n",
    "url = 'https://shopping.naver.com/ns/home'"
   ]
  },
  {
   "cell_type": "markdown",
   "metadata": {},
   "source": [
    "### requests 테스트\n",
    "- 페이지 접속 가능 여부확인\n",
    "    - 가능할 경우 출력 : <Response [200]>"
   ]
  },
  {
   "cell_type": "code",
   "execution_count": 201,
   "metadata": {},
   "outputs": [],
   "source": [
    "# req = requests.get(url)\n",
    "# print(req)\n",
    "# html = req.content.decode('utf-8') # 한글 깨짐 해결 코드\n",
    "# soup = bs(html, 'html.parser')\n",
    "# soup.title.text"
   ]
  },
  {
   "cell_type": "markdown",
   "metadata": {},
   "source": [
    "### selenium 작동"
   ]
  },
  {
   "cell_type": "code",
   "execution_count": 208,
   "metadata": {},
   "outputs": [],
   "source": [
    "driver.get(url)\n",
    "driver.implicitly_wait(10) # 페이지 로드 될 때까지 기다리지만 로드 되는 순간 종료\n",
    "# driver.maximize_window() # 브라우져 창 최대화"
   ]
  },
  {
   "cell_type": "markdown",
   "metadata": {},
   "source": [
    "### 검색 창에 검색어 입력"
   ]
  },
  {
   "cell_type": "code",
   "execution_count": 209,
   "metadata": {},
   "outputs": [],
   "source": [
    "search_keyword = '아이라인'\n",
    "# search_window_css = 'div._gnbSearch_gnb_search_ULxKx input' # 검색 입력창\n",
    "search_window_xpath = '//*[@id=\"gnb-gnb\"]/div[2]/div/div[2]/div[1]/form/div/div/div/div/input' # 검색 입력창\n",
    "# search_window_xpath2= '//*[@id=\"gnb-gnb\"]/div[2]/div/div[2]/div[1]/form/div/div[1]/div/div[1]/input' # 키워드 입력 후 검색 입력창\n",
    "# search_window = driver.find_element(By.CSS_SELECTOR, search_window_css)\n",
    "search_window = driver.find_element(By.XPATH, search_window_xpath)\n",
    "search_window.send_keys(search_keyword)\n",
    "time.sleep(random.randrange(1, 3))"
   ]
  },
  {
   "cell_type": "code",
   "execution_count": 210,
   "metadata": {},
   "outputs": [],
   "source": [
    "# search_window2 = driver.find_element(By.XPATH, search_window_xpath2)\n",
    "search_window.send_keys(Keys.ENTER)\n",
    "driver.implicitly_wait(10)"
   ]
  },
  {
   "cell_type": "code",
   "execution_count": 211,
   "metadata": {},
   "outputs": [],
   "source": [
    "# 스크롤해야 정보가 로드되는 페이지\n",
    "# 페이지 스크롤 다운\n",
    "driver.execute_script(\"window.scrollTo(0, document.body.scrollHeight);\") # 문서 높이 만큼 스크롤\n",
    "\n",
    "# 무한 페이지 스크롤다운\n",
    "# last_page_height = driver.execute_script(\"return document.documentElement.scrollHeight\")\n",
    "\n",
    "# while True:\n",
    "#     driver.execute_script(\"window.scrollTo(0, document.body.scrollHeight);\") # 문서 높이 만큼 스크롤\n",
    "#     # driver.execute_script(\"window.scrollTo(0, document.documentElement.scrollHeight);\") # # 문서 높이 만큼 스크롤(위 코드와 동일한 기능)\n",
    "#     time.sleep(random.uniform(1, 3))\n",
    "#     driver.implicitly_wait(10) # 페이지 로드 될 때까지 기다리지만 로드 되는 순간 종료\n",
    "\n",
    "#     new_page_height = driver.execute_script(\"return document.documentElement.scrollHeight\")\n",
    "#     if new_page_height == last_page_height:\n",
    "#         break\n",
    "#     else:\n",
    "#         last_page_height = new_page_height"
   ]
  },
  {
   "cell_type": "markdown",
   "metadata": {},
   "source": [
    "## 🔧 입력 키워드 정보 수집\n",
    "- 페이지 로드되어도 보고있는 화면 근처 정보만 수집되는걸로 보임\n",
    "    1. 페이지 스크롤 -> 수집 -> 페이지 스크롤 반복\n",
    "    2. 수집 후 중복 제거"
   ]
  },
  {
   "cell_type": "code",
   "execution_count": 212,
   "metadata": {},
   "outputs": [
    {
     "data": {
      "text/plain": [
       "'아이라인 : 네이버+ 스토어 검색'"
      ]
     },
     "execution_count": 212,
     "metadata": {},
     "output_type": "execute_result"
    }
   ],
   "source": [
    "page = driver.page_source\n",
    "soup = bs(page, 'html.parser')\n",
    "soup.title.text"
   ]
  },
  {
   "cell_type": "code",
   "execution_count": 213,
   "metadata": {},
   "outputs": [
    {
     "data": {
      "text/plain": [
       "2"
      ]
     },
     "execution_count": 213,
     "metadata": {},
     "output_type": "execute_result"
    }
   ],
   "source": [
    "# 상품 섹션\n",
    "products_section = soup.select_one('div#composite-card-list')\n",
    "len(products_section)"
   ]
  },
  {
   "cell_type": "code",
   "execution_count": 214,
   "metadata": {},
   "outputs": [
    {
     "data": {
      "text/plain": [
       "99"
      ]
     },
     "execution_count": 214,
     "metadata": {},
     "output_type": "execute_result"
    }
   ],
   "source": [
    "# 상품 리스트\n",
    "product_list = products_section.select('li.compositeCardContainer_composite_card_container__jr8cb.composite_card_container div.basicProductCard_basic_product_card__TdrHT.basicProductCard_view_type_grid2__vKr1n')\n",
    "len(product_list)"
   ]
  },
  {
   "cell_type": "markdown",
   "metadata": {},
   "source": [
    "### 상세 페이지 링크"
   ]
  },
  {
   "cell_type": "code",
   "execution_count": 215,
   "metadata": {},
   "outputs": [
    {
     "data": {
      "text/plain": [
       "'https://adcr.naver.com/adcr?x=ggiaX7df1Dwxp9OSeib4Kv///w==kRfZ4qXiBtnyGub3tLGg99ynrcKy9d3hh3imyllomYGZ2D6cwY2HrIbo0ZfBl1x0AL5AgXh+5zBENAJn6OIU4ULKIqSj5WQ25/pJZIDRmFLPY6rdk80j2XJ5hqeZC6v0ZpqGylQc/KqWT1YrCk7wRqepcvEv+IeOHbRoAF+APJ+N4yI+8hVM5i2znBiZ2dqZU+dQqiKq7quEb2vxbodpUfH5MJg8U+QZiDfRxHATUoUyacwDid7KD1hMuCWI6V3Npwnu9aVKjF8pSko72FP0KwZThErdps54B1NIEzYJFdDEILsYAVr5hDdi7QffFlABx0kJfFEcHEFyFL1meMmmHyQJ9JYa8GHbFdGV27pk+JKJXJ8Edo3xzAKcgMr6VKoKAKPOlBLRdN/lU5UCQDgzvP1wue8N/uj0prUIYXStA3M0Fli0v2eYBaYAXWVV71figSiakFliA6PRPnaJ1LqgtLabtpKZLlnLZ+oXTkNyOhM2CuSMj86BwOs5f2/LK55/pKOaVzx3UxBLOxFy+++A47EnzKOUauAhdrXk+K4yMzy/3itIPs3o1giRK+EHhdGrnFSq6gBpHVTZJYCC0ojwdEWMuNZ54quPl77Lz4pJVgdI8ncKXU0jEeN7Sby4xIOxugz8Hk3WdxW2v/Gaz4I3MQCHuqURWrGcurl/qa68jzaeBDv/w3dHatDh1CYJKFGJGjsdsGLzix8AsGlV98GD/nt9AUuUdWyAi3Q7gQaSKVQ5s9XW3+qm2B2x1U1UBAMBh+7JOgoSlVSV/mSbwes2+sSQYChbk3zkfDJJtCPx7p+mYzrrnbEQsy8Kt11PEZ61n6wKzfsKkEMazi1i606KbybfxHs480D2wQZcyx+uO60R15NIkpBEb4QuTZRxlkx2P#channelProductNo=6736074611'"
      ]
     },
     "execution_count": 215,
     "metadata": {},
     "output_type": "execute_result"
    }
   ],
   "source": [
    "# 상품 상세 페이지\n",
    "order_number = 0\n",
    "product_list[order_number].select_one('a.basicProductCard_link__urzND._nlog_click._nlog_impression_element')['href']"
   ]
  },
  {
   "cell_type": "markdown",
   "metadata": {},
   "source": [
    "### 🔧 이미지 링크\n",
    "- 이미지 저장 기능 추가"
   ]
  },
  {
   "cell_type": "code",
   "execution_count": 216,
   "metadata": {},
   "outputs": [
    {
     "data": {
      "text/plain": [
       "'https://searchad-phinf.pstatic.net/MjAyMzA1MDhfMjkg/MDAxNjgzNTEwNjQxNjYy.xUa6gZAGNXkMa56XZuYD7X7BtP6lz6-tG_pUDxJ-fZUg.HvspzRw0CZOdBfQveIE7os8pLB0vRDnAs39NaNl0-84g.PNG/2030179-742e2a42-b6d0-4cd8-98c4-839d3a9e89f5.png?type=f300'"
      ]
     },
     "execution_count": 216,
     "metadata": {},
     "output_type": "execute_result"
    }
   ],
   "source": [
    "# 상품 썸네일 이미지 링크\n",
    "order_number = 0\n",
    "product_list[order_number].select_one('div.productCardThumbnail_thumbnail__KzO1N img.autoFitImg_auto_fit_img__fIpj4.autoFitImg_full_height__QCTGq.productCardThumbnail_image__Li6iz.scale')['src']"
   ]
  },
  {
   "cell_type": "markdown",
   "metadata": {},
   "source": [
    "### 상품 정보 섹션"
   ]
  },
  {
   "cell_type": "code",
   "execution_count": 217,
   "metadata": {},
   "outputs": [
    {
     "data": {
      "text/plain": [
       "<div class=\"basicProductCardInformation_basic_product_card_information__7v_uc basicProductCardInformation_view_type_grid2__mlh6E\" id=\"basic_product_card_information_6736074611\"><div class=\"basicProductCardInformation_mall_area__xcGLH\"><div class=\"basicProductCardInformation_advertisement_area__HzaQ_\"><span class=\"advertisementTag_advertisement_tag__yIvim\"><a class=\"advertisementTag_link__NAi19 _nlog_click\" data-shp-area=\"prod.adinfo\" data-shp-area-id=\"adinfo\" data-shp-area-type=\"action\" data-shp-inventory=\"prod\" data-shp-nsc=\"svc.shopping.plusall\" data-shp-page-key=\"100407255\" data-shp-sti=\"shopping\" href=\"#\" role=\"button\" target=\"_blank\"><svg class=\"advertisementTag_icon__DdazQ advertisementTag_information__jKJtn\" fill=\"none\" height=\"18\" viewbox=\"0 0 40 18\" width=\"40\" xmlns=\"http://www.w3.org/2000/svg\"><rect height=\"17\" rx=\"8.5\" stroke=\"#D9D9DC\" width=\"39\" x=\"0.5\" y=\"0.5\"></rect><path d=\"M13.096 11.988c0 1.133-1.265 1.826-3.333 1.826s-3.311-.693-3.311-1.826 1.254-1.837 3.311-1.837 3.333.704 3.333 1.837m-.077-7.92v2.629h1.408v.946h-1.408v2.42h-1.122V4.068zm-1.705 4.29.099.836c-1.859.253-4.059.352-6.171.374l-.165-.946c.572 0 1.298 0 2.002-.011V6.697h1.122v1.892h.033c.99-.033 2.387-.143 3.08-.231m-.66-3.762c0 1.364-.077 2.365-.253 3.245L9.29 7.676c.132-.605.242-1.485.242-2.189H5.759v-.891zm-.891 6.468c-1.342 0-2.156.363-2.156.924s.836.924 2.156.924c1.364 0 2.178-.363 2.178-.924s-.825-.924-2.178-.924m13.64 1.375h-8.855v-.913h3.31V8.171h1.123v3.355h4.422zm-1.1-7.436c0 1.694-.033 3.872-.43 5.5l-1.077-.165c.286-1.276.374-3.102.374-4.422h-5.6v-.913z\" fill=\"#77777A\"></path><circle cx=\"30.5\" cy=\"9\" r=\"5.3\" stroke=\"#77777A\" stroke-width=\"0.8\"></circle><path d=\"M30.5 8v4\" stroke=\"#77777A\" stroke-width=\"0.8\"></path><rect fill=\"#77777A\" height=\"1.2\" rx=\"0.6\" width=\"1.2\" x=\"29.9\" y=\"6\"></rect></svg><span class=\"blind\">광고</span></a></span></div><a class=\"basicProductCardInformation_mall_link__9TeDD _nlog_click _nlog_impression_element\" data-shp-area=\"prod.directstore\" data-shp-area-id=\"directstore\" data-shp-area-type=\"slot\" data-shp-contents-dtl='[{\"key\":\"click_url\",\"value\":\"https://smartstore.naver.com/main/products/6736074611\"}]' data-shp-contents-grp=\"ad\" data-shp-contents-provider-id=\"101486737\" data-shp-contents-provider-type=\"chnl_no\" data-shp-contents-type=\"SA_prod\" data-shp-inventory=\"prod\" data-shp-nsc=\"svc.shopping.plusall\" data-shp-order_con='[{\"key\":\"sort\",\"value\":\"추천순\"},{\"key\":\"resort\",\"value\":\"ON\"}]' data-shp-page-key=\"100407255\" data-shp-sti=\"shopping\" href=\"https://adcr.naver.com/adcr?x=ggiaX7df1Dwxp9OSeib4Kv///w==kRfZ4qXiBtnyGub3tLGg99ynrcKy9d3hh3imyllomYGZ2D6cwY2HrIbo0ZfBl1x0AL5AgXh+5zBENAJn6OIU4ULKIqSj5WQ25/pJZIDRmFLPY6rdk80j2XJ5hqeZC6v0ZpqGylQc/KqWT1YrCk7wRqepcvEv+IeOHbRoAF+APJ+N4yI+8hVM5i2znBiZ2dqZU+dQqiKq7quEb2vxbodpUfH5MJg8U+QZiDfRxHATUoUyacwDid7KD1hMuCWI6V3Npwnu9aVKjF8pSko72FP0KwZThErdps54B1NIEzYJFdDEILsYAVr5hDdi7QffFlABx0kJfFEcHEFyFL1meMmmHyQJ9JYa8GHbFdGV27pk+JKJXJ8Edo3xzAKcgMr6VKoKAKPOlBLRdN/lU5UCQDgzvP1wue8N/uj0prUIYXStA3M0Fli0v2eYBaYAXWVV71figSiakFliA6PRPnaJ1LqgtLabtpKZLlnLZ+oXTkNyOhM2CuSMj86BwOs5f2/LK55/pKOaVzx3UxBLOxFy+++A47EnzKOUauAhdrXk+K4yMzy/3itIPs3o1giRK+EHhdGrnFSq6gBpHVTZJYCC0ojwdEWMuNZ54quPl77Lz4pJVgdI8ncKXU0jEeN7Sby4xIOxugz8Hk3WdxW2v/Gaz4I3MQCHuqURWrGcurl/qa68jzaeBDv/w3dHatDh1CYJKFGJGjsdsGLzix8AsGlV98GD/nt9AUuUdWyAi3Q7gQaSKVQ5s9XW3+qm2B2x1U1UBAMBh+7JOgoSlVSV/mSbwes2+sSQYChbk3zkfDJJtCPx7p+mYzrrnbEQsy8Kt11PEZ61n6wKzfsKkEMazi1i606KbybfxHs480D2wQZcyx+uO60R15NIkpBEb4QuTZRxlkx2P#channelProductNo=6736074611\" target=\"_blank\"><span class=\"basicProductCardInformation_mall_name__8IS3Q\">메리쏘드</span><span class=\"basicProductCardInformation_mall_description__oxXx_\">공식</span><svg class=\"basicProductCardInformation_arrow_icon__oRuTx\" fill=\"none\" height=\"12\" viewbox=\"0 0 12 12\" width=\"12\" xmlns=\"http://www.w3.org/2000/svg\"><path d=\"M4.25 9.75 8 6 4.25 2.25\" stroke=\"currentColor\" stroke-linecap=\"round\" stroke-linejoin=\"round\"></path></svg></a></div><strong class=\"basicProductCardInformation_title__Bc_Ng\">메리쏘드 릴타투 브러쉬 펜라이너 붓펜 아이라인</strong><div class=\"basicProductCardInformation_wrap_price__largu\"><div class=\"productCardPrice_product_card_price__4QIH0\"><div class=\"productCardPrice_wrap_price_tag__URLP7\"><div class=\"priceTag_price_tag__T_z8R\"><span class=\"priceTag_discount_area__rabeJ\"><span class=\"priceTag_original_price__jyZRY\"><span class=\"blind\">할인 전 판매가</span>11,000<!-- -->원</span></span><span class=\"priceTag_price_area__iHlni\"><span class=\"priceTag_discount__F_ZXz\">5<!-- -->%<span class=\"blind\">할인</span></span><span class=\"priceTag_inner_price__TctbK\">10,400<span class=\"priceTag_unit__IXyyy\">원</span></span></span></div></div><div class=\"productCardPrice_delivery_price__AiyD2\">배송비 <!-- -->3,000<!-- -->원</div></div></div></div>"
      ]
     },
     "execution_count": 217,
     "metadata": {},
     "output_type": "execute_result"
    }
   ],
   "source": [
    "# 상품 정보 섹션\n",
    "order_number = 0\n",
    "product_info_section = product_list[order_number].select_one('div.basicProductCardInformation_basic_product_card_information__7v_uc')\n",
    "product_info_section"
   ]
  },
  {
   "cell_type": "markdown",
   "metadata": {},
   "source": [
    "#### 상품 제목"
   ]
  },
  {
   "cell_type": "code",
   "execution_count": 218,
   "metadata": {},
   "outputs": [
    {
     "name": "stdout",
     "output_type": "stream",
     "text": [
      "메리쏘드 릴타투 브러쉬 펜라이너 붓펜 아이라인\n"
     ]
    }
   ],
   "source": [
    "# 상품 제목\n",
    "print(product_info_section.select_one('strong.basicProductCardInformation_title__Bc_Ng').text)"
   ]
  },
  {
   "cell_type": "markdown",
   "metadata": {},
   "source": [
    "#### 🔧 상품 가격\n",
    "- 숫자만 추출"
   ]
  },
  {
   "cell_type": "code",
   "execution_count": 219,
   "metadata": {},
   "outputs": [
    {
     "name": "stdout",
     "output_type": "stream",
     "text": [
      "할인 전 판매가11,000원\n",
      "5%할인\n",
      "10,400원\n"
     ]
    }
   ],
   "source": [
    "# 상품 가격\n",
    "\n",
    "print(product_info_section.select_one('span.priceTag_original_price__jyZRY').text)\n",
    "print(product_info_section.select_one('span.priceTag_discount__F_ZXz').text)\n",
    "print(product_info_section.select_one('span.priceTag_inner_price__TctbK').text)"
   ]
  },
  {
   "cell_type": "markdown",
   "metadata": {},
   "source": [
    "#### 🔧 배송비\n",
    "- 숫자만 추출"
   ]
  },
  {
   "cell_type": "code",
   "execution_count": 220,
   "metadata": {},
   "outputs": [
    {
     "data": {
      "text/plain": [
       "'배송비 3,000원'"
      ]
     },
     "execution_count": 220,
     "metadata": {},
     "output_type": "execute_result"
    }
   ],
   "source": [
    "product_info_section.select_one('div.productCardPrice_delivery_price__AiyD2').text"
   ]
  },
  {
   "cell_type": "markdown",
   "metadata": {},
   "source": [
    "#### 종합"
   ]
  },
  {
   "cell_type": "code",
   "execution_count": 221,
   "metadata": {},
   "outputs": [
    {
     "name": "stdout",
     "output_type": "stream",
     "text": [
      "https://adcr.naver.com/adcr?x=ggiaX7df1Dwxp9OSeib4Kv///w==kRfZ4qXiBtnyGub3tLGg99ynrcKy9d3hh3imyllomYGZ2D6cwY2HrIbo0ZfBl1x0AL5AgXh+5zBENAJn6OIU4ULKIqSj5WQ25/pJZIDRmFLPY6rdk80j2XJ5hqeZC6v0ZpqGylQc/KqWT1YrCk7wRqepcvEv+IeOHbRoAF+APJ+N4yI+8hVM5i2znBiZ2dqZU+dQqiKq7quEb2vxbodpUfH5MJg8U+QZiDfRxHATUoUyacwDid7KD1hMuCWI6V3Npwnu9aVKjF8pSko72FP0KwZThErdps54B1NIEzYJFdDEILsYAVr5hDdi7QffFlABx0kJfFEcHEFyFL1meMmmHyQJ9JYa8GHbFdGV27pk+JKJXJ8Edo3xzAKcgMr6VKoKAKPOlBLRdN/lU5UCQDgzvP1wue8N/uj0prUIYXStA3M0Fli0v2eYBaYAXWVV71figSiakFliA6PRPnaJ1LqgtLabtpKZLlnLZ+oXTkNyOhM2CuSMj86BwOs5f2/LK55/pKOaVzx3UxBLOxFy+++A47EnzKOUauAhdrXk+K4yMzy/3itIPs3o1giRK+EHhdGrnFSq6gBpHVTZJYCC0ojwdEWMuNZ54quPl77Lz4pJVgdI8ncKXU0jEeN7Sby4xIOxugz8Hk3WdxW2v/Gaz4I3MQCHuqURWrGcurl/qa68jzaeBDv/w3dHatDh1CYJKFGJGjsdsGLzix8AsGlV98GD/nt9AUuUdWyAi3Q7gQaSKVQ5s9XW3+qm2B2x1U1UBAMBh+7JOgoSlVSV/mSbwes2+sSQYChbk3zkfDJJtCPx7p+mYzrrnbEQsy8Kt11PEZ61n6wKzfsKkEMazi1i606KbybfxHs480D2wQZcyx+uO60R15NIkpBEb4QuTZRxlkx2P#channelProductNo=6736074611\n",
      "https://searchad-phinf.pstatic.net/MjAyMzA1MDhfMjkg/MDAxNjgzNTEwNjQxNjYy.xUa6gZAGNXkMa56XZuYD7X7BtP6lz6-tG_pUDxJ-fZUg.HvspzRw0CZOdBfQveIE7os8pLB0vRDnAs39NaNl0-84g.PNG/2030179-742e2a42-b6d0-4cd8-98c4-839d3a9e89f5.png?type=f300\n",
      "메리쏘드 릴타투 브러쉬 펜라이너 붓펜 아이라인\n",
      "할인 전 판매가11,000원\n",
      "5%할인\n",
      "10,400원\n",
      "배송비 3,000원\n"
     ]
    }
   ],
   "source": [
    "order_number = 0\n",
    "\n",
    "# 상세 페이지 링크\n",
    "print(product_list[order_number].select_one('a.basicProductCard_link__urzND._nlog_click._nlog_impression_element')['href'])\n",
    "\n",
    "\n",
    "# 이미지 링크\n",
    "print(product_list[order_number].select_one('div.productCardThumbnail_thumbnail__KzO1N img.autoFitImg_auto_fit_img__fIpj4.autoFitImg_full_height__QCTGq.productCardThumbnail_image__Li6iz.scale')['src'])\n",
    "\n",
    "# 상품 정보 섹션\n",
    "product_info_section = product_list[order_number].select_one('div.basicProductCardInformation_basic_product_card_information__7v_uc')\n",
    "\n",
    "# 상품 제목\n",
    "print(product_info_section.select_one('strong.basicProductCardInformation_title__Bc_Ng').text)\n",
    "\n",
    "# 원래 상품 가격\n",
    "try:\n",
    "    print(product_info_section.select_one('span.priceTag_original_price__jyZRY').text)\n",
    "except:\n",
    "    print('할인없음')\n",
    "# 할인률\n",
    "try:\n",
    "    print(product_info_section.select_one('span.priceTag_discount__F_ZXz').text)\n",
    "except:\n",
    "    print('할인률없음')\n",
    "# 현재 가격\n",
    "print(product_info_section.select_one('span.priceTag_inner_price__TctbK').text)\n",
    "# 배송비비\n",
    "try:\n",
    "    print(product_info_section.select_one('div.productCardPrice_delivery_price__AiyD2').text)\n",
    "except:\n",
    "    print('배송비없음')"
   ]
  },
  {
   "cell_type": "markdown",
   "metadata": {},
   "source": [
    "# 🔧 수집한 데이터 전처리\n",
    "- 원래가격, 할인률, 현재가격 숫자만 표기하도록 정제\n",
    "- 원래가격, 할인률 nan 값 처리된 부분 확인"
   ]
  },
  {
   "cell_type": "code",
   "execution_count": 222,
   "metadata": {},
   "outputs": [
    {
     "name": "stdout",
     "output_type": "stream",
     "text": [
      "20\n",
      "21\n",
      "23\n",
      "30\n",
      "71\n",
      "72\n",
      "74\n",
      "80\n",
      "81\n",
      "82\n",
      "88\n",
      "98\n"
     ]
    }
   ],
   "source": [
    "num_list = []\n",
    "detail_link_list = []\n",
    "img_src_list = []\n",
    "title_list = []\n",
    "original_price_list = []\n",
    "discount_rate_list = []\n",
    "price_list = []\n",
    "delivery_price_list = []\n",
    "\n",
    "for i in range(len(product_list)):\n",
    "    num = i + 1\n",
    "\n",
    "    # 상세 페이지 링크\n",
    "    try:\n",
    "        detail_link = product_list[i].select_one('a.basicProductCard_link__urzND._nlog_click._nlog_impression_element')['href']\n",
    "    except:\n",
    "        print(i)\n",
    "        # print('상세페이지링크없음')\n",
    "    # 이미지 링크\n",
    "    try:\n",
    "        img_src = product_list[i].select_one('div.productCardThumbnail_thumbnail__KzO1N img.autoFitImg_auto_fit_img__fIpj4.autoFitImg_full_height__QCTGq.productCardThumbnail_image__Li6iz.scale')['src']\n",
    "    except:\n",
    "        print(i)\n",
    "        # print('이미지링크없음')\n",
    "    \n",
    "    # 상품 정보 섹션\n",
    "    product_info_section = product_list[i].select_one('div.basicProductCardInformation_basic_product_card_information__7v_uc')\n",
    "    \n",
    "    ## 상품 제목\n",
    "    try:\n",
    "        title = product_info_section.select_one('strong.basicProductCardInformation_title__Bc_Ng').text\n",
    "    except:\n",
    "        print(i)\n",
    "        # print('상품제목없음')\n",
    "    \n",
    "    ## 원래가격\n",
    "    try:\n",
    "        original_price = product_info_section.select_one('span.priceTag_original_price__jyZRY').text\n",
    "    except:\n",
    "        original_price = np.nan\n",
    "        # print('원래가격없음')\n",
    "    ## 할인률\n",
    "    try:\n",
    "        discount_rate = product_info_section.select_one('span.priceTag_discount__F_ZXz').text\n",
    "    except:\n",
    "        discount_rate = np.nan\n",
    "        # print('할인률없음')\n",
    "    ## 현재가격\n",
    "    try:\n",
    "        price = product_info_section.select_one('span.priceTag_inner_price__TctbK').text\n",
    "    except:\n",
    "        print(i)\n",
    "        # print('현재가격없음')\n",
    "    ## 배송비\n",
    "    try:\n",
    "        delivery_price = product_info_section.select_one('div.productCardPrice_delivery_price__AiyD2').text\n",
    "    except:\n",
    "        delivery_price = np.nan\n",
    "        # print('배송비없음')\n",
    "\n",
    "    # 정보 리스트에 담기\n",
    "    num_list.append(num)\n",
    "    detail_link_list.append(detail_link)\n",
    "    img_src_list.append(img_src)\n",
    "    title_list.append(title)\n",
    "    original_price_list.append(original_price)\n",
    "    discount_rate_list.append(discount_rate)\n",
    "    delivery_price_list.append(delivery_price)\n",
    "    price_list.append(price)\n"
   ]
  },
  {
   "cell_type": "code",
   "execution_count": 223,
   "metadata": {},
   "outputs": [
    {
     "data": {
      "text/plain": [
       "(99, 99, 99, 99, 99, 99, 99, 99)"
      ]
     },
     "execution_count": 223,
     "metadata": {},
     "output_type": "execute_result"
    }
   ],
   "source": [
    "len(num_list), len(detail_link_list), len(img_src_list), len(title_list), len(original_price_list), len(discount_rate_list), len(price_list), len(delivery_price_list)"
   ]
  },
  {
   "cell_type": "code",
   "execution_count": 224,
   "metadata": {},
   "outputs": [
    {
     "data": {
      "text/html": [
       "<div>\n",
       "<style scoped>\n",
       "    .dataframe tbody tr th:only-of-type {\n",
       "        vertical-align: middle;\n",
       "    }\n",
       "\n",
       "    .dataframe tbody tr th {\n",
       "        vertical-align: top;\n",
       "    }\n",
       "\n",
       "    .dataframe thead th {\n",
       "        text-align: right;\n",
       "    }\n",
       "</style>\n",
       "<table border=\"1\" class=\"dataframe\">\n",
       "  <thead>\n",
       "    <tr style=\"text-align: right;\">\n",
       "      <th></th>\n",
       "      <th>번호</th>\n",
       "      <th>상세페이지링크</th>\n",
       "      <th>이미지링크</th>\n",
       "      <th>제품제목</th>\n",
       "      <th>원래가격</th>\n",
       "      <th>할인률</th>\n",
       "      <th>현재가격</th>\n",
       "      <th>배송비</th>\n",
       "    </tr>\n",
       "  </thead>\n",
       "  <tbody>\n",
       "    <tr>\n",
       "      <th>0</th>\n",
       "      <td>1</td>\n",
       "      <td>https://adcr.naver.com/adcr?x=ggiaX7df1Dwxp9OS...</td>\n",
       "      <td>https://searchad-phinf.pstatic.net/MjAyMzA1MDh...</td>\n",
       "      <td>메리쏘드 릴타투 브러쉬 펜라이너 붓펜 아이라인</td>\n",
       "      <td>할인 전 판매가11,000원</td>\n",
       "      <td>5%할인</td>\n",
       "      <td>10,400원</td>\n",
       "      <td>배송비 3,000원</td>\n",
       "    </tr>\n",
       "    <tr>\n",
       "      <th>1</th>\n",
       "      <td>2</td>\n",
       "      <td>https://adcr.naver.com/adcr?x=jATOuDTTywenDV6m...</td>\n",
       "      <td>https://shopping-phinf.pstatic.net/main_825922...</td>\n",
       "      <td>[공식]메이블린 라인 타투 아이 라이너 크레용</td>\n",
       "      <td>할인 전 판매가13,000원</td>\n",
       "      <td>25%할인</td>\n",
       "      <td>9,750원</td>\n",
       "      <td>NaN</td>\n",
       "    </tr>\n",
       "    <tr>\n",
       "      <th>2</th>\n",
       "      <td>3</td>\n",
       "      <td>https://adcr.naver.com/adcr?x=tHd5bFMh+Lfh+Bbf...</td>\n",
       "      <td>https://shopping-phinf.pstatic.net/main_830583...</td>\n",
       "      <td>번지지않는 붓펜 아이라이너 점막 안번지는 저자극 그리기쉬운 아이라인 펜슬 붓 트임</td>\n",
       "      <td>할인 전 판매가12,900원</td>\n",
       "      <td>23%할인</td>\n",
       "      <td>9,900원</td>\n",
       "      <td>배송비 3,000원</td>\n",
       "    </tr>\n",
       "    <tr>\n",
       "      <th>3</th>\n",
       "      <td>4</td>\n",
       "      <td>https://adcr.naver.com/adcr?x=Up/GXCxSPD4M4JlT...</td>\n",
       "      <td>https://shopping-phinf.pstatic.net/main_880392...</td>\n",
       "      <td>메이블린 뉴욕 라인 타투 크레용 0.4g 다크브라운 2개</td>\n",
       "      <td>할인 전 판매가21,740원</td>\n",
       "      <td>10%할인</td>\n",
       "      <td>19,560원</td>\n",
       "      <td>배송비 3,500원</td>\n",
       "    </tr>\n",
       "    <tr>\n",
       "      <th>4</th>\n",
       "      <td>5</td>\n",
       "      <td>https://smartstore.naver.com/main/products/551...</td>\n",
       "      <td>https://shopping-phinf.pstatic.net/main_830583...</td>\n",
       "      <td>번지지않는 붓펜 아이라이너 점막 안번지는 저자극 그리기쉬운 아이라인 펜슬 붓 트임</td>\n",
       "      <td>할인 전 판매가12,900원</td>\n",
       "      <td>23%할인</td>\n",
       "      <td>9,900원</td>\n",
       "      <td>배송비 3,000원</td>\n",
       "    </tr>\n",
       "  </tbody>\n",
       "</table>\n",
       "</div>"
      ],
      "text/plain": [
       "   번호                                            상세페이지링크  \\\n",
       "0   1  https://adcr.naver.com/adcr?x=ggiaX7df1Dwxp9OS...   \n",
       "1   2  https://adcr.naver.com/adcr?x=jATOuDTTywenDV6m...   \n",
       "2   3  https://adcr.naver.com/adcr?x=tHd5bFMh+Lfh+Bbf...   \n",
       "3   4  https://adcr.naver.com/adcr?x=Up/GXCxSPD4M4JlT...   \n",
       "4   5  https://smartstore.naver.com/main/products/551...   \n",
       "\n",
       "                                               이미지링크  \\\n",
       "0  https://searchad-phinf.pstatic.net/MjAyMzA1MDh...   \n",
       "1  https://shopping-phinf.pstatic.net/main_825922...   \n",
       "2  https://shopping-phinf.pstatic.net/main_830583...   \n",
       "3  https://shopping-phinf.pstatic.net/main_880392...   \n",
       "4  https://shopping-phinf.pstatic.net/main_830583...   \n",
       "\n",
       "                                            제품제목             원래가격    할인률  \\\n",
       "0                      메리쏘드 릴타투 브러쉬 펜라이너 붓펜 아이라인  할인 전 판매가11,000원   5%할인   \n",
       "1                      [공식]메이블린 라인 타투 아이 라이너 크레용  할인 전 판매가13,000원  25%할인   \n",
       "2  번지지않는 붓펜 아이라이너 점막 안번지는 저자극 그리기쉬운 아이라인 펜슬 붓 트임  할인 전 판매가12,900원  23%할인   \n",
       "3                메이블린 뉴욕 라인 타투 크레용 0.4g 다크브라운 2개  할인 전 판매가21,740원  10%할인   \n",
       "4  번지지않는 붓펜 아이라이너 점막 안번지는 저자극 그리기쉬운 아이라인 펜슬 붓 트임  할인 전 판매가12,900원  23%할인   \n",
       "\n",
       "      현재가격         배송비  \n",
       "0  10,400원  배송비 3,000원  \n",
       "1   9,750원         NaN  \n",
       "2   9,900원  배송비 3,000원  \n",
       "3  19,560원  배송비 3,500원  \n",
       "4   9,900원  배송비 3,000원  "
      ]
     },
     "execution_count": 224,
     "metadata": {},
     "output_type": "execute_result"
    }
   ],
   "source": [
    "data_dict = {\n",
    "    '번호':num_list, \n",
    "    '상세페이지링크':detail_link_list,\n",
    "    '이미지링크':img_src_list,\n",
    "    '제품제목':title_list,\n",
    "    '원래가격':original_price_list,\n",
    "    '할인률':discount_rate_list,\n",
    "    '현재가격':price_list,\n",
    "    '배송비':delivery_price_list\n",
    "    }\n",
    "df = pd.DataFrame(data_dict)\n",
    "df.head()"
   ]
  },
  {
   "cell_type": "code",
   "execution_count": 225,
   "metadata": {},
   "outputs": [
    {
     "data": {
      "text/html": [
       "<div>\n",
       "<style scoped>\n",
       "    .dataframe tbody tr th:only-of-type {\n",
       "        vertical-align: middle;\n",
       "    }\n",
       "\n",
       "    .dataframe tbody tr th {\n",
       "        vertical-align: top;\n",
       "    }\n",
       "\n",
       "    .dataframe thead th {\n",
       "        text-align: right;\n",
       "    }\n",
       "</style>\n",
       "<table border=\"1\" class=\"dataframe\">\n",
       "  <thead>\n",
       "    <tr style=\"text-align: right;\">\n",
       "      <th></th>\n",
       "      <th>번호</th>\n",
       "      <th>상세페이지링크</th>\n",
       "      <th>이미지링크</th>\n",
       "      <th>제품제목</th>\n",
       "      <th>원래가격</th>\n",
       "      <th>할인률</th>\n",
       "      <th>현재가격</th>\n",
       "      <th>배송비</th>\n",
       "    </tr>\n",
       "  </thead>\n",
       "  <tbody>\n",
       "    <tr>\n",
       "      <th>94</th>\n",
       "      <td>95</td>\n",
       "      <td>https://smartstore.naver.com/main/products/111...</td>\n",
       "      <td>data:image/png;base64,iVBORw0KGgoAAAANSUhEUgAA...</td>\n",
       "      <td>선명하고 진한눈매 블랙아이라인 붓펜타입 아이라이너</td>\n",
       "      <td>할인 전 판매가11,700원</td>\n",
       "      <td>10%할인</td>\n",
       "      <td>10,530원</td>\n",
       "      <td>배송비 3,000원</td>\n",
       "    </tr>\n",
       "    <tr>\n",
       "      <th>95</th>\n",
       "      <td>96</td>\n",
       "      <td>https://smartstore.naver.com/main/products/108...</td>\n",
       "      <td>data:image/png;base64,iVBORw0KGgoAAAANSUhEUgAA...</td>\n",
       "      <td>판다디자인몰 아이라인 가드 아이가드</td>\n",
       "      <td>할인 전 판매가1,400원</td>\n",
       "      <td>20%할인</td>\n",
       "      <td>1,120원</td>\n",
       "      <td>배송비 3,000원</td>\n",
       "    </tr>\n",
       "    <tr>\n",
       "      <th>96</th>\n",
       "      <td>97</td>\n",
       "      <td>https://smartstore.naver.com/main/products/658...</td>\n",
       "      <td>data:image/png;base64,iVBORw0KGgoAAAANSUhEUgAA...</td>\n",
       "      <td>라이너브러시 아이라인그리기 실리콘 아이브러쉬</td>\n",
       "      <td>할인 전 판매가24,910원</td>\n",
       "      <td>12%할인</td>\n",
       "      <td>21,920원</td>\n",
       "      <td>배송비 3,000원</td>\n",
       "    </tr>\n",
       "    <tr>\n",
       "      <th>97</th>\n",
       "      <td>98</td>\n",
       "      <td>https://smartstore.naver.com/main/products/109...</td>\n",
       "      <td>data:image/png;base64,iVBORw0KGgoAAAANSUhEUgAA...</td>\n",
       "      <td>메이크업 소품 아이라인 그리기 마스카라 가드 바르기 속눈썹 붙이기 도구</td>\n",
       "      <td>할인 전 판매가2,290원</td>\n",
       "      <td>3%할인</td>\n",
       "      <td>2,220원</td>\n",
       "      <td>배송비 3,000원</td>\n",
       "    </tr>\n",
       "    <tr>\n",
       "      <th>98</th>\n",
       "      <td>99</td>\n",
       "      <td>https://smartstore.naver.com/main/products/100...</td>\n",
       "      <td>data:image/png;base64,iVBORw0KGgoAAAANSUhEUgAA...</td>\n",
       "      <td>점막 아이라이너 붓펜 워터프루프 아이라인 펜슬</td>\n",
       "      <td>NaN</td>\n",
       "      <td>NaN</td>\n",
       "      <td>11,900원</td>\n",
       "      <td>배송비 3,000원</td>\n",
       "    </tr>\n",
       "  </tbody>\n",
       "</table>\n",
       "</div>"
      ],
      "text/plain": [
       "    번호                                            상세페이지링크  \\\n",
       "94  95  https://smartstore.naver.com/main/products/111...   \n",
       "95  96  https://smartstore.naver.com/main/products/108...   \n",
       "96  97  https://smartstore.naver.com/main/products/658...   \n",
       "97  98  https://smartstore.naver.com/main/products/109...   \n",
       "98  99  https://smartstore.naver.com/main/products/100...   \n",
       "\n",
       "                                                이미지링크  \\\n",
       "94  data:image/png;base64,iVBORw0KGgoAAAANSUhEUgAA...   \n",
       "95  data:image/png;base64,iVBORw0KGgoAAAANSUhEUgAA...   \n",
       "96  data:image/png;base64,iVBORw0KGgoAAAANSUhEUgAA...   \n",
       "97  data:image/png;base64,iVBORw0KGgoAAAANSUhEUgAA...   \n",
       "98  data:image/png;base64,iVBORw0KGgoAAAANSUhEUgAA...   \n",
       "\n",
       "                                       제품제목             원래가격    할인률     현재가격  \\\n",
       "94              선명하고 진한눈매 블랙아이라인 붓펜타입 아이라이너  할인 전 판매가11,700원  10%할인  10,530원   \n",
       "95                      판다디자인몰 아이라인 가드 아이가드   할인 전 판매가1,400원  20%할인   1,120원   \n",
       "96                 라이너브러시 아이라인그리기 실리콘 아이브러쉬  할인 전 판매가24,910원  12%할인  21,920원   \n",
       "97  메이크업 소품 아이라인 그리기 마스카라 가드 바르기 속눈썹 붙이기 도구   할인 전 판매가2,290원   3%할인   2,220원   \n",
       "98                점막 아이라이너 붓펜 워터프루프 아이라인 펜슬              NaN    NaN  11,900원   \n",
       "\n",
       "           배송비  \n",
       "94  배송비 3,000원  \n",
       "95  배송비 3,000원  \n",
       "96  배송비 3,000원  \n",
       "97  배송비 3,000원  \n",
       "98  배송비 3,000원  "
      ]
     },
     "execution_count": 225,
     "metadata": {},
     "output_type": "execute_result"
    }
   ],
   "source": [
    "df.tail()"
   ]
  },
  {
   "cell_type": "code",
   "execution_count": 226,
   "metadata": {},
   "outputs": [
    {
     "data": {
      "text/html": [
       "<div>\n",
       "<style scoped>\n",
       "    .dataframe tbody tr th:only-of-type {\n",
       "        vertical-align: middle;\n",
       "    }\n",
       "\n",
       "    .dataframe tbody tr th {\n",
       "        vertical-align: top;\n",
       "    }\n",
       "\n",
       "    .dataframe thead th {\n",
       "        text-align: right;\n",
       "    }\n",
       "</style>\n",
       "<table border=\"1\" class=\"dataframe\">\n",
       "  <thead>\n",
       "    <tr style=\"text-align: right;\">\n",
       "      <th></th>\n",
       "      <th>번호</th>\n",
       "      <th>상세페이지링크</th>\n",
       "      <th>이미지링크</th>\n",
       "      <th>제품제목</th>\n",
       "      <th>원래가격</th>\n",
       "      <th>할인률</th>\n",
       "      <th>현재가격</th>\n",
       "      <th>배송비</th>\n",
       "    </tr>\n",
       "  </thead>\n",
       "  <tbody>\n",
       "  </tbody>\n",
       "</table>\n",
       "</div>"
      ],
      "text/plain": [
       "Empty DataFrame\n",
       "Columns: [번호, 상세페이지링크, 이미지링크, 제품제목, 원래가격, 할인률, 현재가격, 배송비]\n",
       "Index: []"
      ]
     },
     "execution_count": 226,
     "metadata": {},
     "output_type": "execute_result"
    }
   ],
   "source": [
    "df.loc[df['현재가격'].isnull()]"
   ]
  },
  {
   "cell_type": "code",
   "execution_count": 227,
   "metadata": {},
   "outputs": [
    {
     "data": {
      "text/html": [
       "<div>\n",
       "<style scoped>\n",
       "    .dataframe tbody tr th:only-of-type {\n",
       "        vertical-align: middle;\n",
       "    }\n",
       "\n",
       "    .dataframe tbody tr th {\n",
       "        vertical-align: top;\n",
       "    }\n",
       "\n",
       "    .dataframe thead th {\n",
       "        text-align: right;\n",
       "    }\n",
       "</style>\n",
       "<table border=\"1\" class=\"dataframe\">\n",
       "  <thead>\n",
       "    <tr style=\"text-align: right;\">\n",
       "      <th></th>\n",
       "      <th>번호</th>\n",
       "      <th>상세페이지링크</th>\n",
       "      <th>이미지링크</th>\n",
       "      <th>제품제목</th>\n",
       "      <th>원래가격</th>\n",
       "      <th>할인률</th>\n",
       "      <th>현재가격</th>\n",
       "      <th>배송비</th>\n",
       "    </tr>\n",
       "  </thead>\n",
       "  <tbody>\n",
       "    <tr>\n",
       "      <th>1</th>\n",
       "      <td>2</td>\n",
       "      <td>https://adcr.naver.com/adcr?x=jATOuDTTywenDV6m...</td>\n",
       "      <td>https://shopping-phinf.pstatic.net/main_825922...</td>\n",
       "      <td>[공식]메이블린 라인 타투 아이 라이너 크레용</td>\n",
       "      <td>할인 전 판매가13,000원</td>\n",
       "      <td>25%할인</td>\n",
       "      <td>9,750원</td>\n",
       "      <td>NaN</td>\n",
       "    </tr>\n",
       "    <tr>\n",
       "      <th>5</th>\n",
       "      <td>6</td>\n",
       "      <td>https://smartstore.naver.com/main/products/906...</td>\n",
       "      <td>https://shopping-phinf.pstatic.net/main_866077...</td>\n",
       "      <td>잘안지워지는 점막 지워지지않는 수영장 음영 얇은 아이라인 아이라이너 펜슬</td>\n",
       "      <td>할인 전 판매가17,800원</td>\n",
       "      <td>11%할인</td>\n",
       "      <td>15,800원</td>\n",
       "      <td>NaN</td>\n",
       "    </tr>\n",
       "    <tr>\n",
       "      <th>6</th>\n",
       "      <td>7</td>\n",
       "      <td>https://smartstore.naver.com/main/products/399...</td>\n",
       "      <td>https://shopping-phinf.pstatic.net/main_978286...</td>\n",
       "      <td>1+1 리르 룩스 젤 펜슬 아이라이너 아이라인 아이메이크업 0.5g</td>\n",
       "      <td>할인 전 판매가20,000원</td>\n",
       "      <td>50%할인</td>\n",
       "      <td>9,900원</td>\n",
       "      <td>NaN</td>\n",
       "    </tr>\n",
       "    <tr>\n",
       "      <th>12</th>\n",
       "      <td>13</td>\n",
       "      <td>https://smartstore.naver.com/main/products/467...</td>\n",
       "      <td>https://shopping-phinf.pstatic.net/main_822170...</td>\n",
       "      <td>아임유니 울트라 슬림 워터프루프 젤 아이라이너 펜슬 8컬러 안번지는 점막 아이라인 컬러</td>\n",
       "      <td>할인 전 판매가11,000원</td>\n",
       "      <td>46%할인</td>\n",
       "      <td>5,900원</td>\n",
       "      <td>NaN</td>\n",
       "    </tr>\n",
       "    <tr>\n",
       "      <th>14</th>\n",
       "      <td>15</td>\n",
       "      <td>https://smartstore.naver.com/main/products/504...</td>\n",
       "      <td>https://shopping-phinf.pstatic.net/main_825922...</td>\n",
       "      <td>메이블린 뉴욕 라인 타투 아이 라이너 크레용 0.4g</td>\n",
       "      <td>할인 전 판매가13,000원</td>\n",
       "      <td>25%할인</td>\n",
       "      <td>9,750원</td>\n",
       "      <td>NaN</td>\n",
       "    </tr>\n",
       "    <tr>\n",
       "      <th>23</th>\n",
       "      <td>24</td>\n",
       "      <td>https://smartstore.naver.com/main/products/562...</td>\n",
       "      <td>data:image/png;base64,iVBORw0KGgoAAAANSUhEUgAA...</td>\n",
       "      <td>블레스문 블랙홀 라스팅 워터프루프 아이라이너 (3Colors) 라인괴물 지속력 끝판...</td>\n",
       "      <td>NaN</td>\n",
       "      <td>NaN</td>\n",
       "      <td>24,000원</td>\n",
       "      <td>NaN</td>\n",
       "    </tr>\n",
       "    <tr>\n",
       "      <th>34</th>\n",
       "      <td>35</td>\n",
       "      <td>https://smartstore.naver.com/main/products/502...</td>\n",
       "      <td>https://shopping-phinf.pstatic.net/main_825677...</td>\n",
       "      <td>1+1미크릿 비건 안번지는 미온수클렌징 아이라이너 0.6g(다크브라운/블랙)</td>\n",
       "      <td>할인 전 판매가24,000원</td>\n",
       "      <td>31%할인</td>\n",
       "      <td>16,500원</td>\n",
       "      <td>NaN</td>\n",
       "    </tr>\n",
       "    <tr>\n",
       "      <th>39</th>\n",
       "      <td>40</td>\n",
       "      <td>https://smartstore.naver.com/main/products/733...</td>\n",
       "      <td>https://shopping-phinf.pstatic.net/main_848769...</td>\n",
       "      <td>헤라 이지 스타일링 아이라이너 0.5g 붓펜 아이라인 워터프루프</td>\n",
       "      <td>NaN</td>\n",
       "      <td>NaN</td>\n",
       "      <td>21,780원</td>\n",
       "      <td>NaN</td>\n",
       "    </tr>\n",
       "    <tr>\n",
       "      <th>42</th>\n",
       "      <td>43</td>\n",
       "      <td>https://smartstore.naver.com/main/products/455...</td>\n",
       "      <td>https://shopping-phinf.pstatic.net/main_821019...</td>\n",
       "      <td>(3개)비러브 마이라인 펜 아이라이너 블랙</td>\n",
       "      <td>할인 전 판매가11,400원</td>\n",
       "      <td>9%할인</td>\n",
       "      <td>10,370원</td>\n",
       "      <td>NaN</td>\n",
       "    </tr>\n",
       "    <tr>\n",
       "      <th>57</th>\n",
       "      <td>58</td>\n",
       "      <td>https://smartstore.naver.com/main/products/905...</td>\n",
       "      <td>https://shopping-phinf.pstatic.net/main_866019...</td>\n",
       "      <td>점막 잘 안지워지는 지워지지않는 아이라인 브라운 컬러 얇은 무쌍 아이라이너</td>\n",
       "      <td>할인 전 판매가29,800원</td>\n",
       "      <td>46%할인</td>\n",
       "      <td>15,800원</td>\n",
       "      <td>NaN</td>\n",
       "    </tr>\n",
       "    <tr>\n",
       "      <th>58</th>\n",
       "      <td>59</td>\n",
       "      <td>https://smartstore.naver.com/main/products/917...</td>\n",
       "      <td>https://shopping-phinf.pstatic.net/main_867168...</td>\n",
       "      <td>점막아이라이너 안지워지는 지워지지않는 얇은 무쌍 액상 아이 라이너 라인</td>\n",
       "      <td>할인 전 판매가29,800원</td>\n",
       "      <td>43%할인</td>\n",
       "      <td>16,800원</td>\n",
       "      <td>NaN</td>\n",
       "    </tr>\n",
       "    <tr>\n",
       "      <th>59</th>\n",
       "      <td>60</td>\n",
       "      <td>https://smartstore.naver.com/main/products/674...</td>\n",
       "      <td>https://shopping-phinf.pstatic.net/main_842923...</td>\n",
       "      <td>해외메이크업포에버 점막 무쌍아이라인 안지워지는아이라이너 음영 트임라이너 립 &amp; 브로...</td>\n",
       "      <td>할인 전 판매가49,100원</td>\n",
       "      <td>6%할인</td>\n",
       "      <td>46,100원</td>\n",
       "      <td>NaN</td>\n",
       "    </tr>\n",
       "    <tr>\n",
       "      <th>72</th>\n",
       "      <td>73</td>\n",
       "      <td>https://smartstore.naver.com/main/products/530...</td>\n",
       "      <td>https://shopping-phinf.pstatic.net/main_107377...</td>\n",
       "      <td>미크릿 안번지는 워셔블 비건 붓펜 아이라이너 0.6g</td>\n",
       "      <td>할인 전 판매가12,000원</td>\n",
       "      <td>20%할인</td>\n",
       "      <td>9,500원</td>\n",
       "      <td>NaN</td>\n",
       "    </tr>\n",
       "    <tr>\n",
       "      <th>78</th>\n",
       "      <td>79</td>\n",
       "      <td>https://smartstore.naver.com/main/products/100...</td>\n",
       "      <td>data:image/png;base64,iVBORw0KGgoAAAANSUhEUgAA...</td>\n",
       "      <td>해외MAC 맥 플루이드라인 아이 라이너 젤 블랙트랙 1개</td>\n",
       "      <td>할인 전 판매가63,400원</td>\n",
       "      <td>20%할인</td>\n",
       "      <td>50,720원</td>\n",
       "      <td>NaN</td>\n",
       "    </tr>\n",
       "    <tr>\n",
       "      <th>85</th>\n",
       "      <td>86</td>\n",
       "      <td>https://smartstore.naver.com/main/products/804...</td>\n",
       "      <td>data:image/png;base64,iVBORw0KGgoAAAANSUhEUgAA...</td>\n",
       "      <td>퀵 타투 펜라이너 워터프루프 붓펜 엣지 아이라인</td>\n",
       "      <td>NaN</td>\n",
       "      <td>NaN</td>\n",
       "      <td>29,800원</td>\n",
       "      <td>NaN</td>\n",
       "    </tr>\n",
       "    <tr>\n",
       "      <th>86</th>\n",
       "      <td>87</td>\n",
       "      <td>https://smartstore.naver.com/main/products/593...</td>\n",
       "      <td>data:image/png;base64,iVBORw0KGgoAAAANSUhEUgAA...</td>\n",
       "      <td>해외화이트 워터 라인 아이 라이너 펜슬 방수 하이라이트 매트 럭셔리메이크업섀도우 키...</td>\n",
       "      <td>NaN</td>\n",
       "      <td>NaN</td>\n",
       "      <td>10,590원</td>\n",
       "      <td>NaN</td>\n",
       "    </tr>\n",
       "  </tbody>\n",
       "</table>\n",
       "</div>"
      ],
      "text/plain": [
       "    번호                                            상세페이지링크  \\\n",
       "1    2  https://adcr.naver.com/adcr?x=jATOuDTTywenDV6m...   \n",
       "5    6  https://smartstore.naver.com/main/products/906...   \n",
       "6    7  https://smartstore.naver.com/main/products/399...   \n",
       "12  13  https://smartstore.naver.com/main/products/467...   \n",
       "14  15  https://smartstore.naver.com/main/products/504...   \n",
       "23  24  https://smartstore.naver.com/main/products/562...   \n",
       "34  35  https://smartstore.naver.com/main/products/502...   \n",
       "39  40  https://smartstore.naver.com/main/products/733...   \n",
       "42  43  https://smartstore.naver.com/main/products/455...   \n",
       "57  58  https://smartstore.naver.com/main/products/905...   \n",
       "58  59  https://smartstore.naver.com/main/products/917...   \n",
       "59  60  https://smartstore.naver.com/main/products/674...   \n",
       "72  73  https://smartstore.naver.com/main/products/530...   \n",
       "78  79  https://smartstore.naver.com/main/products/100...   \n",
       "85  86  https://smartstore.naver.com/main/products/804...   \n",
       "86  87  https://smartstore.naver.com/main/products/593...   \n",
       "\n",
       "                                                이미지링크  \\\n",
       "1   https://shopping-phinf.pstatic.net/main_825922...   \n",
       "5   https://shopping-phinf.pstatic.net/main_866077...   \n",
       "6   https://shopping-phinf.pstatic.net/main_978286...   \n",
       "12  https://shopping-phinf.pstatic.net/main_822170...   \n",
       "14  https://shopping-phinf.pstatic.net/main_825922...   \n",
       "23  data:image/png;base64,iVBORw0KGgoAAAANSUhEUgAA...   \n",
       "34  https://shopping-phinf.pstatic.net/main_825677...   \n",
       "39  https://shopping-phinf.pstatic.net/main_848769...   \n",
       "42  https://shopping-phinf.pstatic.net/main_821019...   \n",
       "57  https://shopping-phinf.pstatic.net/main_866019...   \n",
       "58  https://shopping-phinf.pstatic.net/main_867168...   \n",
       "59  https://shopping-phinf.pstatic.net/main_842923...   \n",
       "72  https://shopping-phinf.pstatic.net/main_107377...   \n",
       "78  data:image/png;base64,iVBORw0KGgoAAAANSUhEUgAA...   \n",
       "85  data:image/png;base64,iVBORw0KGgoAAAANSUhEUgAA...   \n",
       "86  data:image/png;base64,iVBORw0KGgoAAAANSUhEUgAA...   \n",
       "\n",
       "                                                 제품제목             원래가격    할인률  \\\n",
       "1                           [공식]메이블린 라인 타투 아이 라이너 크레용  할인 전 판매가13,000원  25%할인   \n",
       "5            잘안지워지는 점막 지워지지않는 수영장 음영 얇은 아이라인 아이라이너 펜슬  할인 전 판매가17,800원  11%할인   \n",
       "6               1+1 리르 룩스 젤 펜슬 아이라이너 아이라인 아이메이크업 0.5g  할인 전 판매가20,000원  50%할인   \n",
       "12   아임유니 울트라 슬림 워터프루프 젤 아이라이너 펜슬 8컬러 안번지는 점막 아이라인 컬러  할인 전 판매가11,000원  46%할인   \n",
       "14                      메이블린 뉴욕 라인 타투 아이 라이너 크레용 0.4g  할인 전 판매가13,000원  25%할인   \n",
       "23  블레스문 블랙홀 라스팅 워터프루프 아이라이너 (3Colors) 라인괴물 지속력 끝판...              NaN    NaN   \n",
       "34         1+1미크릿 비건 안번지는 미온수클렌징 아이라이너 0.6g(다크브라운/블랙)  할인 전 판매가24,000원  31%할인   \n",
       "39                헤라 이지 스타일링 아이라이너 0.5g 붓펜 아이라인 워터프루프              NaN    NaN   \n",
       "42                            (3개)비러브 마이라인 펜 아이라이너 블랙  할인 전 판매가11,400원   9%할인   \n",
       "57          점막 잘 안지워지는 지워지지않는 아이라인 브라운 컬러 얇은 무쌍 아이라이너  할인 전 판매가29,800원  46%할인   \n",
       "58            점막아이라이너 안지워지는 지워지지않는 얇은 무쌍 액상 아이 라이너 라인  할인 전 판매가29,800원  43%할인   \n",
       "59  해외메이크업포에버 점막 무쌍아이라인 안지워지는아이라이너 음영 트임라이너 립 & 브로...  할인 전 판매가49,100원   6%할인   \n",
       "72                      미크릿 안번지는 워셔블 비건 붓펜 아이라이너 0.6g  할인 전 판매가12,000원  20%할인   \n",
       "78                    해외MAC 맥 플루이드라인 아이 라이너 젤 블랙트랙 1개  할인 전 판매가63,400원  20%할인   \n",
       "85                         퀵 타투 펜라이너 워터프루프 붓펜 엣지 아이라인              NaN    NaN   \n",
       "86  해외화이트 워터 라인 아이 라이너 펜슬 방수 하이라이트 매트 럭셔리메이크업섀도우 키...              NaN    NaN   \n",
       "\n",
       "       현재가격  배송비  \n",
       "1    9,750원  NaN  \n",
       "5   15,800원  NaN  \n",
       "6    9,900원  NaN  \n",
       "12   5,900원  NaN  \n",
       "14   9,750원  NaN  \n",
       "23  24,000원  NaN  \n",
       "34  16,500원  NaN  \n",
       "39  21,780원  NaN  \n",
       "42  10,370원  NaN  \n",
       "57  15,800원  NaN  \n",
       "58  16,800원  NaN  \n",
       "59  46,100원  NaN  \n",
       "72   9,500원  NaN  \n",
       "78  50,720원  NaN  \n",
       "85  29,800원  NaN  \n",
       "86  10,590원  NaN  "
      ]
     },
     "execution_count": 227,
     "metadata": {},
     "output_type": "execute_result"
    }
   ],
   "source": [
    "df.loc[df['배송비'].isnull()]"
   ]
  },
  {
   "cell_type": "code",
   "execution_count": 228,
   "metadata": {},
   "outputs": [
    {
     "data": {
      "text/plain": [
       "16"
      ]
     },
     "execution_count": 228,
     "metadata": {},
     "output_type": "execute_result"
    }
   ],
   "source": [
    "sum(df['배송비'].isnull())"
   ]
  },
  {
   "cell_type": "markdown",
   "metadata": {},
   "source": [
    "# 데이터 출력"
   ]
  },
  {
   "cell_type": "code",
   "execution_count": 229,
   "metadata": {},
   "outputs": [
    {
     "data": {
      "text/plain": [
       "'20241206'"
      ]
     },
     "execution_count": 229,
     "metadata": {},
     "output_type": "execute_result"
    }
   ],
   "source": [
    "current_date = time.strftime('%Y%m%d')\n",
    "current_date"
   ]
  },
  {
   "cell_type": "code",
   "execution_count": 230,
   "metadata": {},
   "outputs": [
    {
     "data": {
      "text/plain": [
       "'20241206_PM_080743'"
      ]
     },
     "execution_count": 230,
     "metadata": {},
     "output_type": "execute_result"
    }
   ],
   "source": [
    "current_datetime = time.strftime('%Y%m%d_%p_%I%M%S')\n",
    "current_datetime"
   ]
  },
  {
   "cell_type": "code",
   "execution_count": 231,
   "metadata": {},
   "outputs": [
    {
     "data": {
      "text/plain": [
       "'c:/Users/kbjoo/Documents/Google_Drive/GitHub/my_projects/crawling/naver'"
      ]
     },
     "execution_count": 231,
     "metadata": {},
     "output_type": "execute_result"
    }
   ],
   "source": [
    "# 현재 경로 확인\n",
    "code_path = os.getcwd().replace('\\\\', '/')\n",
    "code_path"
   ]
  },
  {
   "cell_type": "code",
   "execution_count": 233,
   "metadata": {},
   "outputs": [
    {
     "data": {
      "text/plain": [
       "'c:/Users/kbjoo/Documents/Google_Drive/GitHub/my_projects/crawling/naver\\\\crawled_data\\\\20241206'"
      ]
     },
     "execution_count": 233,
     "metadata": {},
     "output_type": "execute_result"
    }
   ],
   "source": [
    "# 수집한 파일 저장할 폴더 생성\n",
    "crawled_folder_path = os.path.join(code_path, 'crawled_data', current_date)\n",
    "crawled_folder_path"
   ]
  },
  {
   "cell_type": "code",
   "execution_count": 234,
   "metadata": {},
   "outputs": [],
   "source": [
    "os.makedirs(crawled_folder_path, exist_ok=True)"
   ]
  },
  {
   "cell_type": "code",
   "execution_count": 235,
   "metadata": {},
   "outputs": [],
   "source": [
    "# 엑셀 파일로 출력\n",
    "df.to_excel(os.path.join(crawled_folder_path, f'naver_{search_keyword}_{current_datetime}.xlsx'), index=False)"
   ]
  },
  {
   "cell_type": "markdown",
   "metadata": {},
   "source": [
    "# END"
   ]
  }
 ],
 "metadata": {
  "kernelspec": {
   "display_name": "crawling",
   "language": "python",
   "name": "python3"
  },
  "language_info": {
   "codemirror_mode": {
    "name": "ipython",
    "version": 3
   },
   "file_extension": ".py",
   "mimetype": "text/x-python",
   "name": "python",
   "nbconvert_exporter": "python",
   "pygments_lexer": "ipython3",
   "version": "3.13.0"
  },
  "orig_nbformat": 4
 },
 "nbformat": 4,
 "nbformat_minor": 2
}
