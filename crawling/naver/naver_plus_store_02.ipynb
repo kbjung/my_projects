{
 "cells": [
  {
   "cell_type": "markdown",
   "metadata": {},
   "source": [
    "# Library"
   ]
  },
  {
   "cell_type": "code",
   "execution_count": 12,
   "metadata": {},
   "outputs": [],
   "source": [
    "import requests\n",
    "from bs4 import BeautifulSoup as bs\n",
    "\n",
    "import time, os, random\n",
    "import pandas as pd\n",
    "import re\n",
    "import numpy as np\n",
    "\n",
    "from selenium import webdriver\n",
    "import chromedriver_autoinstaller as ca\n",
    "\n",
    "from selenium.webdriver.common.by import By\n",
    "from selenium.webdriver import ActionChains\n",
    "from selenium.webdriver.common.keys import Keys\n",
    "\n",
    "from selenium.webdriver.support.ui import WebDriverWait\n",
    "from selenium.webdriver.support import expected_conditions as EC"
   ]
  },
  {
   "cell_type": "markdown",
   "metadata": {},
   "source": [
    "## chrome driver 설치"
   ]
  },
  {
   "cell_type": "code",
   "execution_count": 13,
   "metadata": {},
   "outputs": [],
   "source": [
    "# USB error 메세지 발생 해결을 위한 코드\n",
    "options = webdriver.ChromeOptions()\n",
    "options.add_experimental_option(\"excludeSwitches\", [\"enable-logging\"])"
   ]
  },
  {
   "cell_type": "code",
   "execution_count": 14,
   "metadata": {},
   "outputs": [
    {
     "data": {
      "text/plain": [
       "'131'"
      ]
     },
     "execution_count": 14,
     "metadata": {},
     "output_type": "execute_result"
    }
   ],
   "source": [
    "# 현재 크롬 버전 확인\n",
    "chrome_ver = ca.get_chrome_version().split('.')[0]\n",
    "chrome_ver"
   ]
  },
  {
   "cell_type": "code",
   "execution_count": 15,
   "metadata": {},
   "outputs": [],
   "source": [
    "# # 크롬 드라이버 확인 및 설치(처음 한번만 실행)\n",
    "# ca.install(True)"
   ]
  },
  {
   "cell_type": "markdown",
   "metadata": {},
   "source": [
    "## chrome driver 실행"
   ]
  },
  {
   "cell_type": "code",
   "execution_count": 16,
   "metadata": {},
   "outputs": [],
   "source": [
    "# 웹드라이버 실행\n",
    "driver = webdriver.Chrome(options=options)"
   ]
  },
  {
   "cell_type": "markdown",
   "metadata": {},
   "source": [
    "## 페이지 접속"
   ]
  },
  {
   "cell_type": "code",
   "execution_count": 17,
   "metadata": {},
   "outputs": [],
   "source": [
    "# 페이지 주소\n",
    "url = 'https://shopping.naver.com/ns/home'"
   ]
  },
  {
   "cell_type": "markdown",
   "metadata": {},
   "source": [
    "### requests 테스트\n",
    "- 페이지 접속 가능 여부확인\n",
    "    - 가능할 경우 출력 : <Response [200]>"
   ]
  },
  {
   "cell_type": "code",
   "execution_count": 18,
   "metadata": {},
   "outputs": [],
   "source": [
    "# req = requests.get(url)\n",
    "# print(req)\n",
    "# html = req.content.decode('utf-8') # 한글 깨짐 해결 코드\n",
    "# soup = bs(html, 'html.parser')\n",
    "# soup.title.text"
   ]
  },
  {
   "cell_type": "markdown",
   "metadata": {},
   "source": [
    "### selenium 작동"
   ]
  },
  {
   "cell_type": "code",
   "execution_count": 19,
   "metadata": {},
   "outputs": [],
   "source": [
    "driver.get(url)\n",
    "driver.implicitly_wait(10) # 페이지 로드 될 때까지 기다리지만 로드 되는 순간 종료\n",
    "# driver.maximize_window() # 브라우져 창 최대화"
   ]
  },
  {
   "cell_type": "markdown",
   "metadata": {},
   "source": [
    "### 검색 창에 검색어 입력"
   ]
  },
  {
   "cell_type": "code",
   "execution_count": 20,
   "metadata": {},
   "outputs": [],
   "source": [
    "# 검색창 정보\n",
    "search_window_xpath = '//*[@id=\"gnb-gnb\"]/div[2]/div/div[2]/div[1]/form/div/div/div/div/input' # 검색 입력창\n",
    "search_window = driver.find_element(By.XPATH, search_window_xpath)\n",
    "\n",
    "# 검색어\n",
    "search_keyword = '아이라인'\n",
    "\n",
    "# 검색창에 검색어 입력\n",
    "search_window.send_keys(search_keyword)\n",
    "\n",
    "# 검색 창 요소가 존재할 때까지 기다림\n",
    "search_window = WebDriverWait(driver, 10).until(\n",
    "    EC.presence_of_element_located((By.XPATH, search_window_xpath))\n",
    ")\n",
    "\n",
    "# 검색 창에 엔터 입력\n",
    "search_window.send_keys(Keys.ENTER)\n",
    "driver.implicitly_wait(10)"
   ]
  },
  {
   "cell_type": "code",
   "execution_count": 21,
   "metadata": {},
   "outputs": [],
   "source": [
    "# 스크롤해야 정보가 로드되는 페이지\n",
    "# 페이지 스크롤 다운\n",
    "driver.execute_script(\"window.scrollTo(0, document.body.scrollHeight);\") # 문서 높이 만큼 스크롤\n",
    "\n",
    "# # 무한 페이지 스크롤다운\n",
    "# last_page_height = driver.execute_script(\"return document.documentElement.scrollHeight\")\n",
    "\n",
    "# while True:\n",
    "#     driver.execute_script(\"window.scrollTo(0, document.body.scrollHeight);\") # 문서 높이 만큼 스크롤\n",
    "#     # driver.execute_script(\"window.scrollTo(0, document.documentElement.scrollHeight);\") # # 문서 높이 만큼 스크롤(위 코드와 동일한 기능)\n",
    "#     time.sleep(random.uniform(1, 3))\n",
    "#     driver.implicitly_wait(10) # 페이지 로드 될 때까지 기다리지만 로드 되는 순간 종료\n",
    "\n",
    "#     new_page_height = driver.execute_script(\"return document.documentElement.scrollHeight\")\n",
    "#     if new_page_height == last_page_height:\n",
    "#         break\n",
    "#     else:\n",
    "#         last_page_height = new_page_height"
   ]
  },
  {
   "cell_type": "markdown",
   "metadata": {},
   "source": [
    "## 🔧 입력 키워드 정보 수집\n",
    "- 페이지 로드되어도 보고있는 화면 근처 정보만 수집되는걸로 보임\n",
    "    1. 페이지 스크롤 -> 수집 -> 페이지 스크롤 반복\n",
    "    2. 수집 후 중복 제거"
   ]
  },
  {
   "cell_type": "code",
   "execution_count": 22,
   "metadata": {},
   "outputs": [
    {
     "data": {
      "text/plain": [
       "'아이라인 : 네이버+ 스토어 검색'"
      ]
     },
     "execution_count": 22,
     "metadata": {},
     "output_type": "execute_result"
    }
   ],
   "source": [
    "page = driver.page_source\n",
    "soup = bs(page, 'html.parser')\n",
    "soup.title.text"
   ]
  },
  {
   "cell_type": "code",
   "execution_count": 23,
   "metadata": {},
   "outputs": [
    {
     "data": {
      "text/plain": [
       "2"
      ]
     },
     "execution_count": 23,
     "metadata": {},
     "output_type": "execute_result"
    }
   ],
   "source": [
    "# 상품 섹션\n",
    "products_section = soup.select_one('div#composite-card-list')\n",
    "len(products_section)"
   ]
  },
  {
   "cell_type": "code",
   "execution_count": 24,
   "metadata": {},
   "outputs": [
    {
     "data": {
      "text/plain": [
       "47"
      ]
     },
     "execution_count": 24,
     "metadata": {},
     "output_type": "execute_result"
    }
   ],
   "source": [
    "# 상품 리스트\n",
    "product_list = products_section.select('li.compositeCardContainer_composite_card_container__jr8cb.composite_card_container div.basicProductCard_basic_product_card__TdrHT.basicProductCard_view_type_grid2__vKr1n')\n",
    "len(product_list)"
   ]
  },
  {
   "cell_type": "markdown",
   "metadata": {},
   "source": [
    "### 상세 페이지 링크"
   ]
  },
  {
   "cell_type": "code",
   "execution_count": 25,
   "metadata": {},
   "outputs": [
    {
     "data": {
      "text/plain": [
       "'https://adcr.naver.com/adcr?x=Vp01qPh0Gu9BG5YADhK/CP///w==kQS7mMPzadzbEKXYHvLxBUBCE2JmcSQRNmuYO20uacdc+4FWKKQnzAtEQLRZFcofURnYX4To0twKZDSScCHI5oscO6yc8ncyDd1DSZgXJ7B9bbfFub3vYEsv+Qc44SQgmadlmZu7qOZViPuaghcADUAU+GL8FCOaLEZuM7hhR5ssb2kRaB3ia2l+WANbZj3MS0PFnl8WN1g1pr/YeeYb/lprfwt59zrFYM0WKyOVWeqRsqI+0GlccJP6mwXGZ+Yhxq2wiu+zh26VRDvKifhT5eLx9NTigNBRgNTzwqZbBvdMgHKbumifAW8waMk0H7PtttqwBYqaB3tIAGiseH2JPpIf6uxJEfZLzxgDryE67qn6ppixa3EgVznQQghZp1QvfLLZpmfRhCnk7kq+ZdyoyZsmZUIRGZ7l62g6qMHua/v8o69ggA2D01pNutLJM1IinUmMjFm/z4qtjOf2a0UgyMj1/atkkjrn/RYckyYIIPoxZxh9Mp8XrkJyddm+hJa0LBtzUZbdf9aC89U5L/oWAEMrnRbKLQbnJKfg1lsfvqU5VzI584iVVq0f+88i7vOmyeVx2t3UVXDr5VIA57wZVp+3FXmlSstsYLNJ+racXIJSseBH1Q6xV/gZAIQJlRzmdJfdWvjR+k2+4iVWsJJGlA0SFvgpN5x6OOVXKf1EDAm2u9MkBVu680NmFIAS2ahxgHYAPsHNQmlY+oBbV5fSdBWK1MdcMFzbTSBg7VhZANdY68565WW4puigu++kxzIaLE+UgrQaCrm9FW1zlea1OE5XQpkN26jb3qLuKlAHGlW4lhYqYjZzfbPn+Gka/1OZGKfA8G8q+DXwyzD07KR5xAAFnnBkmHk/k8odDRFpjzzemniuR/4r3hdTMIbfceqlDovOjEAHJY5I4Yf7Rt6/Zug==#channelProductNo=7276573041'"
      ]
     },
     "execution_count": 25,
     "metadata": {},
     "output_type": "execute_result"
    }
   ],
   "source": [
    "# 상품 상세 페이지\n",
    "order_number = 0\n",
    "product_list[order_number].select_one('a.basicProductCard_link__urzND._nlog_click._nlog_impression_element')['href']"
   ]
  },
  {
   "cell_type": "markdown",
   "metadata": {},
   "source": [
    "### 🔧 이미지 링크\n",
    "- 이미지 저장 기능 추가"
   ]
  },
  {
   "cell_type": "code",
   "execution_count": 26,
   "metadata": {},
   "outputs": [
    {
     "data": {
      "text/plain": [
       "'https://shopping-phinf.pstatic.net/main_8482107/84821073363.5.jpg?type=f300'"
      ]
     },
     "execution_count": 26,
     "metadata": {},
     "output_type": "execute_result"
    }
   ],
   "source": [
    "# 상품 썸네일 이미지 링크\n",
    "order_number = 0\n",
    "product_list[order_number].select_one('div.productCardThumbnail_thumbnail__KzO1N img.autoFitImg_auto_fit_img__fIpj4.autoFitImg_full_height__QCTGq.productCardThumbnail_image__Li6iz.scale')['src']"
   ]
  },
  {
   "cell_type": "markdown",
   "metadata": {},
   "source": [
    "### 상품 정보 섹션"
   ]
  },
  {
   "cell_type": "code",
   "execution_count": 27,
   "metadata": {},
   "outputs": [
    {
     "data": {
      "text/plain": [
       "<div class=\"basicProductCardInformation_basic_product_card_information__7v_uc basicProductCardInformation_view_type_grid2__mlh6E\" id=\"basic_product_card_information_7276573041\"><div class=\"basicProductCardInformation_mall_area__xcGLH\"><div class=\"basicProductCardInformation_advertisement_area__HzaQ_\"><span class=\"advertisementTag_advertisement_tag__yIvim\"><a class=\"advertisementTag_link__NAi19 _nlog_click\" data-shp-area=\"prod.adinfo\" data-shp-area-id=\"adinfo\" data-shp-area-type=\"action\" data-shp-inventory=\"prod\" data-shp-nsc=\"svc.shopping.plusall\" data-shp-page-key=\"100407255\" data-shp-sti=\"shopping\" href=\"#\" role=\"button\" target=\"_blank\"><svg class=\"advertisementTag_icon__DdazQ advertisementTag_information__jKJtn\" fill=\"none\" height=\"18\" viewbox=\"0 0 40 18\" width=\"40\" xmlns=\"http://www.w3.org/2000/svg\"><rect height=\"17\" rx=\"8.5\" stroke=\"#D9D9DC\" width=\"39\" x=\"0.5\" y=\"0.5\"></rect><path d=\"M13.096 11.988c0 1.133-1.265 1.826-3.333 1.826s-3.311-.693-3.311-1.826 1.254-1.837 3.311-1.837 3.333.704 3.333 1.837m-.077-7.92v2.629h1.408v.946h-1.408v2.42h-1.122V4.068zm-1.705 4.29.099.836c-1.859.253-4.059.352-6.171.374l-.165-.946c.572 0 1.298 0 2.002-.011V6.697h1.122v1.892h.033c.99-.033 2.387-.143 3.08-.231m-.66-3.762c0 1.364-.077 2.365-.253 3.245L9.29 7.676c.132-.605.242-1.485.242-2.189H5.759v-.891zm-.891 6.468c-1.342 0-2.156.363-2.156.924s.836.924 2.156.924c1.364 0 2.178-.363 2.178-.924s-.825-.924-2.178-.924m13.64 1.375h-8.855v-.913h3.31V8.171h1.123v3.355h4.422zm-1.1-7.436c0 1.694-.033 3.872-.43 5.5l-1.077-.165c.286-1.276.374-3.102.374-4.422h-5.6v-.913z\" fill=\"#77777A\"></path><circle cx=\"30.5\" cy=\"9\" r=\"5.3\" stroke=\"#77777A\" stroke-width=\"0.8\"></circle><path d=\"M30.5 8v4\" stroke=\"#77777A\" stroke-width=\"0.8\"></path><rect fill=\"#77777A\" height=\"1.2\" rx=\"0.6\" width=\"1.2\" x=\"29.9\" y=\"6\"></rect></svg><span class=\"blind\">광고</span></a></span></div><a class=\"basicProductCardInformation_mall_link__9TeDD _nlog_click _nlog_impression_element\" data-shp-area=\"prod.directstore\" data-shp-area-id=\"directstore\" data-shp-area-type=\"slot\" data-shp-contents-dtl='[{\"key\":\"click_url\",\"value\":\"https://smartstore.naver.com/main/products/7276573041\"}]' data-shp-contents-grp=\"ad\" data-shp-contents-provider-id=\"500180161\" data-shp-contents-provider-type=\"chnl_no\" data-shp-contents-type=\"SA_prod\" data-shp-inventory=\"prod\" data-shp-nsc=\"svc.shopping.plusall\" data-shp-order_con='[{\"key\":\"sort\",\"value\":\"추천순\"},{\"key\":\"resort\",\"value\":\"ON\"}]' data-shp-page-key=\"100407255\" data-shp-sti=\"shopping\" href=\"https://adcr.naver.com/adcr?x=Vp01qPh0Gu9BG5YADhK/CP///w==kQS7mMPzadzbEKXYHvLxBUBCE2JmcSQRNmuYO20uacdc+4FWKKQnzAtEQLRZFcofURnYX4To0twKZDSScCHI5oscO6yc8ncyDd1DSZgXJ7B9bbfFub3vYEsv+Qc44SQgmadlmZu7qOZViPuaghcADUAU+GL8FCOaLEZuM7hhR5ssb2kRaB3ia2l+WANbZj3MS0PFnl8WN1g1pr/YeeYb/lprfwt59zrFYM0WKyOVWeqRsqI+0GlccJP6mwXGZ+Yhxq2wiu+zh26VRDvKifhT5eLx9NTigNBRgNTzwqZbBvdMgHKbumifAW8waMk0H7PtttqwBYqaB3tIAGiseH2JPpIf6uxJEfZLzxgDryE67qn6ppixa3EgVznQQghZp1QvfLLZpmfRhCnk7kq+ZdyoyZsmZUIRGZ7l62g6qMHua/v8o69ggA2D01pNutLJM1IinUmMjFm/z4qtjOf2a0UgyMj1/atkkjrn/RYckyYIIPoxZxh9Mp8XrkJyddm+hJa0LBtzUZbdf9aC89U5L/oWAEMrnRbKLQbnJKfg1lsfvqU5VzI584iVVq0f+88i7vOmyeVx2t3UVXDr5VIA57wZVp+3FXmlSstsYLNJ+racXIJSseBH1Q6xV/gZAIQJlRzmdJfdWvjR+k2+4iVWsJJGlA0SFvgpN5x6OOVXKf1EDAm2u9MkBVu680NmFIAS2ahxgHYAPsHNQmlY+oBbV5fSdBWK1MdcMFzbTSBg7VhZANdY68565WW4puigu++kxzIaLE+UgrQaCrm9FW1zlea1OE5XQpkN26jb3qLuKlAHGlW4lhYqYjZzfbPn+Gka/1OZGKfA8G8q+DXwyzD07KR5xAAFnnBkmHk/k8odDRFpjzzemniuR/4r3hdTMIbfceqlDovOjEAHJY5I4Yf7Rt6/Zug==#channelProductNo=7276573041\" target=\"_blank\"><span class=\"basicProductCardInformation_mall_name__8IS3Q\">나어릴때</span><span class=\"basicProductCardInformation_mall_description__oxXx_\">공식</span><svg class=\"basicProductCardInformation_arrow_icon__oRuTx\" fill=\"none\" height=\"12\" viewbox=\"0 0 12 12\" width=\"12\" xmlns=\"http://www.w3.org/2000/svg\"><path d=\"M4.25 9.75 8 6 4.25 2.25\" stroke=\"currentColor\" stroke-linecap=\"round\" stroke-linejoin=\"round\"></path></svg></a></div><strong class=\"basicProductCardInformation_title__Bc_Ng\">나어릴때 워터프루프 브러쉬 아이라인</strong><div class=\"basicProductCardInformation_wrap_price__largu\"><div class=\"productCardPrice_product_card_price__4QIH0\"><div class=\"productCardPrice_wrap_price_tag__URLP7\"><div class=\"priceTag_price_tag__T_z8R\"><span class=\"priceTag_discount_area__rabeJ\"><span class=\"priceTag_original_price__jyZRY\"><span class=\"blind\">할인 전 판매가</span>14,000<!-- -->원</span></span><span class=\"priceTag_price_area__iHlni\"><span class=\"priceTag_discount__F_ZXz\">39<!-- -->%<span class=\"blind\">할인</span></span><span class=\"priceTag_inner_price__TctbK\">8,500<span class=\"priceTag_unit__IXyyy\">원</span></span></span></div></div><div class=\"productCardPrice_delivery_price__AiyD2\">배송비 <!-- -->3,000<!-- -->원</div></div></div><div class=\"basicProductCardInformation_arrival_guarantee_area__VKq5B\"><div class=\"departTodayIcon_depart_today_icon__zclFI\"><span class=\"departTodayIcon_badge__FlNLI\">오늘출발</span><span class=\"departTodayIcon_text__DhO50\">14:00<!-- -->까지 주문 시</span></div></div><div class=\"productCardReview_product_card_review__Oiv_T productCardReview_with_review_text__KreLb\"><span class=\"productCardReview_text__A9N9N productCardReview_star__7iHNO\"><svg class=\"productCardReview_star_icon__5qmKd\" fill=\"none\" height=\"16\" viewbox=\"0 0 16 16\" width=\"16\" xmlns=\"http://www.w3.org/2000/svg\"><path clip-rule=\"evenodd\" d=\"m6.3 5.854-.39.005-3.487.047c-.405.005-.578.487-.26.723l3.086 2.289-.109.34-.99 3.131c-.116.365.318.664.653.451l3.196-2.03.311.197 2.885 1.833c.335.213.769-.087.653-.451L10.75 8.918l.297-.22 2.788-2.069c.318-.236.145-.718-.26-.723l-3.877-.052L8.406 2.36c-.135-.362-.68-.362-.813 0L6.3 5.855z\" fill=\"currentColor\" fill-rule=\"evenodd\"></path></svg><span class=\"blind\">별점</span>4.69</span><span class=\"productCardReview_text__A9N9N\">리뷰 <!-- -->2,828</span></div></div>"
      ]
     },
     "execution_count": 27,
     "metadata": {},
     "output_type": "execute_result"
    }
   ],
   "source": [
    "# 상품 정보 섹션\n",
    "order_number = 0\n",
    "product_info_section = product_list[order_number].select_one('div.basicProductCardInformation_basic_product_card_information__7v_uc')\n",
    "product_info_section"
   ]
  },
  {
   "cell_type": "markdown",
   "metadata": {},
   "source": [
    "#### 상품 제목"
   ]
  },
  {
   "cell_type": "code",
   "execution_count": 28,
   "metadata": {},
   "outputs": [
    {
     "name": "stdout",
     "output_type": "stream",
     "text": [
      "나어릴때 워터프루프 브러쉬 아이라인\n"
     ]
    }
   ],
   "source": [
    "# 상품 제목\n",
    "print(product_info_section.select_one('strong.basicProductCardInformation_title__Bc_Ng').text)"
   ]
  },
  {
   "cell_type": "markdown",
   "metadata": {},
   "source": [
    "#### 🔧 상품 가격\n",
    "- 숫자만 추출"
   ]
  },
  {
   "cell_type": "code",
   "execution_count": null,
   "metadata": {},
   "outputs": [
    {
     "name": "stdout",
     "output_type": "stream",
     "text": [
      "할인 전 판매가14,000원\n",
      "<class 'int'> 14000\n",
      "39%할인\n",
      "<class 'float'> 0.39\n",
      "8,500원\n",
      "<class 'int'> 8500\n"
     ]
    }
   ],
   "source": [
    "# 상품 가격\n",
    "raw_original_price = product_info_section.select_one('span.priceTag_original_price__jyZRY').text\n",
    "original_price = int(re.sub('[^0-9]', '', raw_original_price))\n",
    "\n",
    "raw_discount_rate = product_info_section.select_one('span.priceTag_discount__F_ZXz').text\n",
    "discount_rate = int(re.sub('[^0-9]', '', raw_discount_rate)) / 100\n",
    "\n",
    "raw_price = product_info_section.select_one('span.priceTag_inner_price__TctbK').text\n",
    "price = int(re.sub('[^0-9]', '', raw_price))\n",
    "\n",
    "print(raw_original_price)\n",
    "print(type(original_price), original_price)\n",
    "print(raw_discount_rate)\n",
    "print(type(discount_rate), discount_rate)\n",
    "print(raw_price)\n",
    "print(type(price), price)"
   ]
  },
  {
   "cell_type": "markdown",
   "metadata": {},
   "source": [
    "#### 🔧 배송비\n",
    "- 숫자만 추출"
   ]
  },
  {
   "cell_type": "code",
   "execution_count": 30,
   "metadata": {},
   "outputs": [
    {
     "data": {
      "text/plain": [
       "'배송비 3,000원'"
      ]
     },
     "execution_count": 30,
     "metadata": {},
     "output_type": "execute_result"
    }
   ],
   "source": [
    "product_info_section.select_one('div.productCardPrice_delivery_price__AiyD2').text"
   ]
  },
  {
   "cell_type": "markdown",
   "metadata": {},
   "source": [
    "#### 종합"
   ]
  },
  {
   "cell_type": "code",
   "execution_count": 31,
   "metadata": {},
   "outputs": [
    {
     "name": "stdout",
     "output_type": "stream",
     "text": [
      "https://adcr.naver.com/adcr?x=Vp01qPh0Gu9BG5YADhK/CP///w==kQS7mMPzadzbEKXYHvLxBUBCE2JmcSQRNmuYO20uacdc+4FWKKQnzAtEQLRZFcofURnYX4To0twKZDSScCHI5oscO6yc8ncyDd1DSZgXJ7B9bbfFub3vYEsv+Qc44SQgmadlmZu7qOZViPuaghcADUAU+GL8FCOaLEZuM7hhR5ssb2kRaB3ia2l+WANbZj3MS0PFnl8WN1g1pr/YeeYb/lprfwt59zrFYM0WKyOVWeqRsqI+0GlccJP6mwXGZ+Yhxq2wiu+zh26VRDvKifhT5eLx9NTigNBRgNTzwqZbBvdMgHKbumifAW8waMk0H7PtttqwBYqaB3tIAGiseH2JPpIf6uxJEfZLzxgDryE67qn6ppixa3EgVznQQghZp1QvfLLZpmfRhCnk7kq+ZdyoyZsmZUIRGZ7l62g6qMHua/v8o69ggA2D01pNutLJM1IinUmMjFm/z4qtjOf2a0UgyMj1/atkkjrn/RYckyYIIPoxZxh9Mp8XrkJyddm+hJa0LBtzUZbdf9aC89U5L/oWAEMrnRbKLQbnJKfg1lsfvqU5VzI584iVVq0f+88i7vOmyeVx2t3UVXDr5VIA57wZVp+3FXmlSstsYLNJ+racXIJSseBH1Q6xV/gZAIQJlRzmdJfdWvjR+k2+4iVWsJJGlA0SFvgpN5x6OOVXKf1EDAm2u9MkBVu680NmFIAS2ahxgHYAPsHNQmlY+oBbV5fSdBWK1MdcMFzbTSBg7VhZANdY68565WW4puigu++kxzIaLE+UgrQaCrm9FW1zlea1OE5XQpkN26jb3qLuKlAHGlW4lhYqYjZzfbPn+Gka/1OZGKfA8G8q+DXwyzD07KR5xAAFnnBkmHk/k8odDRFpjzzemniuR/4r3hdTMIbfceqlDovOjEAHJY5I4Yf7Rt6/Zug==#channelProductNo=7276573041\n",
      "https://shopping-phinf.pstatic.net/main_8482107/84821073363.5.jpg?type=f300\n",
      "나어릴때 워터프루프 브러쉬 아이라인\n",
      "할인 전 판매가14,000원\n",
      "39%할인\n",
      "8,500원\n",
      "배송비 3,000원\n"
     ]
    }
   ],
   "source": [
    "order_number = 0\n",
    "\n",
    "# 상세 페이지 링크\n",
    "print(product_list[order_number].select_one('a.basicProductCard_link__urzND._nlog_click._nlog_impression_element')['href'])\n",
    "\n",
    "\n",
    "# 이미지 링크\n",
    "print(product_list[order_number].select_one('div.productCardThumbnail_thumbnail__KzO1N img.autoFitImg_auto_fit_img__fIpj4.autoFitImg_full_height__QCTGq.productCardThumbnail_image__Li6iz.scale')['src'])\n",
    "\n",
    "# 상품 정보 섹션\n",
    "product_info_section = product_list[order_number].select_one('div.basicProductCardInformation_basic_product_card_information__7v_uc')\n",
    "\n",
    "# 상품 제목\n",
    "print(product_info_section.select_one('strong.basicProductCardInformation_title__Bc_Ng').text)\n",
    "\n",
    "# 원래 상품 가격\n",
    "try:\n",
    "    print(product_info_section.select_one('span.priceTag_original_price__jyZRY').text)\n",
    "except:\n",
    "    print('할인없음')\n",
    "# 할인률\n",
    "try:\n",
    "    print(product_info_section.select_one('span.priceTag_discount__F_ZXz').text)\n",
    "except:\n",
    "    print('할인률없음')\n",
    "# 현재 가격\n",
    "print(product_info_section.select_one('span.priceTag_inner_price__TctbK').text)\n",
    "# 배송비비\n",
    "try:\n",
    "    print(product_info_section.select_one('div.productCardPrice_delivery_price__AiyD2').text)\n",
    "except:\n",
    "    print('배송비없음')"
   ]
  },
  {
   "cell_type": "markdown",
   "metadata": {},
   "source": [
    "# 🔧 수집한 데이터 전처리\n",
    "- 원래가격, 할인률, 현재가격 숫자만 표기하도록 정제\n",
    "- 원래가격, 할인률 nan 값 처리된 부분 확인"
   ]
  },
  {
   "cell_type": "code",
   "execution_count": null,
   "metadata": {},
   "outputs": [
    {
     "name": "stdout",
     "output_type": "stream",
     "text": [
      "1\n",
      "5\n",
      "28\n",
      "34\n",
      "35\n"
     ]
    }
   ],
   "source": [
    "num_list = []\n",
    "detail_link_list = []\n",
    "img_src_list = []\n",
    "title_list = []\n",
    "original_price_list = []\n",
    "discount_rate_list = []\n",
    "price_list = []\n",
    "delivery_price_list = []\n",
    "\n",
    "for i in range(len(product_list)):\n",
    "    num = i + 1\n",
    "\n",
    "    # 상세 페이지 링크\n",
    "    try:\n",
    "        detail_link = product_list[i].select_one('a.basicProductCard_link__urzND._nlog_click._nlog_impression_element')['href']\n",
    "    except:\n",
    "        print(i)\n",
    "        # print('상세페이지링크없음')\n",
    "    # 이미지 링크\n",
    "    try:\n",
    "        img_src = product_list[i].select_one('div.productCardThumbnail_thumbnail__KzO1N img.autoFitImg_auto_fit_img__fIpj4.autoFitImg_full_height__QCTGq.productCardThumbnail_image__Li6iz.scale')['src']\n",
    "    except:\n",
    "        print(i)\n",
    "        # print('이미지링크없음')\n",
    "    \n",
    "    # 상품 정보 섹션\n",
    "    product_info_section = product_list[i].select_one('div.basicProductCardInformation_basic_product_card_information__7v_uc')\n",
    "    \n",
    "    ## 상품 제목\n",
    "    try:\n",
    "        title = product_info_section.select_one('strong.basicProductCardInformation_title__Bc_Ng').text\n",
    "    except:\n",
    "        print(i)\n",
    "        # print('상품제목없음')\n",
    "    \n",
    "    ## 원래가격\n",
    "    try:\n",
    "        raw_original_price = product_info_section.select_one('span.priceTag_original_price__jyZRY').text\n",
    "        original_price = int(re.sub('[^0-9]', '', raw_original_price))\n",
    "    except:\n",
    "        original_price = np.nan\n",
    "        # print('원래가격없음')\n",
    "    ## 할인률\n",
    "    try:\n",
    "        raw_discount_rate = product_info_section.select_one('span.priceTag_discount__F_ZXz').text\n",
    "        discount_rate = int(re.sub('[^0-9]', '', raw_discount_rate)) / 100\n",
    "    except:\n",
    "        discount_rate = np.nan\n",
    "        # print('할인률없음')\n",
    "    ## 현재가격\n",
    "    try:\n",
    "        raw_price = product_info_section.select_one('span.priceTag_inner_price__TctbK').text\n",
    "        price = int(re.sub('[^0-9]', '', raw_price))\n",
    "    except:\n",
    "        print(i)\n",
    "        # print('현재가격없음')\n",
    "    ## 배송비\n",
    "    try:\n",
    "        delivery_price = product_info_section.select_one('div.productCardPrice_delivery_price__AiyD2').text\n",
    "    except:\n",
    "        delivery_price = np.nan\n",
    "        # print('배송비없음')\n",
    "\n",
    "    # 정보 리스트에 담기\n",
    "    num_list.append(num)\n",
    "    detail_link_list.append(detail_link)\n",
    "    img_src_list.append(img_src)\n",
    "    title_list.append(title)\n",
    "    original_price_list.append(original_price)\n",
    "    discount_rate_list.append(discount_rate)\n",
    "    delivery_price_list.append(delivery_price)\n",
    "    price_list.append(price)\n"
   ]
  },
  {
   "cell_type": "code",
   "execution_count": 33,
   "metadata": {},
   "outputs": [
    {
     "data": {
      "text/plain": [
       "(47, 47, 47, 47, 47, 47, 47, 47)"
      ]
     },
     "execution_count": 33,
     "metadata": {},
     "output_type": "execute_result"
    }
   ],
   "source": [
    "len(num_list), len(detail_link_list), len(img_src_list), len(title_list), len(original_price_list), len(discount_rate_list), len(price_list), len(delivery_price_list)"
   ]
  },
  {
   "cell_type": "code",
   "execution_count": 34,
   "metadata": {},
   "outputs": [
    {
     "data": {
      "text/html": [
       "<div>\n",
       "<style scoped>\n",
       "    .dataframe tbody tr th:only-of-type {\n",
       "        vertical-align: middle;\n",
       "    }\n",
       "\n",
       "    .dataframe tbody tr th {\n",
       "        vertical-align: top;\n",
       "    }\n",
       "\n",
       "    .dataframe thead th {\n",
       "        text-align: right;\n",
       "    }\n",
       "</style>\n",
       "<table border=\"1\" class=\"dataframe\">\n",
       "  <thead>\n",
       "    <tr style=\"text-align: right;\">\n",
       "      <th></th>\n",
       "      <th>번호</th>\n",
       "      <th>상세페이지링크</th>\n",
       "      <th>이미지링크</th>\n",
       "      <th>제품제목</th>\n",
       "      <th>원래가격</th>\n",
       "      <th>할인률</th>\n",
       "      <th>현재가격</th>\n",
       "      <th>배송비</th>\n",
       "    </tr>\n",
       "  </thead>\n",
       "  <tbody>\n",
       "    <tr>\n",
       "      <th>0</th>\n",
       "      <td>1</td>\n",
       "      <td>https://adcr.naver.com/adcr?x=bxEcViLe53LQejej...</td>\n",
       "      <td>https://shopping-phinf.pstatic.net/main_848210...</td>\n",
       "      <td>나어릴때 워터프루프 브러쉬 아이라인</td>\n",
       "      <td>할인 전 판매가14,000원</td>\n",
       "      <td>39%할인</td>\n",
       "      <td>8,500원</td>\n",
       "      <td>배송비 3,000원</td>\n",
       "    </tr>\n",
       "    <tr>\n",
       "      <th>1</th>\n",
       "      <td>2</td>\n",
       "      <td>https://adcr.naver.com/adcr?x=jrCMSOml7FTwryzc...</td>\n",
       "      <td>https://shopping-phinf.pstatic.net/main_848210...</td>\n",
       "      <td>1+1 미크릿 워셔블 비건 슈퍼픽서 아이라이너</td>\n",
       "      <td>할인 전 판매가24,000원</td>\n",
       "      <td>31%할인</td>\n",
       "      <td>16,500원</td>\n",
       "      <td>NaN</td>\n",
       "    </tr>\n",
       "    <tr>\n",
       "      <th>2</th>\n",
       "      <td>3</td>\n",
       "      <td>https://adcr.naver.com/adcr?x=1Kq9m/2F5kFnA+sA...</td>\n",
       "      <td>https://searchad-phinf.pstatic.net/MjAyMzA1MDh...</td>\n",
       "      <td>메리쏘드 릴타투 브러쉬 펜라이너 붓펜 아이라인</td>\n",
       "      <td>할인 전 판매가11,000원</td>\n",
       "      <td>5%할인</td>\n",
       "      <td>10,400원</td>\n",
       "      <td>배송비 3,000원</td>\n",
       "    </tr>\n",
       "    <tr>\n",
       "      <th>3</th>\n",
       "      <td>4</td>\n",
       "      <td>https://adcr.naver.com/adcr?x=GhXryHCzsPvsfaG6...</td>\n",
       "      <td>https://shopping-phinf.pstatic.net/main_825922...</td>\n",
       "      <td>[공식]메이블린 라인 타투 아이 라이너 크레용</td>\n",
       "      <td>할인 전 판매가13,000원</td>\n",
       "      <td>25%할인</td>\n",
       "      <td>9,750원</td>\n",
       "      <td>NaN</td>\n",
       "    </tr>\n",
       "    <tr>\n",
       "      <th>4</th>\n",
       "      <td>5</td>\n",
       "      <td>https://smartstore.naver.com/main/products/551...</td>\n",
       "      <td>https://shopping-phinf.pstatic.net/main_830583...</td>\n",
       "      <td>번지지않는 붓펜 아이라이너 점막 안번지는 저자극 그리기쉬운 아이라인 펜슬 붓 트임</td>\n",
       "      <td>할인 전 판매가12,900원</td>\n",
       "      <td>23%할인</td>\n",
       "      <td>9,900원</td>\n",
       "      <td>배송비 3,000원</td>\n",
       "    </tr>\n",
       "  </tbody>\n",
       "</table>\n",
       "</div>"
      ],
      "text/plain": [
       "   번호                                            상세페이지링크  \\\n",
       "0   1  https://adcr.naver.com/adcr?x=bxEcViLe53LQejej...   \n",
       "1   2  https://adcr.naver.com/adcr?x=jrCMSOml7FTwryzc...   \n",
       "2   3  https://adcr.naver.com/adcr?x=1Kq9m/2F5kFnA+sA...   \n",
       "3   4  https://adcr.naver.com/adcr?x=GhXryHCzsPvsfaG6...   \n",
       "4   5  https://smartstore.naver.com/main/products/551...   \n",
       "\n",
       "                                               이미지링크  \\\n",
       "0  https://shopping-phinf.pstatic.net/main_848210...   \n",
       "1  https://shopping-phinf.pstatic.net/main_848210...   \n",
       "2  https://searchad-phinf.pstatic.net/MjAyMzA1MDh...   \n",
       "3  https://shopping-phinf.pstatic.net/main_825922...   \n",
       "4  https://shopping-phinf.pstatic.net/main_830583...   \n",
       "\n",
       "                                            제품제목             원래가격    할인률  \\\n",
       "0                            나어릴때 워터프루프 브러쉬 아이라인  할인 전 판매가14,000원  39%할인   \n",
       "1                      1+1 미크릿 워셔블 비건 슈퍼픽서 아이라이너  할인 전 판매가24,000원  31%할인   \n",
       "2                      메리쏘드 릴타투 브러쉬 펜라이너 붓펜 아이라인  할인 전 판매가11,000원   5%할인   \n",
       "3                      [공식]메이블린 라인 타투 아이 라이너 크레용  할인 전 판매가13,000원  25%할인   \n",
       "4  번지지않는 붓펜 아이라이너 점막 안번지는 저자극 그리기쉬운 아이라인 펜슬 붓 트임  할인 전 판매가12,900원  23%할인   \n",
       "\n",
       "      현재가격         배송비  \n",
       "0   8,500원  배송비 3,000원  \n",
       "1  16,500원         NaN  \n",
       "2  10,400원  배송비 3,000원  \n",
       "3   9,750원         NaN  \n",
       "4   9,900원  배송비 3,000원  "
      ]
     },
     "execution_count": 34,
     "metadata": {},
     "output_type": "execute_result"
    }
   ],
   "source": [
    "data_dict = {\n",
    "    '번호':num_list, \n",
    "    '상세페이지링크':detail_link_list,\n",
    "    '이미지링크':img_src_list,\n",
    "    '제품제목':title_list,\n",
    "    '원래가격':original_price_list,\n",
    "    '할인률':discount_rate_list,\n",
    "    '현재가격':price_list,\n",
    "    '배송비':delivery_price_list\n",
    "    }\n",
    "df = pd.DataFrame(data_dict)\n",
    "df.head()"
   ]
  },
  {
   "cell_type": "code",
   "execution_count": 35,
   "metadata": {},
   "outputs": [
    {
     "data": {
      "text/html": [
       "<div>\n",
       "<style scoped>\n",
       "    .dataframe tbody tr th:only-of-type {\n",
       "        vertical-align: middle;\n",
       "    }\n",
       "\n",
       "    .dataframe tbody tr th {\n",
       "        vertical-align: top;\n",
       "    }\n",
       "\n",
       "    .dataframe thead th {\n",
       "        text-align: right;\n",
       "    }\n",
       "</style>\n",
       "<table border=\"1\" class=\"dataframe\">\n",
       "  <thead>\n",
       "    <tr style=\"text-align: right;\">\n",
       "      <th></th>\n",
       "      <th>번호</th>\n",
       "      <th>상세페이지링크</th>\n",
       "      <th>이미지링크</th>\n",
       "      <th>제품제목</th>\n",
       "      <th>원래가격</th>\n",
       "      <th>할인률</th>\n",
       "      <th>현재가격</th>\n",
       "      <th>배송비</th>\n",
       "    </tr>\n",
       "  </thead>\n",
       "  <tbody>\n",
       "    <tr>\n",
       "      <th>42</th>\n",
       "      <td>43</td>\n",
       "      <td>https://smartstore.naver.com/main/products/603...</td>\n",
       "      <td>data:image/png;base64,iVBORw0KGgoAAAANSUhEUgAA...</td>\n",
       "      <td>애리조 번지지않은 안지워지는 펜 아이라이너 펄 워터프루프 아이라인펜슬1.5g</td>\n",
       "      <td>NaN</td>\n",
       "      <td>NaN</td>\n",
       "      <td>13,000원</td>\n",
       "      <td>배송비 3,000원</td>\n",
       "    </tr>\n",
       "    <tr>\n",
       "      <th>43</th>\n",
       "      <td>44</td>\n",
       "      <td>https://smartstore.naver.com/main/products/108...</td>\n",
       "      <td>data:image/png;base64,iVBORw0KGgoAAAANSUhEUgAA...</td>\n",
       "      <td>애교살 아이라인 그리기 마스카라 도구</td>\n",
       "      <td>NaN</td>\n",
       "      <td>NaN</td>\n",
       "      <td>700원</td>\n",
       "      <td>배송비 3,000원</td>\n",
       "    </tr>\n",
       "    <tr>\n",
       "      <th>44</th>\n",
       "      <td>45</td>\n",
       "      <td>https://smartstore.naver.com/main/products/865...</td>\n",
       "      <td>data:image/png;base64,iVBORw0KGgoAAAANSUhEUgAA...</td>\n",
       "      <td>아이라인그리기 눈화장가이드 애교살만들기 마스카라가드</td>\n",
       "      <td>할인 전 판매가8,000원</td>\n",
       "      <td>60%할인</td>\n",
       "      <td>3,200원</td>\n",
       "      <td>배송비 3,000원</td>\n",
       "    </tr>\n",
       "    <tr>\n",
       "      <th>45</th>\n",
       "      <td>46</td>\n",
       "      <td>https://smartstore.naver.com/main/products/513...</td>\n",
       "      <td>data:image/png;base64,iVBORw0KGgoAAAANSUhEUgAA...</td>\n",
       "      <td>워터프루프 오앤에이 아이라이너 롱라스팅 브러쉬 초슬림 아이라인 펜슬 3색상</td>\n",
       "      <td>할인 전 판매가16,000원</td>\n",
       "      <td>65%할인</td>\n",
       "      <td>5,500원</td>\n",
       "      <td>배송비 3,000원</td>\n",
       "    </tr>\n",
       "    <tr>\n",
       "      <th>46</th>\n",
       "      <td>47</td>\n",
       "      <td>https://smartstore.naver.com/main/products/100...</td>\n",
       "      <td>data:image/png;base64,iVBORw0KGgoAAAANSUhEUgAA...</td>\n",
       "      <td>비러브 마이라인 펜 아이라이너 블랙</td>\n",
       "      <td>할인 전 판매가2,900원</td>\n",
       "      <td>9%할인</td>\n",
       "      <td>2,630원</td>\n",
       "      <td>배송비 3,000원</td>\n",
       "    </tr>\n",
       "  </tbody>\n",
       "</table>\n",
       "</div>"
      ],
      "text/plain": [
       "    번호                                            상세페이지링크  \\\n",
       "42  43  https://smartstore.naver.com/main/products/603...   \n",
       "43  44  https://smartstore.naver.com/main/products/108...   \n",
       "44  45  https://smartstore.naver.com/main/products/865...   \n",
       "45  46  https://smartstore.naver.com/main/products/513...   \n",
       "46  47  https://smartstore.naver.com/main/products/100...   \n",
       "\n",
       "                                                이미지링크  \\\n",
       "42  data:image/png;base64,iVBORw0KGgoAAAANSUhEUgAA...   \n",
       "43  data:image/png;base64,iVBORw0KGgoAAAANSUhEUgAA...   \n",
       "44  data:image/png;base64,iVBORw0KGgoAAAANSUhEUgAA...   \n",
       "45  data:image/png;base64,iVBORw0KGgoAAAANSUhEUgAA...   \n",
       "46  data:image/png;base64,iVBORw0KGgoAAAANSUhEUgAA...   \n",
       "\n",
       "                                          제품제목             원래가격    할인률  \\\n",
       "42  애리조 번지지않은 안지워지는 펜 아이라이너 펄 워터프루프 아이라인펜슬1.5g              NaN    NaN   \n",
       "43                        애교살 아이라인 그리기 마스카라 도구              NaN    NaN   \n",
       "44                아이라인그리기 눈화장가이드 애교살만들기 마스카라가드   할인 전 판매가8,000원  60%할인   \n",
       "45   워터프루프 오앤에이 아이라이너 롱라스팅 브러쉬 초슬림 아이라인 펜슬 3색상  할인 전 판매가16,000원  65%할인   \n",
       "46                         비러브 마이라인 펜 아이라이너 블랙   할인 전 판매가2,900원   9%할인   \n",
       "\n",
       "       현재가격         배송비  \n",
       "42  13,000원  배송비 3,000원  \n",
       "43     700원  배송비 3,000원  \n",
       "44   3,200원  배송비 3,000원  \n",
       "45   5,500원  배송비 3,000원  \n",
       "46   2,630원  배송비 3,000원  "
      ]
     },
     "execution_count": 35,
     "metadata": {},
     "output_type": "execute_result"
    }
   ],
   "source": [
    "df.tail()"
   ]
  },
  {
   "cell_type": "code",
   "execution_count": 36,
   "metadata": {},
   "outputs": [
    {
     "data": {
      "text/html": [
       "<div>\n",
       "<style scoped>\n",
       "    .dataframe tbody tr th:only-of-type {\n",
       "        vertical-align: middle;\n",
       "    }\n",
       "\n",
       "    .dataframe tbody tr th {\n",
       "        vertical-align: top;\n",
       "    }\n",
       "\n",
       "    .dataframe thead th {\n",
       "        text-align: right;\n",
       "    }\n",
       "</style>\n",
       "<table border=\"1\" class=\"dataframe\">\n",
       "  <thead>\n",
       "    <tr style=\"text-align: right;\">\n",
       "      <th></th>\n",
       "      <th>번호</th>\n",
       "      <th>상세페이지링크</th>\n",
       "      <th>이미지링크</th>\n",
       "      <th>제품제목</th>\n",
       "      <th>원래가격</th>\n",
       "      <th>할인률</th>\n",
       "      <th>현재가격</th>\n",
       "      <th>배송비</th>\n",
       "    </tr>\n",
       "  </thead>\n",
       "  <tbody>\n",
       "  </tbody>\n",
       "</table>\n",
       "</div>"
      ],
      "text/plain": [
       "Empty DataFrame\n",
       "Columns: [번호, 상세페이지링크, 이미지링크, 제품제목, 원래가격, 할인률, 현재가격, 배송비]\n",
       "Index: []"
      ]
     },
     "execution_count": 36,
     "metadata": {},
     "output_type": "execute_result"
    }
   ],
   "source": [
    "df.loc[df['현재가격'].isnull()]"
   ]
  },
  {
   "cell_type": "code",
   "execution_count": 37,
   "metadata": {},
   "outputs": [
    {
     "data": {
      "text/html": [
       "<div>\n",
       "<style scoped>\n",
       "    .dataframe tbody tr th:only-of-type {\n",
       "        vertical-align: middle;\n",
       "    }\n",
       "\n",
       "    .dataframe tbody tr th {\n",
       "        vertical-align: top;\n",
       "    }\n",
       "\n",
       "    .dataframe thead th {\n",
       "        text-align: right;\n",
       "    }\n",
       "</style>\n",
       "<table border=\"1\" class=\"dataframe\">\n",
       "  <thead>\n",
       "    <tr style=\"text-align: right;\">\n",
       "      <th></th>\n",
       "      <th>번호</th>\n",
       "      <th>상세페이지링크</th>\n",
       "      <th>이미지링크</th>\n",
       "      <th>제품제목</th>\n",
       "      <th>원래가격</th>\n",
       "      <th>할인률</th>\n",
       "      <th>현재가격</th>\n",
       "      <th>배송비</th>\n",
       "    </tr>\n",
       "  </thead>\n",
       "  <tbody>\n",
       "    <tr>\n",
       "      <th>1</th>\n",
       "      <td>2</td>\n",
       "      <td>https://adcr.naver.com/adcr?x=jrCMSOml7FTwryzc...</td>\n",
       "      <td>https://shopping-phinf.pstatic.net/main_848210...</td>\n",
       "      <td>1+1 미크릿 워셔블 비건 슈퍼픽서 아이라이너</td>\n",
       "      <td>할인 전 판매가24,000원</td>\n",
       "      <td>31%할인</td>\n",
       "      <td>16,500원</td>\n",
       "      <td>NaN</td>\n",
       "    </tr>\n",
       "    <tr>\n",
       "      <th>3</th>\n",
       "      <td>4</td>\n",
       "      <td>https://adcr.naver.com/adcr?x=GhXryHCzsPvsfaG6...</td>\n",
       "      <td>https://shopping-phinf.pstatic.net/main_825922...</td>\n",
       "      <td>[공식]메이블린 라인 타투 아이 라이너 크레용</td>\n",
       "      <td>할인 전 판매가13,000원</td>\n",
       "      <td>25%할인</td>\n",
       "      <td>9,750원</td>\n",
       "      <td>NaN</td>\n",
       "    </tr>\n",
       "    <tr>\n",
       "      <th>5</th>\n",
       "      <td>6</td>\n",
       "      <td>https://smartstore.naver.com/main/products/906...</td>\n",
       "      <td>https://shopping-phinf.pstatic.net/main_830583...</td>\n",
       "      <td>잘안지워지는 점막 지워지지않는 수영장 음영 얇은 아이라인 아이라이너 펜슬</td>\n",
       "      <td>할인 전 판매가17,800원</td>\n",
       "      <td>11%할인</td>\n",
       "      <td>15,800원</td>\n",
       "      <td>NaN</td>\n",
       "    </tr>\n",
       "    <tr>\n",
       "      <th>8</th>\n",
       "      <td>9</td>\n",
       "      <td>https://smartstore.naver.com/main/products/467...</td>\n",
       "      <td>https://shopping-phinf.pstatic.net/main_822170...</td>\n",
       "      <td>아임유니 울트라 슬림 워터프루프 젤 아이라이너 펜슬 8컬러 안번지는 점막 아이라인 컬러</td>\n",
       "      <td>할인 전 판매가11,000원</td>\n",
       "      <td>46%할인</td>\n",
       "      <td>5,900원</td>\n",
       "      <td>NaN</td>\n",
       "    </tr>\n",
       "    <tr>\n",
       "      <th>10</th>\n",
       "      <td>11</td>\n",
       "      <td>https://smartstore.naver.com/main/products/504...</td>\n",
       "      <td>data:image/png;base64,iVBORw0KGgoAAAANSUhEUgAA...</td>\n",
       "      <td>메이블린 뉴욕 라인 타투 아이 라이너 크레용 0.4g</td>\n",
       "      <td>할인 전 판매가13,000원</td>\n",
       "      <td>25%할인</td>\n",
       "      <td>9,750원</td>\n",
       "      <td>NaN</td>\n",
       "    </tr>\n",
       "    <tr>\n",
       "      <th>11</th>\n",
       "      <td>12</td>\n",
       "      <td>https://smartstore.naver.com/main/products/399...</td>\n",
       "      <td>data:image/png;base64,iVBORw0KGgoAAAANSUhEUgAA...</td>\n",
       "      <td>1+1 리르 룩스 젤 펜슬 아이라이너 아이라인 아이메이크업 0.5g</td>\n",
       "      <td>할인 전 판매가20,000원</td>\n",
       "      <td>50%할인</td>\n",
       "      <td>9,900원</td>\n",
       "      <td>NaN</td>\n",
       "    </tr>\n",
       "    <tr>\n",
       "      <th>16</th>\n",
       "      <td>17</td>\n",
       "      <td>https://smartstore.naver.com/main/products/733...</td>\n",
       "      <td>data:image/png;base64,iVBORw0KGgoAAAANSUhEUgAA...</td>\n",
       "      <td>헤라 이지 스타일링 아이라이너 0.5g 붓펜 아이라인 워터프루프</td>\n",
       "      <td>NaN</td>\n",
       "      <td>NaN</td>\n",
       "      <td>21,780원</td>\n",
       "      <td>NaN</td>\n",
       "    </tr>\n",
       "    <tr>\n",
       "      <th>28</th>\n",
       "      <td>29</td>\n",
       "      <td>https://smartstore.naver.com/main/products/502...</td>\n",
       "      <td>data:image/png;base64,iVBORw0KGgoAAAANSUhEUgAA...</td>\n",
       "      <td>1+1미크릿 비건 안번지는 미온수클렌징 아이라이너 0.6g(다크브라운/블랙)</td>\n",
       "      <td>할인 전 판매가24,000원</td>\n",
       "      <td>31%할인</td>\n",
       "      <td>16,500원</td>\n",
       "      <td>NaN</td>\n",
       "    </tr>\n",
       "    <tr>\n",
       "      <th>34</th>\n",
       "      <td>35</td>\n",
       "      <td>https://smartstore.naver.com/main/products/108...</td>\n",
       "      <td>data:image/png;base64,iVBORw0KGgoAAAANSUhEUgAA...</td>\n",
       "      <td>아이/그레이당일 미코 러브 앙고라 반팔 니트 가디건 3col 하트단추</td>\n",
       "      <td>NaN</td>\n",
       "      <td>NaN</td>\n",
       "      <td>54,000원</td>\n",
       "      <td>NaN</td>\n",
       "    </tr>\n",
       "    <tr>\n",
       "      <th>35</th>\n",
       "      <td>36</td>\n",
       "      <td>https://smartstore.naver.com/main/products/110...</td>\n",
       "      <td>data:image/png;base64,iVBORw0KGgoAAAANSUhEUgAA...</td>\n",
       "      <td>[아이 당일] 24fw unum 알파카 니트 자켓 3color</td>\n",
       "      <td>할인 전 판매가79,000원</td>\n",
       "      <td>24%할인</td>\n",
       "      <td>60,000원</td>\n",
       "      <td>NaN</td>\n",
       "    </tr>\n",
       "  </tbody>\n",
       "</table>\n",
       "</div>"
      ],
      "text/plain": [
       "    번호                                            상세페이지링크  \\\n",
       "1    2  https://adcr.naver.com/adcr?x=jrCMSOml7FTwryzc...   \n",
       "3    4  https://adcr.naver.com/adcr?x=GhXryHCzsPvsfaG6...   \n",
       "5    6  https://smartstore.naver.com/main/products/906...   \n",
       "8    9  https://smartstore.naver.com/main/products/467...   \n",
       "10  11  https://smartstore.naver.com/main/products/504...   \n",
       "11  12  https://smartstore.naver.com/main/products/399...   \n",
       "16  17  https://smartstore.naver.com/main/products/733...   \n",
       "28  29  https://smartstore.naver.com/main/products/502...   \n",
       "34  35  https://smartstore.naver.com/main/products/108...   \n",
       "35  36  https://smartstore.naver.com/main/products/110...   \n",
       "\n",
       "                                                이미지링크  \\\n",
       "1   https://shopping-phinf.pstatic.net/main_848210...   \n",
       "3   https://shopping-phinf.pstatic.net/main_825922...   \n",
       "5   https://shopping-phinf.pstatic.net/main_830583...   \n",
       "8   https://shopping-phinf.pstatic.net/main_822170...   \n",
       "10  data:image/png;base64,iVBORw0KGgoAAAANSUhEUgAA...   \n",
       "11  data:image/png;base64,iVBORw0KGgoAAAANSUhEUgAA...   \n",
       "16  data:image/png;base64,iVBORw0KGgoAAAANSUhEUgAA...   \n",
       "28  data:image/png;base64,iVBORw0KGgoAAAANSUhEUgAA...   \n",
       "34  data:image/png;base64,iVBORw0KGgoAAAANSUhEUgAA...   \n",
       "35  data:image/png;base64,iVBORw0KGgoAAAANSUhEUgAA...   \n",
       "\n",
       "                                                제품제목             원래가격    할인률  \\\n",
       "1                          1+1 미크릿 워셔블 비건 슈퍼픽서 아이라이너  할인 전 판매가24,000원  31%할인   \n",
       "3                          [공식]메이블린 라인 타투 아이 라이너 크레용  할인 전 판매가13,000원  25%할인   \n",
       "5           잘안지워지는 점막 지워지지않는 수영장 음영 얇은 아이라인 아이라이너 펜슬  할인 전 판매가17,800원  11%할인   \n",
       "8   아임유니 울트라 슬림 워터프루프 젤 아이라이너 펜슬 8컬러 안번지는 점막 아이라인 컬러  할인 전 판매가11,000원  46%할인   \n",
       "10                     메이블린 뉴욕 라인 타투 아이 라이너 크레용 0.4g  할인 전 판매가13,000원  25%할인   \n",
       "11             1+1 리르 룩스 젤 펜슬 아이라이너 아이라인 아이메이크업 0.5g  할인 전 판매가20,000원  50%할인   \n",
       "16               헤라 이지 스타일링 아이라이너 0.5g 붓펜 아이라인 워터프루프              NaN    NaN   \n",
       "28        1+1미크릿 비건 안번지는 미온수클렌징 아이라이너 0.6g(다크브라운/블랙)  할인 전 판매가24,000원  31%할인   \n",
       "34            아이/그레이당일 미코 러브 앙고라 반팔 니트 가디건 3col 하트단추              NaN    NaN   \n",
       "35                [아이 당일] 24fw unum 알파카 니트 자켓 3color  할인 전 판매가79,000원  24%할인   \n",
       "\n",
       "       현재가격  배송비  \n",
       "1   16,500원  NaN  \n",
       "3    9,750원  NaN  \n",
       "5   15,800원  NaN  \n",
       "8    5,900원  NaN  \n",
       "10   9,750원  NaN  \n",
       "11   9,900원  NaN  \n",
       "16  21,780원  NaN  \n",
       "28  16,500원  NaN  \n",
       "34  54,000원  NaN  \n",
       "35  60,000원  NaN  "
      ]
     },
     "execution_count": 37,
     "metadata": {},
     "output_type": "execute_result"
    }
   ],
   "source": [
    "df.loc[df['배송비'].isnull()]"
   ]
  },
  {
   "cell_type": "code",
   "execution_count": 38,
   "metadata": {},
   "outputs": [
    {
     "data": {
      "text/plain": [
       "10"
      ]
     },
     "execution_count": 38,
     "metadata": {},
     "output_type": "execute_result"
    }
   ],
   "source": [
    "sum(df['배송비'].isnull())"
   ]
  },
  {
   "cell_type": "markdown",
   "metadata": {},
   "source": [
    "# 데이터 출력"
   ]
  },
  {
   "cell_type": "code",
   "execution_count": 39,
   "metadata": {},
   "outputs": [
    {
     "data": {
      "text/plain": [
       "'20241219'"
      ]
     },
     "execution_count": 39,
     "metadata": {},
     "output_type": "execute_result"
    }
   ],
   "source": [
    "current_date = time.strftime('%Y%m%d')\n",
    "current_date"
   ]
  },
  {
   "cell_type": "code",
   "execution_count": 40,
   "metadata": {},
   "outputs": [
    {
     "data": {
      "text/plain": [
       "'20241219_AM_103609'"
      ]
     },
     "execution_count": 40,
     "metadata": {},
     "output_type": "execute_result"
    }
   ],
   "source": [
    "current_datetime = time.strftime('%Y%m%d_%p_%I%M%S')\n",
    "current_datetime"
   ]
  },
  {
   "cell_type": "code",
   "execution_count": 41,
   "metadata": {},
   "outputs": [
    {
     "data": {
      "text/plain": [
       "'c:/Users/kbjoo/Documents/Google_Drive/GitHub/my_projects/crawling/naver'"
      ]
     },
     "execution_count": 41,
     "metadata": {},
     "output_type": "execute_result"
    }
   ],
   "source": [
    "# 현재 경로 확인\n",
    "code_path = os.getcwd().replace('\\\\', '/')\n",
    "code_path"
   ]
  },
  {
   "cell_type": "code",
   "execution_count": 42,
   "metadata": {},
   "outputs": [
    {
     "data": {
      "text/plain": [
       "'c:/Users/kbjoo/Documents/Google_Drive/GitHub/my_projects/crawling/naver\\\\crawled_data\\\\20241219'"
      ]
     },
     "execution_count": 42,
     "metadata": {},
     "output_type": "execute_result"
    }
   ],
   "source": [
    "# 수집한 파일 저장할 폴더 생성\n",
    "crawled_folder_path = os.path.join(code_path, 'crawled_data', current_date)\n",
    "crawled_folder_path"
   ]
  },
  {
   "cell_type": "code",
   "execution_count": 43,
   "metadata": {},
   "outputs": [],
   "source": [
    "os.makedirs(crawled_folder_path, exist_ok=True)"
   ]
  },
  {
   "cell_type": "code",
   "execution_count": 44,
   "metadata": {},
   "outputs": [],
   "source": [
    "# 엑셀 파일로 출력\n",
    "df.to_excel(os.path.join(crawled_folder_path, f'naver_{search_keyword}_{current_datetime}.xlsx'), index=False)"
   ]
  },
  {
   "cell_type": "code",
   "execution_count": 11,
   "metadata": {},
   "outputs": [],
   "source": [
    "driver.quit()"
   ]
  },
  {
   "cell_type": "markdown",
   "metadata": {},
   "source": [
    "# END"
   ]
  }
 ],
 "metadata": {
  "kernelspec": {
   "display_name": "crawling",
   "language": "python",
   "name": "python3"
  },
  "language_info": {
   "codemirror_mode": {
    "name": "ipython",
    "version": 3
   },
   "file_extension": ".py",
   "mimetype": "text/x-python",
   "name": "python",
   "nbconvert_exporter": "python",
   "pygments_lexer": "ipython3",
   "version": "3.13.0"
  },
  "orig_nbformat": 4
 },
 "nbformat": 4,
 "nbformat_minor": 2
}
