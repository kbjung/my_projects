{
 "cells": [
  {
   "cell_type": "markdown",
   "metadata": {},
   "source": [
    "# Library"
   ]
  },
  {
   "cell_type": "code",
   "execution_count": 1,
   "metadata": {},
   "outputs": [],
   "source": [
    "import requests\n",
    "from bs4 import BeautifulSoup as bs\n",
    "\n",
    "import time, os, random\n",
    "import pandas as pd\n",
    "import re\n",
    "import numpy as np\n",
    "\n",
    "from selenium import webdriver\n",
    "import chromedriver_autoinstaller as ca\n",
    "\n",
    "from selenium.webdriver.common.by import By\n",
    "from selenium.webdriver import ActionChains\n",
    "from selenium.webdriver.common.keys import Keys"
   ]
  },
  {
   "cell_type": "markdown",
   "metadata": {},
   "source": [
    "## chrome driver 설치"
   ]
  },
  {
   "cell_type": "code",
   "execution_count": 2,
   "metadata": {},
   "outputs": [],
   "source": [
    "# USB error 메세지 발생 해결을 위한 코드\n",
    "options = webdriver.ChromeOptions()\n",
    "options.add_experimental_option(\"excludeSwitches\", [\"enable-logging\"])"
   ]
  },
  {
   "cell_type": "code",
   "execution_count": 3,
   "metadata": {},
   "outputs": [
    {
     "data": {
      "text/plain": [
       "'131'"
      ]
     },
     "execution_count": 3,
     "metadata": {},
     "output_type": "execute_result"
    }
   ],
   "source": [
    "# 현재 크롬 버전 확인\n",
    "chrome_ver = ca.get_chrome_version().split('.')[0]\n",
    "chrome_ver"
   ]
  },
  {
   "cell_type": "code",
   "execution_count": 4,
   "metadata": {},
   "outputs": [],
   "source": [
    "# # 크롬 드라이버 확인 및 설치(처음 한번만 실행)\n",
    "# ca.install(True)"
   ]
  },
  {
   "cell_type": "markdown",
   "metadata": {},
   "source": [
    "### chrome driver 실행"
   ]
  },
  {
   "cell_type": "code",
   "execution_count": 5,
   "metadata": {},
   "outputs": [],
   "source": [
    "# 웹드라이버 실행\n",
    "driver = webdriver.Chrome(options=options)"
   ]
  },
  {
   "cell_type": "markdown",
   "metadata": {},
   "source": [
    "## 페이지 접속"
   ]
  },
  {
   "cell_type": "code",
   "execution_count": 28,
   "metadata": {},
   "outputs": [],
   "source": [
    "# 페이지 주소\n",
    "url = 'https://shopping.naver.com/ns/home'"
   ]
  },
  {
   "cell_type": "markdown",
   "metadata": {},
   "source": [
    "### requests 테스트\n",
    "- 페이지 접속 가능 여부확인\n",
    "    - 가능할 경우 출력 : <Response [200]>"
   ]
  },
  {
   "cell_type": "code",
   "execution_count": 29,
   "metadata": {},
   "outputs": [],
   "source": [
    "# req = requests.get(url)\n",
    "# print(req)\n",
    "# html = req.content.decode('utf-8') # 한글 깨짐 해결 코드\n",
    "# soup = bs(html, 'html.parser')\n",
    "# soup.title.text"
   ]
  },
  {
   "cell_type": "markdown",
   "metadata": {},
   "source": [
    "### selenium 작동"
   ]
  },
  {
   "cell_type": "code",
   "execution_count": null,
   "metadata": {},
   "outputs": [],
   "source": [
    "driver.get(url)\n",
    "driver.implicitly_wait(random.randrange(2, 5))\n",
    "# driver.maximize_window() # 브라우져 창 최대화"
   ]
  },
  {
   "cell_type": "markdown",
   "metadata": {},
   "source": [
    "### 검색 창에 검색어 입력"
   ]
  },
  {
   "cell_type": "code",
   "execution_count": 38,
   "metadata": {},
   "outputs": [],
   "source": [
    "search_keyword = '아이라인'\n",
    "\n",
    "before_search_window_xpath = '//*[@id=\"gnb-gnb\"]/div/div/div[2]/div[2]/button' # 전단계 검색 입력창\n",
    "before_search_window = driver.find_element(By.XPATH, before_search_window_xpath)\n",
    "# before_search_window = driver.find_element(By.CSS_SELECTOR, 'button._shoppingHomeSearch_button_gXyNO N=a:gnb.allsearch')\n",
    "before_search_window.click()\n",
    "time.sleep(random.randrange(1, 3))"
   ]
  },
  {
   "cell_type": "code",
   "execution_count": 39,
   "metadata": {},
   "outputs": [],
   "source": [
    "search_window_xpath = '//*[@id=\"input_text\"]' # 검색 입력창\n",
    "\n",
    "search_window = driver.find_element(By.XPATH, search_window_xpath)\n",
    "search_window.send_keys(search_keyword)\n",
    "time.sleep(random.randrange(1, 3))\n",
    "search_window.send_keys(Keys.RETURN)"
   ]
  },
  {
   "cell_type": "code",
   "execution_count": 40,
   "metadata": {},
   "outputs": [],
   "source": [
    "# 스크롤해야 정보가 로드되는 페이지\n",
    "\n",
    "# 페이지 스크롤 다운\n",
    "driver.execute_script(\"window.scrollTo(0, document.body.scrollHeight);\")\n",
    "time.sleep(random.uniform(1, 3))"
   ]
  },
  {
   "cell_type": "markdown",
   "metadata": {},
   "source": [
    "## 입력 키워드 정보 수집 "
   ]
  },
  {
   "cell_type": "code",
   "execution_count": 54,
   "metadata": {},
   "outputs": [
    {
     "data": {
      "text/plain": [
       "'아이라인 : 네이버+ 스토어 검색'"
      ]
     },
     "execution_count": 54,
     "metadata": {},
     "output_type": "execute_result"
    }
   ],
   "source": [
    "page = driver.page_source\n",
    "soup = bs(page, 'html.parser')\n",
    "soup.title.text"
   ]
  },
  {
   "cell_type": "code",
   "execution_count": 55,
   "metadata": {},
   "outputs": [
    {
     "data": {
      "text/plain": [
       "2"
      ]
     },
     "execution_count": 55,
     "metadata": {},
     "output_type": "execute_result"
    }
   ],
   "source": [
    "# 상품 섹션\n",
    "products_section = soup.select_one('div#composite-card-list')\n",
    "len(products_section)"
   ]
  },
  {
   "cell_type": "code",
   "execution_count": 56,
   "metadata": {},
   "outputs": [
    {
     "data": {
      "text/plain": [
       "150"
      ]
     },
     "execution_count": 56,
     "metadata": {},
     "output_type": "execute_result"
    }
   ],
   "source": [
    "# 상품 리스트\n",
    "product_list = products_section.select('li.compositeCardContainer_composite_card_container__jr8cb div.basicProductCard_basic_product_card__TdrHT')\n",
    "len(product_list)"
   ]
  },
  {
   "cell_type": "markdown",
   "metadata": {},
   "source": [
    "## 🔧 이미지 링크\n",
    "- 90번대 이미지 링크 오류 수정 필요"
   ]
  },
  {
   "cell_type": "code",
   "execution_count": 44,
   "metadata": {},
   "outputs": [
    {
     "data": {
      "text/plain": [
       "[<img alt=\"\" class=\"autoFitImg_auto_fit_img__fIpj4 autoFitImg_full_height__QCTGq productCardThumbnail_image__Li6iz scale\" data-src=\"https://searchad-phinf.pstatic.net/MjAyMjExMjFfMjYy/MDAxNjY4OTk0NjAwMjEz.4rb_wGCPEtzNpJ1bzlKJt58W43NSPXTwVZnw6m_Ndzcg.ujl-TTtPnMxDoCHJCCPjyFjinsixF_X8JIpm1Zz7INQg.JPEG/1281382-05a25423-3bef-4eb2-add4-7bff101fa375.jpg?type=f300\" src=\"https://searchad-phinf.pstatic.net/MjAyMjExMjFfMjYy/MDAxNjY4OTk0NjAwMjEz.4rb_wGCPEtzNpJ1bzlKJt58W43NSPXTwVZnw6m_Ndzcg.ujl-TTtPnMxDoCHJCCPjyFjinsixF_X8JIpm1Zz7INQg.JPEG/1281382-05a25423-3bef-4eb2-add4-7bff101fa375.jpg?type=f300\" style=\"opacity: 1;\"/>]"
      ]
     },
     "execution_count": 44,
     "metadata": {},
     "output_type": "execute_result"
    }
   ],
   "source": [
    "# 상품 썸네일 이미지 링크\n",
    "order_number = 0\n",
    "product_list[order_number].select('div.productCardThumbnail_thumbnail__KzO1N img')"
   ]
  },
  {
   "cell_type": "code",
   "execution_count": 45,
   "metadata": {},
   "outputs": [
    {
     "data": {
      "text/plain": [
       "'https://searchad-phinf.pstatic.net/MjAyMjExMjFfMjYy/MDAxNjY4OTk0NjAwMjEz.4rb_wGCPEtzNpJ1bzlKJt58W43NSPXTwVZnw6m_Ndzcg.ujl-TTtPnMxDoCHJCCPjyFjinsixF_X8JIpm1Zz7INQg.JPEG/1281382-05a25423-3bef-4eb2-add4-7bff101fa375.jpg?type=f300'"
      ]
     },
     "execution_count": 45,
     "metadata": {},
     "output_type": "execute_result"
    }
   ],
   "source": [
    "product_thumnail_img_src = product_list[order_number].select_one('div.productCardThumbnail_thumbnail__KzO1N img.autoFitImg_auto_fit_img__fIpj4')['src']\n",
    "# product_thumnail_img_src = product_list[order_number].find('img', class_='autoFitImg_auto_fit_img__fIpj4 autoFitImg_full_height__QCTGq productCardThumbnail_image__Li6iz scale').attrs['src']\n",
    "product_thumnail_img_src"
   ]
  },
  {
   "cell_type": "code",
   "execution_count": 46,
   "metadata": {},
   "outputs": [
    {
     "name": "stdout",
     "output_type": "stream",
     "text": [
      "1+1 미크릿 워셔블 비건 슈퍼픽서 아이라이너\n",
      "할인 전 판매가24,000원\n",
      "31%할인\n",
      "16,500원\n"
     ]
    }
   ],
   "source": [
    "# 상품 정보 섹션\n",
    "order_number = 0\n",
    "# 상품 제목\n",
    "print(product_list[order_number].select_one('div.basicProductCardInformation_basic_product_card_information__7v_uc strong.basicProductCardInformation_title__Bc_Ng').text)\n",
    "\n",
    "# 상품 가격\n",
    "\n",
    "print(product_list[order_number].select_one('div.basicProductCardInformation_basic_product_card_information__7v_uc span.priceTag_original_price__jyZRY').text)\n",
    "print(product_list[order_number].select_one('div.basicProductCardInformation_basic_product_card_information__7v_uc span.priceTag_discount__F_ZXz').text)\n",
    "print(product_list[order_number].select_one('div.basicProductCardInformation_basic_product_card_information__7v_uc span.priceTag_inner_price__TctbK').text)"
   ]
  },
  {
   "cell_type": "code",
   "execution_count": 47,
   "metadata": {},
   "outputs": [
    {
     "name": "stdout",
     "output_type": "stream",
     "text": [
      "메리쏘드 릴타투 브러쉬 펜라이너 붓펜 아이라인\n",
      "할인 전 판매가11,000원\n",
      "5%할인\n",
      "10,400원\n"
     ]
    }
   ],
   "source": [
    "# 상품 정보 섹션\n",
    "order_number = 1\n",
    "# 상품 제목\n",
    "print(product_list[order_number].select_one('div.basicProductCardInformation_basic_product_card_information__7v_uc strong.basicProductCardInformation_title__Bc_Ng').text)\n",
    "\n",
    "# 상품 가격\n",
    "\n",
    "print(product_list[order_number].select_one('div.basicProductCardInformation_basic_product_card_information__7v_uc span.priceTag_original_price__jyZRY').text)\n",
    "print(product_list[order_number].select_one('div.basicProductCardInformation_basic_product_card_information__7v_uc span.priceTag_discount__F_ZXz').text)\n",
    "print(product_list[order_number].select_one('div.basicProductCardInformation_basic_product_card_information__7v_uc span.priceTag_inner_price__TctbK').text)"
   ]
  },
  {
   "cell_type": "code",
   "execution_count": 48,
   "metadata": {},
   "outputs": [
    {
     "name": "stdout",
     "output_type": "stream",
     "text": [
      "해외마죠리카 마죠르카 라인 익스팬더 아이라이너 BK999 블랙\n",
      "할인없음\n",
      "할인없음\n",
      "11,240원\n"
     ]
    }
   ],
   "source": [
    "# 상품 정보 섹션\n",
    "    # 할인 하지 않는 상품 존재 : 7, 12, 24 등등\n",
    "order_number = 23\n",
    "# 상품 제목\n",
    "print(product_list[order_number].select_one('div.basicProductCardInformation_basic_product_card_information__7v_uc strong.basicProductCardInformation_title__Bc_Ng').text)\n",
    "\n",
    "# 상품 가격\n",
    "try:\n",
    "    print(product_list[order_number].select_one('div.basicProductCardInformation_basic_product_card_information__7v_uc span.priceTag_original_price__jyZRY').text)\n",
    "except:\n",
    "    print('할인없음')\n",
    "try:\n",
    "    print(product_list[order_number].select_one('div.basicProductCardInformation_basic_product_card_information__7v_uc span.priceTag_discount__F_ZXz').text)\n",
    "except:\n",
    "    print('할인없음')\n",
    "print(product_list[order_number].select_one('div.basicProductCardInformation_basic_product_card_information__7v_uc span.priceTag_inner_price__TctbK').text)"
   ]
  },
  {
   "cell_type": "markdown",
   "metadata": {},
   "source": [
    "# 🔧 수집한 데이터 전처리\n",
    "- 원래가격, 할인률, 현재가격 숫자만 표기하도록 정제\n",
    "- 원래가격, 할인률 nan 값 처리된 부분 확인"
   ]
  },
  {
   "cell_type": "code",
   "execution_count": 49,
   "metadata": {},
   "outputs": [],
   "source": [
    "num_list, img_src_list, title_list, original_price_list, discount_rate_list, price_list = [], [], [], [], [], []\n",
    "\n",
    "for i in range(len(product_list)):\n",
    "    try:\n",
    "        num = i + 1\n",
    "        img_src = product_list[i].select_one('div.productCardThumbnail_thumbnail__KzO1N img.autoFitImg_auto_fit_img__fIpj4')['src']\n",
    "        \n",
    "        title = product_list[i].select_one('div.basicProductCardInformation_basic_product_card_information__7v_uc strong.basicProductCardInformation_title__Bc_Ng').text\n",
    "        \n",
    "        try:\n",
    "            original_price = product_list[i].select_one('div.basicProductCardInformation_basic_product_card_information__7v_uc span.priceTag_original_price__jyZRY').text\n",
    "        except:\n",
    "            original_price = np.nan\n",
    "        try:\n",
    "            discount_rate = product_list[i].select_one('div.basicProductCardInformation_basic_product_card_information__7v_uc span.priceTag_discount__F_ZXz').text\n",
    "        except:\n",
    "            discount_rate = np.nan\n",
    "        price = product_list[i].select_one('div.basicProductCardInformation_basic_product_card_information__7v_uc span.priceTag_inner_price__TctbK').text\n",
    "\n",
    "        num_list.append(num)\n",
    "        img_src_list.append(img_src)\n",
    "        title_list.append(title)\n",
    "        original_price_list.append(original_price)\n",
    "        discount_rate_list.append(discount_rate)\n",
    "        price_list.append(price)\n",
    "    except:\n",
    "        print(i)"
   ]
  },
  {
   "cell_type": "code",
   "execution_count": 50,
   "metadata": {},
   "outputs": [
    {
     "data": {
      "text/plain": [
       "(100, 100, 100, 100, 100, 100)"
      ]
     },
     "execution_count": 50,
     "metadata": {},
     "output_type": "execute_result"
    }
   ],
   "source": [
    "len(num_list), len(img_src_list), len(title_list), len(original_price_list), len(discount_rate_list), len(price_list)"
   ]
  },
  {
   "cell_type": "code",
   "execution_count": 51,
   "metadata": {},
   "outputs": [
    {
     "data": {
      "text/html": [
       "<div>\n",
       "<style scoped>\n",
       "    .dataframe tbody tr th:only-of-type {\n",
       "        vertical-align: middle;\n",
       "    }\n",
       "\n",
       "    .dataframe tbody tr th {\n",
       "        vertical-align: top;\n",
       "    }\n",
       "\n",
       "    .dataframe thead th {\n",
       "        text-align: right;\n",
       "    }\n",
       "</style>\n",
       "<table border=\"1\" class=\"dataframe\">\n",
       "  <thead>\n",
       "    <tr style=\"text-align: right;\">\n",
       "      <th></th>\n",
       "      <th>번호</th>\n",
       "      <th>이미지링크</th>\n",
       "      <th>제품제목</th>\n",
       "      <th>원래가격</th>\n",
       "      <th>할인률</th>\n",
       "      <th>현재가격</th>\n",
       "    </tr>\n",
       "  </thead>\n",
       "  <tbody>\n",
       "    <tr>\n",
       "      <th>0</th>\n",
       "      <td>1</td>\n",
       "      <td>https://searchad-phinf.pstatic.net/MjAyMjExMjF...</td>\n",
       "      <td>1+1 미크릿 워셔블 비건 슈퍼픽서 아이라이너</td>\n",
       "      <td>할인 전 판매가24,000원</td>\n",
       "      <td>31%할인</td>\n",
       "      <td>16,500원</td>\n",
       "    </tr>\n",
       "    <tr>\n",
       "      <th>1</th>\n",
       "      <td>2</td>\n",
       "      <td>https://searchad-phinf.pstatic.net/MjAyMzA1MDh...</td>\n",
       "      <td>메리쏘드 릴타투 브러쉬 펜라이너 붓펜 아이라인</td>\n",
       "      <td>할인 전 판매가11,000원</td>\n",
       "      <td>5%할인</td>\n",
       "      <td>10,400원</td>\n",
       "    </tr>\n",
       "    <tr>\n",
       "      <th>2</th>\n",
       "      <td>3</td>\n",
       "      <td>https://shopping-phinf.pstatic.net/main_825922...</td>\n",
       "      <td>[공식]메이블린 라인 타투 아이 라이너 크레용</td>\n",
       "      <td>할인 전 판매가13,000원</td>\n",
       "      <td>25%할인</td>\n",
       "      <td>9,750원</td>\n",
       "    </tr>\n",
       "    <tr>\n",
       "      <th>3</th>\n",
       "      <td>4</td>\n",
       "      <td>https://shopping-phinf.pstatic.net/main_830583...</td>\n",
       "      <td>번지지않는 붓펜 아이라이너 점막 안번지는 저자극 그리기쉬운 아이라인 펜슬 붓 트임</td>\n",
       "      <td>할인 전 판매가12,900원</td>\n",
       "      <td>23%할인</td>\n",
       "      <td>9,900원</td>\n",
       "    </tr>\n",
       "    <tr>\n",
       "      <th>4</th>\n",
       "      <td>5</td>\n",
       "      <td>https://shopping-phinf.pstatic.net/main_830583...</td>\n",
       "      <td>번지지않는 붓펜 아이라이너 점막 안번지는 저자극 그리기쉬운 아이라인 펜슬 붓 트임</td>\n",
       "      <td>할인 전 판매가12,900원</td>\n",
       "      <td>23%할인</td>\n",
       "      <td>9,900원</td>\n",
       "    </tr>\n",
       "  </tbody>\n",
       "</table>\n",
       "</div>"
      ],
      "text/plain": [
       "   번호                                              이미지링크  \\\n",
       "0   1  https://searchad-phinf.pstatic.net/MjAyMjExMjF...   \n",
       "1   2  https://searchad-phinf.pstatic.net/MjAyMzA1MDh...   \n",
       "2   3  https://shopping-phinf.pstatic.net/main_825922...   \n",
       "3   4  https://shopping-phinf.pstatic.net/main_830583...   \n",
       "4   5  https://shopping-phinf.pstatic.net/main_830583...   \n",
       "\n",
       "                                            제품제목             원래가격    할인률  \\\n",
       "0                      1+1 미크릿 워셔블 비건 슈퍼픽서 아이라이너  할인 전 판매가24,000원  31%할인   \n",
       "1                      메리쏘드 릴타투 브러쉬 펜라이너 붓펜 아이라인  할인 전 판매가11,000원   5%할인   \n",
       "2                      [공식]메이블린 라인 타투 아이 라이너 크레용  할인 전 판매가13,000원  25%할인   \n",
       "3  번지지않는 붓펜 아이라이너 점막 안번지는 저자극 그리기쉬운 아이라인 펜슬 붓 트임  할인 전 판매가12,900원  23%할인   \n",
       "4  번지지않는 붓펜 아이라이너 점막 안번지는 저자극 그리기쉬운 아이라인 펜슬 붓 트임  할인 전 판매가12,900원  23%할인   \n",
       "\n",
       "      현재가격  \n",
       "0  16,500원  \n",
       "1  10,400원  \n",
       "2   9,750원  \n",
       "3   9,900원  \n",
       "4   9,900원  "
      ]
     },
     "execution_count": 51,
     "metadata": {},
     "output_type": "execute_result"
    }
   ],
   "source": [
    "data_dict = {\n",
    "    '번호':num_list, \n",
    "    '이미지링크':img_src_list,\n",
    "    '제품제목':title_list,\n",
    "    '원래가격':original_price_list,\n",
    "    '할인률':discount_rate_list,\n",
    "    '현재가격':price_list\n",
    "    }\n",
    "df = pd.DataFrame(data_dict)\n",
    "df.head()"
   ]
  },
  {
   "cell_type": "code",
   "execution_count": 52,
   "metadata": {},
   "outputs": [
    {
     "data": {
      "text/html": [
       "<div>\n",
       "<style scoped>\n",
       "    .dataframe tbody tr th:only-of-type {\n",
       "        vertical-align: middle;\n",
       "    }\n",
       "\n",
       "    .dataframe tbody tr th {\n",
       "        vertical-align: top;\n",
       "    }\n",
       "\n",
       "    .dataframe thead th {\n",
       "        text-align: right;\n",
       "    }\n",
       "</style>\n",
       "<table border=\"1\" class=\"dataframe\">\n",
       "  <thead>\n",
       "    <tr style=\"text-align: right;\">\n",
       "      <th></th>\n",
       "      <th>번호</th>\n",
       "      <th>이미지링크</th>\n",
       "      <th>제품제목</th>\n",
       "      <th>원래가격</th>\n",
       "      <th>할인률</th>\n",
       "      <th>현재가격</th>\n",
       "    </tr>\n",
       "  </thead>\n",
       "  <tbody>\n",
       "    <tr>\n",
       "      <th>95</th>\n",
       "      <td>96</td>\n",
       "      <td>data:image/png;base64,iVBORw0KGgoAAAANSUhEUgAA...</td>\n",
       "      <td>해외디올 아이라인 펜슬 온 스테이지 On Stage Crayon</td>\n",
       "      <td>NaN</td>\n",
       "      <td>NaN</td>\n",
       "      <td>42,900원</td>\n",
       "    </tr>\n",
       "    <tr>\n",
       "      <th>96</th>\n",
       "      <td>97</td>\n",
       "      <td>data:image/png;base64,iVBORw0KGgoAAAANSUhEUgAA...</td>\n",
       "      <td>페인팅 발색 소프트 하게 아이라이너 젤펜슬 2개 아이라인펜슬</td>\n",
       "      <td>할인 전 판매가37,500원</td>\n",
       "      <td>20%할인</td>\n",
       "      <td>30,000원</td>\n",
       "    </tr>\n",
       "    <tr>\n",
       "      <th>97</th>\n",
       "      <td>98</td>\n",
       "      <td>data:image/png;base64,iVBORw0KGgoAAAANSUhEUgAA...</td>\n",
       "      <td>해외Maybelline 메이블린 라인 스틸레토 아이라이너 2개 Line Stilet...</td>\n",
       "      <td>NaN</td>\n",
       "      <td>NaN</td>\n",
       "      <td>39,050원</td>\n",
       "    </tr>\n",
       "    <tr>\n",
       "      <th>98</th>\n",
       "      <td>99</td>\n",
       "      <td>data:image/png;base64,iVBORw0KGgoAAAANSUhEUgAA...</td>\n",
       "      <td>메이블린뉴욕 라인 타투 크레용 0.4g</td>\n",
       "      <td>NaN</td>\n",
       "      <td>NaN</td>\n",
       "      <td>7,550원</td>\n",
       "    </tr>\n",
       "    <tr>\n",
       "      <th>99</th>\n",
       "      <td>100</td>\n",
       "      <td>data:image/png;base64,iVBORw0KGgoAAAANSUhEUgAA...</td>\n",
       "      <td>메이블린뉴욕 라인 타투 크레용 0.4g</td>\n",
       "      <td>NaN</td>\n",
       "      <td>NaN</td>\n",
       "      <td>7,510원</td>\n",
       "    </tr>\n",
       "  </tbody>\n",
       "</table>\n",
       "</div>"
      ],
      "text/plain": [
       "     번호                                              이미지링크  \\\n",
       "95   96  data:image/png;base64,iVBORw0KGgoAAAANSUhEUgAA...   \n",
       "96   97  data:image/png;base64,iVBORw0KGgoAAAANSUhEUgAA...   \n",
       "97   98  data:image/png;base64,iVBORw0KGgoAAAANSUhEUgAA...   \n",
       "98   99  data:image/png;base64,iVBORw0KGgoAAAANSUhEUgAA...   \n",
       "99  100  data:image/png;base64,iVBORw0KGgoAAAANSUhEUgAA...   \n",
       "\n",
       "                                                 제품제목             원래가격    할인률  \\\n",
       "95                해외디올 아이라인 펜슬 온 스테이지 On Stage Crayon              NaN    NaN   \n",
       "96                  페인팅 발색 소프트 하게 아이라이너 젤펜슬 2개 아이라인펜슬  할인 전 판매가37,500원  20%할인   \n",
       "97  해외Maybelline 메이블린 라인 스틸레토 아이라이너 2개 Line Stilet...              NaN    NaN   \n",
       "98                              메이블린뉴욕 라인 타투 크레용 0.4g              NaN    NaN   \n",
       "99                              메이블린뉴욕 라인 타투 크레용 0.4g              NaN    NaN   \n",
       "\n",
       "       현재가격  \n",
       "95  42,900원  \n",
       "96  30,000원  \n",
       "97  39,050원  \n",
       "98   7,550원  \n",
       "99   7,510원  "
      ]
     },
     "execution_count": 52,
     "metadata": {},
     "output_type": "execute_result"
    }
   ],
   "source": [
    "df.tail()"
   ]
  },
  {
   "cell_type": "code",
   "execution_count": 53,
   "metadata": {},
   "outputs": [
    {
     "data": {
      "text/html": [
       "<div>\n",
       "<style scoped>\n",
       "    .dataframe tbody tr th:only-of-type {\n",
       "        vertical-align: middle;\n",
       "    }\n",
       "\n",
       "    .dataframe tbody tr th {\n",
       "        vertical-align: top;\n",
       "    }\n",
       "\n",
       "    .dataframe thead th {\n",
       "        text-align: right;\n",
       "    }\n",
       "</style>\n",
       "<table border=\"1\" class=\"dataframe\">\n",
       "  <thead>\n",
       "    <tr style=\"text-align: right;\">\n",
       "      <th></th>\n",
       "      <th>번호</th>\n",
       "      <th>이미지링크</th>\n",
       "      <th>제품제목</th>\n",
       "      <th>원래가격</th>\n",
       "      <th>할인률</th>\n",
       "      <th>현재가격</th>\n",
       "    </tr>\n",
       "  </thead>\n",
       "  <tbody>\n",
       "    <tr>\n",
       "      <th>40</th>\n",
       "      <td>41</td>\n",
       "      <td>data:image/png;base64,iVBORw0KGgoAAAANSUhEUgAA...</td>\n",
       "      <td>(3개)비러브 마이라인 펜 아이라이너 블랙</td>\n",
       "      <td>할인 전 판매가11,400원</td>\n",
       "      <td>9%할인</td>\n",
       "      <td>10,370원</td>\n",
       "    </tr>\n",
       "    <tr>\n",
       "      <th>41</th>\n",
       "      <td>42</td>\n",
       "      <td>data:image/png;base64,iVBORw0KGgoAAAANSUhEUgAA...</td>\n",
       "      <td>메소드메이크업 분장용 콤비펜슬 듀얼펜슬 블랙/브라운 아이브로우 아이라인</td>\n",
       "      <td>NaN</td>\n",
       "      <td>NaN</td>\n",
       "      <td>5,200원</td>\n",
       "    </tr>\n",
       "    <tr>\n",
       "      <th>42</th>\n",
       "      <td>43</td>\n",
       "      <td>data:image/png;base64,iVBORw0KGgoAAAANSUhEUgAA...</td>\n",
       "      <td>애교살 아이라인 그리기 마스카라 도구</td>\n",
       "      <td>NaN</td>\n",
       "      <td>NaN</td>\n",
       "      <td>700원</td>\n",
       "    </tr>\n",
       "    <tr>\n",
       "      <th>43</th>\n",
       "      <td>44</td>\n",
       "      <td>data:image/png;base64,iVBORw0KGgoAAAANSUhEUgAA...</td>\n",
       "      <td>비러브 마이라인 펜 아이라이너 블랙</td>\n",
       "      <td>할인 전 판매가2,800원</td>\n",
       "      <td>9%할인</td>\n",
       "      <td>2,540원</td>\n",
       "    </tr>\n",
       "    <tr>\n",
       "      <th>44</th>\n",
       "      <td>45</td>\n",
       "      <td>https://shopping-phinf.pstatic.net/main_864141...</td>\n",
       "      <td>클리오 수퍼 프루프 펜라이너 0.55ml 아이라이너 아이라인 펜슬</td>\n",
       "      <td>NaN</td>\n",
       "      <td>NaN</td>\n",
       "      <td>12,780원</td>\n",
       "    </tr>\n",
       "    <tr>\n",
       "      <th>45</th>\n",
       "      <td>46</td>\n",
       "      <td>https://shopping-phinf.pstatic.net/main_862023...</td>\n",
       "      <td>아이라인그리기 눈화장가이드 애교살만들기 마스카라가드</td>\n",
       "      <td>할인 전 판매가8,000원</td>\n",
       "      <td>60%할인</td>\n",
       "      <td>3,200원</td>\n",
       "    </tr>\n",
       "    <tr>\n",
       "      <th>46</th>\n",
       "      <td>47</td>\n",
       "      <td>https://shopping-phinf.pstatic.net/main_858610...</td>\n",
       "      <td>발색력좋은 펜슬 아이라인 번짐없는 토니모리 아이라인 롱브러쉬 브라운</td>\n",
       "      <td>할인 전 판매가27,900원</td>\n",
       "      <td>46%할인</td>\n",
       "      <td>14,900원</td>\n",
       "    </tr>\n",
       "    <tr>\n",
       "      <th>47</th>\n",
       "      <td>48</td>\n",
       "      <td>https://shopping-phinf.pstatic.net/main_857237...</td>\n",
       "      <td>애교살 아이라인 가이드 실리콘 라이너 그리기 도구</td>\n",
       "      <td>할인 전 판매가2,900원</td>\n",
       "      <td>10%할인</td>\n",
       "      <td>2,610원</td>\n",
       "    </tr>\n",
       "    <tr>\n",
       "      <th>48</th>\n",
       "      <td>49</td>\n",
       "      <td>https://shopping-phinf.pstatic.net/main_826788...</td>\n",
       "      <td>워터프루프 오앤에이 아이라이너 롱라스팅 브러쉬 초슬림 아이라인 펜슬 3색상</td>\n",
       "      <td>할인 전 판매가16,000원</td>\n",
       "      <td>65%할인</td>\n",
       "      <td>5,500원</td>\n",
       "    </tr>\n",
       "    <tr>\n",
       "      <th>49</th>\n",
       "      <td>50</td>\n",
       "      <td>https://shopping-phinf.pstatic.net/main_844329...</td>\n",
       "      <td>부드럽게 원하는 라인을 연출 아이라이너 블랙</td>\n",
       "      <td>할인 전 판매가38,190원</td>\n",
       "      <td>35%할인</td>\n",
       "      <td>24,820원</td>\n",
       "    </tr>\n",
       "  </tbody>\n",
       "</table>\n",
       "</div>"
      ],
      "text/plain": [
       "    번호                                              이미지링크  \\\n",
       "40  41  data:image/png;base64,iVBORw0KGgoAAAANSUhEUgAA...   \n",
       "41  42  data:image/png;base64,iVBORw0KGgoAAAANSUhEUgAA...   \n",
       "42  43  data:image/png;base64,iVBORw0KGgoAAAANSUhEUgAA...   \n",
       "43  44  data:image/png;base64,iVBORw0KGgoAAAANSUhEUgAA...   \n",
       "44  45  https://shopping-phinf.pstatic.net/main_864141...   \n",
       "45  46  https://shopping-phinf.pstatic.net/main_862023...   \n",
       "46  47  https://shopping-phinf.pstatic.net/main_858610...   \n",
       "47  48  https://shopping-phinf.pstatic.net/main_857237...   \n",
       "48  49  https://shopping-phinf.pstatic.net/main_826788...   \n",
       "49  50  https://shopping-phinf.pstatic.net/main_844329...   \n",
       "\n",
       "                                         제품제목             원래가격    할인률     현재가격  \n",
       "40                    (3개)비러브 마이라인 펜 아이라이너 블랙  할인 전 판매가11,400원   9%할인  10,370원  \n",
       "41    메소드메이크업 분장용 콤비펜슬 듀얼펜슬 블랙/브라운 아이브로우 아이라인              NaN    NaN   5,200원  \n",
       "42                       애교살 아이라인 그리기 마스카라 도구              NaN    NaN     700원  \n",
       "43                        비러브 마이라인 펜 아이라이너 블랙   할인 전 판매가2,800원   9%할인   2,540원  \n",
       "44       클리오 수퍼 프루프 펜라이너 0.55ml 아이라이너 아이라인 펜슬              NaN    NaN  12,780원  \n",
       "45               아이라인그리기 눈화장가이드 애교살만들기 마스카라가드   할인 전 판매가8,000원  60%할인   3,200원  \n",
       "46      발색력좋은 펜슬 아이라인 번짐없는 토니모리 아이라인 롱브러쉬 브라운  할인 전 판매가27,900원  46%할인  14,900원  \n",
       "47                애교살 아이라인 가이드 실리콘 라이너 그리기 도구   할인 전 판매가2,900원  10%할인   2,610원  \n",
       "48  워터프루프 오앤에이 아이라이너 롱라스팅 브러쉬 초슬림 아이라인 펜슬 3색상  할인 전 판매가16,000원  65%할인   5,500원  \n",
       "49                   부드럽게 원하는 라인을 연출 아이라이너 블랙  할인 전 판매가38,190원  35%할인  24,820원  "
      ]
     },
     "execution_count": 53,
     "metadata": {},
     "output_type": "execute_result"
    }
   ],
   "source": [
    "df.iloc[40:50]"
   ]
  },
  {
   "cell_type": "markdown",
   "metadata": {},
   "source": [
    "# 데이터 출력"
   ]
  },
  {
   "cell_type": "markdown",
   "metadata": {},
   "source": [
    "# END"
   ]
  }
 ],
 "metadata": {
  "kernelspec": {
   "display_name": "crawling",
   "language": "python",
   "name": "python3"
  },
  "language_info": {
   "codemirror_mode": {
    "name": "ipython",
    "version": 3
   },
   "file_extension": ".py",
   "mimetype": "text/x-python",
   "name": "python",
   "nbconvert_exporter": "python",
   "pygments_lexer": "ipython3",
   "version": "3.13.0"
  },
  "orig_nbformat": 4
 },
 "nbformat": 4,
 "nbformat_minor": 2
}
